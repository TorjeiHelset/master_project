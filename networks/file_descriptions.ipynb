{
 "cells": [
  {
   "cell_type": "markdown",
   "metadata": {},
   "source": [
    "## Description of files:\n",
    "\n",
    "* 1-1.json:\n",
    "\n",
    "* 1-1trafficLight.json\n",
    "\n",
    "* 2-2coupled.json\n",
    "\n",
    "* coupled_TF.json\n",
    "\n",
    "* single_lane.json\n"
   ]
  }
 ],
 "metadata": {
  "language_info": {
   "name": "python"
  },
  "orig_nbformat": 4
 },
 "nbformat": 4,
 "nbformat_minor": 2
}
