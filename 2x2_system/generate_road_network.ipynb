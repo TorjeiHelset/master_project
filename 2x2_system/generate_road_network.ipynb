{
 "cells": [
  {
   "cell_type": "code",
   "execution_count": 1,
   "metadata": {},
   "outputs": [],
   "source": [
    "import numpy as np\n",
    "import matplotlib.pyplot as plt"
   ]
  },
  {
   "cell_type": "code",
   "execution_count": 21,
   "metadata": {},
   "outputs": [],
   "source": [
    "class Road:\n",
    "    L = 100\n",
    "    start_position = (0,0)\n",
    "    end_position = (0,0)\n",
    "\n",
    "    def __init__(self, L, start_position, end_position):\n",
    "        self.L = L\n",
    "        self.start_position = start_position\n",
    "        self.end_position = end_position\n",
    "\n",
    "class Junction:\n",
    "    position = (0,0)\n",
    "    roads = []\n",
    "\n",
    "    def __init__(self, position, roads):\n",
    "        self.position = position\n",
    "        self.roads = roads"
   ]
  },
  {
   "cell_type": "markdown",
   "metadata": {},
   "source": [
    "Trying to generate the junctions and roads in \"kvadraturen\" in Kristiansand.\n",
    "This road section is approximately a 10x9 rectangular grid with lengths around 100m and 50m's.\n",
    "For now start by assuming that all roads are two directional, so that there needs to be added two roads for each section.\n",
    "Later change this by setting some roads to be one directional.\n",
    "\n",
    "At some point, store information on roads in json file..."
   ]
  },
  {
   "cell_type": "code",
   "execution_count": null,
   "metadata": {},
   "outputs": [],
   "source": [
    "# Generating \"roads\"\n",
    "# First implement a very manual version to understand the idea\n",
    "\n",
    "\n",
    "for i in range(10):\n",
    "    for j in range(9):\n",
    "        # Starting from upper left corner\n",
    "        # Iterate through all \"nodes\" (junctions)\n",
    "        \n",
    "        # If i < 9, we need to add a vertical road going out from node (i,j)\n",
    "        # If j < 8, we need to add a horizontal road going out from node (i,j)\n",
    "\n",
    "        if i < 9:\n",
    "            # Add vertical road going from (i,j) to (i+1,j)\n",
    "            pass\n",
    "        if j < 8:\n",
    "            # Add horizontal road going from (i,j) to (i,j+1)\n",
    "            pass"
   ]
  },
  {
   "cell_type": "code",
   "execution_count": 25,
   "metadata": {},
   "outputs": [
    {
     "name": "stdout",
     "output_type": "stream",
     "text": [
      "[[1, None, None, None], [None, None, None, None], [None, None, None, None]]\n"
     ]
    }
   ],
   "source": [
    "M = 4\n",
    "N = 3\n",
    "a = [[None for _ in range(M)] for _ in range(N)]\n",
    "\n",
    "a[0][0] = 1\n",
    "print(a)"
   ]
  },
  {
   "cell_type": "code",
   "execution_count": 27,
   "metadata": {},
   "outputs": [],
   "source": [
    "# Go through all junctions of grid and add horizontal and vertical roads going into and out of the junctions\n",
    "N = 4\n",
    "M = 3\n",
    "\n",
    "forward_horizontal = [[None for _ in range(M)] for _ in range(N)]\n",
    "forward_vertical = [[None for _ in range(M)] for _ in range(N)]\n",
    "backward_horizontal = [[None for _ in range(M)] for _ in range(N)]\n",
    "backward_vertical = [[None for _ in range(M)] for _ in range(N)]\n",
    "junctions = [[None for _ in range(M)] for _ in range(N)]\n",
    "\n",
    "for i in range(4): # -> 10\n",
    "    for j in range(3): # -> 9\n",
    "        # Node at position (i,j)\n",
    "        \n",
    "        # Assumptions: \n",
    "        # For now assume that all edge nodes have horizontal and vertical in and out roads\n",
    "\n",
    "        position = (i,j)\n",
    "        fw_hor = Road(100, position, (i,j+1))\n",
    "        fw_ver = Road(100, position, (i+1,j))\n",
    "        bw_hor = Road(100, (i,j+1), position)\n",
    "        bw_ver = Road(100, (i+1,j), position)\n",
    "        junction = Junction(position, [fw_hor, fw_ver, bw_hor, bw_ver])\n",
    "\n",
    "        forward_horizontal[i][j] = fw_hor\n",
    "        forward_vertical[i][j] = fw_ver\n",
    "        backward_horizontal[i][j] = bw_hor\n",
    "        backward_vertical[i][j] = bw_ver\n",
    "        junctions[i][j] = junction"
   ]
  },
  {
   "cell_type": "code",
   "execution_count": 28,
   "metadata": {},
   "outputs": [
    {
     "name": "stdout",
     "output_type": "stream",
     "text": [
      "0 0\n",
      "(0, 0)\n",
      "0 1\n",
      "(0, 1)\n",
      "0 2\n",
      "(0, 2)\n",
      "1 0\n",
      "(1, 0)\n",
      "1 1\n",
      "(1, 1)\n",
      "1 2\n",
      "(1, 2)\n",
      "2 0\n",
      "(2, 0)\n",
      "2 1\n",
      "(2, 1)\n",
      "2 2\n",
      "(2, 2)\n",
      "3 0\n",
      "(3, 0)\n",
      "3 1\n",
      "(3, 1)\n",
      "3 2\n",
      "(3, 2)\n"
     ]
    }
   ],
   "source": [
    "for i in range(4): # -> 10\n",
    "    for j in range(3): # -> 9\n",
    "        print(i,j)\n",
    "        print(junctions[i][j].position)"
   ]
  }
 ],
 "metadata": {
  "kernelspec": {
   "display_name": "traffic",
   "language": "python",
   "name": "python3"
  },
  "language_info": {
   "codemirror_mode": {
    "name": "ipython",
    "version": 3
   },
   "file_extension": ".py",
   "mimetype": "text/x-python",
   "name": "python",
   "nbconvert_exporter": "python",
   "pygments_lexer": "ipython3",
   "version": "3.10.12"
  }
 },
 "nbformat": 4,
 "nbformat_minor": 2
}
