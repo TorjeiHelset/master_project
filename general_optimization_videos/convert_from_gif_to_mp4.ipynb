{
 "cells": [
  {
   "cell_type": "code",
   "execution_count": 1,
   "metadata": {},
   "outputs": [],
   "source": [
    "import ffmpy\n",
    "from moviepy.editor import VideoFileClip,concatenate_videoclips\n",
    "import moviepy.editor as mpy\n",
    "from moviepy.video.fx.all import crop"
   ]
  },
  {
   "cell_type": "markdown",
   "metadata": {},
   "source": [
    "#### Single lane"
   ]
  },
  {
   "cell_type": "code",
   "execution_count": 5,
   "metadata": {},
   "outputs": [
    {
     "data": {
      "text/plain": [
       "(None, None)"
      ]
     },
     "execution_count": 5,
     "metadata": {},
     "output_type": "execute_result"
    }
   ],
   "source": [
    "ff = ffmpy.FFmpeg(\n",
    "    executable=\"C:\\\\Users\\\\torje\\\\Downloads\\\\ffmpeg-6.1-win-64\\\\ffmpeg.exe\",\n",
    "    inputs={'../general_densities/videos/single_lane.gif': None},\n",
    "    outputs={'single_lane.mp4': None}\n",
    "    )\n",
    "ff.run()"
   ]
  },
  {
   "cell_type": "code",
   "execution_count": 6,
   "metadata": {},
   "outputs": [
    {
     "name": "stdout",
     "output_type": "stream",
     "text": [
      "Moviepy - Building video single_lane_cropped.mp4.\n",
      "Moviepy - Writing video single_lane_cropped.mp4\n",
      "\n"
     ]
    },
    {
     "name": "stderr",
     "output_type": "stream",
     "text": [
      "                                                               \r"
     ]
    },
    {
     "name": "stdout",
     "output_type": "stream",
     "text": [
      "Moviepy - Done !\n",
      "Moviepy - video ready single_lane_cropped.mp4\n"
     ]
    }
   ],
   "source": [
    "# Cropping video\n",
    "clip = VideoFileClip('single_lane.mp4')\n",
    "cropped_clip = crop(clip, width=750, height=400, x_center=400, y_center=200)\n",
    "cropped_clip = cropped_clip.cutout(0, 0.1)\n",
    "cropped_clip.write_videofile('single_lane_cropped.mp4',codec=\"libx264\")"
   ]
  },
  {
   "cell_type": "markdown",
   "metadata": {},
   "source": [
    "#### Single Junction"
   ]
  },
  {
   "cell_type": "code",
   "execution_count": 7,
   "metadata": {},
   "outputs": [
    {
     "data": {
      "text/plain": [
       "(None, None)"
      ]
     },
     "execution_count": 7,
     "metadata": {},
     "output_type": "execute_result"
    }
   ],
   "source": [
    "ff = ffmpy.FFmpeg(\n",
    "    executable=\"C:\\\\Users\\\\torje\\\\Downloads\\\\ffmpeg-6.1-win-64\\\\ffmpeg.exe\",\n",
    "    inputs={'../general_densities/videos/single_junction.gif': None},\n",
    "    outputs={'single_junction.mp4': None}\n",
    "    )\n",
    "ff.run()"
   ]
  },
  {
   "cell_type": "code",
   "execution_count": 8,
   "metadata": {},
   "outputs": [
    {
     "name": "stdout",
     "output_type": "stream",
     "text": [
      "Moviepy - Building video single_junction_cropped.mp4.\n",
      "Moviepy - Writing video single_junction_cropped.mp4\n",
      "\n"
     ]
    },
    {
     "name": "stderr",
     "output_type": "stream",
     "text": [
      "                                                               "
     ]
    },
    {
     "name": "stdout",
     "output_type": "stream",
     "text": [
      "Moviepy - Done !\n",
      "Moviepy - video ready single_junction_cropped.mp4\n"
     ]
    },
    {
     "name": "stderr",
     "output_type": "stream",
     "text": [
      "\r"
     ]
    }
   ],
   "source": [
    "# Cropping video\n",
    "clip = VideoFileClip('single_junction.mp4')\n",
    "cropped_clip = crop(clip, width=750, height=400, x_center=400, y_center=200)\n",
    "cropped_clip = cropped_clip.cutout(0, 0.1)\n",
    "cropped_clip.write_videofile('single_junction_cropped.mp4',codec=\"libx264\")"
   ]
  },
  {
   "cell_type": "markdown",
   "metadata": {},
   "source": [
    "#### Two two junction"
   ]
  },
  {
   "cell_type": "code",
   "execution_count": 9,
   "metadata": {},
   "outputs": [
    {
     "data": {
      "text/plain": [
       "(None, None)"
      ]
     },
     "execution_count": 9,
     "metadata": {},
     "output_type": "execute_result"
    }
   ],
   "source": [
    "ff = ffmpy.FFmpeg(\n",
    "    executable=\"C:\\\\Users\\\\torje\\\\Downloads\\\\ffmpeg-6.1-win-64\\\\ffmpeg.exe\",\n",
    "    inputs={'../general_densities/videos/two_two.gif': None},\n",
    "    outputs={'two_two.mp4': None}\n",
    "    )\n",
    "ff.run()"
   ]
  },
  {
   "cell_type": "markdown",
   "metadata": {},
   "source": [
    "#### Larger Network"
   ]
  },
  {
   "cell_type": "code",
   "execution_count": 10,
   "metadata": {},
   "outputs": [
    {
     "data": {
      "text/plain": [
       "(None, None)"
      ]
     },
     "execution_count": 10,
     "metadata": {},
     "output_type": "execute_result"
    }
   ],
   "source": [
    "ff = ffmpy.FFmpeg(\n",
    "    executable=\"C:\\\\Users\\\\torje\\\\Downloads\\\\ffmpeg-6.1-win-64\\\\ffmpeg.exe\",\n",
    "    inputs={'../general_densities/videos/medium_complex.gif': None},\n",
    "    outputs={'medium_complex.mp4': None}\n",
    "    )\n",
    "ff.run()"
   ]
  }
 ],
 "metadata": {
  "kernelspec": {
   "display_name": "traffic",
   "language": "python",
   "name": "python3"
  },
  "language_info": {
   "codemirror_mode": {
    "name": "ipython",
    "version": 3
   },
   "file_extension": ".py",
   "mimetype": "text/x-python",
   "name": "python",
   "nbconvert_exporter": "python",
   "pygments_lexer": "ipython3",
   "version": "3.10.12"
  }
 },
 "nbformat": 4,
 "nbformat_minor": 2
}
