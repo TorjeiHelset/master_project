{
 "cells": [
  {
   "cell_type": "code",
   "execution_count": 1,
   "metadata": {},
   "outputs": [],
   "source": [
    "import ffmpy\n",
    "from moviepy.editor import VideoFileClip,concatenate_videoclips\n",
    "import moviepy.editor as mpy\n",
    "from moviepy.video.fx.all import crop"
   ]
  },
  {
   "cell_type": "markdown",
   "metadata": {},
   "source": [
    "#### Single lane"
   ]
  },
  {
   "cell_type": "code",
   "execution_count": 2,
   "metadata": {},
   "outputs": [
    {
     "data": {
      "text/plain": [
       "(None, None)"
      ]
     },
     "execution_count": 2,
     "metadata": {},
     "output_type": "execute_result"
    }
   ],
   "source": [
    "ff = ffmpy.FFmpeg(\n",
    "    executable=\"C:\\\\Users\\\\torje\\\\Downloads\\\\ffmpeg-6.1-win-64\\\\ffmpeg.exe\",\n",
    "    inputs={'../general_densities/videos/single_lane.gif': None},\n",
    "    outputs={'single_lane.mp4': None}\n",
    "    )\n",
    "ff.run()"
   ]
  },
  {
   "cell_type": "code",
   "execution_count": 3,
   "metadata": {},
   "outputs": [
    {
     "name": "stdout",
     "output_type": "stream",
     "text": [
      "Moviepy - Building video single_lane_cropped.mp4.\n",
      "Moviepy - Writing video single_lane_cropped.mp4\n",
      "\n"
     ]
    },
    {
     "name": "stderr",
     "output_type": "stream",
     "text": [
      "                                                               "
     ]
    },
    {
     "name": "stdout",
     "output_type": "stream",
     "text": [
      "Moviepy - Done !\n",
      "Moviepy - video ready single_lane_cropped.mp4\n"
     ]
    },
    {
     "name": "stderr",
     "output_type": "stream",
     "text": [
      "\r"
     ]
    }
   ],
   "source": [
    "# Cropping video\n",
    "clip = VideoFileClip('single_lane.mp4')\n",
    "cropped_clip = crop(clip, width=750, height=400, x_center=400, y_center=200)\n",
    "cropped_clip = cropped_clip.cutout(0, 0.1)\n",
    "cropped_clip.write_videofile('single_lane_cropped.mp4',codec=\"libx264\")"
   ]
  },
  {
   "cell_type": "markdown",
   "metadata": {},
   "source": [
    "#### Add bus stop to video"
   ]
  },
  {
   "cell_type": "code",
   "execution_count": 13,
   "metadata": {},
   "outputs": [
    {
     "name": "stdout",
     "output_type": "stream",
     "text": [
      "Moviepy - Building video single_lane_with_stop.mp4.\n",
      "Moviepy - Writing video single_lane_with_stop.mp4\n",
      "\n"
     ]
    },
    {
     "name": "stderr",
     "output_type": "stream",
     "text": [
      "                                                               "
     ]
    },
    {
     "name": "stdout",
     "output_type": "stream",
     "text": [
      "Moviepy - Done !\n",
      "Moviepy - video ready single_lane_with_stop.mp4\n"
     ]
    },
    {
     "name": "stderr",
     "output_type": "stream",
     "text": [
      "\r"
     ]
    }
   ],
   "source": [
    "video = VideoFileClip('single_lane_cropped.mp4')\n",
    "logo = (mpy.ImageClip('../background_imgs/bus-icon.png')\n",
    "        .set_duration(video.duration)\n",
    "        .resize(height=40)\n",
    "        .margin(right=167, top=80, opacity=0)\n",
    "        .set_pos('right', 'top'))\n",
    "final = mpy.CompositeVideoClip([video, logo])\n",
    "final.subclip(0).write_videofile('single_lane_with_stop.mp4')"
   ]
  },
  {
   "cell_type": "markdown",
   "metadata": {},
   "source": [
    "#### Single Junction"
   ]
  },
  {
   "cell_type": "code",
   "execution_count": 4,
   "metadata": {},
   "outputs": [
    {
     "data": {
      "text/plain": [
       "(None, None)"
      ]
     },
     "execution_count": 4,
     "metadata": {},
     "output_type": "execute_result"
    }
   ],
   "source": [
    "ff = ffmpy.FFmpeg(\n",
    "    executable=\"C:\\\\Users\\\\torje\\\\Downloads\\\\ffmpeg-6.1-win-64\\\\ffmpeg.exe\",\n",
    "    inputs={'../general_densities/videos/single_junction.gif': None},\n",
    "    outputs={'single_junction.mp4': None}\n",
    "    )\n",
    "ff.run()"
   ]
  },
  {
   "cell_type": "code",
   "execution_count": 5,
   "metadata": {},
   "outputs": [
    {
     "name": "stdout",
     "output_type": "stream",
     "text": [
      "Moviepy - Building video single_junction_cropped.mp4.\n",
      "Moviepy - Writing video single_junction_cropped.mp4\n",
      "\n"
     ]
    },
    {
     "name": "stderr",
     "output_type": "stream",
     "text": [
      "                                                               "
     ]
    },
    {
     "name": "stdout",
     "output_type": "stream",
     "text": [
      "Moviepy - Done !\n",
      "Moviepy - video ready single_junction_cropped.mp4\n"
     ]
    },
    {
     "name": "stderr",
     "output_type": "stream",
     "text": [
      "\r"
     ]
    }
   ],
   "source": [
    "# Cropping video\n",
    "clip = VideoFileClip('single_junction.mp4')\n",
    "cropped_clip = crop(clip, width=750, height=400, x_center=400, y_center=200)\n",
    "cropped_clip = cropped_clip.cutout(0, 0.1)\n",
    "cropped_clip.write_videofile('single_junction_cropped.mp4',codec=\"libx264\")"
   ]
  },
  {
   "cell_type": "code",
   "execution_count": 16,
   "metadata": {},
   "outputs": [
    {
     "name": "stdout",
     "output_type": "stream",
     "text": [
      "Moviepy - Building video single_junction_with_stop.mp4.\n",
      "Moviepy - Writing video single_junction_with_stop.mp4\n",
      "\n"
     ]
    },
    {
     "name": "stderr",
     "output_type": "stream",
     "text": [
      "                                                               \r"
     ]
    },
    {
     "name": "stdout",
     "output_type": "stream",
     "text": [
      "Moviepy - Done !\n",
      "Moviepy - video ready single_junction_with_stop.mp4\n"
     ]
    }
   ],
   "source": [
    "video = VideoFileClip('single_junction_cropped.mp4')\n",
    "logo = (mpy.ImageClip('../background_imgs/bus-icon.png')\n",
    "        .set_duration(video.duration)\n",
    "        .resize(height=40)\n",
    "        .margin(right=162, top=80, opacity=0)\n",
    "        .set_pos('right', 'top'))\n",
    "final = mpy.CompositeVideoClip([video, logo])\n",
    "final.subclip(0).write_videofile('single_junction_with_stop.mp4')"
   ]
  },
  {
   "cell_type": "markdown",
   "metadata": {},
   "source": [
    "#### Two two junction"
   ]
  },
  {
   "cell_type": "code",
   "execution_count": 6,
   "metadata": {},
   "outputs": [
    {
     "data": {
      "text/plain": [
       "(None, None)"
      ]
     },
     "execution_count": 6,
     "metadata": {},
     "output_type": "execute_result"
    }
   ],
   "source": [
    "ff = ffmpy.FFmpeg(\n",
    "    executable=\"C:\\\\Users\\\\torje\\\\Downloads\\\\ffmpeg-6.1-win-64\\\\ffmpeg.exe\",\n",
    "    inputs={'../general_densities/videos/two_two.gif': None},\n",
    "    outputs={'two_two.mp4': None}\n",
    "    )\n",
    "ff.run()"
   ]
  },
  {
   "cell_type": "code",
   "execution_count": 32,
   "metadata": {},
   "outputs": [
    {
     "name": "stdout",
     "output_type": "stream",
     "text": [
      "Moviepy - Building video two_two_with_stop.mp4.\n",
      "Moviepy - Writing video two_two_with_stop.mp4\n",
      "\n"
     ]
    },
    {
     "name": "stderr",
     "output_type": "stream",
     "text": [
      "                                                              \r"
     ]
    },
    {
     "name": "stdout",
     "output_type": "stream",
     "text": [
      "Moviepy - Done !\n",
      "Moviepy - video ready two_two_with_stop.mp4\n"
     ]
    }
   ],
   "source": [
    "video = VideoFileClip('two_two.mp4')\n",
    "logo1 = (mpy.ImageClip('../background_imgs/bus-icon.png')\n",
    "        .set_duration(video.duration)\n",
    "        .resize(height=40)\n",
    "        .margin(right=237, top=265, opacity=0)\n",
    "        .set_pos(('right', 'top')))\n",
    "\n",
    "logo2 = (mpy.ImageClip('../background_imgs/bus-icon.png')\n",
    "        .set_duration(video.duration)\n",
    "        .resize(height=40)\n",
    "        .margin(right=420, top=140, opacity=0)\n",
    "        .set_pos('right', 'top'))\n",
    "final = mpy.CompositeVideoClip([video, logo1, logo2])\n",
    "final = final.cutout(0, 0.1)\n",
    "final.subclip(0).write_videofile('two_two_with_stop.mp4')"
   ]
  },
  {
   "cell_type": "markdown",
   "metadata": {},
   "source": [
    "#### Larger Network"
   ]
  },
  {
   "cell_type": "code",
   "execution_count": 7,
   "metadata": {},
   "outputs": [
    {
     "data": {
      "text/plain": [
       "(None, None)"
      ]
     },
     "execution_count": 7,
     "metadata": {},
     "output_type": "execute_result"
    }
   ],
   "source": [
    "ff = ffmpy.FFmpeg(\n",
    "    executable=\"C:\\\\Users\\\\torje\\\\Downloads\\\\ffmpeg-6.1-win-64\\\\ffmpeg.exe\",\n",
    "    inputs={'../general_densities/videos/medium_complex.gif': None},\n",
    "    outputs={'medium_complex.mp4': None}\n",
    "    )\n",
    "ff.run()"
   ]
  },
  {
   "cell_type": "code",
   "execution_count": 39,
   "metadata": {},
   "outputs": [
    {
     "name": "stdout",
     "output_type": "stream",
     "text": [
      "Moviepy - Building video medium_complex_with_stops.mp4.\n",
      "Moviepy - Writing video medium_complex_with_stops.mp4\n",
      "\n"
     ]
    },
    {
     "name": "stderr",
     "output_type": "stream",
     "text": [
      "                                                              "
     ]
    },
    {
     "name": "stdout",
     "output_type": "stream",
     "text": [
      "Moviepy - Done !\n",
      "Moviepy - video ready medium_complex_with_stops.mp4\n"
     ]
    },
    {
     "name": "stderr",
     "output_type": "stream",
     "text": [
      "\r"
     ]
    }
   ],
   "source": [
    "video = VideoFileClip('medium_complex.mp4')\n",
    "\n",
    "stop1 = (mpy.ImageClip('../background_imgs/bus-icon.png')\n",
    "        .set_duration(video.duration)\n",
    "        .resize(height=40)\n",
    "        .margin(right=125, top=60, opacity=0)\n",
    "        .set_pos(('right', 'top')))\n",
    "\n",
    "stop2 = (mpy.ImageClip('../background_imgs/bus-icon.png')\n",
    "        .set_duration(video.duration)\n",
    "        .resize(height=40)\n",
    "        .margin(right=410, top=110, opacity=0)\n",
    "        .set_pos(('right', 'top')))\n",
    "\n",
    "stop3 = (mpy.ImageClip('../background_imgs/bus-icon.png')\n",
    "        .set_duration(video.duration)\n",
    "        .resize(height=40)\n",
    "        .margin(right=475, top=350, opacity=0)\n",
    "        .set_pos(('right', 'top')))\n",
    "\n",
    "final = mpy.CompositeVideoClip([video, stop1, stop2, stop3])\n",
    "final = final.cutout(0, 0.1)\n",
    "final.subclip(0).write_videofile('medium_complex_with_stops.mp4')"
   ]
  }
 ],
 "metadata": {
  "kernelspec": {
   "display_name": "traffic",
   "language": "python",
   "name": "python3"
  },
  "language_info": {
   "codemirror_mode": {
    "name": "ipython",
    "version": 3
   },
   "file_extension": ".py",
   "mimetype": "text/x-python",
   "name": "python",
   "nbconvert_exporter": "python",
   "pygments_lexer": "ipython3",
   "version": "3.10.12"
  }
 },
 "nbformat": 4,
 "nbformat_minor": 2
}
