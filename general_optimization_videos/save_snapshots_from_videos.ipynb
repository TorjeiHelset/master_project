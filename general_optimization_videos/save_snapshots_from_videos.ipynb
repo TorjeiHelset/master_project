{
 "cells": [
  {
   "cell_type": "code",
   "execution_count": 2,
   "metadata": {},
   "outputs": [],
   "source": [
    "from moviepy.editor import VideoFileClip\n",
    "from PIL import Image\n",
    "import numpy as np"
   ]
  },
  {
   "cell_type": "markdown",
   "metadata": {},
   "source": [
    "#### Single Lane"
   ]
  },
  {
   "cell_type": "code",
   "execution_count": 4,
   "metadata": {},
   "outputs": [],
   "source": [
    "tot_time = 7.9\n",
    "simulation_time = 100\n",
    "times = [7, 17, 25, 69]\n",
    "video = VideoFileClip(\"single_lane_with_stop.mp4\")\n",
    "\n",
    "for i, t in enumerate(times):\n",
    "    frame = video.get_frame(tot_time * t / simulation_time)\n",
    "    frame_image = Image.fromarray(np.uint8(frame))\n",
    "    frame_image.save(f\"single_lane_t={str(t)}.png\")"
   ]
  },
  {
   "cell_type": "markdown",
   "metadata": {},
   "source": [
    "#### Single Junction"
   ]
  },
  {
   "cell_type": "code",
   "execution_count": 5,
   "metadata": {},
   "outputs": [],
   "source": [
    "tot_time = 21.35\n",
    "simulation_time = 200\n",
    "times = [10, 34, 49, 95]\n",
    "video = VideoFileClip(\"single_junction_with_stop.mp4\")\n",
    "\n",
    "for i, t in enumerate(times):\n",
    "    frame = video.get_frame(tot_time * t / simulation_time)\n",
    "    frame_image = Image.fromarray(np.uint8(frame))\n",
    "    frame_image.save(f\"single_junction_t={str(t)}.png\")"
   ]
  },
  {
   "cell_type": "markdown",
   "metadata": {},
   "source": [
    "#### 2-2 Junction"
   ]
  },
  {
   "cell_type": "code",
   "execution_count": 6,
   "metadata": {},
   "outputs": [],
   "source": [
    "tot_time = 19.69\n",
    "simulation_time = 200\n",
    "times = [7, 20, 39, 76]\n",
    "video = VideoFileClip(\"two_two_with_stop.mp4\")\n",
    "\n",
    "for i, t in enumerate(times):\n",
    "    frame = video.get_frame(tot_time * t / simulation_time)\n",
    "    frame_image = Image.fromarray(np.uint8(frame))\n",
    "    frame_image.save(f\"two_two_t={str(t)}.png\")"
   ]
  },
  {
   "cell_type": "markdown",
   "metadata": {},
   "source": [
    "#### Larger Network"
   ]
  },
  {
   "cell_type": "code",
   "execution_count": 7,
   "metadata": {},
   "outputs": [],
   "source": [
    "tot_time = 29.6\n",
    "simulation_time = 150\n",
    "times = [3, 7, 17, 25, 38, 43, 50, 81]\n",
    "video = VideoFileClip(\"medium_complex_with_stops.mp4\")\n",
    "\n",
    "for i, t in enumerate(times):\n",
    "    frame = video.get_frame(tot_time * t / simulation_time)\n",
    "    frame_image = Image.fromarray(np.uint8(frame))\n",
    "    frame_image.save(f\"medium_complex_t={str(t)}.png\")"
   ]
  },
  {
   "cell_type": "markdown",
   "metadata": {},
   "source": [
    "#### Kvadraturen"
   ]
  },
  {
   "cell_type": "code",
   "execution_count": null,
   "metadata": {},
   "outputs": [],
   "source": []
  }
 ],
 "metadata": {
  "kernelspec": {
   "display_name": "traffic",
   "language": "python",
   "name": "python3"
  },
  "language_info": {
   "codemirror_mode": {
    "name": "ipython",
    "version": 3
   },
   "file_extension": ".py",
   "mimetype": "text/x-python",
   "name": "python",
   "nbconvert_exporter": "python",
   "pygments_lexer": "ipython3",
   "version": "3.10.12"
  }
 },
 "nbformat": 4,
 "nbformat_minor": 2
}
