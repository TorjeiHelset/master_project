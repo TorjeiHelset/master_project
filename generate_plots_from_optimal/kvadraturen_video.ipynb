{
 "cells": [
  {
   "cell_type": "code",
   "execution_count": 5,
   "metadata": {},
   "outputs": [],
   "source": [
    "import sys\n",
    "sys.path.append(\"../src\")\n",
    "\n",
    "import torch\n",
    "import json\n",
    "import numpy as np\n",
    "import loading_json as load\n",
    "import json\n",
    "import generate_kvadraturen as gk"
   ]
  },
  {
   "cell_type": "code",
   "execution_count": 6,
   "metadata": {},
   "outputs": [],
   "source": [
    "# Load results from optimization\n",
    "f = open(\"../optimization_results/kvadraturen_optimization/network22_config22_fwd.json\")\n",
    "results = json.load(f)\n",
    "f.close()"
   ]
  },
  {
   "cell_type": "code",
   "execution_count": 10,
   "metadata": {},
   "outputs": [],
   "source": [
    "# Collecting network configuration\n",
    "network_file = results['network_file']\n",
    "config_file = results['config_file']\n",
    "f = open(\"../\"+network_file)\n",
    "network_config = json.load(f)\n",
    "f.close()\n",
    "\n",
    "T = network_config['T']\n",
    "N = network_config['N']\n",
    "controls = network_config['control_points']"
   ]
  },
  {
   "cell_type": "code",
   "execution_count": 12,
   "metadata": {},
   "outputs": [],
   "source": [
    "n_speeds = []\n",
    "last_speed_idx = 0\n",
    "n_cycles = []\n",
    "control_points = []\n",
    "config = None\n",
    "\n",
    "def update_nspeeds_ncycles_controls(speed_limits, cycle_times, new_control_points):\n",
    "    global n_speeds\n",
    "    global n_cycles\n",
    "    global control_points\n",
    "    global last_speed_idx\n",
    "\n",
    "    n_speeds = []\n",
    "    n_cycles = []\n",
    "    speed_idx = 0\n",
    "    for speeds in speed_limits:\n",
    "        n_speeds.append(len(speeds))\n",
    "        speed_idx += len(speeds)\n",
    "    last_speed_idx = speed_idx\n",
    "\n",
    "    for cycles in cycle_times:\n",
    "        n_cycles.append(len(cycles))\n",
    "\n",
    "    control_points = new_control_points\n",
    "\n",
    "def update_config(config_data):\n",
    "    global config\n",
    "    config = config_data\n",
    "\n",
    "def load_bus_network(network_file, config_file):\n",
    "    '''\n",
    "    Function for initializing a bus network modelling kvadraturen\n",
    "    with initial speed limits and speed limits as specified in the file\n",
    "    filename. The grid spacing is also specified in the file\n",
    "    '''\n",
    "    f = open(\"../\" + network_file)\n",
    "    data = json.load(f)\n",
    "    f.close()\n",
    "    T = data[\"T\"]\n",
    "    N = data[\"N\"]\n",
    "    speed_limits = data[\"speed_limits\"] # Nested list\n",
    "    control_points = data[\"control_points\"] # Nested list\n",
    "    cycle_times = data[\"cycle_times\"] # Nested list\n",
    "\n",
    "    update_nspeeds_ncycles_controls(speed_limits, cycle_times, control_points)\n",
    "\n",
    "    f = open(\"../\" + config_file)\n",
    "    data = json.load(f)\n",
    "    f.close()\n",
    "    update_config(data)\n",
    "    \n",
    "    return T, N, speed_limits, cycle_times\n",
    "\n",
    "def get_speeds_cycles_from_params(params):\n",
    "    idx = 0\n",
    "    speed_limits = []\n",
    "    cycle_times = []\n",
    "\n",
    "    for i in range(len(n_speeds)):\n",
    "        speed_limits.append([])\n",
    "        for j in range(n_speeds[i]):\n",
    "            speed_limits[i].append(params[idx])\n",
    "            idx += 1\n",
    "\n",
    "    for i in range(len(n_cycles)):\n",
    "        cycle_times.append([])\n",
    "        for j in range(n_cycles[i]):\n",
    "            cycle_times[i].append(params[idx])\n",
    "            idx += 1\n",
    "\n",
    "    return speed_limits, cycle_times\n",
    "def create_network_from_params(T, N, params, track_grad = False):\n",
    "    speed_limits, cycle_times = get_speeds_cycles_from_params(params)\n",
    "    # bus_network = gk.generate_kvadraturen_roundabout_w_params(T, N, speed_limits, control_points, cycle_times,\n",
    "    #                                                           track_grad=track_grad)\n",
    "    bus_network = gk.generate_kvadraturen_from_config_e18(T, N, speed_limits, control_points,\n",
    "                                                          cycle_times, config, track_grad=track_grad)\n",
    "    return bus_network"
   ]
  },
  {
   "cell_type": "code",
   "execution_count": 13,
   "metadata": {},
   "outputs": [],
   "source": [
    "# Collecting the start and final parameters\n",
    "start = results['parameters'][0]\n",
    "opt = results['parameters'][-1]"
   ]
  },
  {
   "cell_type": "code",
   "execution_count": 14,
   "metadata": {},
   "outputs": [],
   "source": [
    "T, N, speed_limits, cycle_times = load_bus_network(network_file, config_file)"
   ]
  },
  {
   "cell_type": "code",
   "execution_count": 16,
   "metadata": {},
   "outputs": [],
   "source": [
    "start_network = create_network_from_params(T, N, start, track_grad=False)\n",
    "opt_network = create_network_from_params(T, N, opt, track_grad=False)"
   ]
  },
  {
   "cell_type": "code",
   "execution_count": 18,
   "metadata": {},
   "outputs": [
    {
     "name": "stdout",
     "output_type": "stream",
     "text": [
      "Bus 19_bw1 reached bus stop 0 at time 28.75, should wait for 29.854570388793945 seconds\n",
      "Bus 19_fw1 reached bus stop 0 at time 44.125, should wait for 29.976776123046875 seconds\n",
      "Bus m1_bw1 reached bus stop 0 at time 106.6875, should wait for 29.81698226928711 seconds\n",
      "Bus custom_bw1 reached bus stop 0 at time 121.875, should wait for 29.89146614074707 seconds\n",
      "Bus 19_bw1 reached bus stop 1 at time 143.9375, should wait for 29.88227081298828 seconds\n",
      "Bus m1_bw1 reached bus stop 1 at time 156.125, should wait for 29.86902618408203 seconds\n",
      "Bus 19_bw1 reached bus stop 2 at time 192.8125, should wait for 29.88826560974121 seconds\n",
      "Bus m1_fw1 reached bus stop 0 at time 205.75, should wait for 29.812915802001953 seconds\n",
      "Bus 19_fw1 reached bus stop 1 at time 280.75, should wait for 29.894075393676758 seconds\n",
      "Bus custom_bw1 reached bus stop 1 at time 383.5, should wait for 29.992538452148438 seconds\n",
      "Bus 19_bw1 reached bus stop 3 at time 394.1875, should wait for 29.953479766845703 seconds\n",
      "Bus m1_fw1 reached bus stop 1 at time 398.3125, should wait for 29.98230743408203 seconds\n",
      "Bus 19_fw1 reached bus stop 2 at time 413.75, should wait for 29.87462043762207 seconds\n",
      "Bus custom_bw1 reached bus stop 2 at time 431.875, should wait for 29.91496467590332 seconds\n",
      "Bus 19_fw1 reached bus stop 3 at time 468.625, should wait for 29.936756134033203 seconds\n",
      "Bus custom_fw1 reached bus stop 0 at time 555.625, should wait for 29.912893295288086 seconds\n",
      "Bus 19_bw1 reached bus stop 0 at time 25.1875, should wait for 29.827735900878906 seconds\n",
      "Bus 19_fw1 reached bus stop 0 at time 38.875, should wait for 29.979434967041016 seconds\n",
      "Bus m1_bw1 reached bus stop 0 at time 99.75, should wait for 29.90906524658203 seconds\n",
      "Bus custom_bw1 reached bus stop 0 at time 108.875, should wait for 29.973257064819336 seconds\n",
      "Bus 19_bw1 reached bus stop 1 at time 128.4375, should wait for 29.897085189819336 seconds\n",
      "Bus m1_bw1 reached bus stop 1 at time 145.375, should wait for 29.875751495361328 seconds\n",
      "Bus 19_bw1 reached bus stop 2 at time 173.0, should wait for 29.895496368408203 seconds\n",
      "Bus 19_fw1 reached bus stop 1 at time 173.9375, should wait for 29.958616256713867 seconds\n",
      "Bus m1_fw1 reached bus stop 0 at time 198.375, should wait for 29.975078582763672 seconds\n",
      "Bus custom_bw1 reached bus stop 1 at time 219.5625, should wait for 29.988298416137695 seconds\n",
      "Bus 19_fw1 reached bus stop 2 at time 228.3125, should wait for 29.85140609741211 seconds\n",
      "Bus custom_bw1 reached bus stop 2 at time 262.375, should wait for 29.98438262939453 seconds\n",
      "Bus 19_fw1 reached bus stop 3 at time 278.1875, should wait for 29.876184463500977 seconds\n",
      "Bus 19_bw1 reached bus stop 3 at time 369.9375, should wait for 29.927257537841797 seconds\n",
      "Bus m1_fw1 reached bus stop 1 at time 380.4375, should wait for 29.887611389160156 seconds\n"
     ]
    }
   ],
   "source": [
    "# Do the simulations\n",
    "densities, _, lengths, delays, n_stops = start_network.solve_cons_law_counting()\n",
    "opt_densities, _, opt_lengths, opt_delays, opt_n_stops = opt_network.solve_cons_law_counting()"
   ]
  },
  {
   "cell_type": "code",
   "execution_count": 19,
   "metadata": {},
   "outputs": [],
   "source": [
    "# Store densities\n",
    "densities_loaded = load.convert_from_tensor(densities)\n",
    "bus_lengths_loaded = load.convert_from_tensor(lengths)\n",
    "\n",
    "end_densities_loaded = load.convert_from_tensor(opt_densities)\n",
    "end_bus_lengths_loaded = load.convert_from_tensor(opt_lengths)"
   ]
  },
  {
   "cell_type": "code",
   "execution_count": 20,
   "metadata": {},
   "outputs": [],
   "source": [
    "with open(\"../general_densities/kvadraturen_start.json\", 'w') as fd:\n",
    "    fd.write(json.dumps([densities_loaded, bus_lengths_loaded]))"
   ]
  },
  {
   "cell_type": "code",
   "execution_count": 21,
   "metadata": {},
   "outputs": [],
   "source": [
    "with open(\"../general_densities/kvadraturen_optimal.json\", 'w') as fd:\n",
    "    fd.write(json.dumps([end_densities_loaded, end_bus_lengths_loaded]))"
   ]
  },
  {
   "cell_type": "code",
   "execution_count": 22,
   "metadata": {},
   "outputs": [],
   "source": [
    "# Convert to the same time scale:\n",
    "# Use single_lane_optimal as the goal\n",
    "\n",
    "\n",
    "f = open(\"../general_densities/kvadraturen_start.json\")\n",
    "data = json.load(f)\n",
    "f.close()\n",
    "orig_densities = data[0]\n",
    "orig_lengths = data[1]\n",
    "\n",
    "f = open(\"../general_densities/kvadraturen_optimal.json\")\n",
    "data_goal = json.load(f)\n",
    "f.close()\n",
    "goal_densities = data_goal[0]"
   ]
  },
  {
   "cell_type": "code",
   "execution_count": 23,
   "metadata": {},
   "outputs": [],
   "source": [
    "goal_times = list(goal_densities['0'].keys())\n",
    "goal_times = [float(t) for t in goal_times]\n",
    "\n",
    "old_times = list(orig_densities['0'].keys())\n",
    "old_times = [float(t) for t in old_times]"
   ]
  },
  {
   "cell_type": "code",
   "execution_count": 24,
   "metadata": {},
   "outputs": [],
   "source": [
    "new_lengths = {i : {} for i in orig_lengths.keys()}\n",
    "new_densities = {i : {} for i in orig_densities.keys()}\n",
    "\n",
    "prev_idx = 0\n",
    "for t in goal_times:\n",
    "    add_incr = 0\n",
    "    for t_prev, t_next in zip(old_times[prev_idx:-1], old_times[prev_idx+1:]):\n",
    "        if t_prev <= t and t_next >= t:\n",
    "            prev_dist = t - t_prev\n",
    "            next_dist = t_next - t\n",
    "            interval_length = t_next - t_prev\n",
    "            prev_weight = (interval_length - prev_dist) / interval_length\n",
    "            next_weight = (interval_length - next_dist) / interval_length\n",
    "            for bus_id in orig_lengths.keys(): \n",
    "                new_lengths[bus_id][str(t)] = orig_lengths[bus_id][str(t_prev)]*prev_weight + orig_lengths[bus_id][str(t_next)]*next_weight\n",
    "            for road_id in orig_densities.keys():\n",
    "                new_densities[road_id][str(t)] = [orig_densities[road_id][str(t_prev)][i]*prev_weight + orig_densities[road_id][str(t_next)][i]*next_weight for i in range(len(orig_densities[road_id][str(t_prev)]))]\n",
    "            break\n",
    "        else:\n",
    "            add_incr += 1"
   ]
  },
  {
   "cell_type": "code",
   "execution_count": 25,
   "metadata": {},
   "outputs": [],
   "source": [
    "# Write to file\n",
    "with open(\"../general_densities/kvadraturen_start_opt_times.json\", 'w') as fd:\n",
    "    fd.write(json.dumps([new_densities, new_lengths]))"
   ]
  },
  {
   "cell_type": "code",
   "execution_count": null,
   "metadata": {},
   "outputs": [],
   "source": []
  }
 ],
 "metadata": {
  "kernelspec": {
   "display_name": "traffic",
   "language": "python",
   "name": "python3"
  },
  "language_info": {
   "codemirror_mode": {
    "name": "ipython",
    "version": 3
   },
   "file_extension": ".py",
   "mimetype": "text/x-python",
   "name": "python",
   "nbconvert_exporter": "python",
   "pygments_lexer": "ipython3",
   "version": "3.10.12"
  }
 },
 "nbformat": 4,
 "nbformat_minor": 2
}
