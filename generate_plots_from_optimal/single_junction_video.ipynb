{
 "cells": [
  {
   "cell_type": "code",
   "execution_count": 7,
   "metadata": {},
   "outputs": [],
   "source": [
    "import sys\n",
    "sys.path.append(\"../src\")\n",
    "\n",
    "import generate_general_networks as generate\n",
    "import torch\n",
    "import matplotlib.pyplot as plt\n",
    "import json\n",
    "import numpy as np\n",
    "import tikzplotlib\n",
    "import loading_json as load\n",
    "import json"
   ]
  },
  {
   "cell_type": "code",
   "execution_count": 8,
   "metadata": {},
   "outputs": [],
   "source": [
    "# Load results from optimization\n",
    "f = open(\"../optimization_results/general_optimization/single_junction_1.json\")\n",
    "results = json.load(f)\n",
    "f.close()"
   ]
  },
  {
   "cell_type": "code",
   "execution_count": 13,
   "metadata": {},
   "outputs": [],
   "source": [
    "# Collecting network configuration\n",
    "network_file = results['network_file']\n",
    "f = open(\"../\"+network_file)\n",
    "network_config = json.load(f)\n",
    "f.close()\n",
    "\n",
    "T = network_config['T']\n",
    "N = network_config['N']\n",
    "controls = network_config['control_points']"
   ]
  },
  {
   "cell_type": "code",
   "execution_count": 10,
   "metadata": {},
   "outputs": [],
   "source": [
    "# Collecting the start and final parameters\n",
    "start = results['parameters'][0]\n",
    "opt = results['parameters'][-1]"
   ]
  },
  {
   "cell_type": "code",
   "execution_count": 14,
   "metadata": {},
   "outputs": [],
   "source": [
    "# Create the networks\n",
    "start_speed = [[torch.tensor(start[i])] for i in range(2)]\n",
    "opt_speed = [[torch.tensor(opt[i])] for i in range(2)]\n",
    "start_cycle = [torch.tensor(start[2]), torch.tensor(start[3])]\n",
    "opt_cycle = [torch.tensor(opt[2]), torch.tensor(opt[3])]\n",
    "\n",
    "start_network = generate.single_junction_network(T, N, start_speed, controls, start_cycle, track_grad=False)\n",
    "opt_network = generate.single_junction_network(T, N, opt_speed, controls, opt_cycle, track_grad=False)"
   ]
  },
  {
   "cell_type": "code",
   "execution_count": 15,
   "metadata": {},
   "outputs": [
    {
     "name": "stdout",
     "output_type": "stream",
     "text": [
      "Bus bus_1 reached bus stop 0 at time 113.23703002929688, should wait for 29.854145050048828 seconds\n",
      "Bus bus_1 reached bus stop 0 at time 34.9142951965332, should wait for 29.798316955566406 seconds\n"
     ]
    }
   ],
   "source": [
    "# Do the simulations\n",
    "densities, _, lengths, delays, n_stops = start_network.solve_cons_law_counting()\n",
    "opt_densities, _, opt_lengths, opt_delays, opt_n_stops = opt_network.solve_cons_law_counting()"
   ]
  },
  {
   "cell_type": "code",
   "execution_count": 16,
   "metadata": {},
   "outputs": [],
   "source": [
    "# Store densities\n",
    "densities_loaded = load.convert_from_tensor(densities)\n",
    "bus_lengths_loaded = load.convert_from_tensor(lengths)\n",
    "\n",
    "opt_densities_loaded = load.convert_from_tensor(opt_densities)\n",
    "opt_bus_lengths_loaded = load.convert_from_tensor(opt_lengths)"
   ]
  },
  {
   "cell_type": "code",
   "execution_count": 17,
   "metadata": {},
   "outputs": [],
   "source": [
    "with open(\"../general_densities/single_junction_start.json\", 'w') as fd:\n",
    "    fd.write(json.dumps([densities_loaded, bus_lengths_loaded]))"
   ]
  },
  {
   "cell_type": "code",
   "execution_count": 18,
   "metadata": {},
   "outputs": [],
   "source": [
    "with open(\"../general_densities/single_junction_optimal.json\", 'w') as fd:\n",
    "    fd.write(json.dumps([opt_densities_loaded, opt_bus_lengths_loaded]))"
   ]
  },
  {
   "cell_type": "code",
   "execution_count": 19,
   "metadata": {},
   "outputs": [],
   "source": [
    "# Convert to the same time scale:\n",
    "# Use single_lane_optimal as the goal\n",
    "\n",
    "\n",
    "f = open(\"../general_densities/single_junction_start.json\")\n",
    "data = json.load(f)\n",
    "f.close()\n",
    "orig_densities = data[0]\n",
    "orig_lengths = data[1]\n",
    "\n",
    "f = open(\"../general_densities/single_junction_optimal.json\")\n",
    "data_goal = json.load(f)\n",
    "f.close()\n",
    "goal_densities = data_goal[0]"
   ]
  },
  {
   "cell_type": "code",
   "execution_count": 20,
   "metadata": {},
   "outputs": [],
   "source": [
    "goal_times = list(goal_densities['0'].keys())\n",
    "goal_times = [float(t) for t in goal_times]\n",
    "\n",
    "old_times = list(orig_densities['0'].keys())\n",
    "old_times = [float(t) for t in old_times]"
   ]
  },
  {
   "cell_type": "code",
   "execution_count": 21,
   "metadata": {},
   "outputs": [],
   "source": [
    "new_lengths = {i : {} for i in orig_lengths.keys()}\n",
    "new_densities = {i : {} for i in orig_densities.keys()}\n",
    "\n",
    "prev_idx = 0\n",
    "for t in goal_times:\n",
    "    add_incr = 0\n",
    "    for t_prev, t_next in zip(old_times[prev_idx:-1], old_times[prev_idx+1:]):\n",
    "        if t_prev <= t and t_next >= t:\n",
    "            prev_dist = t - t_prev\n",
    "            next_dist = t_next - t\n",
    "            interval_length = t_next - t_prev\n",
    "            prev_weight = (interval_length - prev_dist) / interval_length\n",
    "            next_weight = (interval_length - next_dist) / interval_length\n",
    "            for bus_id in orig_lengths.keys(): \n",
    "                new_lengths[bus_id][str(t)] = orig_lengths[bus_id][str(t_prev)]*prev_weight + orig_lengths[bus_id][str(t_next)]*next_weight\n",
    "            for road_id in orig_densities.keys():\n",
    "                new_densities[road_id][str(t)] = [orig_densities[road_id][str(t_prev)][i]*prev_weight + orig_densities[road_id][str(t_next)][i]*next_weight for i in range(len(orig_densities[road_id][str(t_prev)]))]\n",
    "            break\n",
    "        else:\n",
    "            add_incr += 1"
   ]
  },
  {
   "cell_type": "code",
   "execution_count": 22,
   "metadata": {},
   "outputs": [],
   "source": [
    "# Write to file\n",
    "with open(\"../general_densities/single_junction_start_opt_times.json\", 'w') as fd:\n",
    "    fd.write(json.dumps([new_densities, new_lengths]))"
   ]
  }
 ],
 "metadata": {
  "kernelspec": {
   "display_name": "traffic",
   "language": "python",
   "name": "python3"
  },
  "language_info": {
   "codemirror_mode": {
    "name": "ipython",
    "version": 3
   },
   "file_extension": ".py",
   "mimetype": "text/x-python",
   "name": "python",
   "nbconvert_exporter": "python",
   "pygments_lexer": "ipython3",
   "version": "3.10.12"
  }
 },
 "nbformat": 4,
 "nbformat_minor": 2
}
