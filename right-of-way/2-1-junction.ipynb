{
 "cells": [
  {
   "cell_type": "markdown",
   "metadata": {},
   "source": [
    "#### Testing right of way "
   ]
  },
  {
   "cell_type": "code",
   "execution_count": 17,
   "metadata": {},
   "outputs": [
    {
     "name": "stdout",
     "output_type": "stream",
     "text": [
      "0.1 0.30000000000000004 0.4\n"
     ]
    }
   ],
   "source": [
    "D_1 = 0.1\n",
    "D_2 = 0.6\n",
    "P = 0.9\n",
    "S = 0.4\n",
    "\n",
    "gamma_1 = min(D_1, max(S*P, S-D_2))\n",
    "gamma_2 = min(D_2, max(S*(1-P), S-D_1))\n",
    "print(gamma_1, gamma_2, gamma_1+gamma_2)"
   ]
  }
 ],
 "metadata": {
  "kernelspec": {
   "display_name": "traffic",
   "language": "python",
   "name": "python3"
  },
  "language_info": {
   "codemirror_mode": {
    "name": "ipython",
    "version": 3
   },
   "file_extension": ".py",
   "mimetype": "text/x-python",
   "name": "python",
   "nbconvert_exporter": "python",
   "pygments_lexer": "ipython3",
   "version": "3.10.12"
  }
 },
 "nbformat": 4,
 "nbformat_minor": 2
}
