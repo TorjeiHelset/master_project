{
 "cells": [
  {
   "cell_type": "code",
   "execution_count": 1,
   "metadata": {},
   "outputs": [],
   "source": [
    "import sys\n",
    "sys.path.append('../src_variable')\n",
    "\n",
    "import network as nw\n",
    "import torch\n",
    "import generate_kvadraturen as gk\n",
    "import bus\n",
    "import road as rd\n",
    "import traffic_lights as tl\n",
    "import junction as jn\n",
    "import numpy as np"
   ]
  },
  {
   "cell_type": "code",
   "execution_count": 2,
   "metadata": {},
   "outputs": [],
   "source": [
    "# torch.autograd.set_detect_anomaly(True)"
   ]
  },
  {
   "cell_type": "code",
   "execution_count": 14,
   "metadata": {},
   "outputs": [],
   "source": [
    "T = 400\n",
    "network = gk.generate_kvadraturen_small(T)\n",
    "# network = gk.generate_kvadraturen_wo_tl(T)\n",
    "\n",
    "ids_bw = [\"lundsbro_bw\", \"elvegata_bw\", \"tollbod_6bw\", \"tollbod_5bw\", \"tollbod_4bw\", \n",
    "        \"tollbod_3bw\", \"tollbod_2bw\", \"tollbod_1bw\", \"v_strand_7bw\", \"v_strand_6bw\",\n",
    "            \"v_strand_5bw\", \"v_strand_4bw\", \"v_strand_3bw\", \"v_strand_2bw\", \"v_strand_1bw\"]            \n",
    "            \n",
    "\n",
    "stops_bw = [(\"tollbod_6bw\", 50), (\"tollbod_3bw\", 90), (\"tollbod_1bw\", 30), (\"v_strand_3bw\", 25)]\n",
    "# stops_bw = [(\"tollbod_6bw\", 50), (\"tollbod_3bw\", 90)]\n",
    "\n",
    "times_bw = [40, 130, 190, 250]\n",
    "# times_bw = [10, 70]\n",
    "\n",
    "bus_bw = bus.Bus(ids_bw, stops_bw, times_bw, network)\n",
    "\n",
    "ids_fw = [\"v_strand_1fw\", \"v_strand_2fw\", \"v_strand_3fw\", \"h_w_2\", \"h_w_3\",\n",
    "    \"h_w_4\", \"festning_4fw\", \"festning_5fw\", \"festning_6fw\", \"festning_7fw\",\n",
    "    \"tollbod_4fw\", \"tollbod_5fw\", \"tollbod_6fw\", \"elvegata_fw\", \"lundsbro_fw\"]\n",
    "\n",
    "stops_fw = [(\"v_strand_1fw\", 40), (\"h_w_3\", 30), (\"festning_5fw\", 40), (\"tollbod_4fw\", 25), \n",
    "            (\"tollbod_6fw\", 60)]\n",
    "# stops_fw = [(\"h_w_3\", 30), (\"festning_5fw\", 40), (\"tollbod_4fw\", 25), \n",
    "#             (\"tollbod_6fw\", 60)]\n",
    "# stops_fw = [(\"h_w_3\", 30), (\"festning_5fw\", 40), (\"tollbod_4fw\", 10)]\n",
    "times_fw = [1, 30, 110, 130, 230]\n",
    "# times_fw = [10, 40, 80, 120]\n",
    "# times_fw = [10, 40, 70]\n",
    "\n",
    "bus_fw = bus.Bus(ids_fw, stops_fw, times_fw, network)"
   ]
  },
  {
   "cell_type": "code",
   "execution_count": 15,
   "metadata": {},
   "outputs": [],
   "source": [
    "# Create actual network\n",
    "roads = network.roads\n",
    "junctions = network.junctions\n",
    "T = network.T\n",
    "# Don't store the densities \n",
    "# bus_network = nw.RoadNetwork(roads, junctions, T, [bus_fw, bus_bw], store_densities = False)\n",
    "bus_network = nw.RoadNetwork(roads, junctions, T, [bus_fw, bus_bw], store_densities = False)"
   ]
  },
  {
   "cell_type": "code",
   "execution_count": 16,
   "metadata": {},
   "outputs": [],
   "source": [
    "# with torch.autograd.set_detect_anomaly(True):\n",
    "#     densities, queues, bus_lengths, bus_delays = bus_network.solve_cons_law()\n",
    "densities, queues, bus_lengths, bus_delays = bus_network.solve_cons_law()"
   ]
  },
  {
   "cell_type": "code",
   "execution_count": 17,
   "metadata": {},
   "outputs": [
    {
     "name": "stdout",
     "output_type": "stream",
     "text": [
      "{0: [tensor(2.5116, grad_fn=<AddBackward0>), tensor(26.9507, grad_fn=<AddBackward0>), tensor(5.4994, grad_fn=<AddBackward0>), tensor(66.2066, grad_fn=<AddBackward0>), tensor(24.5655, grad_fn=<AddBackward0>)], 1: [tensor(0., grad_fn=<AddBackward0>), tensor(0., grad_fn=<AddBackward0>), tensor(0., grad_fn=<AddBackward0>), tensor(0.)]}\n"
     ]
    }
   ],
   "source": [
    "print(bus_delays)"
   ]
  },
  {
   "cell_type": "code",
   "execution_count": 18,
   "metadata": {},
   "outputs": [],
   "source": [
    "# Cloning just to be safe\n",
    "# objective = bus_delays[0][0].clone() #+ bus_delays[1][0].clone()\n",
    "# for i in range(len(bus_delays)):\n",
    "#     for j in range(len(bus_delays[i])):\n",
    "#         if i == 0 and j == 0:\n",
    "#             continue\n",
    "#         objective = objective + bus_delays[i][j].clone()\n",
    "# objective = bus_delays[0][0] + bus_delays[0][1] + bus_delays[0][2]\n",
    "objective = torch.tensor(0.0)\n",
    "\n",
    "# Error with stop number 3 and 4 for fw bus and stop 4 for bw bus\n",
    "\n",
    "# objective = bus_delays[0][0]  \n",
    "for i in range(len(bus_delays)):\n",
    "    for j in range(len(bus_delays[i])):\n",
    "        # if j == 2:\n",
    "        #     continue\n",
    "        objective = objective + bus_delays[i][j]"
   ]
  },
  {
   "cell_type": "code",
   "execution_count": 19,
   "metadata": {},
   "outputs": [
    {
     "name": "stdout",
     "output_type": "stream",
     "text": [
      "tensor(125.7339, grad_fn=<AddBackward0>)\n"
     ]
    }
   ],
   "source": [
    "print(objective)"
   ]
  },
  {
   "cell_type": "code",
   "execution_count": 20,
   "metadata": {},
   "outputs": [],
   "source": [
    "# objective.backward(retain_graph=True)\n",
    "objective.backward(retain_graph=True)"
   ]
  },
  {
   "cell_type": "code",
   "execution_count": 21,
   "metadata": {},
   "outputs": [],
   "source": [
    "params = [v for road in bus_network.roads for v in road.Vmax] +\\\n",
    "        [t for junction in bus_network.junctions for traffic_light in junction.trafficlights for t in traffic_light.cycle] +\\\n",
    "        [t for junction in bus_network.junctions for traffic_light in junction.coupled_trafficlights for t in traffic_light.cycle]"
   ]
  },
  {
   "cell_type": "code",
   "execution_count": 22,
   "metadata": {},
   "outputs": [
    {
     "name": "stdout",
     "output_type": "stream",
     "text": [
      "Road Vmax gradients:\n",
      "tensor(-0.6195)\n",
      "tensor(-0.7970)\n",
      "tensor(-0.7011)\n",
      "tensor(-0.3300)\n",
      "tensor(-2.6358e-07)\n",
      "tensor(-2.6730e-07)\n",
      "tensor(-2.5743e-07)\n",
      "tensor(4.2080e-07)\n",
      "tensor(-3.9667e-10)\n",
      "tensor(-7.9334e-10)\n",
      "tensor(-0.0903)\n",
      "tensor(-1.7202e-09)\n",
      "tensor(-3.4403e-09)\n",
      "tensor(-6.8806e-09)\n",
      "tensor(-1.3761e-08)\n",
      "tensor(-2.7523e-08)\n",
      "tensor(-0.0007)\n",
      "tensor(-2.2197)\n",
      "tensor(-1.3289)\n",
      "tensor(-0.9141)\n",
      "tensor(-1.5138)\n",
      "tensor(-1.3935)\n",
      "tensor(-0.8599)\n",
      "tensor(0.)\n",
      "tensor(0.)\n",
      "tensor(0.)\n",
      "tensor(0.)\n",
      "tensor(0.)\n",
      "tensor(0.)\n",
      "tensor(0.)\n",
      "tensor(0.)\n",
      "tensor(-0.0178)\n",
      "tensor(-6.3604e-08)\n",
      "tensor(-1.2721e-07)\n",
      "tensor(-7.7155e-08)\n",
      "tensor(-3.3157e-07)\n",
      "tensor(-6.6314e-07)\n",
      "tensor(-1.3263e-06)\n",
      "tensor(0.0001)\n",
      "tensor(-2.5025e-06)\n",
      "tensor(-7.7366e-06)\n",
      "tensor(-1.5473e-05)\n",
      "tensor(0.1024)\n",
      "tensor(-3.5551e-05)\n",
      "tensor(-0.0294)\n",
      "tensor(-6.3412e-05)\n",
      "tensor(-0.2881)\n",
      "tensor(-0.1039)\n",
      "tensor(-0.5918)\n",
      "tensor(-0.8521)\n",
      "tensor(-0.0008)\n",
      "tensor(-0.0016)\n",
      "tensor(-0.0032)\n",
      "tensor(-0.0064)\n",
      "tensor(-0.0139)\n",
      "tensor(0.2581)\n",
      "tensor(-0.0233)\n",
      "tensor(-0.0467)\n",
      "tensor(-0.4730)\n",
      "tensor(-0.1660)\n",
      "tensor(0.2328)\n",
      "tensor(-0.3680)\n",
      "tensor(-0.0183)\n"
     ]
    }
   ],
   "source": [
    "print(\"Road Vmax gradients:\")\n",
    "for road in bus_network.roads:\n",
    "    for v in road.Vmax:\n",
    "        print(v.grad)"
   ]
  },
  {
   "cell_type": "code",
   "execution_count": 23,
   "metadata": {},
   "outputs": [
    {
     "name": "stdout",
     "output_type": "stream",
     "text": [
      "tensor(-0.0003)\n",
      "tensor(-0.0003)\n",
      "tensor(0.0003)\n",
      "tensor(1.7719e-06)\n",
      "tensor(9.0210e-13)\n",
      "tensor(-1.8135e-15)\n",
      "tensor(-4.9983e-14)\n",
      "tensor(-6.8441e-14)\n",
      "tensor(-5.8331e-07)\n",
      "tensor(0.)\n",
      "tensor(6.1885e-09)\n",
      "tensor(6.1885e-09)\n",
      "tensor(-0.0014)\n",
      "tensor(-3.4514e-21)\n",
      "tensor(-1.0314e-17)\n",
      "tensor(0.)\n",
      "tensor(4.8277e-09)\n",
      "tensor(2.3292e-09)\n",
      "tensor(-0.0004)\n",
      "tensor(1.3881e-07)\n",
      "tensor(1.0005e-05)\n",
      "tensor(0.)\n",
      "tensor(0.0002)\n",
      "tensor(0.0002)\n",
      "tensor(-0.5324)\n",
      "tensor(0.0029)\n"
     ]
    }
   ],
   "source": [
    "for junction in bus_network.junctions:\n",
    "    for traffic_light in junction.trafficlights:\n",
    "        for t in traffic_light.cycle:\n",
    "            print(t.grad)\n",
    "\n",
    "    for traffic_light in junction.coupled_trafficlights:\n",
    "        for t in traffic_light.cycle:\n",
    "            print(t.grad)"
   ]
  },
  {
   "cell_type": "code",
   "execution_count": null,
   "metadata": {},
   "outputs": [],
   "source": []
  },
  {
   "cell_type": "code",
   "execution_count": 24,
   "metadata": {},
   "outputs": [
    {
     "name": "stdout",
     "output_type": "stream",
     "text": [
      "(False, 0.0)\n",
      "(False, 0.0)\n",
      "(False, 0.0)\n",
      "(False, 0.0)\n",
      "(False, 0.0)\n",
      "(False, 0.0)\n",
      "(False, 0.0)\n",
      "(False, 0.0)\n",
      "(False, 0.0)\n",
      "(False, 0.0)\n",
      "(False, 0.0)\n",
      "(False, 0.0)\n",
      "(False, 0.0)\n",
      "(False, 0.0)\n",
      "(True, 1.0)\n",
      "(False, 0.0)\n",
      "(False, 0.0)\n",
      "(False, 0.0)\n",
      "(False, 0.0)\n",
      "(False, 0.0)\n",
      "(False, 0.0)\n",
      "(False, 0.0)\n",
      "(False, 0.0)\n",
      "(False, 0.0)\n",
      "(False, 0.0)\n",
      "(False, 0.0)\n",
      "(False, 0.0)\n"
     ]
    }
   ],
   "source": [
    "for j in bus_network.junctions:\n",
    "    print(j.get_activation(195.0, \"tollbod_4fw\", \"tollbod_5fw\"))\n",
    "    # print(j.get_activation(195.0, \"festning_7fw\", \"tollbod_4fw\"))\n",
    "\n",
    "    "
   ]
  }
 ],
 "metadata": {
  "kernelspec": {
   "display_name": "traffic",
   "language": "python",
   "name": "python3"
  },
  "language_info": {
   "codemirror_mode": {
    "name": "ipython",
    "version": 3
   },
   "file_extension": ".py",
   "mimetype": "text/x-python",
   "name": "python",
   "nbconvert_exporter": "python",
   "pygments_lexer": "ipython3",
   "version": "3.10.12"
  }
 },
 "nbformat": 4,
 "nbformat_minor": 2
}
