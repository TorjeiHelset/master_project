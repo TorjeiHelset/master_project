{
 "cells": [
  {
   "cell_type": "code",
   "execution_count": 1,
   "metadata": {},
   "outputs": [],
   "source": [
    "import numpy as np"
   ]
  },
  {
   "cell_type": "code",
   "execution_count": 5,
   "metadata": {},
   "outputs": [],
   "source": [
    "def naive_fluxes(D1, D2, D3, beta1, beta2, beta3, S):\n",
    "    f1 = min(D1, max(beta1*S, S - D2 - D3))\n",
    "    f2 = min(D2, max(beta2*S, S - D1 - D3))\n",
    "    f3 = min(D3, max(beta3*S, S - D1 - D2))\n",
    "\n",
    "    return f1, f2, f3\n",
    "\n",
    "def actual_fluxes(D1, D2, D3, beta1, beta2, beta3, S):\n",
    "    if S > D1 + D2 + D3:\n",
    "        # Demand limited case\n",
    "        return D1, D2, D3\n",
    "    elif beta1*S <= D1 and beta2*S <= D2 and beta3*S <= D3:\n",
    "        # Intersection point inside triangle\n",
    "        return beta1*S, beta2*S, beta3*S\n",
    "    elif beta1*S > D1 and beta2*S > D2:\n",
    "        # Point lies on A vertex\n",
    "        return D1, D2, S - D1 - D2\n",
    "    elif beta1*S > D1 and beta3*S > D3:\n",
    "        # Point lies on B vertex\n",
    "        return D1, S-D1-D3, D3\n",
    "    elif beta2*S > D2 and beta3*S > D3:\n",
    "        # Point lies on C vertex\n",
    "        return S - D2-D3, D2, D3\n",
    "    elif beta1*S > D1:\n",
    "        # Point on AB line\n",
    "        t = D2 - beta2*S + (D1 -beta1*S)/2\n",
    "        if t <= 0:\n",
    "            # Point on A vertex\n",
    "            return D1, D2, S - D1 - D2\n",
    "        elif t >= D1 + D2 + D3 - S:\n",
    "            # Point on B vertex\n",
    "            return D1, S-D1-D3, D3\n",
    "        else:\n",
    "            # Point somewhere between A and B\n",
    "            return D1, D2 - t, S - D1 - D2 + t\n",
    "    elif beta2*S > D2:\n",
    "        # Point on CA line\n",
    "        t = D3 - beta3*S + (D2 -beta2*S)/2\n",
    "        if t <= 0:\n",
    "            # Point on C vertex\n",
    "            return S - D2-D3, D2, D3\n",
    "        elif t >= D1 + D2 + D3 - S:\n",
    "            # Point on A vertex\n",
    "            return D1, D2, S - D1 - D2\n",
    "        else:\n",
    "            # Point somewhere between C and A\n",
    "            return S - D2 - D3 + t, D2, D3 - t\n",
    "    elif beta3*S > D3:\n",
    "        # Point on BC line\n",
    "        t = D1 - beta1*S + (D3 -beta3*S)/2\n",
    "        if t <= 0:\n",
    "            # Point on B vertex\n",
    "            return D1, S-D1-D3, D3\n",
    "        elif t >= D1 + D2 + D3 - S:\n",
    "            # Point on C vertex\n",
    "            return S - D2-D3, D2, D3\n",
    "        else:\n",
    "            # Point somewhere between B and C vertex\n",
    "            return D1 - t, S-D1-D3 + t, D3\n",
    "    else:\n",
    "        # This should not happen\n",
    "        # Throw exception\n",
    "        raise Exception(\"Intersection point in invalid region\")\n"
   ]
  },
  {
   "cell_type": "code",
   "execution_count": 14,
   "metadata": {},
   "outputs": [
    {
     "name": "stdout",
     "output_type": "stream",
     "text": [
      "-0.07999999999999996\n",
      "0.2\n",
      "-0.07\n",
      "0.76\n",
      "0.8\n"
     ]
    }
   ],
   "source": [
    "D1 = 0.4\n",
    "D2 = 0.2\n",
    "D3 = 0.31\n",
    "S = 0.8\n",
    "beta1 = 0.4\n",
    "beta2 = 0.5\n",
    "beta3 = 0.3\n",
    "print(beta1*S - D1)\n",
    "print(beta2*S - D2)\n",
    "print(beta3*S - D3)\n",
    "\n",
    "\n",
    "print(naive_fluxes(D1, D2, D3, beta1, beta2, beta3, S))\n",
    "print(actual_fluxes(D1, D2, D3, beta1, beta2, beta3, S))"
   ]
  }
 ],
 "metadata": {
  "kernelspec": {
   "display_name": "traffic",
   "language": "python",
   "name": "python3"
  },
  "language_info": {
   "codemirror_mode": {
    "name": "ipython",
    "version": 3
   },
   "file_extension": ".py",
   "mimetype": "text/x-python",
   "name": "python",
   "nbconvert_exporter": "python",
   "pygments_lexer": "ipython3",
   "version": "3.10.12"
  }
 },
 "nbformat": 4,
 "nbformat_minor": 2
}
