{
 "cells": [
  {
   "cell_type": "markdown",
   "metadata": {},
   "source": [
    "This notebook checks how close the simple approximation of the optimal way to distribute fluxes across a junction is to the exact distribution for some cases."
   ]
  },
  {
   "cell_type": "code",
   "execution_count": 1,
   "metadata": {},
   "outputs": [],
   "source": [
    "import numpy as np"
   ]
  },
  {
   "cell_type": "code",
   "execution_count": 2,
   "metadata": {},
   "outputs": [],
   "source": [
    "def naive_fluxes(D1, D2, D3, beta1, beta2, beta3, S):\n",
    "    f1 = min(D1, max(beta1*S, S - D2 - D3))\n",
    "    f2 = min(D2, max(beta2*S, S - D1 - D3))\n",
    "    f3 = min(D3, max(beta3*S, S - D1 - D2))\n",
    "\n",
    "    return f1, f2, f3\n",
    "\n",
    "def actual_fluxes(D1, D2, D3, beta1, beta2, beta3, S):\n",
    "    if S > D1 + D2 + D3:\n",
    "        # Demand limited case\n",
    "        return D1, D2, D3\n",
    "    elif beta1*S <= D1 and beta2*S <= D2 and beta3*S <= D3:\n",
    "        # Intersection point inside triangle\n",
    "        return beta1*S, beta2*S, beta3*S\n",
    "    elif beta1*S > D1 and beta2*S > D2:\n",
    "        # Point lies on A vertex\n",
    "        return D1, D2, S - D1 - D2\n",
    "    elif beta1*S > D1 and beta3*S > D3:\n",
    "        # Point lies on B vertex\n",
    "        return D1, S-D1-D3, D3\n",
    "    elif beta2*S > D2 and beta3*S > D3:\n",
    "        # Point lies on C vertex\n",
    "        return S - D2-D3, D2, D3\n",
    "    elif beta1*S > D1:\n",
    "        # Point on AB line\n",
    "        t = D2 - beta2*S + (D1 -beta1*S)/2\n",
    "        if t <= 0:\n",
    "            # Point on A vertex\n",
    "            return D1, D2, S - D1 - D2\n",
    "        elif t >= D1 + D2 + D3 - S:\n",
    "            # Point on B vertex\n",
    "            return D1, S-D1-D3, D3\n",
    "        else:\n",
    "            # Point somewhere between A and B\n",
    "            return D1, D2 - t, S - D1 - D2 + t\n",
    "    elif beta2*S > D2:\n",
    "        # Point on CA line\n",
    "        t = D3 - beta3*S + (D2 -beta2*S)/2\n",
    "        if t <= 0:\n",
    "            # Point on C vertex\n",
    "            return S - D2-D3, D2, D3\n",
    "        elif t >= D1 + D2 + D3 - S:\n",
    "            # Point on A vertex\n",
    "            return D1, D2, S - D1 - D2\n",
    "        else:\n",
    "            # Point somewhere between C and A\n",
    "            return S - D2 - D3 + t, D2, D3 - t\n",
    "    elif beta3*S > D3:\n",
    "        # Point on BC line\n",
    "        t = D1 - beta1*S + (D3 -beta3*S)/2\n",
    "        if t <= 0:\n",
    "            # Point on B vertex\n",
    "            return D1, S-D1-D3, D3\n",
    "        elif t >= D1 + D2 + D3 - S:\n",
    "            # Point on C vertex\n",
    "            return S - D2-D3, D2, D3\n",
    "        else:\n",
    "            # Point somewhere between B and C vertex\n",
    "            return D1 - t, S-D1-D3 + t, D3\n",
    "    else:\n",
    "        # This should not happen\n",
    "        # Throw exception\n",
    "        raise Exception(\"Intersection point in invalid region\")\n"
   ]
  },
  {
   "cell_type": "code",
   "execution_count": 10,
   "metadata": {},
   "outputs": [
    {
     "name": "stdout",
     "output_type": "stream",
     "text": [
      "Sum of demands: 0.9100000000000001\n",
      "Capacity of outgoing road: 0.8\n",
      "Incoming demands: 0.4, 0.2 and 0.31\n",
      "Desired distribution of the capacity: 0.32000000000000006, 0.4 and 0.24\n",
      "Naive fluxes: f1=0.32000000000000006, f2=0.2, f3=0.24, summing to 0.76\n",
      "Optimal fluxes: f1=0.2900000000000001, f2=0.2, f3=0.31, summing to 0.8\n"
     ]
    }
   ],
   "source": [
    "D1 = 0.4\n",
    "D2 = 0.2\n",
    "D3 = 0.31\n",
    "S = 1\n",
    "beta1 = 0.4\n",
    "beta2 = 0.5\n",
    "beta3 = 0.3\n",
    "# print(beta1*S - D1)\n",
    "# print(beta2*S - D2)\n",
    "# print(beta3*S - D3)\n",
    "\n",
    "\n",
    "f1, f2, f3 = naive_fluxes(D1, D2, D3, beta1, beta2, beta3, S)\n",
    "f1_exact, f2_exact, f3_exact = actual_fluxes(D1, D2, D3, beta1, beta2, beta3, S)\n",
    "\n",
    "print(f\"Sum of demands: {D1 + D2 + D3}\")\n",
    "print(f\"Capacity of outgoing road: {S}\")\n",
    "print(f\"Incoming demands: {D1}, {D2} and {D3}\")\n",
    "print(f\"Desired distribution of the capacity: {beta1*S}, {beta2*S} and {beta3*S}\")\n",
    "print(f\"Naive fluxes: f1={f1}, f2={f2}, f3={f3}, summing to {f1 + f2 + f3}\")\n",
    "print(f\"Optimal fluxes: f1={f1_exact}, f2={f2_exact}, f3={f3_exact}, summing to {f1_exact + f2_exact + f3_exact}\")"
   ]
  },
  {
   "cell_type": "markdown",
   "metadata": {},
   "source": [
    "Remark: The naive flux approach seem to weigh the priority of the capacity a bit too much..."
   ]
  },
  {
   "cell_type": "markdown",
   "metadata": {},
   "source": [
    "Checking the cases where the naive fluxes are incorrect:"
   ]
  },
  {
   "cell_type": "code",
   "execution_count": 23,
   "metadata": {},
   "outputs": [
    {
     "name": "stdout",
     "output_type": "stream",
     "text": [
      "Sum of demands: 0.95\n",
      "Capacity of outgoing road: 1.0\n",
      "Incoming demands: 0.45, 0.3 and 0.2\n",
      "Desired distribution of the capacity: 0.7, 0.2 and 0.1\n",
      "Naive fluxes: f1=0.45, f2=0.3, f3=0.2, summing to 0.95\n",
      "Optimal fluxes: f1=0.45, f2=0.3, f3=0.2, summing to 0.95\n",
      "t upper limit: -0.050000000000000044\n",
      "t = -0.024999999999999994\n"
     ]
    }
   ],
   "source": [
    "S = 1.0\n",
    "D1 = 0.45\n",
    "D2 = 0.3\n",
    "D3 = 0.2\n",
    "beta1 = 0.7\n",
    "beta2 = 0.2\n",
    "beta3 = 0.1\n",
    "t = D2 - beta2 + (D1 - beta1) / 2\n",
    "\n",
    "f1, f2, f3 = naive_fluxes(D1, D2, D3, beta1, beta2, beta3, S)\n",
    "f1_exact, f2_exact, f3_exact = actual_fluxes(D1, D2, D3, beta1, beta2, beta3, S)\n",
    "\n",
    "print(f\"Sum of demands: {D1 + D2 + D3}\")\n",
    "print(f\"Capacity of outgoing road: {S}\")\n",
    "print(f\"Incoming demands: {D1}, {D2} and {D3}\")\n",
    "print(f\"Desired distribution of the capacity: {beta1*S}, {beta2*S} and {beta3*S}\")\n",
    "print(f\"Naive fluxes: f1={f1}, f2={f2}, f3={f3}, summing to {f1 + f2 + f3}\")\n",
    "print(f\"Optimal fluxes: f1={f1_exact}, f2={f2_exact}, f3={f3_exact}, summing to {f1_exact + f2_exact + f3_exact}\")\n",
    "print(f\"t upper limit: {D1 + D2 + D3 - 1}\")\n",
    "print(f\"t = {t}\")"
   ]
  },
  {
   "cell_type": "code",
   "execution_count": null,
   "metadata": {},
   "outputs": [],
   "source": []
  }
 ],
 "metadata": {
  "kernelspec": {
   "display_name": "traffic",
   "language": "python",
   "name": "python3"
  },
  "language_info": {
   "codemirror_mode": {
    "name": "ipython",
    "version": 3
   },
   "file_extension": ".py",
   "mimetype": "text/x-python",
   "name": "python",
   "nbconvert_exporter": "python",
   "pygments_lexer": "ipython3",
   "version": "3.10.12"
  }
 },
 "nbformat": 4,
 "nbformat_minor": 2
}
