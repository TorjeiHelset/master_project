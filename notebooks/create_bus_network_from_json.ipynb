{
 "cells": [
  {
   "cell_type": "code",
   "execution_count": 1,
   "metadata": {},
   "outputs": [],
   "source": [
    "import sys\n",
    "sys.path.append('../src')\n",
    "\n",
    "# import network as nw\n",
    "import torch\n",
    "import generate_kvadraturen as gk\n",
    "# import bus\n",
    "# import road as rd\n",
    "# import traffic_lights as tl\n",
    "# import junction as jn\n",
    "# import numpy as np\n",
    "# import loading_json as load\n",
    "# import generate_kvadraturen as gk\n",
    "import json"
   ]
  },
  {
   "cell_type": "code",
   "execution_count": 2,
   "metadata": {},
   "outputs": [],
   "source": [
    "f = open(\"../kvadraturen_networks/1_1.json\")\n",
    "data = json.load(f)\n",
    "f.close()\n",
    "T, speeds, control_points, cycle_times = data[\"T\"], data[\"speed_limits\"], data[\"control_points\"], data[\"cycle_times\"]"
   ]
  },
  {
   "cell_type": "code",
   "execution_count": 3,
   "metadata": {},
   "outputs": [],
   "source": [
    "T = 30\n",
    "N = 2\n",
    "bus_network = gk.generate_kvadraturen_roundabout_w_params(T, N, speeds, control_points, cycle_times)"
   ]
  },
  {
   "cell_type": "code",
   "execution_count": 4,
   "metadata": {},
   "outputs": [
    {
     "name": "stdout",
     "output_type": "stream",
     "text": [
      "Bus 2 reached bus stop 0 at time 27.10001564025879, should wait for 29.56817054748535 seconds\n"
     ]
    }
   ],
   "source": [
    "densities, queues, lengths, delays = bus_network.solve_cons_law()"
   ]
  },
  {
   "cell_type": "code",
   "execution_count": 11,
   "metadata": {},
   "outputs": [
    {
     "name": "stdout",
     "output_type": "stream",
     "text": [
      "[tensor(0.), tensor(0.), tensor(0.), tensor(0.)]\n",
      "[tensor(23.1182, grad_fn=<AddBackward0>), tensor(0.), tensor(0.), tensor(0.)]\n",
      "[tensor(0.), tensor(0.), tensor(0.), tensor(0.)]\n",
      "[tensor(0.), tensor(0.), tensor(0.), tensor(0.)]\n"
     ]
    }
   ],
   "source": [
    "for delay in delays.values():\n",
    "    print(delay)"
   ]
  }
 ],
 "metadata": {
  "kernelspec": {
   "display_name": "traffic",
   "language": "python",
   "name": "python3"
  },
  "language_info": {
   "codemirror_mode": {
    "name": "ipython",
    "version": 3
   },
   "file_extension": ".py",
   "mimetype": "text/x-python",
   "name": "python",
   "nbconvert_exporter": "python",
   "pygments_lexer": "ipython3",
   "version": "3.10.12"
  }
 },
 "nbformat": 4,
 "nbformat_minor": 2
}
