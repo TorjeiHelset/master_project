{
 "cells": [
  {
   "cell_type": "code",
   "execution_count": 1,
   "metadata": {},
   "outputs": [],
   "source": [
    "import torch\n"
   ]
  },
  {
   "cell_type": "code",
   "execution_count": 47,
   "metadata": {},
   "outputs": [
    {
     "name": "stdout",
     "output_type": "stream",
     "text": [
      "tensor([2.])\n",
      "tensor([2.])\n",
      "tensor([3.6000])\n"
     ]
    }
   ],
   "source": [
    "\n",
    "a = torch.tensor ([2.0])   # a tensor with requires_grad = False\n",
    "t = torch.tensor ([4.0], requires_grad = True)\n",
    "l = a * t\n",
    "l = a * t\n",
    "l.backward()\n",
    "print(t.grad)\n",
    "t.grad = None\n",
    "\n",
    "# a = a**3 + a**2\n",
    "# a[0] = 1\n",
    "\n",
    "l = a*t\n",
    "a = a + torch.tensor([0.4])*a**2\n",
    "l.backward()\n",
    "print(t.grad)\n",
    "\n",
    "t.grad = None\n",
    "l = a*t\n",
    "l.backward()\n",
    "print(t.grad)"
   ]
  }
 ],
 "metadata": {
  "kernelspec": {
   "display_name": "traffic",
   "language": "python",
   "name": "python3"
  },
  "language_info": {
   "codemirror_mode": {
    "name": "ipython",
    "version": 3
   },
   "file_extension": ".py",
   "mimetype": "text/x-python",
   "name": "python",
   "nbconvert_exporter": "python",
   "pygments_lexer": "ipython3",
   "version": "3.10.12"
  }
 },
 "nbformat": 4,
 "nbformat_minor": 2
}
