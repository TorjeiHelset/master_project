{
 "cells": [
  {
   "cell_type": "code",
   "execution_count": 1,
   "metadata": {},
   "outputs": [],
   "source": [
    "import sys\n",
    "sys.path.append('../src_variable')\n",
    "\n",
    "import network as nw\n",
    "import torch\n",
    "import generate_kvadraturen as gk\n",
    "import bus\n",
    "import road as rd\n",
    "import traffic_lights as tl\n",
    "import junction as jn\n",
    "import numpy as np"
   ]
  },
  {
   "cell_type": "code",
   "execution_count": 2,
   "metadata": {},
   "outputs": [],
   "source": [
    "network = gk.generate_minimal(150)"
   ]
  },
  {
   "cell_type": "code",
   "execution_count": 3,
   "metadata": {},
   "outputs": [],
   "source": [
    "ids1 = [\"road1\", \"road3\"]\n",
    "ids2 = [\"road2\", \"road4\"]\n",
    "stops1 = [(\"road3\", 25)]\n",
    "stops2 = [(\"road4\", 25)]\n",
    "times1 = [1]\n",
    "times2 = [1]\n",
    "\n",
    "bus1 = bus.Bus(ids1, stops1, times1, network)\n",
    "bus2 = bus.Bus(ids2, stops2, times2, network)"
   ]
  },
  {
   "cell_type": "code",
   "execution_count": 4,
   "metadata": {},
   "outputs": [],
   "source": [
    "roads = network.roads\n",
    "junctions = network.junctions\n",
    "T = network.T\n",
    "# Don't store the densities \n",
    "# bus_network = nw.RoadNetwork(roads, junctions, T, [bus_fw, bus_bw], store_densities = False)\n",
    "bus_network = nw.RoadNetwork(roads, junctions, T, [bus1, bus2], store_densities = False)"
   ]
  },
  {
   "cell_type": "code",
   "execution_count": 5,
   "metadata": {},
   "outputs": [
    {
     "name": "stdout",
     "output_type": "stream",
     "text": [
      "road1\n",
      "road2\n"
     ]
    }
   ],
   "source": [
    "j = bus_network.junctions[0]\n",
    "for i in j.entering:\n",
    "    print(j.roads[i].id)"
   ]
  },
  {
   "cell_type": "code",
   "execution_count": 7,
   "metadata": {},
   "outputs": [
    {
     "name": "stdout",
     "output_type": "stream",
     "text": [
      "(True, tensor(3.9754e-31, grad_fn=<AddBackward0>))\n"
     ]
    }
   ],
   "source": [
    "print(bus_network.junctions[0].get_activation(0, \"road1\", \"road3\"))"
   ]
  },
  {
   "cell_type": "code",
   "execution_count": 14,
   "metadata": {},
   "outputs": [
    {
     "name": "stdout",
     "output_type": "stream",
     "text": [
      "\n",
      "-----------------------------------------\n",
      "Controlpoint: 5.0\n",
      "-----------------------------------------\n",
      "\n",
      "\n",
      "-----------------------------------------\n",
      "Controlpoint: 10.0\n",
      "-----------------------------------------\n",
      "\n",
      "\n",
      "-----------------------------------------\n",
      "Controlpoint: 50.0\n",
      "-----------------------------------------\n",
      "\n",
      "\n",
      "-----------------------------------------\n",
      "Controlpoint: 55.0\n",
      "-----------------------------------------\n",
      "\n",
      "\n",
      "-----------------------------------------\n",
      "Controlpoint: 60.0\n",
      "-----------------------------------------\n",
      "\n",
      "\n",
      "-----------------------------------------\n",
      "Controlpoint: 100.0\n",
      "-----------------------------------------\n",
      "\n",
      "\n",
      "-----------------------------------------\n",
      "Controlpoint: 105.0\n",
      "-----------------------------------------\n",
      "\n",
      "\n",
      "-----------------------------------------\n",
      "Controlpoint: 110.0\n",
      "-----------------------------------------\n",
      "\n",
      "\n",
      "-----------------------------------------\n",
      "Controlpoint: 150\n",
      "-----------------------------------------\n",
      "\n"
     ]
    }
   ],
   "source": [
    "densities, queues, bus_lengths, bus_delays = bus_network.solve_cons_law()"
   ]
  },
  {
   "cell_type": "code",
   "execution_count": null,
   "metadata": {},
   "outputs": [],
   "source": []
  },
  {
   "cell_type": "code",
   "execution_count": 15,
   "metadata": {},
   "outputs": [
    {
     "name": "stdout",
     "output_type": "stream",
     "text": [
      "{0: [tensor(71.7556, grad_fn=<AddBackward0>)], 1: [tensor(6.3868, grad_fn=<AddBackward0>)]}\n"
     ]
    }
   ],
   "source": [
    "print(bus_delays)"
   ]
  },
  {
   "cell_type": "code",
   "execution_count": 16,
   "metadata": {},
   "outputs": [],
   "source": [
    "# objective = torch.tensor(0.0)\n",
    "# for i in range(len(bus_delays)):\n",
    "#     for j in range(len(bus_delays[i])):\n",
    "#         objective = objective +  bus_delays[i][j]\n",
    "objective = bus_delays[0][0]"
   ]
  },
  {
   "cell_type": "code",
   "execution_count": 17,
   "metadata": {},
   "outputs": [],
   "source": [
    "objective.backward(retain_graph=True)"
   ]
  },
  {
   "cell_type": "code",
   "execution_count": 18,
   "metadata": {},
   "outputs": [],
   "source": [
    "params = [v for road in bus_network.roads for v in road.Vmax] +\\\n",
    "        [t for junction in bus_network.junctions for traffic_light in junction.trafficlights for t in traffic_light.cycle] +\\\n",
    "        [t for junction in bus_network.junctions for traffic_light in junction.coupled_trafficlights for t in traffic_light.cycle]"
   ]
  },
  {
   "cell_type": "code",
   "execution_count": 19,
   "metadata": {},
   "outputs": [
    {
     "name": "stdout",
     "output_type": "stream",
     "text": [
      "tensor(0.0143)\n",
      "tensor(-0.0021)\n",
      "tensor(-1.0684)\n",
      "tensor(-1.2251)\n",
      "tensor(1.2929e-22)\n",
      "tensor(-0.1638)\n"
     ]
    }
   ],
   "source": [
    "for p in params:\n",
    "    print(p.grad)"
   ]
  },
  {
   "cell_type": "code",
   "execution_count": 1,
   "metadata": {},
   "outputs": [],
   "source": [
    "def minimal_kvadraturen(T = 100):\n",
    "    road1 = rd.Road(1, 50, 5, torch.tensor([50.0], requires_grad=True), [], left_pos=(-1, 0), right_pos=(0, 0),\n",
    "                    inflow = 0.1, id=\"road1fw\")\n",
    "    road2 = rd.Road(1, 50, 5, torch.tensor([50.0], requires_grad=True), [], left_pos=(0, 0), right_pos=(1, 0),\n",
    "                    inflow = 0.1, id=\"road1bw\")\n",
    "    road3 = rd.Road(1, 50, 5, torch.tensor([50.0], requires_grad=True), [], left_pos=(0, -1), right_pos=(0, 0),\n",
    "                    inflow = 0.1, id=\"road2fw\")\n",
    "    road4 = rd.Road(1, 50, 5, torch.tensor([50.0], requires_grad=True), [], left_pos=(0, 0), right_pos=(0, 1),\n",
    "                    inflow = 0.1, id=\"road2bw\")\n",
    "    traffic_light = tl.CoupledTrafficLightContinuous(False, [0], [1], [3], [2], [40.0, 30.0])\n",
    "    junction = jn.Junction([road1, road2, road3, road4], [0,3], [1,2], [[1.0, 0.0],[0.0, 1.0]], [], [traffic_light])\n",
    "    network = nw.RoadNetwork([road1, road2, road3, road4], [junction], T, optimizing = False)\n",
    "    return network\n"
   ]
  },
  {
   "cell_type": "code",
   "execution_count": null,
   "metadata": {},
   "outputs": [],
   "source": []
  },
  {
   "cell_type": "code",
   "execution_count": 3,
   "metadata": {},
   "outputs": [],
   "source": [
    "# Testing minimal example\n",
    "T = 100\n",
    "network = minimal_kvadraturen(T)\n",
    "\n",
    "ids = [\"road1fw\", \"road1bw\"]\n",
    "stops = [(\"road1bw\", 20)]\n",
    "times = [20]\n",
    "\n",
    "bus1 = bus.Bus(ids, stops, times, network)\n",
    "\n",
    "bus_network = nw.RoadNetwork(network.roads, network.junctions, network.T, [bus1], optimizing = False, store_densities = False)"
   ]
  },
  {
   "cell_type": "code",
   "execution_count": 4,
   "metadata": {},
   "outputs": [
    {
     "name": "stdout",
     "output_type": "stream",
     "text": [
      "1.0\n",
      "2.0\n"
     ]
    }
   ],
   "source": [
    "a = 1.9999998807907104\n",
    "print(np.floor(a))\n",
    "print(np.floor(a+1.0))"
   ]
  },
  {
   "cell_type": "code",
   "execution_count": 5,
   "metadata": {},
   "outputs": [
    {
     "name": "stderr",
     "output_type": "stream",
     "text": [
      "c:\\Users\\torje\\OneDrive - NTNU\\Dokumenter\\Semester10\\master_project\\notebooks\\../src_variable\\network.py:276: UserWarning: To copy construct from a tensor, it is recommended to use sourceTensor.clone().detach() or sourceTensor.clone().detach().requires_grad_(True), rather than torch.tensor(sourceTensor).\n",
      "  dt = torch.tensor(controlpoint - t)\n"
     ]
    }
   ],
   "source": [
    "densities, queues, bus_lengths, bus_delays = bus_network.solve_cons_law()"
   ]
  },
  {
   "cell_type": "code",
   "execution_count": 6,
   "metadata": {},
   "outputs": [
    {
     "name": "stdout",
     "output_type": "stream",
     "text": [
      "{0: {0: 0, tensor(0.6000, grad_fn=<AddBackward0>): tensor(8.3333, grad_fn=<AddBackward0>), tensor(1.2000, grad_fn=<AddBackward0>): tensor(16.6667, grad_fn=<AddBackward0>), tensor(1.8000, grad_fn=<AddBackward0>): tensor(24.6650, grad_fn=<AddBackward0>), tensor(2.4000, grad_fn=<AddBackward0>): tensor(32.8102, grad_fn=<AddBackward0>), tensor(3.0000, grad_fn=<AddBackward0>): tensor(40.8368, grad_fn=<AddBackward0>), tensor(3.6000, grad_fn=<AddBackward0>): tensor(48.9262, grad_fn=<AddBackward0>), tensor(4.2000, grad_fn=<AddBackward0>): tensor(50., grad_fn=<AddBackward0>), tensor(4.8000, grad_fn=<AddBackward0>): tensor(50., grad_fn=<AddBackward0>), tensor(5., grad_fn=<AddBackward0>): tensor(50., grad_fn=<AddBackward0>), tensor(5.6000, grad_fn=<AddBackward0>): tensor(50., grad_fn=<AddBackward0>), tensor(6.2000, grad_fn=<AddBackward0>): tensor(50., grad_fn=<AddBackward0>), tensor(6.8000, grad_fn=<AddBackward0>): tensor(50., grad_fn=<AddBackward0>), tensor(7.4000, grad_fn=<AddBackward0>): tensor(50., grad_fn=<AddBackward0>), tensor(8.0000, grad_fn=<AddBackward0>): tensor(50., grad_fn=<AddBackward0>), tensor(8.6000, grad_fn=<AddBackward0>): tensor(50., grad_fn=<AddBackward0>), tensor(9.2000, grad_fn=<AddBackward0>): tensor(50., grad_fn=<AddBackward0>), tensor(9.8000, grad_fn=<AddBackward0>): tensor(50., grad_fn=<AddBackward0>), tensor(10., grad_fn=<AddBackward0>): tensor(50., grad_fn=<AddBackward0>), tensor(10.6000, grad_fn=<AddBackward0>): tensor(50., grad_fn=<AddBackward0>), tensor(11.2000, grad_fn=<AddBackward0>): tensor(50., grad_fn=<AddBackward0>), tensor(11.8000, grad_fn=<AddBackward0>): tensor(50., grad_fn=<AddBackward0>), tensor(12.4000, grad_fn=<AddBackward0>): tensor(50., grad_fn=<AddBackward0>), tensor(13.0000, grad_fn=<AddBackward0>): tensor(50., grad_fn=<AddBackward0>), tensor(13.6000, grad_fn=<AddBackward0>): tensor(50., grad_fn=<AddBackward0>), tensor(14.2000, grad_fn=<AddBackward0>): tensor(50., grad_fn=<AddBackward0>), tensor(14.8000, grad_fn=<AddBackward0>): tensor(50., grad_fn=<AddBackward0>), tensor(15.4000, grad_fn=<AddBackward0>): tensor(50., grad_fn=<AddBackward0>), tensor(16.0000, grad_fn=<AddBackward0>): tensor(50., grad_fn=<AddBackward0>), tensor(16.6000, grad_fn=<AddBackward0>): tensor(50., grad_fn=<AddBackward0>), tensor(17.2000, grad_fn=<AddBackward0>): tensor(50., grad_fn=<AddBackward0>), tensor(17.8000, grad_fn=<AddBackward0>): tensor(50., grad_fn=<AddBackward0>), tensor(18.4000, grad_fn=<AddBackward0>): tensor(50., grad_fn=<AddBackward0>), tensor(19.0000, grad_fn=<AddBackward0>): tensor(50., grad_fn=<AddBackward0>), tensor(19.6000, grad_fn=<AddBackward0>): tensor(50., grad_fn=<AddBackward0>), tensor(20.2000, grad_fn=<AddBackward0>): tensor(50., grad_fn=<AddBackward0>), tensor(20.8000, grad_fn=<AddBackward0>): tensor(50., grad_fn=<AddBackward0>), tensor(21.4000, grad_fn=<AddBackward0>): tensor(50., grad_fn=<AddBackward0>), tensor(22.0000, grad_fn=<AddBackward0>): tensor(50., grad_fn=<AddBackward0>), tensor(22.6000, grad_fn=<AddBackward0>): tensor(50., grad_fn=<AddBackward0>), tensor(23.2000, grad_fn=<AddBackward0>): tensor(50., grad_fn=<AddBackward0>), tensor(23.8000, grad_fn=<AddBackward0>): tensor(50., grad_fn=<AddBackward0>), tensor(24.4000, grad_fn=<AddBackward0>): tensor(50., grad_fn=<AddBackward0>), tensor(25.0000, grad_fn=<AddBackward0>): tensor(50., grad_fn=<AddBackward0>), tensor(25.6000, grad_fn=<AddBackward0>): tensor(50., grad_fn=<AddBackward0>), tensor(26.2000, grad_fn=<AddBackward0>): tensor(50., grad_fn=<AddBackward0>), tensor(26.8000, grad_fn=<AddBackward0>): tensor(50., grad_fn=<AddBackward0>), tensor(27.4000, grad_fn=<AddBackward0>): tensor(50., grad_fn=<AddBackward0>), tensor(28.0000, grad_fn=<AddBackward0>): tensor(50., grad_fn=<AddBackward0>), tensor(28.6000, grad_fn=<AddBackward0>): tensor(50., grad_fn=<AddBackward0>), tensor(29.2000, grad_fn=<AddBackward0>): tensor(50., grad_fn=<AddBackward0>), tensor(29.8000, grad_fn=<AddBackward0>): tensor(50., grad_fn=<AddBackward0>), tensor(30.4000, grad_fn=<AddBackward0>): tensor(50., grad_fn=<AddBackward0>), tensor(31.0000, grad_fn=<AddBackward0>): tensor(50., grad_fn=<AddBackward0>), tensor(31.6000, grad_fn=<AddBackward0>): tensor(50., grad_fn=<AddBackward0>), tensor(32.2000, grad_fn=<AddBackward0>): tensor(50., grad_fn=<AddBackward0>), tensor(32.8000, grad_fn=<AddBackward0>): tensor(50., grad_fn=<AddBackward0>), tensor(33.4000, grad_fn=<AddBackward0>): tensor(50., grad_fn=<AddBackward0>), tensor(33.9999, grad_fn=<AddBackward0>): tensor(50., grad_fn=<AddBackward0>), tensor(34.5860, grad_fn=<AddBackward0>): tensor(50., grad_fn=<AddBackward0>), tensor(35.1648, grad_fn=<AddBackward0>): tensor(50., grad_fn=<AddBackward0>), tensor(35.7403, grad_fn=<AddBackward0>): tensor(50., grad_fn=<AddBackward0>), tensor(36.3164, grad_fn=<AddBackward0>): tensor(50., grad_fn=<AddBackward0>), tensor(36.8960, grad_fn=<AddBackward0>): tensor(50., grad_fn=<AddBackward0>), tensor(37.4812, grad_fn=<AddBackward0>): tensor(50., grad_fn=<AddBackward0>), tensor(38.0704, grad_fn=<AddBackward0>): tensor(50., grad_fn=<AddBackward0>), tensor(38.6621, grad_fn=<AddBackward0>): tensor(50., grad_fn=<AddBackward0>), tensor(39.2570, grad_fn=<AddBackward0>): tensor(50., grad_fn=<AddBackward0>), tensor(39.8545, grad_fn=<AddBackward0>): tensor(50., grad_fn=<AddBackward0>), tensor(40., grad_fn=<AddBackward0>): tensor(50., grad_fn=<AddBackward0>), tensor(40.5996, grad_fn=<AddBackward0>): tensor(50., grad_fn=<AddBackward0>), tensor(41.1992, grad_fn=<AddBackward0>): tensor(50., grad_fn=<AddBackward0>), tensor(41.7987, grad_fn=<AddBackward0>): tensor(50., grad_fn=<AddBackward0>), tensor(42.3984, grad_fn=<AddBackward0>): tensor(50., grad_fn=<AddBackward0>), tensor(42.9981, grad_fn=<AddBackward0>): tensor(50., grad_fn=<AddBackward0>), tensor(43.5980, grad_fn=<AddBackward0>): tensor(50., grad_fn=<AddBackward0>), tensor(44.1981, grad_fn=<AddBackward0>): tensor(50., grad_fn=<AddBackward0>), tensor(44.7981, grad_fn=<AddBackward0>): tensor(50., grad_fn=<AddBackward0>), tensor(45., grad_fn=<AddBackward0>): tensor(50., grad_fn=<AddBackward0>), tensor(45.6000, grad_fn=<AddBackward0>): tensor(50., grad_fn=<AddBackward0>), tensor(46.2000, grad_fn=<AddBackward0>): tensor(50., grad_fn=<AddBackward0>), tensor(46.7895, grad_fn=<AddBackward0>): tensor(50., grad_fn=<AddBackward0>), tensor(47.3752, grad_fn=<AddBackward0>): tensor(50., grad_fn=<AddBackward0>), tensor(47.9659, grad_fn=<AddBackward0>): tensor(50., grad_fn=<AddBackward0>), tensor(48.5657, grad_fn=<AddBackward0>): tensor(50., grad_fn=<AddBackward0>), tensor(49.1657, grad_fn=<AddBackward0>): tensor(50., grad_fn=<AddBackward0>), tensor(49.7657, grad_fn=<AddBackward0>): tensor(50., grad_fn=<AddBackward0>), tensor(50., grad_fn=<AddBackward0>): tensor(50.4604, grad_fn=<AddBackward0>), tensor(50.6000, grad_fn=<AddBackward0>): tensor(57.7780, grad_fn=<AddBackward0>), tensor(51.2000, grad_fn=<AddBackward0>): tensor(65.2392, grad_fn=<AddBackward0>), tensor(51.8000, grad_fn=<AddBackward0>): tensor(70., grad_fn=<AddBackward0>), tensor(52.4000, grad_fn=<AddBackward0>): tensor(70., grad_fn=<AddBackward0>), tensor(53.0000, grad_fn=<AddBackward0>): tensor(70., grad_fn=<AddBackward0>), tensor(53.6000, grad_fn=<AddBackward0>): tensor(70., grad_fn=<AddBackward0>), tensor(54.2000, grad_fn=<AddBackward0>): tensor(70., grad_fn=<AddBackward0>), tensor(54.8000, grad_fn=<AddBackward0>): tensor(70., grad_fn=<AddBackward0>), tensor(55.4000, grad_fn=<AddBackward0>): tensor(70., grad_fn=<AddBackward0>), tensor(56.0000, grad_fn=<AddBackward0>): tensor(70., grad_fn=<AddBackward0>), tensor(56.6000, grad_fn=<AddBackward0>): tensor(70., grad_fn=<AddBackward0>), tensor(57.2000, grad_fn=<AddBackward0>): tensor(70., grad_fn=<AddBackward0>), tensor(57.8000, grad_fn=<AddBackward0>): tensor(70., grad_fn=<AddBackward0>), tensor(58.4000, grad_fn=<AddBackward0>): tensor(70., grad_fn=<AddBackward0>), tensor(59.0000, grad_fn=<AddBackward0>): tensor(70., grad_fn=<AddBackward0>), tensor(59.6000, grad_fn=<AddBackward0>): tensor(70., grad_fn=<AddBackward0>), tensor(60.2000, grad_fn=<AddBackward0>): tensor(70., grad_fn=<AddBackward0>), tensor(60.8000, grad_fn=<AddBackward0>): tensor(70., grad_fn=<AddBackward0>), tensor(61.4000, grad_fn=<AddBackward0>): tensor(70., grad_fn=<AddBackward0>), tensor(62.0000, grad_fn=<AddBackward0>): tensor(70., grad_fn=<AddBackward0>), tensor(62.6000, grad_fn=<AddBackward0>): tensor(70., grad_fn=<AddBackward0>), tensor(63.2000, grad_fn=<AddBackward0>): tensor(70., grad_fn=<AddBackward0>), tensor(63.8000, grad_fn=<AddBackward0>): tensor(70., grad_fn=<AddBackward0>), tensor(64.4000, grad_fn=<AddBackward0>): tensor(70., grad_fn=<AddBackward0>), tensor(65.0000, grad_fn=<AddBackward0>): tensor(70., grad_fn=<AddBackward0>), tensor(65.5887, grad_fn=<AddBackward0>): tensor(70., grad_fn=<AddBackward0>), tensor(66.1688, grad_fn=<AddBackward0>): tensor(70., grad_fn=<AddBackward0>), tensor(66.7448, grad_fn=<AddBackward0>): tensor(70., grad_fn=<AddBackward0>), tensor(67.3205, grad_fn=<AddBackward0>): tensor(70., grad_fn=<AddBackward0>), tensor(67.8991, grad_fn=<AddBackward0>): tensor(70., grad_fn=<AddBackward0>), tensor(68.4829, grad_fn=<AddBackward0>): tensor(70., grad_fn=<AddBackward0>), tensor(69.0713, grad_fn=<AddBackward0>): tensor(70., grad_fn=<AddBackward0>), tensor(69.6625, grad_fn=<AddBackward0>): tensor(70., grad_fn=<AddBackward0>), tensor(70., grad_fn=<AddBackward0>): tensor(70., grad_fn=<AddBackward0>), tensor(70.5973, grad_fn=<AddBackward0>): tensor(70., grad_fn=<AddBackward0>), tensor(71.1959, grad_fn=<AddBackward0>): tensor(70., grad_fn=<AddBackward0>), tensor(71.7949, grad_fn=<AddBackward0>): tensor(70., grad_fn=<AddBackward0>), tensor(72.3942, grad_fn=<AddBackward0>): tensor(70., grad_fn=<AddBackward0>), tensor(72.9936, grad_fn=<AddBackward0>): tensor(70., grad_fn=<AddBackward0>), tensor(73.5931, grad_fn=<AddBackward0>): tensor(70., grad_fn=<AddBackward0>), tensor(74.1927, grad_fn=<AddBackward0>): tensor(70., grad_fn=<AddBackward0>), tensor(74.7924, grad_fn=<AddBackward0>): tensor(70., grad_fn=<AddBackward0>), tensor(75., grad_fn=<AddBackward0>): tensor(70., grad_fn=<AddBackward0>), tensor(75.5999, grad_fn=<AddBackward0>): tensor(70., grad_fn=<AddBackward0>), tensor(76.1998, grad_fn=<AddBackward0>): tensor(70., grad_fn=<AddBackward0>), tensor(76.7998, grad_fn=<AddBackward0>): tensor(70., grad_fn=<AddBackward0>), tensor(77.3885, grad_fn=<AddBackward0>): tensor(70., grad_fn=<AddBackward0>), tensor(77.9686, grad_fn=<AddBackward0>): tensor(70., grad_fn=<AddBackward0>), tensor(78.5475, grad_fn=<AddBackward0>): tensor(70., grad_fn=<AddBackward0>), tensor(79.1306, grad_fn=<AddBackward0>): tensor(70., grad_fn=<AddBackward0>), tensor(79.7192, grad_fn=<AddBackward0>): tensor(70., grad_fn=<AddBackward0>), tensor(80., grad_fn=<AddBackward0>): tensor(70., grad_fn=<AddBackward0>), tensor(80.5965, grad_fn=<AddBackward0>): tensor(70., grad_fn=<AddBackward0>), tensor(81.1940, grad_fn=<AddBackward0>): tensor(70., grad_fn=<AddBackward0>), tensor(81.7918, grad_fn=<AddBackward0>): tensor(72.5235, grad_fn=<AddBackward0>), tensor(82.3901, grad_fn=<AddBackward0>): tensor(80.0006, grad_fn=<AddBackward0>), tensor(82.9892, grad_fn=<AddBackward0>): tensor(87.4889, grad_fn=<AddBackward0>), tensor(83.5887, grad_fn=<AddBackward0>): tensor(94.9804, grad_fn=<AddBackward0>), tensor(84.1885, grad_fn=<AddBackward0>): tensor(102.4745, grad_fn=<AddBackward0>), tensor(84.7883, grad_fn=<AddBackward0>): tensor(102.4745, grad_fn=<AddBackward0>), tensor(85.3882, grad_fn=<AddBackward0>): tensor(102.4745, grad_fn=<AddBackward0>), tensor(85.9881, grad_fn=<AddBackward0>): tensor(102.4745, grad_fn=<AddBackward0>), tensor(86.5879, grad_fn=<AddBackward0>): tensor(102.4745, grad_fn=<AddBackward0>), tensor(87.1879, grad_fn=<AddBackward0>): tensor(102.4745, grad_fn=<AddBackward0>), tensor(87.7878, grad_fn=<AddBackward0>): tensor(102.4745, grad_fn=<AddBackward0>), tensor(88.3878, grad_fn=<AddBackward0>): tensor(102.4745, grad_fn=<AddBackward0>), tensor(88.9878, grad_fn=<AddBackward0>): tensor(102.4745, grad_fn=<AddBackward0>), tensor(89.5878, grad_fn=<AddBackward0>): tensor(102.4745, grad_fn=<AddBackward0>), tensor(90.1878, grad_fn=<AddBackward0>): tensor(102.4745, grad_fn=<AddBackward0>), tensor(90.7878, grad_fn=<AddBackward0>): tensor(102.4745, grad_fn=<AddBackward0>), tensor(91.3878, grad_fn=<AddBackward0>): tensor(102.4745, grad_fn=<AddBackward0>), tensor(91.9878, grad_fn=<AddBackward0>): tensor(102.4745, grad_fn=<AddBackward0>), tensor(92.5878, grad_fn=<AddBackward0>): tensor(102.4745, grad_fn=<AddBackward0>), tensor(93.1878, grad_fn=<AddBackward0>): tensor(102.4745, grad_fn=<AddBackward0>), tensor(93.7878, grad_fn=<AddBackward0>): tensor(102.4745, grad_fn=<AddBackward0>), tensor(94.3878, grad_fn=<AddBackward0>): tensor(102.4745, grad_fn=<AddBackward0>), tensor(94.9878, grad_fn=<AddBackward0>): tensor(102.4745, grad_fn=<AddBackward0>), tensor(95.5878, grad_fn=<AddBackward0>): tensor(102.4745, grad_fn=<AddBackward0>), tensor(96.1878, grad_fn=<AddBackward0>): tensor(102.4745, grad_fn=<AddBackward0>), tensor(96.7878, grad_fn=<AddBackward0>): tensor(102.4745, grad_fn=<AddBackward0>), tensor(97.3878, grad_fn=<AddBackward0>): tensor(102.4745, grad_fn=<AddBackward0>), tensor(97.9878, grad_fn=<AddBackward0>): tensor(102.4745, grad_fn=<AddBackward0>), tensor(98.5878, grad_fn=<AddBackward0>): tensor(102.4745, grad_fn=<AddBackward0>), tensor(99.1878, grad_fn=<AddBackward0>): tensor(102.4745, grad_fn=<AddBackward0>), tensor(99.7878, grad_fn=<AddBackward0>): tensor(102.4745, grad_fn=<AddBackward0>), tensor(100., grad_fn=<AddBackward0>): tensor(102.4745, grad_fn=<AddBackward0>)}}\n"
     ]
    }
   ],
   "source": [
    "print(bus_lengths)"
   ]
  },
  {
   "cell_type": "code",
   "execution_count": null,
   "metadata": {},
   "outputs": [],
   "source": []
  },
  {
   "cell_type": "code",
   "execution_count": 7,
   "metadata": {},
   "outputs": [
    {
     "name": "stdout",
     "output_type": "stream",
     "text": [
      "[50, 50]\n",
      "[70, 200]\n"
     ]
    }
   ],
   "source": [
    "print(bus1.lengths)\n",
    "print(bus1.stop_lengths)\n"
   ]
  },
  {
   "cell_type": "code",
   "execution_count": 6,
   "metadata": {},
   "outputs": [],
   "source": [
    "t_list = np.linspace(0, 200, 1000)\n",
    "activation = np.zeros_like(t_list)\n",
    "for junction in bus_network.junctions:\n",
    "    for i, t in enumerate(t_list):\n",
    "        # print(f\"t = {t}, activation = {junction.get_activation(t, 'road1fw', 'road1bw')}\")\n",
    "        _, activation[i] = junction.get_activation(t, 'road1fw', 'road1bw')"
   ]
  },
  {
   "cell_type": "code",
   "execution_count": 7,
   "metadata": {},
   "outputs": [
    {
     "name": "stdout",
     "output_type": "stream",
     "text": [
      "tensor(32.1900, grad_fn=<MaximumBackward0>)\n"
     ]
    }
   ],
   "source": [
    "objective = bus_delays[0][0]\n",
    "print(objective)"
   ]
  },
  {
   "cell_type": "code",
   "execution_count": 8,
   "metadata": {},
   "outputs": [],
   "source": [
    "params = [v for road in bus_network.roads for v in road.Vmax] +\\\n",
    "        [t for junction in bus_network.junctions for traffic_light in junction.trafficlights for t in traffic_light.cycle] +\\\n",
    "        [t for junction in bus_network.junctions for traffic_light in junction.coupled_trafficlights for t in traffic_light.cycle]"
   ]
  },
  {
   "cell_type": "code",
   "execution_count": 9,
   "metadata": {},
   "outputs": [],
   "source": [
    "objective.backward()"
   ]
  },
  {
   "cell_type": "code",
   "execution_count": 10,
   "metadata": {},
   "outputs": [
    {
     "name": "stdout",
     "output_type": "stream",
     "text": [
      "tensor(-0.9826)\n",
      "tensor(-2.6162)\n",
      "tensor(-0.4003)\n",
      "tensor(-0.0975)\n",
      "tensor(1.4933e-18)\n",
      "tensor(-0.1184)\n"
     ]
    }
   ],
   "source": [
    "for p in params:\n",
    "    print(p.grad)"
   ]
  },
  {
   "cell_type": "code",
   "execution_count": 11,
   "metadata": {},
   "outputs": [
    {
     "ename": "NameError",
     "evalue": "name 'prr' is not defined",
     "output_type": "error",
     "traceback": [
      "\u001b[1;31m---------------------------------------------------------------------------\u001b[0m",
      "\u001b[1;31mNameError\u001b[0m                                 Traceback (most recent call last)",
      "Cell \u001b[1;32mIn[11], line 1\u001b[0m\n\u001b[1;32m----> 1\u001b[0m \u001b[43mprr\u001b[49m\n",
      "\u001b[1;31mNameError\u001b[0m: name 'prr' is not defined"
     ]
    }
   ],
   "source": [
    "prr"
   ]
  },
  {
   "cell_type": "code",
   "execution_count": 10,
   "metadata": {},
   "outputs": [
    {
     "ename": "NameError",
     "evalue": "name 't_list' is not defined",
     "output_type": "error",
     "traceback": [
      "\u001b[1;31m---------------------------------------------------------------------------\u001b[0m",
      "\u001b[1;31mNameError\u001b[0m                                 Traceback (most recent call last)",
      "Cell \u001b[1;32mIn[10], line 2\u001b[0m\n\u001b[0;32m      1\u001b[0m \u001b[38;5;28;01mimport\u001b[39;00m \u001b[38;5;21;01mmatplotlib\u001b[39;00m\u001b[38;5;21;01m.\u001b[39;00m\u001b[38;5;21;01mpyplot\u001b[39;00m \u001b[38;5;28;01mas\u001b[39;00m \u001b[38;5;21;01mplt\u001b[39;00m\n\u001b[1;32m----> 2\u001b[0m plt\u001b[38;5;241m.\u001b[39mplot(\u001b[43mt_list\u001b[49m, activation)\n",
      "\u001b[1;31mNameError\u001b[0m: name 't_list' is not defined"
     ]
    }
   ],
   "source": [
    "import matplotlib.pyplot as plt\n",
    "plt.plot(t_list, activation)"
   ]
  },
  {
   "cell_type": "code",
   "execution_count": 8,
   "metadata": {},
   "outputs": [],
   "source": [
    "lengths = []\n",
    "times = list(bus_lengths[0].keys())\n",
    "times_list = []\n",
    "for t in times:\n",
    "    lengths.append(float(bus_lengths[0][t]))\n",
    "    times_list.append(float(t))"
   ]
  },
  {
   "cell_type": "code",
   "execution_count": 11,
   "metadata": {},
   "outputs": [
    {
     "data": {
      "text/plain": [
       "[<matplotlib.lines.Line2D at 0x1ef5e666e30>]"
      ]
     },
     "execution_count": 11,
     "metadata": {},
     "output_type": "execute_result"
    },
    {
     "data": {
      "image/png": "[encoded data removed]",
      "text/plain": [
       "<Figure size 640x480 with 1 Axes>"
      ]
     },
     "metadata": {},
     "output_type": "display_data"
    }
   ],
   "source": [
    "plt.plot(times_list, lengths)\n"
   ]
  },
  {
   "cell_type": "code",
   "execution_count": null,
   "metadata": {},
   "outputs": [
    {
     "ename": "NameError",
     "evalue": "name 'prrr' is not defined",
     "output_type": "error",
     "traceback": [
      "\u001b[1;31m---------------------------------------------------------------------------\u001b[0m",
      "\u001b[1;31mNameError\u001b[0m                                 Traceback (most recent call last)",
      "Cell \u001b[1;32mIn[10], line 1\u001b[0m\n\u001b[1;32m----> 1\u001b[0m \u001b[43mprrr\u001b[49m\n",
      "\u001b[1;31mNameError\u001b[0m: name 'prrr' is not defined"
     ]
    }
   ],
   "source": [
    "prrr"
   ]
  },
  {
   "cell_type": "code",
   "execution_count": 2,
   "metadata": {},
   "outputs": [
    {
     "data": {
      "text/plain": [
       "<torch.autograd.anomaly_mode.set_detect_anomaly at 0x26e6a0705e0>"
      ]
     },
     "execution_count": 2,
     "metadata": {},
     "output_type": "execute_result"
    }
   ],
   "source": [
    "torch.autograd.set_detect_anomaly(True)"
   ]
  },
  {
   "cell_type": "code",
   "execution_count": 59,
   "metadata": {},
   "outputs": [],
   "source": [
    "T = 200\n",
    "network = gk.generate_kvadraturen_small(T)\n",
    "\n",
    "ids_bw = [\"lundsbro_bw\", \"elvegata_bw\", \"tollbod_6bw\", \"tollbod_5bw\", \"tollbod_4bw\", \n",
    "        \"tollbod_3bw\", \"tollbod_2bw\", \"tollbod_1bw\", \"v_strand_7bw\", \"v_strand_6bw\",\n",
    "            \"v_strand_5bw\", \"v_strand_4bw\", \"v_strand_3bw\", \"v_strand_2bw\", \"v_strand_1bw\"]            \n",
    "            \n",
    "\n",
    "stops_bw = [(\"tollbod_6bw\", 50), (\"tollbod_3bw\", 90), (\"tollbod_1bw\", 30), (\"v_strand_3bw\", 25)]\n",
    "times_bw = [40, 130, 190, 250]\n",
    "bus_bw = bus.Bus(ids_bw, stops_bw, times_bw, network)\n",
    "\n",
    "ids_fw = [\"v_strand_1fw\", \"v_strand_2fw\", \"v_strand_3fw\", \"h_w_2\", \"h_w_3\",\n",
    "    \"h_w_4\", \"festning_4fw\", \"festning_5fw\", \"festning_6fw\", \"festning_7fw\",\n",
    "    \"tollbod_4fw\", \"tollbod_5fw\", \"tollbod_6fw\", \"elvegata_fw\", \"lundsbro_fw\"]\n",
    "\n",
    "stops_fw = [(\"v_strand_1fw\", 40), (\"h_w_3\", 30), (\"festning_5fw\", 40), (\"tollbod_4fw\", 25), \n",
    "            (\"tollbod_6fw\", 60)]\n",
    "times_fw = [1, 30, 110, 130, 230]\n",
    "bus_fw = bus.Bus(ids_fw, stops_fw, times_fw, network)"
   ]
  },
  {
   "cell_type": "code",
   "execution_count": 60,
   "metadata": {},
   "outputs": [],
   "source": [
    "# Create actual network\n",
    "roads = network.roads\n",
    "junctions = network.junctions\n",
    "T = network.T\n",
    "# Don't store the densities \n",
    "bus_network = nw.RoadNetwork(roads, junctions, T, [bus_fw, bus_bw], store_densities = False)"
   ]
  },
  {
   "cell_type": "code",
   "execution_count": 61,
   "metadata": {},
   "outputs": [],
   "source": [
    "densities, queues, bus_lengths, bus_delays = bus_network.solve_cons_law()"
   ]
  },
  {
   "cell_type": "code",
   "execution_count": 62,
   "metadata": {},
   "outputs": [
    {
     "name": "stdout",
     "output_type": "stream",
     "text": [
      "{0: [tensor(2.5116, grad_fn=<MaximumBackward0>), tensor(29.6944, grad_fn=<MaximumBackward0>), tensor(9.3916, grad_fn=<MaximumBackward0>), tensor(66.6754, grad_fn=<MaximumBackward0>), tensor(0.)], 1: [tensor(0., grad_fn=<MaximumBackward0>), tensor(0., grad_fn=<MaximumBackward0>), tensor(0., grad_fn=<MaximumBackward0>), tensor(0.)]}\n"
     ]
    }
   ],
   "source": [
    "print(bus_delays)"
   ]
  },
  {
   "cell_type": "code",
   "execution_count": 63,
   "metadata": {},
   "outputs": [],
   "source": [
    "# Cloning just to be safe\n",
    "objective = bus_delays[0][0].clone() #+ bus_delays[1][0].clone()\n",
    "for i in range(2):\n",
    "    for j in range(len(bus_delays[i])):\n",
    "        if i == 0 and j == 0:\n",
    "            continue\n",
    "        objective = objective + bus_delays[i][j].clone()"
   ]
  },
  {
   "cell_type": "code",
   "execution_count": 64,
   "metadata": {},
   "outputs": [
    {
     "name": "stdout",
     "output_type": "stream",
     "text": [
      "tensor(108.2730, grad_fn=<AddBackward0>)\n"
     ]
    }
   ],
   "source": [
    "print(objective)"
   ]
  },
  {
   "cell_type": "code",
   "execution_count": 65,
   "metadata": {},
   "outputs": [],
   "source": [
    "params = [v for road in bus_network.roads for v in road.Vmax] +\\\n",
    "        [t for junction in bus_network.junctions for traffic_light in junction.trafficlights for t in traffic_light.cycle] +\\\n",
    "        [t for junction in bus_network.junctions for traffic_light in junction.coupled_trafficlights for t in traffic_light.cycle]"
   ]
  },
  {
   "cell_type": "code",
   "execution_count": 66,
   "metadata": {},
   "outputs": [
    {
     "name": "stdout",
     "output_type": "stream",
     "text": [
      "[tensor(13.8889, requires_grad=True), tensor(13.8889, requires_grad=True), tensor(13.8889, requires_grad=True), tensor(13.8889, requires_grad=True), tensor(13.8889, requires_grad=True), tensor(13.8889, requires_grad=True), tensor(13.8889, requires_grad=True), tensor(13.8889, requires_grad=True), tensor(13.8889, requires_grad=True), tensor(13.8889, requires_grad=True), tensor(13.8889, requires_grad=True), tensor(13.8889, requires_grad=True), tensor(13.8889, requires_grad=True), tensor(13.8889, requires_grad=True), tensor(13.8889, requires_grad=True), tensor(13.8889, requires_grad=True), tensor(8.3333, requires_grad=True), tensor(8.3333, requires_grad=True), tensor(8.3333, requires_grad=True), tensor(8.3333, requires_grad=True), tensor(8.3333, requires_grad=True), tensor(8.3333, requires_grad=True), tensor(8.3333, requires_grad=True), tensor(8.3333, requires_grad=True), tensor(8.3333, requires_grad=True), tensor(8.3333, requires_grad=True), tensor(8.3333, requires_grad=True), tensor(8.3333, requires_grad=True), tensor(8.3333, requires_grad=True), tensor(8.3333, requires_grad=True), tensor(8.3333, requires_grad=True), tensor(13.8889, requires_grad=True), tensor(13.8889, requires_grad=True), tensor(13.8889, requires_grad=True), tensor(13.8889, requires_grad=True), tensor(13.8889, requires_grad=True), tensor(13.8889, requires_grad=True), tensor(13.8889, requires_grad=True), tensor(13.8889, requires_grad=True), tensor(13.8889, requires_grad=True), tensor(13.8889, requires_grad=True), tensor(13.8889, requires_grad=True), tensor(13.8889, requires_grad=True), tensor(13.8889, requires_grad=True), tensor(13.8889, requires_grad=True), tensor(13.8889, requires_grad=True), tensor(13.8889, requires_grad=True), tensor(13.8889, requires_grad=True), tensor(13.8889, requires_grad=True), tensor(13.8889, requires_grad=True), tensor(13.8889, requires_grad=True), tensor(13.8889, requires_grad=True), tensor(13.8889, requires_grad=True), tensor(13.8889, requires_grad=True), tensor(13.8889, requires_grad=True), tensor(13.8889, requires_grad=True), tensor(13.8889, requires_grad=True), tensor(13.8889, requires_grad=True), tensor(13.8889, requires_grad=True), tensor(13.8889, requires_grad=True), tensor(13.8889, requires_grad=True), tensor(13.8889, requires_grad=True), tensor(13.8889, requires_grad=True), tensor(60., requires_grad=True), tensor(60., requires_grad=True), tensor(60., requires_grad=True), tensor(60., requires_grad=True), tensor(60., requires_grad=True), tensor(60., requires_grad=True), tensor(60., requires_grad=True), tensor(60., requires_grad=True), tensor(60., requires_grad=True), tensor(60., requires_grad=True), tensor(60., requires_grad=True), tensor(60., requires_grad=True), tensor(60., requires_grad=True), tensor(60., requires_grad=True), tensor(60., requires_grad=True), tensor(60., requires_grad=True), tensor(50., requires_grad=True), tensor(100., requires_grad=True), tensor(100., requires_grad=True), tensor(50., requires_grad=True), tensor(100., requires_grad=True), tensor(50., requires_grad=True), tensor(50., requires_grad=True), tensor(100., requires_grad=True), tensor(100., requires_grad=True), tensor(50., requires_grad=True), tensor(50., requires_grad=True), tensor(100., requires_grad=True)]\n"
     ]
    }
   ],
   "source": [
    "print(params)"
   ]
  },
  {
   "cell_type": "code",
   "execution_count": 67,
   "metadata": {},
   "outputs": [
    {
     "ename": "RuntimeError",
     "evalue": "one of the variables needed for gradient computation has been modified by an inplace operation: [torch.FloatTensor [2]], which is output 0 of AsStridedBackward0, is at version 5; expected version 4 instead. Hint: enable anomaly detection to find the operation that failed to compute its gradient, with torch.autograd.set_detect_anomaly(True).",
     "output_type": "error",
     "traceback": [
      "\u001b[1;31m---------------------------------------------------------------------------\u001b[0m",
      "\u001b[1;31mRuntimeError\u001b[0m                              Traceback (most recent call last)",
      "Cell \u001b[1;32mIn[67], line 1\u001b[0m\n\u001b[1;32m----> 1\u001b[0m \u001b[43mobjective\u001b[49m\u001b[38;5;241;43m.\u001b[39;49m\u001b[43mbackward\u001b[49m\u001b[43m(\u001b[49m\u001b[43m)\u001b[49m\n",
      "File \u001b[1;32mc:\\Users\\torje\\anaconda3\\envs\\traffic\\lib\\site-packages\\torch\\_tensor.py:487\u001b[0m, in \u001b[0;36mTensor.backward\u001b[1;34m(self, gradient, retain_graph, create_graph, inputs)\u001b[0m\n\u001b[0;32m    477\u001b[0m \u001b[38;5;28;01mif\u001b[39;00m has_torch_function_unary(\u001b[38;5;28mself\u001b[39m):\n\u001b[0;32m    478\u001b[0m     \u001b[38;5;28;01mreturn\u001b[39;00m handle_torch_function(\n\u001b[0;32m    479\u001b[0m         Tensor\u001b[38;5;241m.\u001b[39mbackward,\n\u001b[0;32m    480\u001b[0m         (\u001b[38;5;28mself\u001b[39m,),\n\u001b[1;32m   (...)\u001b[0m\n\u001b[0;32m    485\u001b[0m         inputs\u001b[38;5;241m=\u001b[39minputs,\n\u001b[0;32m    486\u001b[0m     )\n\u001b[1;32m--> 487\u001b[0m \u001b[43mtorch\u001b[49m\u001b[38;5;241;43m.\u001b[39;49m\u001b[43mautograd\u001b[49m\u001b[38;5;241;43m.\u001b[39;49m\u001b[43mbackward\u001b[49m\u001b[43m(\u001b[49m\n\u001b[0;32m    488\u001b[0m \u001b[43m    \u001b[49m\u001b[38;5;28;43mself\u001b[39;49m\u001b[43m,\u001b[49m\u001b[43m \u001b[49m\u001b[43mgradient\u001b[49m\u001b[43m,\u001b[49m\u001b[43m \u001b[49m\u001b[43mretain_graph\u001b[49m\u001b[43m,\u001b[49m\u001b[43m \u001b[49m\u001b[43mcreate_graph\u001b[49m\u001b[43m,\u001b[49m\u001b[43m \u001b[49m\u001b[43minputs\u001b[49m\u001b[38;5;241;43m=\u001b[39;49m\u001b[43minputs\u001b[49m\n\u001b[0;32m    489\u001b[0m \u001b[43m\u001b[49m\u001b[43m)\u001b[49m\n",
      "File \u001b[1;32mc:\\Users\\torje\\anaconda3\\envs\\traffic\\lib\\site-packages\\torch\\autograd\\__init__.py:200\u001b[0m, in \u001b[0;36mbackward\u001b[1;34m(tensors, grad_tensors, retain_graph, create_graph, grad_variables, inputs)\u001b[0m\n\u001b[0;32m    195\u001b[0m     retain_graph \u001b[38;5;241m=\u001b[39m create_graph\n\u001b[0;32m    197\u001b[0m \u001b[38;5;66;03m# The reason we repeat same the comment below is that\u001b[39;00m\n\u001b[0;32m    198\u001b[0m \u001b[38;5;66;03m# some Python versions print out the first line of a multi-line function\u001b[39;00m\n\u001b[0;32m    199\u001b[0m \u001b[38;5;66;03m# calls in the traceback and some print out the last line\u001b[39;00m\n\u001b[1;32m--> 200\u001b[0m \u001b[43mVariable\u001b[49m\u001b[38;5;241;43m.\u001b[39;49m\u001b[43m_execution_engine\u001b[49m\u001b[38;5;241;43m.\u001b[39;49m\u001b[43mrun_backward\u001b[49m\u001b[43m(\u001b[49m\u001b[43m  \u001b[49m\u001b[38;5;66;43;03m# Calls into the C++ engine to run the backward pass\u001b[39;49;00m\n\u001b[0;32m    201\u001b[0m \u001b[43m    \u001b[49m\u001b[43mtensors\u001b[49m\u001b[43m,\u001b[49m\u001b[43m \u001b[49m\u001b[43mgrad_tensors_\u001b[49m\u001b[43m,\u001b[49m\u001b[43m \u001b[49m\u001b[43mretain_graph\u001b[49m\u001b[43m,\u001b[49m\u001b[43m \u001b[49m\u001b[43mcreate_graph\u001b[49m\u001b[43m,\u001b[49m\u001b[43m \u001b[49m\u001b[43minputs\u001b[49m\u001b[43m,\u001b[49m\n\u001b[0;32m    202\u001b[0m \u001b[43m    \u001b[49m\u001b[43mallow_unreachable\u001b[49m\u001b[38;5;241;43m=\u001b[39;49m\u001b[38;5;28;43;01mTrue\u001b[39;49;00m\u001b[43m,\u001b[49m\u001b[43m \u001b[49m\u001b[43maccumulate_grad\u001b[49m\u001b[38;5;241;43m=\u001b[39;49m\u001b[38;5;28;43;01mTrue\u001b[39;49;00m\u001b[43m)\u001b[49m\n",
      "\u001b[1;31mRuntimeError\u001b[0m: one of the variables needed for gradient computation has been modified by an inplace operation: [torch.FloatTensor [2]], which is output 0 of AsStridedBackward0, is at version 5; expected version 4 instead. Hint: enable anomaly detection to find the operation that failed to compute its gradient, with torch.autograd.set_detect_anomaly(True)."
     ]
    }
   ],
   "source": [
    "objective.backward()"
   ]
  },
  {
   "cell_type": "code",
   "execution_count": null,
   "metadata": {},
   "outputs": [
    {
     "name": "stdout",
     "output_type": "stream",
     "text": [
      "Road Vmax gradients:\n",
      "tensor(-0.9294)\n",
      "tensor(-0.7419)\n",
      "tensor(-0.8887)\n",
      "tensor(-0.0036)\n",
      "tensor(2.4498e-09)\n",
      "tensor(2.4587e-09)\n",
      "tensor(-4.3892e-08)\n",
      "tensor(-1.1942e-06)\n",
      "tensor(-1.4293e-07)\n",
      "tensor(1.0852e-08)\n",
      "tensor(7.7913e-08)\n",
      "tensor(-4.4200e-05)\n",
      "tensor(-2.3549e-05)\n",
      "tensor(-1.6591e-05)\n",
      "tensor(-1.4322e-05)\n",
      "tensor(-5.6465e-06)\n",
      "tensor(0.6656)\n",
      "tensor(-2.7338)\n",
      "tensor(-1.6761)\n",
      "tensor(-0.9272)\n",
      "tensor(-5.9522e-07)\n",
      "tensor(-5.8069e-07)\n",
      "tensor(-6.0048e-07)\n",
      "tensor(1.4817e-31)\n",
      "tensor(1.3082e-31)\n",
      "tensor(1.3095e-31)\n",
      "tensor(8.6204e-22)\n",
      "tensor(1.9210e-21)\n",
      "tensor(1.9031e-21)\n",
      "tensor(-3.2281e-07)\n",
      "tensor(9.9211e-22)\n",
      "tensor(-6.1136e-05)\n",
      "tensor(-0.0002)\n",
      "tensor(-0.0005)\n",
      "tensor(-0.0012)\n",
      "tensor(-0.0028)\n",
      "tensor(-0.0052)\n",
      "tensor(0.0003)\n",
      "tensor(0.0006)\n",
      "tensor(1.9539e-05)\n",
      "tensor(8.4268e-06)\n",
      "tensor(4.9290e-06)\n",
      "tensor(-0.0242)\n",
      "tensor(1.7927e-08)\n",
      "tensor(0.0013)\n",
      "tensor(0.0026)\n",
      "tensor(-0.2725)\n",
      "tensor(-0.2010)\n",
      "tensor(0.0055)\n",
      "tensor(0.0111)\n",
      "tensor(0.0221)\n",
      "tensor(0.0020)\n",
      "tensor(0.0462)\n",
      "tensor(0.0344)\n",
      "tensor(0.0267)\n",
      "tensor(0.2626)\n",
      "tensor(0.1537)\n",
      "tensor(0.3073)\n",
      "tensor(0.2139)\n",
      "tensor(0.2605)\n",
      "tensor(0.2545)\n",
      "tensor(1.0549)\n",
      "tensor(-0.0122)\n"
     ]
    }
   ],
   "source": [
    "print(\"Road Vmax gradients:\")\n",
    "for road in bus_network.roads:\n",
    "    for v in road.Vmax:\n",
    "        print(v.grad)"
   ]
  },
  {
   "cell_type": "code",
   "execution_count": 12,
   "metadata": {},
   "outputs": [
    {
     "name": "stdout",
     "output_type": "stream",
     "text": [
      "tensor(-6.0415e-08)\n",
      "tensor(0.)\n",
      "tensor(8.1188e-24)\n",
      "tensor(0.)\n",
      "tensor(-4.2002e-40)\n",
      "tensor(0.)\n",
      "tensor(0.)\n",
      "tensor(0.)\n",
      "tensor(0.)\n",
      "tensor(0.)\n",
      "tensor(0.)\n",
      "tensor(0.)\n",
      "tensor(-4.6191e-29)\n",
      "tensor(0.)\n",
      "tensor(-3.2474e-23)\n",
      "tensor(0.)\n",
      "tensor(1.1729e-20)\n",
      "tensor(0.)\n",
      "tensor(-4.6191e-29)\n",
      "tensor(0.)\n",
      "tensor(-4.7772e-30)\n",
      "tensor(0.)\n",
      "tensor(4.4770e-18)\n",
      "tensor(0.)\n",
      "tensor(1.8117e-17)\n",
      "tensor(0.)\n",
      "tensor(1.8117e-17)\n",
      "tensor(0.)\n"
     ]
    }
   ],
   "source": [
    "for junction in bus_network.junctions:\n",
    "    for traffic_light in junction.trafficlights:\n",
    "        for t in traffic_light.cycle:\n",
    "            print(t.grad)\n",
    "\n",
    "    for traffic_light in junction.coupled_trafficlights:\n",
    "        for t in traffic_light.cycle:\n",
    "            print(t.grad)"
   ]
  },
  {
   "cell_type": "code",
   "execution_count": null,
   "metadata": {},
   "outputs": [
    {
     "name": "stdout",
     "output_type": "stream",
     "text": [
      "tensor(-2.4659e-15)\n",
      "tensor(-3.9577e-12)\n",
      "tensor(-3.9602e-12)\n",
      "tensor(-7.9203e-12)\n",
      "tensor(-1.5841e-11)\n",
      "tensor(-3.1681e-11)\n",
      "tensor(-6.3363e-11)\n",
      "tensor(-1.2673e-10)\n",
      "tensor(-2.5345e-10)\n",
      "tensor(-5.0690e-10)\n",
      "tensor(-1.0138e-09)\n",
      "tensor(-2.0276e-09)\n",
      "tensor(-4.0552e-09)\n",
      "tensor(-8.1104e-09)\n",
      "tensor(-1.6221e-08)\n",
      "tensor(-3.2442e-08)\n",
      "tensor(0.)\n",
      "tensor(0.)\n",
      "tensor(0.)\n",
      "tensor(0.)\n",
      "tensor(-1.7360)\n",
      "tensor(-1.4400)\n",
      "tensor(-0.8480)\n",
      "tensor(0.)\n",
      "tensor(0.)\n",
      "tensor(0.)\n",
      "tensor(0.)\n",
      "tensor(0.)\n",
      "tensor(0.)\n",
      "tensor(0.)\n",
      "tensor(0.)\n",
      "tensor(-6.4883e-08)\n",
      "tensor(-1.2977e-07)\n",
      "tensor(-2.5953e-07)\n",
      "tensor(-5.1907e-07)\n",
      "tensor(-1.0381e-06)\n",
      "tensor(-2.0763e-06)\n",
      "tensor(-4.1525e-06)\n",
      "tensor(-8.3051e-06)\n",
      "tensor(-1.6610e-05)\n",
      "tensor(-3.3220e-05)\n",
      "tensor(-6.6441e-05)\n",
      "tensor(-0.0001)\n",
      "tensor(-3.3096e-07)\n",
      "tensor(-0.0003)\n",
      "tensor(-0.0005)\n",
      "tensor(-0.0011)\n",
      "tensor(-5.2954e-06)\n",
      "tensor(-0.0021)\n",
      "tensor(-0.0523)\n",
      "tensor(-0.0085)\n",
      "tensor(-0.0171)\n",
      "tensor(-0.0341)\n",
      "tensor(-0.0683)\n",
      "tensor(-0.1366)\n",
      "tensor(-2.1185)\n",
      "tensor(-0.4109)\n",
      "tensor(-0.8217)\n",
      "tensor(-1.6435)\n",
      "tensor(-3.2869)\n",
      "tensor(-6.3874)\n",
      "tensor(-10.9804)\n",
      "tensor(-0.3044)\n",
      "None\n",
      "None\n",
      "None\n",
      "None\n",
      "None\n",
      "None\n",
      "None\n",
      "None\n",
      "None\n",
      "None\n",
      "None\n",
      "None\n",
      "None\n",
      "None\n",
      "None\n",
      "None\n",
      "None\n",
      "None\n",
      "None\n",
      "None\n",
      "None\n",
      "None\n",
      "None\n",
      "None\n",
      "None\n",
      "None\n",
      "None\n",
      "None\n"
     ]
    }
   ],
   "source": [
    "for p in params:\n",
    "    print(p.grad)"
   ]
  },
  {
   "cell_type": "code",
   "execution_count": null,
   "metadata": {},
   "outputs": [
    {
     "ename": "ValueError",
     "evalue": "not enough values to unpack (expected 2, got 1)",
     "output_type": "error",
     "traceback": [
      "\u001b[1;31m---------------------------------------------------------------------------\u001b[0m",
      "\u001b[1;31mValueError\u001b[0m                                Traceback (most recent call last)",
      "Cell \u001b[1;32mIn[55], line 1\u001b[0m\n\u001b[1;32m----> 1\u001b[0m derivative,_ \u001b[38;5;241m=\u001b[39m torch\u001b[38;5;241m.\u001b[39mautograd\u001b[38;5;241m.\u001b[39mgrad(objective, params[\u001b[38;5;241m0\u001b[39m], allow_unused\u001b[38;5;241m=\u001b[39m\u001b[38;5;28;01mTrue\u001b[39;00m, retain_graph\u001b[38;5;241m=\u001b[39m\u001b[38;5;28;01mTrue\u001b[39;00m)\n",
      "\u001b[1;31mValueError\u001b[0m: not enough values to unpack (expected 2, got 1)"
     ]
    }
   ],
   "source": [
    "derivative,_ = torch.autograd.grad(objective, params[0], allow_unused=True, retain_graph=True)"
   ]
  },
  {
   "cell_type": "code",
   "execution_count": null,
   "metadata": {},
   "outputs": [
    {
     "name": "stdout",
     "output_type": "stream",
     "text": [
      "(tensor(-1.2329e-15),)\n"
     ]
    }
   ],
   "source": [
    "print(derivative)"
   ]
  }
 ],
 "metadata": {
  "kernelspec": {
   "display_name": "traffic",
   "language": "python",
   "name": "python3"
  },
  "language_info": {
   "codemirror_mode": {
    "name": "ipython",
    "version": 3
   },
   "file_extension": ".py",
   "mimetype": "text/x-python",
   "name": "python",
   "nbconvert_exporter": "python",
   "pygments_lexer": "ipython3",
   "version": "0.0.0"
  }
 },
 "nbformat": 4,
 "nbformat_minor": 2
}
