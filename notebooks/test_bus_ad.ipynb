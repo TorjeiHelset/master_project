{
 "cells": [
  {
   "cell_type": "code",
   "execution_count": 1,
   "metadata": {},
   "outputs": [],
   "source": [
    "import sys\n",
    "sys.path.append('../src_variable')\n",
    "\n",
    "import network as nw\n",
    "import torch\n",
    "import generate_kvadraturen as gk\n",
    "import bus\n",
    "import road as rd\n",
    "import traffic_lights as tl\n",
    "import junction as jn\n",
    "import numpy as np"
   ]
  },
  {
   "cell_type": "code",
   "execution_count": 22,
   "metadata": {},
   "outputs": [],
   "source": [
    "def minimal_kvadraturen(T = 100):\n",
    "    road1 = rd.Road(1, 50, 5, torch.tensor([50.0], requires_grad=True), [], left_pos=(-1, 0), right_pos=(0, 0),\n",
    "                    inflow = 0.1, id=\"road1fw\")\n",
    "    road2 = rd.Road(1, 50, 5, torch.tensor([50.0], requires_grad=True), [], left_pos=(0, 0), right_pos=(1, 0),\n",
    "                    inflow = 0.1, id=\"road1bw\")\n",
    "    road3 = rd.Road(1, 50, 5, torch.tensor([50.0], requires_grad=True), [], left_pos=(0, -1), right_pos=(0, 0),\n",
    "                    inflow = 0.1, id=\"road2fw\")\n",
    "    road4 = rd.Road(1, 50, 5, torch.tensor([50.0], requires_grad=True), [], left_pos=(0, 0), right_pos=(0, 1),\n",
    "                    inflow = 0.1, id=\"road2bw\")\n",
    "    traffic_light = tl.CoupledTrafficLightContinuous(False, [0], [1], [3], [2], [40.0, 30.0])\n",
    "    junction = jn.Junction([road1, road2, road3, road4], [0,3], [1,2], [[1.0, 0.0],[0.0, 1.0]], [], [traffic_light])\n",
    "    network = nw.RoadNetwork([road1, road2, road3, road4], [junction], T, optimizing = False)\n",
    "    return network\n"
   ]
  },
  {
   "cell_type": "code",
   "execution_count": 23,
   "metadata": {},
   "outputs": [],
   "source": [
    "# Testing minimal example\n",
    "T = 100\n",
    "network = minimal_kvadraturen(T)\n",
    "\n",
    "ids = [\"road1fw\", \"road1bw\"]\n",
    "stops = [(\"road1bw\", 20)]\n",
    "times = [20]\n",
    "\n",
    "bus1 = bus.Bus(ids, stops, times, network)\n",
    "\n",
    "bus_network = nw.RoadNetwork(network.roads, network.junctions, network.T, [bus1], optimizing = False, store_densities = False)"
   ]
  },
  {
   "cell_type": "code",
   "execution_count": 24,
   "metadata": {},
   "outputs": [
    {
     "name": "stderr",
     "output_type": "stream",
     "text": [
      "c:\\Users\\torje\\OneDrive - NTNU\\Dokumenter\\Semester10\\kristiansand\\notebooks\\../src_variable\\network.py:274: UserWarning: To copy construct from a tensor, it is recommended to use sourceTensor.clone().detach() or sourceTensor.clone().detach().requires_grad_(True), rather than torch.tensor(sourceTensor).\n",
      "  dt = torch.tensor(controlpoint - t)\n"
     ]
    },
    {
     "name": "stdout",
     "output_type": "stream",
     "text": [
      "t = 50.0, bus is allowed to cross the junction\n",
      "t = 50.0, bus should travel full distance of 0.4603598415851593 meters\n",
      "t = 50.599998474121094, bus is allowed to cross the junction\n",
      "t = 50.599998474121094, bus should travel full distance of 7.317626953125 meters\n",
      "t = 51.19999694824219, bus is allowed to cross the junction\n",
      "t = 51.19999694824219, bus should travel full distance of 7.461166858673096 meters\n",
      "t = 51.79999542236328, bus is allowed to cross the junction\n",
      "t = 51.79999542236328, bus should stop at the busstop\n",
      "t = 52.399993896484375, bus is at busstop\n",
      "t = 52.99999237060547, bus is at busstop\n",
      "t = 53.59999084472656, bus is at busstop\n",
      "t = 54.199989318847656, bus is at busstop\n",
      "t = 54.79998779296875, bus is at busstop\n",
      "t = 55.399986267089844, bus is at busstop\n",
      "t = 55.99998474121094, bus is at busstop\n",
      "t = 56.59998321533203, bus is at busstop\n",
      "t = 57.199981689453125, bus is at busstop\n",
      "t = 57.79998016357422, bus is at busstop\n",
      "t = 58.39997863769531, bus is at busstop\n",
      "t = 58.999977111816406, bus is at busstop\n",
      "t = 59.5999755859375, bus is at busstop\n",
      "t = 60.199974060058594, bus is at busstop\n",
      "t = 60.79997253417969, bus is at busstop\n",
      "t = 61.39997100830078, bus is at busstop\n",
      "t = 61.999969482421875, bus is at busstop\n",
      "t = 62.59996795654297, bus is at busstop\n",
      "t = 63.19996643066406, bus is at busstop\n",
      "t = 63.799964904785156, bus is at busstop\n",
      "t = 64.39996337890625, bus is at busstop\n",
      "t = 64.99996185302734, bus is at busstop\n",
      "t = 65.58867645263672, bus is at busstop\n",
      "t = 66.1688003540039, bus is at busstop\n",
      "t = 66.74481964111328, bus is at busstop\n",
      "t = 67.32048034667969, bus is at busstop\n",
      "t = 67.89910888671875, bus is at busstop\n",
      "t = 68.48291778564453, bus is at busstop\n",
      "t = 69.0713119506836, bus is at busstop\n",
      "t = 69.6624526977539, bus is at busstop\n",
      "t = 70.0, bus is at busstop\n",
      "t = 70.59734344482422, bus is at busstop\n",
      "t = 71.19589233398438, bus is at busstop\n",
      "t = 71.79493713378906, bus is at busstop\n",
      "t = 72.39420318603516, bus is at busstop\n",
      "t = 72.99359130859375, bus is at busstop\n",
      "t = 73.59309387207031, bus is at busstop\n",
      "t = 74.19271087646484, bus is at busstop\n",
      "t = 74.79244995117188, bus is at busstop\n",
      "t = 75.0, bus is at busstop\n",
      "t = 75.59988403320312, bus is at busstop\n",
      "t = 76.19982147216797, bus is at busstop\n",
      "t = 76.7997817993164, bus is at busstop\n",
      "t = 77.38846588134766, bus is at busstop\n",
      "t = 77.96858978271484, bus is at busstop\n",
      "t = 78.5474853515625, bus is at busstop\n",
      "t = 79.13059997558594, bus is at busstop\n",
      "t = 79.71920776367188, bus is at busstop\n",
      "t = 80.0, bus is at busstop\n",
      "t = 80.59652709960938, bus is at busstop\n",
      "t = 81.19395446777344, bus is at busstop\n",
      "t = 81.7918472290039, bus is at busstop\n",
      "t = 82.39007568359375, bus is allowed to cross the junction\n",
      "t = 82.39007568359375, bus should travel full distance of 7.477086544036865 meters\n",
      "t = 82.98919677734375, bus is allowed to cross the junction\n",
      "t = 82.98919677734375, bus should travel full distance of 7.488309383392334 meters\n",
      "t = 83.5887451171875, bus is allowed to cross the junction\n",
      "t = 83.5887451171875, bus should travel full distance of 7.491549491882324 meters\n",
      "t = 84.1884994506836, bus is allowed to cross the junction\n",
      "t = 84.1884994506836, bus should travel full distance of 7.4941020011901855 meters\n"
     ]
    }
   ],
   "source": [
    "densities, queues, bus_lengths, bus_delays = bus_network.solve_cons_law()"
   ]
  },
  {
   "cell_type": "code",
   "execution_count": null,
   "metadata": {},
   "outputs": [],
   "source": []
  },
  {
   "cell_type": "code",
   "execution_count": 25,
   "metadata": {},
   "outputs": [
    {
     "name": "stdout",
     "output_type": "stream",
     "text": [
      "[50, 50]\n",
      "[70, 200]\n"
     ]
    }
   ],
   "source": [
    "print(bus1.lengths)\n",
    "print(bus1.stop_lengths)\n"
   ]
  },
  {
   "cell_type": "code",
   "execution_count": 26,
   "metadata": {},
   "outputs": [],
   "source": [
    "t_list = np.linspace(0, 200, 1000)\n",
    "activation = np.zeros_like(t_list)\n",
    "for junction in bus_network.junctions:\n",
    "    for i, t in enumerate(t_list):\n",
    "        # print(f\"t = {t}, activation = {junction.get_activation(t, 'road1fw', 'road1bw')}\")\n",
    "        _, activation[i] = junction.get_activation(t, 'road1fw', 'road1bw')"
   ]
  },
  {
   "cell_type": "code",
   "execution_count": 27,
   "metadata": {},
   "outputs": [
    {
     "name": "stdout",
     "output_type": "stream",
     "text": [
      "tensor(32.1900, grad_fn=<MaximumBackward0>)\n"
     ]
    }
   ],
   "source": [
    "objective = bus_delays[0][0]\n",
    "print(objective)"
   ]
  },
  {
   "cell_type": "code",
   "execution_count": 28,
   "metadata": {},
   "outputs": [],
   "source": [
    "params = [v for road in bus_network.roads for v in road.Vmax] +\\\n",
    "        [t for junction in bus_network.junctions for traffic_light in junction.trafficlights for t in traffic_light.cycle] +\\\n",
    "        [t for junction in bus_network.junctions for traffic_light in junction.coupled_trafficlights for t in traffic_light.cycle]"
   ]
  },
  {
   "cell_type": "code",
   "execution_count": 29,
   "metadata": {},
   "outputs": [],
   "source": [
    "objective.backward()"
   ]
  },
  {
   "cell_type": "code",
   "execution_count": 30,
   "metadata": {},
   "outputs": [
    {
     "name": "stdout",
     "output_type": "stream",
     "text": [
      "tensor(-0.9826)\n",
      "tensor(-2.6162)\n",
      "tensor(-0.4003)\n",
      "tensor(-0.0975)\n",
      "tensor(1.4933e-18)\n",
      "tensor(-0.1184)\n"
     ]
    }
   ],
   "source": [
    "for p in params:\n",
    "    print(p.grad)"
   ]
  },
  {
   "cell_type": "code",
   "execution_count": null,
   "metadata": {},
   "outputs": [],
   "source": [
    "prr"
   ]
  },
  {
   "cell_type": "code",
   "execution_count": 7,
   "metadata": {},
   "outputs": [
    {
     "data": {
      "text/plain": [
       "[<matplotlib.lines.Line2D at 0x2b7fab886d0>]"
      ]
     },
     "execution_count": 7,
     "metadata": {},
     "output_type": "execute_result"
    },
    {
     "data": {
      "image/png": "[encoded data removed]",
      "text/plain": [
       "<Figure size 640x480 with 1 Axes>"
      ]
     },
     "metadata": {},
     "output_type": "display_data"
    }
   ],
   "source": [
    "import matplotlib.pyplot as plt\n",
    "plt.plot(t_list, activation)"
   ]
  },
  {
   "cell_type": "code",
   "execution_count": 8,
   "metadata": {},
   "outputs": [],
   "source": [
    "lengths = []\n",
    "times = list(bus_lengths[0].keys())\n",
    "times_list = []\n",
    "for t in times:\n",
    "    lengths.append(float(bus_lengths[0][t]))\n",
    "    times_list.append(float(t))"
   ]
  },
  {
   "cell_type": "code",
   "execution_count": 9,
   "metadata": {},
   "outputs": [
    {
     "data": {
      "text/plain": [
       "[<matplotlib.lines.Line2D at 0x2b7fff04310>]"
      ]
     },
     "execution_count": 9,
     "metadata": {},
     "output_type": "execute_result"
    },
    {
     "data": {
      "image/png": "[encoded data removed]",
      "text/plain": [
       "<Figure size 640x480 with 1 Axes>"
      ]
     },
     "metadata": {},
     "output_type": "display_data"
    }
   ],
   "source": [
    "plt.plot(times_list, lengths)\n"
   ]
  },
  {
   "cell_type": "code",
   "execution_count": 10,
   "metadata": {},
   "outputs": [
    {
     "ename": "NameError",
     "evalue": "name 'prrr' is not defined",
     "output_type": "error",
     "traceback": [
      "\u001b[1;31m---------------------------------------------------------------------------\u001b[0m",
      "\u001b[1;31mNameError\u001b[0m                                 Traceback (most recent call last)",
      "Cell \u001b[1;32mIn[10], line 1\u001b[0m\n\u001b[1;32m----> 1\u001b[0m \u001b[43mprrr\u001b[49m\n",
      "\u001b[1;31mNameError\u001b[0m: name 'prrr' is not defined"
     ]
    }
   ],
   "source": [
    "prrr"
   ]
  },
  {
   "cell_type": "code",
   "execution_count": null,
   "metadata": {},
   "outputs": [
    {
     "data": {
      "text/plain": [
       "[<matplotlib.lines.Line2D at 0x155adea2ec0>]"
      ]
     },
     "execution_count": 112,
     "metadata": {},
     "output_type": "execute_result"
    },
    {
     "data": {
      "image/png": "[encoded data removed]",
      "text/plain": [
       "<Figure size 640x480 with 1 Axes>"
      ]
     },
     "metadata": {},
     "output_type": "display_data"
    }
   ],
   "source": []
  },
  {
   "cell_type": "code",
   "execution_count": 2,
   "metadata": {},
   "outputs": [],
   "source": [
    "T = 400\n",
    "network = gk.generate_kvadraturen_small(T)\n",
    "\n",
    "ids_bw = [\"lundsbro_bw\", \"elvegata_bw\", \"tollbod_6bw\", \"tollbod_5bw\", \"tollbod_4bw\", \n",
    "        \"tollbod_3bw\", \"tollbod_2bw\", \"tollbod_1bw\", \"v_strand_7bw\", \"v_strand_6bw\",\n",
    "            \"v_strand_5bw\", \"v_strand_4bw\", \"v_strand_3bw\", \"v_strand_2bw\", \"v_strand_1bw\"]            \n",
    "            \n",
    "\n",
    "stops_bw = [(\"tollbod_6bw\", 50), (\"tollbod_3bw\", 90), (\"tollbod_1bw\", 30), (\"v_strand_3bw\", 25)]\n",
    "times_bw = [40, 130, 190, 250]\n",
    "bus_bw = bus.Bus(ids_bw, stops_bw, times_bw, network)\n",
    "\n",
    "ids_fw = [\"v_strand_1fw\", \"v_strand_2fw\", \"v_strand_3fw\", \"h_w_2\", \"h_w_3\",\n",
    "    \"h_w_4\", \"festning_4fw\", \"festning_5fw\", \"festning_6fw\", \"festning_7fw\",\n",
    "    \"tollbod_4fw\", \"tollbod_5fw\", \"tollbod_6fw\", \"elvegata_fw\", \"lundsbro_fw\"]\n",
    "\n",
    "stops_fw = [(\"h_w_3\", 30), (\"festning_5fw\", 40), (\"tollbod_4fw\", 25), \n",
    "            (\"tollbod_6fw\", 60)]\n",
    "times_fw = [50, 110, 130, 230]\n",
    "bus_fw = bus.Bus(ids_fw, stops_fw, times_fw, network)"
   ]
  },
  {
   "cell_type": "code",
   "execution_count": 3,
   "metadata": {},
   "outputs": [],
   "source": [
    "# Create actual network\n",
    "roads = network.roads\n",
    "junctions = network.junctions\n",
    "T = network.T\n",
    "# Don't store the densities \n",
    "bus_network = nw.RoadNetwork(roads, junctions, T, [bus_fw, bus_bw], store_densities = False)"
   ]
  },
  {
   "cell_type": "code",
   "execution_count": 4,
   "metadata": {},
   "outputs": [
    {
     "name": "stderr",
     "output_type": "stream",
     "text": [
      "c:\\Users\\torje\\OneDrive - NTNU\\Dokumenter\\Semester10\\kristiansand\\notebooks\\../src_variable\\network.py:274: UserWarning: To copy construct from a tensor, it is recommended to use sourceTensor.clone().detach() or sourceTensor.clone().detach().requires_grad_(True), rather than torch.tensor(sourceTensor).\n",
      "  dt = torch.tensor(controlpoint - t)\n"
     ]
    }
   ],
   "source": [
    "densities, queues, bus_lengths, bus_delays = bus_network.solve_cons_law()"
   ]
  },
  {
   "cell_type": "code",
   "execution_count": 5,
   "metadata": {},
   "outputs": [
    {
     "name": "stdout",
     "output_type": "stream",
     "text": [
      "{0: [tensor(0., grad_fn=<MaximumBackward0>), tensor(0., grad_fn=<MaximumBackward0>), tensor(58.6459, grad_fn=<MaximumBackward0>), tensor(17.1140, grad_fn=<MaximumBackward0>)], 1: [tensor(0., grad_fn=<MaximumBackward0>), tensor(0., grad_fn=<MaximumBackward0>), tensor(0., grad_fn=<MaximumBackward0>), tensor(117.3570, grad_fn=<MaximumBackward0>)]}\n"
     ]
    }
   ],
   "source": [
    "print(bus_delays)"
   ]
  },
  {
   "cell_type": "code",
   "execution_count": 6,
   "metadata": {},
   "outputs": [
    {
     "name": "stdout",
     "output_type": "stream",
     "text": [
      "tensor(75.7599, grad_fn=<AddBackward0>)\n"
     ]
    }
   ],
   "source": [
    "objective = bus_delays[0][2] + bus_delays[0][3]\n",
    "print(objective)"
   ]
  },
  {
   "cell_type": "code",
   "execution_count": 7,
   "metadata": {},
   "outputs": [],
   "source": [
    "params = [v for road in bus_network.roads for v in road.Vmax] +\\\n",
    "        [t for junction in bus_network.junctions for traffic_light in junction.trafficlights for t in traffic_light.cycle] +\\\n",
    "        [t for junction in bus_network.junctions for traffic_light in junction.coupled_trafficlights for t in traffic_light.cycle]"
   ]
  },
  {
   "cell_type": "code",
   "execution_count": 8,
   "metadata": {},
   "outputs": [
    {
     "name": "stdout",
     "output_type": "stream",
     "text": [
      "[tensor(13.8889, requires_grad=True), tensor(13.8889, requires_grad=True), tensor(13.8889, requires_grad=True), tensor(13.8889, requires_grad=True), tensor(13.8889, requires_grad=True), tensor(13.8889, requires_grad=True), tensor(13.8889, requires_grad=True), tensor(13.8889, requires_grad=True), tensor(13.8889, requires_grad=True), tensor(13.8889, requires_grad=True), tensor(13.8889, requires_grad=True), tensor(13.8889, requires_grad=True), tensor(13.8889, requires_grad=True), tensor(13.8889, requires_grad=True), tensor(13.8889, requires_grad=True), tensor(13.8889, requires_grad=True), tensor(8.3333, requires_grad=True), tensor(8.3333, requires_grad=True), tensor(8.3333, requires_grad=True), tensor(8.3333, requires_grad=True), tensor(8.3333, requires_grad=True), tensor(8.3333, requires_grad=True), tensor(8.3333, requires_grad=True), tensor(8.3333, requires_grad=True), tensor(8.3333, requires_grad=True), tensor(8.3333, requires_grad=True), tensor(8.3333, requires_grad=True), tensor(8.3333, requires_grad=True), tensor(8.3333, requires_grad=True), tensor(8.3333, requires_grad=True), tensor(8.3333, requires_grad=True), tensor(13.8889, requires_grad=True), tensor(13.8889, requires_grad=True), tensor(13.8889, requires_grad=True), tensor(13.8889, requires_grad=True), tensor(13.8889, requires_grad=True), tensor(13.8889, requires_grad=True), tensor(13.8889, requires_grad=True), tensor(13.8889, requires_grad=True), tensor(13.8889, requires_grad=True), tensor(13.8889, requires_grad=True), tensor(13.8889, requires_grad=True), tensor(13.8889, requires_grad=True), tensor(13.8889, requires_grad=True), tensor(13.8889, requires_grad=True), tensor(13.8889, requires_grad=True), tensor(13.8889, requires_grad=True), tensor(13.8889, requires_grad=True), tensor(13.8889, requires_grad=True), tensor(13.8889, requires_grad=True), tensor(13.8889, requires_grad=True), tensor(13.8889, requires_grad=True), tensor(13.8889, requires_grad=True), tensor(13.8889, requires_grad=True), tensor(13.8889, requires_grad=True), tensor(13.8889, requires_grad=True), tensor(13.8889, requires_grad=True), tensor(13.8889, requires_grad=True), tensor(13.8889, requires_grad=True), tensor(13.8889, requires_grad=True), tensor(13.8889, requires_grad=True), tensor(13.8889, requires_grad=True), tensor(13.8889, requires_grad=True), tensor(60., requires_grad=True), tensor(60., requires_grad=True), tensor(60., requires_grad=True), tensor(60., requires_grad=True), tensor(60., requires_grad=True), tensor(60., requires_grad=True), tensor(60., requires_grad=True), tensor(60., requires_grad=True), tensor(60., requires_grad=True), tensor(60., requires_grad=True), tensor(60., requires_grad=True), tensor(60., requires_grad=True), tensor(60., requires_grad=True), tensor(60., requires_grad=True), tensor(60., requires_grad=True), tensor(60., requires_grad=True), tensor(50., requires_grad=True), tensor(100., requires_grad=True), tensor(100., requires_grad=True), tensor(50., requires_grad=True), tensor(100., requires_grad=True), tensor(50., requires_grad=True), tensor(50., requires_grad=True), tensor(100., requires_grad=True), tensor(100., requires_grad=True), tensor(50., requires_grad=True), tensor(50., requires_grad=True), tensor(100., requires_grad=True)]\n"
     ]
    }
   ],
   "source": [
    "print(params)"
   ]
  },
  {
   "cell_type": "code",
   "execution_count": 9,
   "metadata": {},
   "outputs": [
    {
     "name": "stderr",
     "output_type": "stream",
     "text": [
      "c:\\Users\\torje\\anaconda3\\envs\\traffic\\lib\\site-packages\\torch\\autograd\\__init__.py:200: UserWarning: Error detected in MulBackward0. No forward pass information available. Enable detect anomaly during forward pass for more information. (Triggered internally at ..\\torch\\csrc\\autograd\\python_anomaly_mode.cpp:97.)\n",
      "  Variable._execution_engine.run_backward(  # Calls into the C++ engine to run the backward pass\n"
     ]
    },
    {
     "ename": "RuntimeError",
     "evalue": "one of the variables needed for gradient computation has been modified by an inplace operation: [torch.FloatTensor [2]], which is output 0 of AsStridedBackward0, is at version 5; expected version 4 instead. Hint: the backtrace further above shows the operation that failed to compute its gradient. The variable in question was changed in there or anywhere later. Good luck!",
     "output_type": "error",
     "traceback": [
      "\u001b[1;31m---------------------------------------------------------------------------\u001b[0m",
      "\u001b[1;31mRuntimeError\u001b[0m                              Traceback (most recent call last)",
      "Cell \u001b[1;32mIn[9], line 2\u001b[0m\n\u001b[0;32m      1\u001b[0m torch\u001b[38;5;241m.\u001b[39mautograd\u001b[38;5;241m.\u001b[39mset_detect_anomaly(\u001b[38;5;28;01mTrue\u001b[39;00m)\n\u001b[1;32m----> 2\u001b[0m \u001b[43mobjective\u001b[49m\u001b[38;5;241;43m.\u001b[39;49m\u001b[43mbackward\u001b[49m\u001b[43m(\u001b[49m\u001b[43m)\u001b[49m\n",
      "File \u001b[1;32mc:\\Users\\torje\\anaconda3\\envs\\traffic\\lib\\site-packages\\torch\\_tensor.py:487\u001b[0m, in \u001b[0;36mTensor.backward\u001b[1;34m(self, gradient, retain_graph, create_graph, inputs)\u001b[0m\n\u001b[0;32m    477\u001b[0m \u001b[38;5;28;01mif\u001b[39;00m has_torch_function_unary(\u001b[38;5;28mself\u001b[39m):\n\u001b[0;32m    478\u001b[0m     \u001b[38;5;28;01mreturn\u001b[39;00m handle_torch_function(\n\u001b[0;32m    479\u001b[0m         Tensor\u001b[38;5;241m.\u001b[39mbackward,\n\u001b[0;32m    480\u001b[0m         (\u001b[38;5;28mself\u001b[39m,),\n\u001b[1;32m   (...)\u001b[0m\n\u001b[0;32m    485\u001b[0m         inputs\u001b[38;5;241m=\u001b[39minputs,\n\u001b[0;32m    486\u001b[0m     )\n\u001b[1;32m--> 487\u001b[0m \u001b[43mtorch\u001b[49m\u001b[38;5;241;43m.\u001b[39;49m\u001b[43mautograd\u001b[49m\u001b[38;5;241;43m.\u001b[39;49m\u001b[43mbackward\u001b[49m\u001b[43m(\u001b[49m\n\u001b[0;32m    488\u001b[0m \u001b[43m    \u001b[49m\u001b[38;5;28;43mself\u001b[39;49m\u001b[43m,\u001b[49m\u001b[43m \u001b[49m\u001b[43mgradient\u001b[49m\u001b[43m,\u001b[49m\u001b[43m \u001b[49m\u001b[43mretain_graph\u001b[49m\u001b[43m,\u001b[49m\u001b[43m \u001b[49m\u001b[43mcreate_graph\u001b[49m\u001b[43m,\u001b[49m\u001b[43m \u001b[49m\u001b[43minputs\u001b[49m\u001b[38;5;241;43m=\u001b[39;49m\u001b[43minputs\u001b[49m\n\u001b[0;32m    489\u001b[0m \u001b[43m\u001b[49m\u001b[43m)\u001b[49m\n",
      "File \u001b[1;32mc:\\Users\\torje\\anaconda3\\envs\\traffic\\lib\\site-packages\\torch\\autograd\\__init__.py:200\u001b[0m, in \u001b[0;36mbackward\u001b[1;34m(tensors, grad_tensors, retain_graph, create_graph, grad_variables, inputs)\u001b[0m\n\u001b[0;32m    195\u001b[0m     retain_graph \u001b[38;5;241m=\u001b[39m create_graph\n\u001b[0;32m    197\u001b[0m \u001b[38;5;66;03m# The reason we repeat same the comment below is that\u001b[39;00m\n\u001b[0;32m    198\u001b[0m \u001b[38;5;66;03m# some Python versions print out the first line of a multi-line function\u001b[39;00m\n\u001b[0;32m    199\u001b[0m \u001b[38;5;66;03m# calls in the traceback and some print out the last line\u001b[39;00m\n\u001b[1;32m--> 200\u001b[0m \u001b[43mVariable\u001b[49m\u001b[38;5;241;43m.\u001b[39;49m\u001b[43m_execution_engine\u001b[49m\u001b[38;5;241;43m.\u001b[39;49m\u001b[43mrun_backward\u001b[49m\u001b[43m(\u001b[49m\u001b[43m  \u001b[49m\u001b[38;5;66;43;03m# Calls into the C++ engine to run the backward pass\u001b[39;49;00m\n\u001b[0;32m    201\u001b[0m \u001b[43m    \u001b[49m\u001b[43mtensors\u001b[49m\u001b[43m,\u001b[49m\u001b[43m \u001b[49m\u001b[43mgrad_tensors_\u001b[49m\u001b[43m,\u001b[49m\u001b[43m \u001b[49m\u001b[43mretain_graph\u001b[49m\u001b[43m,\u001b[49m\u001b[43m \u001b[49m\u001b[43mcreate_graph\u001b[49m\u001b[43m,\u001b[49m\u001b[43m \u001b[49m\u001b[43minputs\u001b[49m\u001b[43m,\u001b[49m\n\u001b[0;32m    202\u001b[0m \u001b[43m    \u001b[49m\u001b[43mallow_unreachable\u001b[49m\u001b[38;5;241;43m=\u001b[39;49m\u001b[38;5;28;43;01mTrue\u001b[39;49;00m\u001b[43m,\u001b[49m\u001b[43m \u001b[49m\u001b[43maccumulate_grad\u001b[49m\u001b[38;5;241;43m=\u001b[39;49m\u001b[38;5;28;43;01mTrue\u001b[39;49;00m\u001b[43m)\u001b[49m\n",
      "\u001b[1;31mRuntimeError\u001b[0m: one of the variables needed for gradient computation has been modified by an inplace operation: [torch.FloatTensor [2]], which is output 0 of AsStridedBackward0, is at version 5; expected version 4 instead. Hint: the backtrace further above shows the operation that failed to compute its gradient. The variable in question was changed in there or anywhere later. Good luck!"
     ]
    }
   ],
   "source": [
    "torch.autograd.set_detect_anomaly(True)\n",
    "objective.backward()"
   ]
  },
  {
   "cell_type": "code",
   "execution_count": 10,
   "metadata": {},
   "outputs": [
    {
     "name": "stdout",
     "output_type": "stream",
     "text": [
      "Road Vmax gradients:\n",
      "None\n",
      "None\n",
      "None\n",
      "None\n",
      "None\n",
      "None\n",
      "None\n",
      "None\n",
      "None\n",
      "None\n",
      "None\n",
      "None\n",
      "None\n",
      "None\n",
      "None\n",
      "None\n",
      "None\n",
      "None\n",
      "None\n",
      "None\n",
      "None\n",
      "None\n",
      "None\n",
      "None\n",
      "None\n",
      "None\n",
      "None\n",
      "None\n",
      "None\n",
      "None\n",
      "None\n",
      "None\n",
      "None\n",
      "None\n",
      "None\n",
      "None\n",
      "None\n",
      "None\n",
      "None\n",
      "None\n",
      "None\n",
      "None\n",
      "None\n",
      "None\n",
      "None\n",
      "None\n",
      "None\n",
      "None\n",
      "None\n",
      "None\n",
      "None\n",
      "None\n",
      "None\n",
      "None\n",
      "None\n",
      "None\n",
      "None\n",
      "None\n",
      "None\n",
      "None\n",
      "None\n",
      "None\n",
      "None\n"
     ]
    }
   ],
   "source": [
    "print(\"Road Vmax gradients:\")\n",
    "for road in bus_network.roads:\n",
    "    for v in road.Vmax:\n",
    "        print(v.grad)"
   ]
  },
  {
   "cell_type": "code",
   "execution_count": null,
   "metadata": {},
   "outputs": [
    {
     "name": "stdout",
     "output_type": "stream",
     "text": [
      "None\n",
      "None\n",
      "None\n",
      "None\n",
      "None\n",
      "None\n",
      "None\n",
      "None\n",
      "None\n",
      "None\n",
      "None\n",
      "None\n",
      "None\n",
      "None\n",
      "None\n",
      "None\n",
      "None\n",
      "None\n",
      "None\n",
      "None\n",
      "None\n",
      "None\n",
      "None\n",
      "None\n",
      "None\n",
      "None\n",
      "None\n",
      "None\n"
     ]
    }
   ],
   "source": [
    "for junction in bus_network.junctions:\n",
    "    for traffic_light in junction.trafficlights:\n",
    "        for t in traffic_light.cycle:\n",
    "            print(t.grad)\n",
    "\n",
    "    for traffic_light in junction.coupled_trafficlights:\n",
    "        for t in traffic_light.cycle:\n",
    "            print(t.grad)"
   ]
  },
  {
   "cell_type": "code",
   "execution_count": null,
   "metadata": {},
   "outputs": [
    {
     "name": "stdout",
     "output_type": "stream",
     "text": [
      "tensor(-2.4659e-15)\n",
      "tensor(-3.9577e-12)\n",
      "tensor(-3.9602e-12)\n",
      "tensor(-7.9203e-12)\n",
      "tensor(-1.5841e-11)\n",
      "tensor(-3.1681e-11)\n",
      "tensor(-6.3363e-11)\n",
      "tensor(-1.2673e-10)\n",
      "tensor(-2.5345e-10)\n",
      "tensor(-5.0690e-10)\n",
      "tensor(-1.0138e-09)\n",
      "tensor(-2.0276e-09)\n",
      "tensor(-4.0552e-09)\n",
      "tensor(-8.1104e-09)\n",
      "tensor(-1.6221e-08)\n",
      "tensor(-3.2442e-08)\n",
      "tensor(0.)\n",
      "tensor(0.)\n",
      "tensor(0.)\n",
      "tensor(0.)\n",
      "tensor(-1.7360)\n",
      "tensor(-1.4400)\n",
      "tensor(-0.8480)\n",
      "tensor(0.)\n",
      "tensor(0.)\n",
      "tensor(0.)\n",
      "tensor(0.)\n",
      "tensor(0.)\n",
      "tensor(0.)\n",
      "tensor(0.)\n",
      "tensor(0.)\n",
      "tensor(-6.4883e-08)\n",
      "tensor(-1.2977e-07)\n",
      "tensor(-2.5953e-07)\n",
      "tensor(-5.1907e-07)\n",
      "tensor(-1.0381e-06)\n",
      "tensor(-2.0763e-06)\n",
      "tensor(-4.1525e-06)\n",
      "tensor(-8.3051e-06)\n",
      "tensor(-1.6610e-05)\n",
      "tensor(-3.3220e-05)\n",
      "tensor(-6.6441e-05)\n",
      "tensor(-0.0001)\n",
      "tensor(-3.3096e-07)\n",
      "tensor(-0.0003)\n",
      "tensor(-0.0005)\n",
      "tensor(-0.0011)\n",
      "tensor(-5.2954e-06)\n",
      "tensor(-0.0021)\n",
      "tensor(-0.0523)\n",
      "tensor(-0.0085)\n",
      "tensor(-0.0171)\n",
      "tensor(-0.0341)\n",
      "tensor(-0.0683)\n",
      "tensor(-0.1366)\n",
      "tensor(-2.1185)\n",
      "tensor(-0.4109)\n",
      "tensor(-0.8217)\n",
      "tensor(-1.6435)\n",
      "tensor(-3.2869)\n",
      "tensor(-6.3874)\n",
      "tensor(-10.9804)\n",
      "tensor(-0.3044)\n",
      "None\n",
      "None\n",
      "None\n",
      "None\n",
      "None\n",
      "None\n",
      "None\n",
      "None\n",
      "None\n",
      "None\n",
      "None\n",
      "None\n",
      "None\n",
      "None\n",
      "None\n",
      "None\n",
      "None\n",
      "None\n",
      "None\n",
      "None\n",
      "None\n",
      "None\n",
      "None\n",
      "None\n",
      "None\n",
      "None\n",
      "None\n",
      "None\n"
     ]
    }
   ],
   "source": [
    "for p in params:\n",
    "    print(p.grad)"
   ]
  },
  {
   "cell_type": "code",
   "execution_count": null,
   "metadata": {},
   "outputs": [
    {
     "ename": "ValueError",
     "evalue": "not enough values to unpack (expected 2, got 1)",
     "output_type": "error",
     "traceback": [
      "\u001b[1;31m---------------------------------------------------------------------------\u001b[0m",
      "\u001b[1;31mValueError\u001b[0m                                Traceback (most recent call last)",
      "Cell \u001b[1;32mIn[55], line 1\u001b[0m\n\u001b[1;32m----> 1\u001b[0m derivative,_ \u001b[38;5;241m=\u001b[39m torch\u001b[38;5;241m.\u001b[39mautograd\u001b[38;5;241m.\u001b[39mgrad(objective, params[\u001b[38;5;241m0\u001b[39m], allow_unused\u001b[38;5;241m=\u001b[39m\u001b[38;5;28;01mTrue\u001b[39;00m, retain_graph\u001b[38;5;241m=\u001b[39m\u001b[38;5;28;01mTrue\u001b[39;00m)\n",
      "\u001b[1;31mValueError\u001b[0m: not enough values to unpack (expected 2, got 1)"
     ]
    }
   ],
   "source": [
    "derivative,_ = torch.autograd.grad(objective, params[0], allow_unused=True, retain_graph=True)"
   ]
  },
  {
   "cell_type": "code",
   "execution_count": null,
   "metadata": {},
   "outputs": [
    {
     "name": "stdout",
     "output_type": "stream",
     "text": [
      "(tensor(-1.2329e-15),)\n"
     ]
    }
   ],
   "source": [
    "print(derivative)"
   ]
  }
 ],
 "metadata": {
  "kernelspec": {
   "display_name": "traffic",
   "language": "python",
   "name": "python3"
  },
  "language_info": {
   "codemirror_mode": {
    "name": "ipython",
    "version": 3
   },
   "file_extension": ".py",
   "mimetype": "text/x-python",
   "name": "python",
   "nbconvert_exporter": "python",
   "pygments_lexer": "ipython3",
   "version": "3.10.12"
  }
 },
 "nbformat": 4,
 "nbformat_minor": 2
}
