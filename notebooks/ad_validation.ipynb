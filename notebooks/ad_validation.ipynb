{
 "cells": [
  {
   "cell_type": "code",
   "execution_count": 1,
   "metadata": {},
   "outputs": [],
   "source": [
    "import sys\n",
    "sys.path.append('../src')\n",
    "\n",
    "import road_network as rn\n",
    "import torch\n",
    "import matplotlib.pyplot as plt"
   ]
  },
  {
   "cell_type": "markdown",
   "metadata": {},
   "source": [
    "### Performing 1 iteration\n",
    "1 interior node, 4 boundary nodes, SSP RK scheme with Rusanov flux.\n",
    "\n",
    "First calculate derivative of speed at interior node after 1 iteration analytically (going through the scheme).\n",
    "Then compare with derivative coming from torch.autograd."
   ]
  },
  {
   "cell_type": "code",
   "execution_count": 5,
   "metadata": {},
   "outputs": [
    {
     "data": {
      "text/plain": [
       "{0: {0: tensor([0.0000, 0.2500, 0.5000, 0.7500, 1.0000]),\n",
       "  0.05000000074505806: tensor([0.2500, 0.2500, 0.5000, 0.5000, 0.5000], grad_fn=<CopySlices>),\n",
       "  0.15000000223517418: tensor([0.2500, 0.2500, 0.4111, 0.4111, 0.4111], grad_fn=<CopySlices>),\n",
       "  0.2500000037252903: tensor([0.2500, 0.2500, 0.3474, 0.3474, 0.3474], grad_fn=<CopySlices>),\n",
       "  0.3500000052154064: tensor([0.2500, 0.2500, 0.3053, 0.3053, 0.3053], grad_fn=<CopySlices>),\n",
       "  0.45000000670552254: tensor([0.2500, 0.2500, 0.2799, 0.2799, 0.2799], grad_fn=<CopySlices>),\n",
       "  0.5500000081956387: tensor([0.2500, 0.2500, 0.2656, 0.2656, 0.2656], grad_fn=<CopySlices>),\n",
       "  0.6500000096857548: tensor([0.2500, 0.2500, 0.2580, 0.2580, 0.2580], grad_fn=<CopySlices>),\n",
       "  0.7500000111758709: tensor([0.2500, 0.2500, 0.2540, 0.2540, 0.2540], grad_fn=<CopySlices>),\n",
       "  0.850000012665987: tensor([0.2500, 0.2500, 0.2520, 0.2520, 0.2520], grad_fn=<CopySlices>),\n",
       "  0.9500000141561031: tensor([0.2500, 0.2500, 0.2510, 0.2510, 0.2510], grad_fn=<CopySlices>),\n",
       "  1.0: tensor([0.2500, 0.2500, 0.2507, 0.2507, 0.2507], grad_fn=<CopySlices>)}}"
      ]
     },
     "execution_count": 5,
     "metadata": {},
     "output_type": "execute_result"
    }
   ],
   "source": [
    "t = 1 # Will only do one iteration anyways so doesn't matter\n",
    "l = 1 # So that gamma = vmax\n",
    "vmax = 10 # Not very important\n",
    "init_func = lambda x : torch.linspace(0,1,len(x))\n",
    "road = rn.Road(b=1, L = l, N = 1, Vmax=float(vmax),\n",
    "               initial=init_func, inflow = 0.25)\n",
    "\n",
    "network = rn.RoadNetwork([road], [], t)\n",
    "network.solve_cons_law()"
   ]
  }
 ],
 "metadata": {
  "kernelspec": {
   "display_name": "traffic",
   "language": "python",
   "name": "python3"
  },
  "language_info": {
   "codemirror_mode": {
    "name": "ipython",
    "version": 3
   },
   "file_extension": ".py",
   "mimetype": "text/x-python",
   "name": "python",
   "nbconvert_exporter": "python",
   "pygments_lexer": "ipython3",
   "version": "3.10.12"
  },
  "orig_nbformat": 4
 },
 "nbformat": 4,
 "nbformat_minor": 2
}
