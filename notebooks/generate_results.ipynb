{
 "cells": [
  {
   "cell_type": "code",
   "execution_count": 1,
   "metadata": {},
   "outputs": [],
   "source": [
    "import sys\n",
    "sys.path.append('../src')\n",
    "\n",
    "import network as nw\n",
    "import torch\n",
    "import generate_kvadraturen as gk\n",
    "import bus\n",
    "import road as rd\n",
    "import traffic_lights as tl\n",
    "import junction as jn\n",
    "import numpy as np\n",
    "import loading_json as load\n",
    "import json"
   ]
  },
  {
   "cell_type": "markdown",
   "metadata": {},
   "source": [
    "First we read in the configuration of the network from a json file before solving the conservation law"
   ]
  },
  {
   "cell_type": "code",
   "execution_count": 2,
   "metadata": {},
   "outputs": [],
   "source": [
    "f = open(\"../kvadraturen_networks/1_1.json\")\n",
    "data = json.load(f)\n",
    "f.close()\n",
    "T = data[\"T\"]\n",
    "# T = 30\n",
    "N = data[\"N\"]\n",
    "speed_limits = data[\"speed_limits\"] # Nested list\n",
    "control_points = data[\"control_points\"] # Nested list\n",
    "cycle_times = data[\"cycle_times\"] # Nested list"
   ]
  },
  {
   "cell_type": "code",
   "execution_count": 3,
   "metadata": {},
   "outputs": [],
   "source": [
    "bus_network = gk.generate_kvadraturen_roundabout_w_params(T, N, speed_limits, control_points, cycle_times,\n",
    "                                                          track_grad=False)"
   ]
  },
  {
   "cell_type": "code",
   "execution_count": 4,
   "metadata": {},
   "outputs": [
    {
     "name": "stdout",
     "output_type": "stream",
     "text": [
      "Bus 2 reached bus stop 0 at time 26.200014114379883, should wait for 29.826133728027344 seconds\n",
      "Bus 2 reached bus stop 1 at time 117.89981079101562, should wait for 29.562639236450195 seconds\n",
      "Bus 2 reached bus stop 2 at time 172.24998474121094, should wait for 29.89476203918457 seconds\n",
      "Bus 1 reached bus stop 0 at time 203.5999755859375, should wait for 29.689308166503906 seconds\n",
      "Bus 3 reached bus stop 0 at time 270.9000244140625, should wait for 29.991413116455078 seconds\n",
      "Bus 1 reached bus stop 1 at time 274.95013427734375, should wait for 29.638992309570312 seconds\n",
      "Bus 3 reached bus stop 1 at time 355.45001220703125, should wait for 29.65973472595215 seconds\n",
      "Bus 2 reached bus stop 3 at time 369.33197021484375, should wait for 29.800180435180664 seconds\n",
      "Bus 1 reached bus stop 2 at time 375.33819580078125, should wait for 29.84400749206543 seconds\n",
      "Bus 3 reached bus stop 2 at time 409.8031311035156, should wait for 29.850933074951172 seconds\n",
      "Bus 1 reached bus stop 3 at time 441.35003662109375, should wait for 29.72081184387207 seconds\n"
     ]
    }
   ],
   "source": [
    "densities, queues, bus_lengths, bus_delays = bus_network.solve_cons_law()"
   ]
  },
  {
   "cell_type": "markdown",
   "metadata": {},
   "source": [
    "Then we convert the format of the result from the simulation to be able to write it to a json file"
   ]
  },
  {
   "cell_type": "code",
   "execution_count": 5,
   "metadata": {},
   "outputs": [],
   "source": [
    "densities_loaded = load.convert_from_tensor(densities)\n",
    "queues_loaded = load.convert_from_tensor(queues)\n",
    "bus_lengths_loaded = load.convert_from_tensor(bus_lengths)\n",
    "bus_delay_dict = {i : [float(l.detach()) for l in bus_delays[i]] for i in range(len(bus_delays))}"
   ]
  },
  {
   "cell_type": "markdown",
   "metadata": {},
   "source": [
    "Writing the results to a json file"
   ]
  },
  {
   "cell_type": "code",
   "execution_count": 6,
   "metadata": {},
   "outputs": [],
   "source": [
    "import json\n",
    "with open(\"kvadraturen_500_orig.json\", 'w') as fd:\n",
    "    fd.write(json.dumps([densities_loaded, queues_loaded, bus_lengths_loaded, bus_delay_dict]))"
   ]
  },
  {
   "cell_type": "markdown",
   "metadata": {},
   "source": [
    "Store also the results only for interior nodes"
   ]
  },
  {
   "cell_type": "code",
   "execution_count": 7,
   "metadata": {},
   "outputs": [],
   "source": [
    "f = open(\"kvadraturen_500_orig.json\")\n",
    "data = json.load(f)\n",
    "f.close()\n",
    "densities = data[0]\n",
    "queues = data[1]\n",
    "bus_lengths = data[2]\n",
    "bus_delays = data[3]"
   ]
  },
  {
   "cell_type": "code",
   "execution_count": 8,
   "metadata": {},
   "outputs": [],
   "source": [
    "shortened_densities = {}\n",
    "for road_id in densities.keys():\n",
    "    shortened_densities[road_id] = {}\n",
    "    for t in densities[road_id].keys():\n",
    "        old_dens = densities[road_id][t]\n",
    "        new_dens = [old_dens[i] for i in range(2, len(old_dens)-2)]\n",
    "        shortened_densities[road_id][t] = new_dens      "
   ]
  },
  {
   "cell_type": "code",
   "execution_count": 9,
   "metadata": {},
   "outputs": [],
   "source": [
    "with open(\"kvadraturen_500_temp_opt_internal.json\", 'w') as fd:\n",
    "    fd.write(json.dumps([shortened_densities, queues, bus_lengths, bus_delays]))"
   ]
  },
  {
   "cell_type": "code",
   "execution_count": null,
   "metadata": {},
   "outputs": [],
   "source": []
  }
 ],
 "metadata": {
  "kernelspec": {
   "display_name": "traffic",
   "language": "python",
   "name": "python3"
  },
  "language_info": {
   "codemirror_mode": {
    "name": "ipython",
    "version": 3
   },
   "file_extension": ".py",
   "mimetype": "text/x-python",
   "name": "python",
   "nbconvert_exporter": "python",
   "pygments_lexer": "ipython3",
   "version": "3.10.12"
  }
 },
 "nbformat": 4,
 "nbformat_minor": 2
}
