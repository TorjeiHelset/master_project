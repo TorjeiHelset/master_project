{
 "cells": [
  {
   "cell_type": "code",
   "execution_count": 1,
   "metadata": {},
   "outputs": [],
   "source": [
    "import sys\n",
    "sys.path.append('../src_variable')\n",
    "\n",
    "import network as nw\n",
    "import torch\n",
    "import generate_kvadraturen as gk\n",
    "import bus\n",
    "import road as rd\n",
    "import traffic_lights as tl\n",
    "import junction as jn\n",
    "import numpy as np"
   ]
  },
  {
   "cell_type": "code",
   "execution_count": 2,
   "metadata": {},
   "outputs": [],
   "source": [
    "# torch.autograd.set_detect_anomaly(True)"
   ]
  },
  {
   "cell_type": "code",
   "execution_count": 3,
   "metadata": {},
   "outputs": [],
   "source": [
    "T = 400\n",
    "network = gk.generate_kvadraturen_small(T)\n",
    "# network = gk.generate_kvadraturen_wo_tl(T)\n",
    "\n",
    "ids_bw = [\"lundsbro_bw\", \"elvegata_bw\", \"tollbod_6bw\", \"tollbod_5bw\", \"tollbod_4bw\", \n",
    "        \"tollbod_3bw\", \"tollbod_2bw\", \"tollbod_1bw\", \"v_strand_7bw\", \"v_strand_6bw\",\n",
    "            \"v_strand_5bw\", \"v_strand_4bw\", \"v_strand_3bw\", \"v_strand_2bw\", \"v_strand_1bw\"]            \n",
    "            \n",
    "\n",
    "stops_bw = [(\"tollbod_6bw\", 50), (\"tollbod_3bw\", 90), (\"tollbod_1bw\", 30), (\"v_strand_3bw\", 25)]\n",
    "# stops_bw = [(\"tollbod_6bw\", 50), (\"tollbod_3bw\", 90)]\n",
    "\n",
    "times_bw = [40, 130, 190, 250]\n",
    "# times_bw = [10, 70]\n",
    "\n",
    "bus_bw = bus.Bus(ids_bw, stops_bw, times_bw, network)\n",
    "\n",
    "ids_fw = [\"v_strand_1fw\", \"v_strand_2fw\", \"v_strand_3fw\", \"h_w_2\", \"h_w_3\",\n",
    "    \"h_w_4\", \"festning_4fw\", \"festning_5fw\", \"festning_6fw\", \"festning_7fw\",\n",
    "    \"tollbod_4fw\", \"tollbod_5fw\", \"tollbod_6fw\", \"elvegata_fw\", \"lundsbro_fw\"]\n",
    "\n",
    "stops_fw = [(\"v_strand_1fw\", 40), (\"h_w_3\", 30), (\"festning_5fw\", 40), (\"tollbod_4fw\", 25), \n",
    "            (\"tollbod_6fw\", 60)]\n",
    "# stops_fw = [(\"h_w_3\", 30), (\"festning_5fw\", 40), (\"tollbod_4fw\", 25), \n",
    "#             (\"tollbod_6fw\", 60)]\n",
    "# stops_fw = [(\"h_w_3\", 30), (\"festning_5fw\", 40), (\"tollbod_4fw\", 10)]\n",
    "times_fw = [1, 30, 110, 130, 230]\n",
    "# times_fw = [10, 40, 80, 120]\n",
    "# times_fw = [10, 40, 70]\n",
    "\n",
    "bus_fw = bus.Bus(ids_fw, stops_fw, times_fw, network)"
   ]
  },
  {
   "cell_type": "code",
   "execution_count": 4,
   "metadata": {},
   "outputs": [],
   "source": [
    "# Create actual network\n",
    "roads = network.roads\n",
    "junctions = network.junctions\n",
    "T = network.T\n",
    "# Don't store the densities \n",
    "# bus_network = nw.RoadNetwork(roads, junctions, T, [bus_fw, bus_bw], store_densities = False)\n",
    "bus_network = nw.RoadNetwork(roads, junctions, T, [bus_fw, bus_bw], store_densities = False)"
   ]
  },
  {
   "cell_type": "code",
   "execution_count": 5,
   "metadata": {},
   "outputs": [],
   "source": [
    "# with torch.autograd.set_detect_anomaly(True):\n",
    "#     densities, queues, bus_lengths, bus_delays = bus_network.solve_cons_law()\n",
    "densities, queues, bus_lengths, bus_delays = bus_network.solve_cons_law()"
   ]
  },
  {
   "cell_type": "code",
   "execution_count": 6,
   "metadata": {},
   "outputs": [
    {
     "name": "stdout",
     "output_type": "stream",
     "text": [
      "{0: [tensor(2.5116, grad_fn=<AddBackward0>), tensor(0., grad_fn=<AddBackward0>), tensor(0., grad_fn=<AddBackward0>), tensor(58.6466, grad_fn=<AddBackward0>), tensor(17.1148, grad_fn=<AddBackward0>)], 1: [tensor(0., grad_fn=<AddBackward0>), tensor(0., grad_fn=<AddBackward0>), tensor(0., grad_fn=<AddBackward0>), tensor(117.3570, grad_fn=<AddBackward0>)]}\n"
     ]
    }
   ],
   "source": [
    "print(bus_delays)"
   ]
  },
  {
   "cell_type": "code",
   "execution_count": 7,
   "metadata": {},
   "outputs": [],
   "source": [
    "# Cloning just to be safe\n",
    "# objective = bus_delays[0][0].clone() #+ bus_delays[1][0].clone()\n",
    "# for i in range(len(bus_delays)):\n",
    "#     for j in range(len(bus_delays[i])):\n",
    "#         if i == 0 and j == 0:\n",
    "#             continue\n",
    "#         objective = objective + bus_delays[i][j].clone()\n",
    "# objective = bus_delays[0][0] + bus_delays[0][1] + bus_delays[0][2]\n",
    "objective = torch.tensor(0.0)\n",
    "\n",
    "# Error with stop number 3 and 4 for fw bus and stop 4 for bw bus\n",
    "\n",
    "# objective = bus_delays[0][0]  \n",
    "for i in range(len(bus_delays)):\n",
    "    for j in range(len(bus_delays[i])):\n",
    "        # if j == 2:\n",
    "        #     continue\n",
    "        objective = objective + bus_delays[i][j]"
   ]
  },
  {
   "cell_type": "code",
   "execution_count": 8,
   "metadata": {},
   "outputs": [
    {
     "name": "stdout",
     "output_type": "stream",
     "text": [
      "tensor(195.6299, grad_fn=<AddBackward0>)\n"
     ]
    }
   ],
   "source": [
    "print(objective)"
   ]
  },
  {
   "cell_type": "code",
   "execution_count": 9,
   "metadata": {},
   "outputs": [],
   "source": [
    "# objective.backward(retain_graph=True)\n",
    "objective.backward(retain_graph=True)"
   ]
  },
  {
   "cell_type": "code",
   "execution_count": 10,
   "metadata": {},
   "outputs": [],
   "source": [
    "params = [v for road in bus_network.roads for v in road.Vmax] +\\\n",
    "        [t for junction in bus_network.junctions for traffic_light in junction.trafficlights for t in traffic_light.cycle] +\\\n",
    "        [t for junction in bus_network.junctions for traffic_light in junction.coupled_trafficlights for t in traffic_light.cycle]"
   ]
  },
  {
   "cell_type": "code",
   "execution_count": 11,
   "metadata": {},
   "outputs": [
    {
     "name": "stdout",
     "output_type": "stream",
     "text": [
      "Road Vmax gradients:\n",
      "tensor(-0.2147)\n",
      "tensor(5.1381e-09)\n",
      "tensor(1.5925e-07)\n",
      "tensor(2.1815e-05)\n",
      "tensor(2.4246e-05)\n",
      "tensor(-7.8203e-05)\n",
      "tensor(7.5396e-05)\n",
      "tensor(7.5433e-05)\n",
      "tensor(-7.1640e-11)\n",
      "tensor(-2.9962e-11)\n",
      "tensor(-0.1284)\n",
      "tensor(-0.0035)\n",
      "tensor(-4.7124e-05)\n",
      "tensor(-0.0002)\n",
      "tensor(0.0002)\n",
      "tensor(-8.8593e-06)\n",
      "tensor(0.0002)\n",
      "tensor(2.1430e-10)\n",
      "tensor(-2.1953e-09)\n",
      "tensor(0.)\n",
      "tensor(-1.8762)\n",
      "tensor(-1.4539)\n",
      "tensor(-0.8621)\n",
      "tensor(-0.0010)\n",
      "tensor(-0.0007)\n",
      "tensor(-0.0007)\n",
      "tensor(-0.0008)\n",
      "tensor(-0.0006)\n",
      "tensor(-0.0006)\n",
      "tensor(-4.5511e-07)\n",
      "tensor(-0.0003)\n",
      "tensor(0.0001)\n",
      "tensor(-0.0016)\n",
      "tensor(0.0001)\n",
      "tensor(-3.3369e-06)\n",
      "tensor(-1.2600e-05)\n",
      "tensor(-9.5367e-05)\n",
      "tensor(3.3264e-05)\n",
      "tensor(2.0803e-06)\n",
      "tensor(-0.0314)\n",
      "tensor(-0.1452)\n",
      "tensor(-0.0166)\n",
      "tensor(0.0005)\n",
      "tensor(-3.4343e-07)\n",
      "tensor(-6.4915e-07)\n",
      "tensor(-0.0007)\n",
      "tensor(-2.7000e-06)\n",
      "tensor(0.0174)\n",
      "tensor(-0.0001)\n",
      "tensor(0.0040)\n",
      "tensor(-0.0435)\n",
      "tensor(-0.0001)\n",
      "tensor(-8.4380e-05)\n",
      "tensor(-0.0016)\n",
      "tensor(-0.0007)\n",
      "tensor(-0.0306)\n",
      "tensor(-0.0123)\n",
      "tensor(-0.0018)\n",
      "tensor(-0.0034)\n",
      "tensor(-0.0089)\n",
      "tensor(-0.0200)\n",
      "tensor(-0.0125)\n",
      "tensor(-0.0165)\n"
     ]
    }
   ],
   "source": [
    "print(\"Road Vmax gradients:\")\n",
    "for road in bus_network.roads:\n",
    "    for v in road.Vmax:\n",
    "        print(v.grad)"
   ]
  },
  {
   "cell_type": "code",
   "execution_count": 12,
   "metadata": {},
   "outputs": [
    {
     "name": "stdout",
     "output_type": "stream",
     "text": [
      "tensor(2.7797e-06)\n",
      "tensor(3.3811e-06)\n",
      "tensor(-0.0002)\n",
      "tensor(3.9738e-05)\n",
      "tensor(0.0001)\n",
      "tensor(9.1615e-05)\n",
      "tensor(0.0001)\n",
      "tensor(-3.3951e-05)\n",
      "tensor(-0.0004)\n",
      "tensor(8.7675e-10)\n",
      "tensor(0.0001)\n",
      "tensor(-8.0652e-09)\n",
      "tensor(0.0005)\n",
      "tensor(7.1534e-09)\n",
      "tensor(-0.0001)\n",
      "tensor(3.6390e-26)\n",
      "tensor(1.6812e-05)\n",
      "tensor(-2.9619e-06)\n",
      "tensor(-0.0005)\n",
      "tensor(9.5887e-05)\n",
      "tensor(0.0004)\n",
      "tensor(4.2679e-24)\n",
      "tensor(7.4302e-05)\n",
      "tensor(7.4316e-05)\n",
      "tensor(0.0005)\n",
      "tensor(0.0006)\n"
     ]
    }
   ],
   "source": [
    "for junction in bus_network.junctions:\n",
    "    for traffic_light in junction.trafficlights:\n",
    "        for t in traffic_light.cycle:\n",
    "            print(t.grad)\n",
    "\n",
    "    for traffic_light in junction.coupled_trafficlights:\n",
    "        for t in traffic_light.cycle:\n",
    "            print(t.grad)"
   ]
  },
  {
   "cell_type": "code",
   "execution_count": null,
   "metadata": {},
   "outputs": [],
   "source": []
  },
  {
   "cell_type": "code",
   "execution_count": 13,
   "metadata": {},
   "outputs": [
    {
     "name": "stdout",
     "output_type": "stream",
     "text": [
      "(False, 0.0)\n",
      "(False, 0.0)\n",
      "(False, 0.0)\n",
      "(False, 0.0)\n",
      "(False, 0.0)\n",
      "(False, 0.0)\n",
      "(False, 0.0)\n",
      "(False, 0.0)\n",
      "(False, 0.0)\n",
      "(False, 0.0)\n",
      "(False, 0.0)\n",
      "(False, 0.0)\n",
      "(False, 0.0)\n",
      "(False, 0.0)\n",
      "(True, 1.0)\n",
      "(False, 0.0)\n",
      "(False, 0.0)\n",
      "(False, 0.0)\n",
      "(False, 0.0)\n",
      "(False, 0.0)\n",
      "(False, 0.0)\n",
      "(False, 0.0)\n",
      "(False, 0.0)\n",
      "(False, 0.0)\n",
      "(False, 0.0)\n",
      "(False, 0.0)\n",
      "(False, 0.0)\n"
     ]
    }
   ],
   "source": [
    "for j in bus_network.junctions:\n",
    "    print(j.get_activation(195.0, \"tollbod_4fw\", \"tollbod_5fw\"))\n",
    "    # print(j.get_activation(195.0, \"festning_7fw\", \"tollbod_4fw\"))\n",
    "\n",
    "    "
   ]
  }
 ],
 "metadata": {
  "kernelspec": {
   "display_name": "traffic",
   "language": "python",
   "name": "python3"
  },
  "language_info": {
   "codemirror_mode": {
    "name": "ipython",
    "version": 3
   },
   "file_extension": ".py",
   "mimetype": "text/x-python",
   "name": "python",
   "nbconvert_exporter": "python",
   "pygments_lexer": "ipython3",
   "version": "3.10.12"
  }
 },
 "nbformat": 4,
 "nbformat_minor": 2
}
