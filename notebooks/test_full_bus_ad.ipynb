{
 "cells": [
  {
   "cell_type": "code",
   "execution_count": 1,
   "metadata": {},
   "outputs": [],
   "source": [
    "import sys\n",
    "sys.path.append('../src')\n",
    "\n",
    "import network as nw\n",
    "import torch\n",
    "import generate_kvadraturen as gk\n",
    "import bus\n",
    "import road as rd\n",
    "import traffic_lights as tl\n",
    "import junction as jn\n",
    "import numpy as np\n",
    "import loading_json as load"
   ]
  },
  {
   "cell_type": "code",
   "execution_count": 2,
   "metadata": {},
   "outputs": [],
   "source": [
    "T = 30\n",
    "bus_network = gk.generate_kvadraturen_w_bus(T)"
   ]
  },
  {
   "cell_type": "code",
   "execution_count": 3,
   "metadata": {},
   "outputs": [
    {
     "name": "stdout",
     "output_type": "stream",
     "text": [
      "Bus 2 reached bus stop 0 at time 27.550016403198242, should wait for 29.835927963256836 seconds\n"
     ]
    }
   ],
   "source": [
    "# with torch.autograd.set_detect_anomaly(True):\n",
    "#     densities, queues, bus_lengths, bus_delays = bus_network.solve_cons_law()\n",
    "\n",
    "densities, queues, bus_lengths, bus_delays = bus_network.solve_cons_law()"
   ]
  },
  {
   "cell_type": "code",
   "execution_count": 4,
   "metadata": {},
   "outputs": [],
   "source": [
    "# 27.550016403198242, should wait for 29.835927963256836 seconds"
   ]
  },
  {
   "cell_type": "code",
   "execution_count": 5,
   "metadata": {},
   "outputs": [
    {
     "name": "stdout",
     "output_type": "stream",
     "text": [
      "{0: [tensor(0.), tensor(0.), tensor(0.), tensor(0.)], 1: [tensor(23.8359, grad_fn=<AddBackward0>), tensor(0.), tensor(0.), tensor(0.)], 2: [tensor(0.), tensor(0.), tensor(0.), tensor(0.)], 3: [tensor(0.), tensor(0.), tensor(0.), tensor(0.)]}\n"
     ]
    }
   ],
   "source": [
    "print(bus_delays)"
   ]
  },
  {
   "cell_type": "code",
   "execution_count": 6,
   "metadata": {},
   "outputs": [
    {
     "name": "stdout",
     "output_type": "stream",
     "text": [
      "tensor(23.8359, grad_fn=<AddBackward0>)\n"
     ]
    }
   ],
   "source": [
    "objective_fnc = torch.tensor(0.0)\n",
    "for i in range(len(bus_delays)):\n",
    "    for j in range(len(bus_delays[i])):\n",
    "        objective_fnc = objective_fnc + bus_delays[i][j]\n",
    "print(objective_fnc)"
   ]
  },
  {
   "cell_type": "code",
   "execution_count": 7,
   "metadata": {},
   "outputs": [],
   "source": [
    "objective_fnc.backward()"
   ]
  },
  {
   "cell_type": "code",
   "execution_count": 8,
   "metadata": {},
   "outputs": [
    {
     "ename": "NameError",
     "evalue": "name 'adgHSKKL' is not defined",
     "output_type": "error",
     "traceback": [
      "\u001b[1;31m---------------------------------------------------------------------------\u001b[0m",
      "\u001b[1;31mNameError\u001b[0m                                 Traceback (most recent call last)",
      "Cell \u001b[1;32mIn[8], line 1\u001b[0m\n\u001b[1;32m----> 1\u001b[0m \u001b[43madgHSKKL\u001b[49m\n",
      "\u001b[1;31mNameError\u001b[0m: name 'adgHSKKL' is not defined"
     ]
    }
   ],
   "source": [
    "adgHSKKL"
   ]
  },
  {
   "cell_type": "code",
   "execution_count": null,
   "metadata": {},
   "outputs": [
    {
     "data": {
      "text/plain": [
       "tensor(0.)"
      ]
     },
     "execution_count": 27,
     "metadata": {},
     "output_type": "execute_result"
    }
   ],
   "source": [
    "n = 4\n",
    "m = 3\n",
    "A = torch.ones((n, m))\n",
    "B = torch.tensor([[1.3, 5.2, 12.4],\n",
    "                  [24.1, 0.04, 0.5],\n",
    "                  [12.1, 12.4, 22.2],\n",
    "                  [1.2, 4.6, 7.8]])\n",
    "i = 3\n",
    "j = 1\n",
    "tot_sum = torch.tensor(0.0)\n",
    "mask = torch.ones(n, dtype=torch.bool)\n",
    "mask[i] = False\n",
    "filtered_tensor = torch.cat((B[:i,j], B[i+1:,j]))\n",
    "for l in range(n):\n",
    "    if l != i:\n",
    "        tot_sum += B[l,j]\n",
    "second_sum = torch.sum(B[mask, j])\n",
    "\n",
    "tot_sum\n",
    "second_sum - tot_sum"
   ]
  },
  {
   "cell_type": "code",
   "execution_count": null,
   "metadata": {},
   "outputs": [],
   "source": [
    "densities_loaded = load.convert_from_tensor(densities)\n",
    "queues_loaded = load.convert_from_tensor(queues)\n",
    "bus_lengths_loaded = load.convert_from_tensor(bus_lengths)"
   ]
  },
  {
   "cell_type": "code",
   "execution_count": null,
   "metadata": {},
   "outputs": [],
   "source": [
    "bus_delays_dict = {0: [float(l.detach()) for l in bus_delays[0]],\n",
    "                   1: [float(l.detach()) for l in bus_delays[1]],\n",
    "                   2: [float(l.detach()) for l in bus_delays[2]],\n",
    "                   3: [float(l.detach()) for l in bus_delays[3]]}\n",
    "                   "
   ]
  },
  {
   "cell_type": "code",
   "execution_count": null,
   "metadata": {},
   "outputs": [],
   "source": [
    "# Write above dictionaries to json file\n",
    "import json\n",
    "# with open(\"kvadraturen_results_minimal_1000_variable.json\", 'w') as fd:\n",
    "#     fd.write(json.dumps([densities, queues, bus_lengths, bus_delays_dict]))\n",
    "with open(\"kvadraturen_roundabout_750.json\", 'w') as fd:\n",
    "    fd.write(json.dumps([densities_loaded, queues_loaded, bus_lengths_loaded, bus_delays_dict]))"
   ]
  },
  {
   "cell_type": "code",
   "execution_count": null,
   "metadata": {},
   "outputs": [
    {
     "name": "stdout",
     "output_type": "stream",
     "text": [
      "Loading results...\n"
     ]
    }
   ],
   "source": [
    "import json\n",
    "print(\"Loading results...\")\n",
    "f = open(\"kvadraturen_roundabout_750.json\")\n",
    "data = json.load(f)\n",
    "f.close()\n",
    "densities = data[0]\n",
    "queues = data[1]\n",
    "bus_lengths = data[2]\n",
    "bus_delays = data[3]"
   ]
  },
  {
   "cell_type": "code",
   "execution_count": null,
   "metadata": {},
   "outputs": [
    {
     "name": "stdout",
     "output_type": "stream",
     "text": [
      "Maximum and minimum x points: 7, -0.5\n",
      "Maximum and minimum y points: -0.4, 8.9\n",
      "Window created\n"
     ]
    },
    {
     "ename": "",
     "evalue": "",
     "output_type": "error",
     "traceback": [
      "\u001b[1;31mThe Kernel crashed while executing code in the current cell or a previous cell. \n",
      "\u001b[1;31mPlease review the code in the cell(s) to identify a possible cause of the failure. \n",
      "\u001b[1;31mClick <a href='https://aka.ms/vscodeJupyterKernelCrash'>here</a> for more info. \n",
      "\u001b[1;31mView Jupyter <a href='command:jupyter.viewOutput'>log</a> for further details."
     ]
    }
   ],
   "source": [
    "import openGLUtilsGif as opgl\n",
    "opgl.draw_busses_w_densities(bus_network, [bus_fw, bus_bw, bus_fw_2, bus_bw_2], bus_lengths,\n",
    "                                    densities, output_name=\"test_roundabout.gif\")"
   ]
  }
 ],
 "metadata": {
  "kernelspec": {
   "display_name": "traffic",
   "language": "python",
   "name": "python3"
  },
  "language_info": {
   "codemirror_mode": {
    "name": "ipython",
    "version": 3
   },
   "file_extension": ".py",
   "mimetype": "text/x-python",
   "name": "python",
   "nbconvert_exporter": "python",
   "pygments_lexer": "ipython3",
   "version": "3.10.12"
  }
 },
 "nbformat": 4,
 "nbformat_minor": 2
}
