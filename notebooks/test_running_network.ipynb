{
 "cells": [
  {
   "cell_type": "code",
   "execution_count": 2,
   "metadata": {},
   "outputs": [],
   "source": [
    "import sys\n",
    "sys.path.append('../src')\n",
    "\n",
    "import generate_kvadraturen as gk"
   ]
  },
  {
   "cell_type": "code",
   "execution_count": 3,
   "metadata": {},
   "outputs": [
    {
     "name": "stdout",
     "output_type": "stream",
     "text": [
      "Bus 2 reached bus stop 0 at time 27.10001564025879, should wait for 29.56817054748535 seconds\n"
     ]
    }
   ],
   "source": [
    "T = 30\n",
    "bus_network = gk.generate_kvadraturen_w_bus(T, track_grad=False)\n",
    "densities, queues, bus_lengths, bus_delays = bus_network.solve_cons_law()"
   ]
  },
  {
   "cell_type": "code",
   "execution_count": 15,
   "metadata": {},
   "outputs": [
    {
     "name": "stdout",
     "output_type": "stream",
     "text": [
      "tensor([3., 4.]) tensor([4., 5.])\n",
      "tensor([1., 2.]) tensor([2., 3.])\n"
     ]
    }
   ],
   "source": [
    "import torch\n",
    "a = torch.tensor([1., 2., 3., 4., 5.])\n",
    "pad = 2\n",
    "print(a[-pad-1:-1], a[-pad:])\n",
    "print(a[:pad], a[1:pad+1])"
   ]
  }
 ],
 "metadata": {
  "kernelspec": {
   "display_name": "traffic",
   "language": "python",
   "name": "python3"
  },
  "language_info": {
   "codemirror_mode": {
    "name": "ipython",
    "version": 3
   },
   "file_extension": ".py",
   "mimetype": "text/x-python",
   "name": "python",
   "nbconvert_exporter": "python",
   "pygments_lexer": "ipython3",
   "version": "3.10.12"
  }
 },
 "nbformat": 4,
 "nbformat_minor": 2
}
