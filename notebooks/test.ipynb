{
 "cells": [
  {
   "cell_type": "code",
   "execution_count": 2,
   "metadata": {},
   "outputs": [],
   "source": [
    "import numpy as np\n",
    "import matplotlib.pyplot as plt"
   ]
  },
  {
   "cell_type": "code",
   "execution_count": 3,
   "metadata": {},
   "outputs": [],
   "source": [
    "def slowdown(rho, factor):\n",
    "    return 1 - (1-factor)/2 + rho*(factor-1)/2"
   ]
  },
  {
   "cell_type": "code",
   "execution_count": 4,
   "metadata": {},
   "outputs": [],
   "source": [
    "factor = 0.7"
   ]
  },
  {
   "cell_type": "code",
   "execution_count": 5,
   "metadata": {},
   "outputs": [],
   "source": [
    "densities = np.linspace(0,1,100)\n",
    "factors = slowdown(densities, factor)"
   ]
  },
  {
   "cell_type": "code",
   "execution_count": 6,
   "metadata": {},
   "outputs": [
    {
     "data": {
      "text/plain": [
       "[<matplotlib.lines.Line2D at 0x1d1a5b75870>]"
      ]
     },
     "execution_count": 6,
     "metadata": {},
     "output_type": "execute_result"
    },
    {
     "data": {
      "image/png": "[encoded data removed]",
      "text/plain": [
       "<Figure size 640x480 with 1 Axes>"
      ]
     },
     "metadata": {},
     "output_type": "display_data"
    }
   ],
   "source": [
    "plt.plot(densities, factors)"
   ]
  },
  {
   "cell_type": "code",
   "execution_count": 7,
   "metadata": {},
   "outputs": [
    {
     "data": {
      "text/plain": [
       "0.7"
      ]
     },
     "execution_count": 7,
     "metadata": {},
     "output_type": "execute_result"
    }
   ],
   "source": [
    "slowdown(1, 0.7)"
   ]
  },
  {
   "cell_type": "code",
   "execution_count": 8,
   "metadata": {},
   "outputs": [],
   "source": [
    "import torch"
   ]
  },
  {
   "cell_type": "code",
   "execution_count": 9,
   "metadata": {},
   "outputs": [
    {
     "data": {
      "text/plain": [
       "tensor([ 5.0000, 10.0000, 15.0000, 20.0000, 25.0000, 30.0000, 35.0000, 40.0000,\n",
       "        45.0000])"
      ]
     },
     "execution_count": 9,
     "metadata": {},
     "output_type": "execute_result"
    }
   ],
   "source": [
    "N = 6\n",
    "pad = 2\n",
    "dx = torch.tensor(1 / (N+2*pad))\n",
    "L = 50\n",
    "b = 1\n",
    "N_internal = N*b + (b-1) * 2*pad\n",
    "N_full = N_internal +  2*pad\n",
    "j = torch.arange(0, N_full, 1)\n",
    "\n",
    "x =  (j + 1/2) * dx \n",
    "x*L # midpoints of cell\n",
    "# Interfaces located at \n",
    "(x[:-1] + 1/2 * dx) * L\n"
   ]
  },
  {
   "cell_type": "code",
   "execution_count": 10,
   "metadata": {},
   "outputs": [
    {
     "data": {
      "text/plain": [
       "tensor([ 5.0000, 10.0000, 15.0000, 20.0000])"
      ]
     },
     "execution_count": 10,
     "metadata": {},
     "output_type": "execute_result"
    }
   ],
   "source": [
    "N = 1\n",
    "pad = 2\n",
    "dx = torch.tensor(1 / (N+2*pad))\n",
    "L = 25\n",
    "b = 1\n",
    "N_internal = N*b + (b-1) * 2*pad\n",
    "N_full = N_internal +  2*pad\n",
    "j = torch.arange(0, N_full, 1)\n",
    "\n",
    "x =  (j + 1/2) * dx \n",
    "x*L # midpoints of cell\n",
    "# Interfaces located at \n",
    "(x[:-1] + 1/2 * dx) * L"
   ]
  },
  {
   "cell_type": "code",
   "execution_count": 11,
   "metadata": {},
   "outputs": [
    {
     "data": {
      "text/plain": [
       "[0.0,\n",
       " 0.09090909090909091,\n",
       " 0.18181818181818182,\n",
       " 0.2727272727272727,\n",
       " 0.36363636363636365,\n",
       " 0.4545454545454546,\n",
       " 0.5454545454545454,\n",
       " 0.6363636363636364,\n",
       " 0.7272727272727273,\n",
       " 0.8181818181818182,\n",
       " 0.9090909090909092,\n",
       " 1.0]"
      ]
     },
     "execution_count": 11,
     "metadata": {},
     "output_type": "execute_result"
    }
   ],
   "source": [
    "N = 10\n",
    "xL = 0\n",
    "xR = 1\n",
    "dx = (xR - xL) / ( N + 1 )\n",
    "xj = [xL + (j+1/2)*dx for j in range(N+1)]\n",
    "midpoint = [xL + j*dx for j in range(N+2)]\n",
    "midpoint"
   ]
  },
  {
   "cell_type": "markdown",
   "metadata": {},
   "source": [
    "#### Different ways of initializing the grid:\n",
    "\n",
    "1. Internal cells span the entire road:\n",
    "\n",
    "Suppose there are N internal cells, and that the left and right edges of the interval is given by 0 and 1. Then, we define the grid length $\\Delta x$ as \n",
    "$$\n",
    "\\Delta x = \\frac{1}{N}.\n",
    "$$\n",
    "\n",
    "We also define the midpoints of the cells as \n",
    "$$\n",
    "x_j = (j+1/2) \\Delta x, \\text{ for } j = 0, 1, ..., N -1.\n",
    "$$\n",
    "Finally, we define the interfaces of the cells as \n",
    "$$\n",
    "x_{j-1/2} = j \\Delta x, \\text{ for } j = 0, 1, ..., N.\n",
    "$$\n",
    "\n",
    "Depending on the order of the scheme in use, we also need some boundary cells.\n",
    "For a first order scheme, we define the two ghost cells \n",
    "$$\n",
    "\\mathcal{C}_0 = [-\\Delta x, 0), \\quad \\mathcal{C}_{N+1} = [1, 1+\\Delta x).\n",
    "$$\n",
    "For a second order scheme, we define the additional ghost cells \n",
    "$$\n",
    "\\mathcal{C}_{-1} = [-2\\Delta x, -2\\Delta x), \\quad \\mathcal{C}_{N+1} = [1+\\Delta x, 2+\\Delta x).\n",
    "$$\n",
    "\n",
    "2. Boundary cells are also situated on the road:"
   ]
  },
  {
   "cell_type": "code",
   "execution_count": 12,
   "metadata": {},
   "outputs": [
    {
     "data": {
      "text/plain": [
       "tensor([-0.3000, -0.1000,  0.1000,  0.3000,  0.5000,  0.7000,  0.9000,  1.1000,\n",
       "         1.3000,  1.5000,  1.7000,  1.9000,  2.1000,  2.3000])"
      ]
     },
     "execution_count": 12,
     "metadata": {},
     "output_type": "execute_result"
    }
   ],
   "source": [
    "# Example\n",
    "N = 5\n",
    "pad = 2\n",
    "L = 25\n",
    "b = 2\n",
    "\n",
    "dx = 1 / N\n",
    "n_full = b*N + 2 * pad\n",
    "\n",
    "j = torch.arange(-pad, b*N+pad, 1)\n",
    "x = (j+1/2) * dx\n",
    "x"
   ]
  },
  {
   "cell_type": "code",
   "execution_count": 13,
   "metadata": {},
   "outputs": [
    {
     "name": "stdout",
     "output_type": "stream",
     "text": [
      "14\n",
      "14\n"
     ]
    }
   ],
   "source": [
    "print(len(j))\n",
    "print(b*N + 2 * pad)"
   ]
  },
  {
   "cell_type": "code",
   "execution_count": 17,
   "metadata": {},
   "outputs": [
    {
     "data": {
      "text/plain": [
       "tensor([1, 2])"
      ]
     },
     "execution_count": 17,
     "metadata": {},
     "output_type": "execute_result"
    }
   ],
   "source": [
    "torch.arange(1,3,1)"
   ]
  },
  {
   "cell_type": "code",
   "execution_count": 29,
   "metadata": {},
   "outputs": [
    {
     "name": "stdout",
     "output_type": "stream",
     "text": [
      "tensor(0.2000) tensor(0.)\n",
      "tensor(0.6000) tensor(1.)\n",
      "tensor(1.) tensor(2.)\n",
      "tensor(1.4000) tensor(3.)\n",
      "tensor(1.8000) tensor(4.)\n"
     ]
    }
   ],
   "source": [
    "n = 5\n",
    "b = 2\n",
    "a = n / b\n",
    "x = torch.arange(b/n*1/2,b + b/n*1/2, b/n)\n",
    "pos = a*x - 1/2\n",
    "for i in range(len(x)):\n",
    "    print(x[i], pos[i])"
   ]
  }
 ],
 "metadata": {
  "kernelspec": {
   "display_name": "traffic",
   "language": "python",
   "name": "python3"
  },
  "language_info": {
   "codemirror_mode": {
    "name": "ipython",
    "version": 3
   },
   "file_extension": ".py",
   "mimetype": "text/x-python",
   "name": "python",
   "nbconvert_exporter": "python",
   "pygments_lexer": "ipython3",
   "version": "3.10.12"
  }
 },
 "nbformat": 4,
 "nbformat_minor": 2
}
