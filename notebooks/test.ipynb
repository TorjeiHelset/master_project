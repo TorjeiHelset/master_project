{
 "cells": [
  {
   "cell_type": "code",
   "execution_count": 1,
   "metadata": {},
   "outputs": [],
   "source": [
    "import sys\n",
    "sys.path.append(\"../src\")\n",
    "import torch\n",
    "import FV_schemes as fv"
   ]
  },
  {
   "cell_type": "code",
   "execution_count": 15,
   "metadata": {},
   "outputs": [],
   "source": [
    "rho = torch.tensor([0.4779, 0.4703, 0.4523, 0.4414, 0.4278, 0.4184, 0.4085, 0.4028, 0.4005,\n",
    "        0.4000, 0.4000, 0.4000, 0.4000, 0.4000, 0.4003, 0.4002, 0.3997, 0.3998,\n",
    "        0.4000, 0.4000, 0.4000, 0.4000, 0.4000, 0.4000])\n",
    "N_full = len(rho)\n",
    "slowdown_factor = torch.ones(N_full-1)\n",
    "slowdown_factor = torch.tensor([1.0000, 1.0000, 1.0000, 1.0000, 1.0000, 1.0000, 1.0000, 1.0000, 1.0000,\n",
    "        1.0000, 1.0000, 1.0000, 1.0000, 1.0000, 1.0000, 1.0000, 1.0000, 0.2209,\n",
    "        0.4515, 0.9731, 0.9996, 1.0000, 1.0000])\n",
    "dx = torch.tensor(0.1667)\n",
    "limiter = torch.tensor(1.0)\n",
    "gamma = torch.tensor(0.2222)\n",
    "dt = torch.tensor(0.2222)\n",
    "# dt = torch.tensor(3.73872)"
   ]
  },
  {
   "cell_type": "code",
   "execution_count": 16,
   "metadata": {},
   "outputs": [
    {
     "name": "stdout",
     "output_type": "stream",
     "text": [
      "tensor([0.4779, 0.4703, 0.4528, 0.4418, 0.4283, 0.4189, 0.4089, 0.4030, 0.4006,\n",
      "        0.4000, 0.4000, 0.4000, 0.4000, 0.4000, 0.4003, 0.4002, 0.4000, 0.4546,\n",
      "        0.3843, 0.3639, 0.3968, 0.3999, 0.4000, 0.4000])\n"
     ]
    }
   ],
   "source": [
    "new_rho = fv.SSP_RK_slowdown(rho, dx, limiter, dt, gamma, slowdown_factor[1:-1])\n",
    "print(new_rho)"
   ]
  },
  {
   "cell_type": "code",
   "execution_count": null,
   "metadata": {},
   "outputs": [],
   "source": [
    "tensor(100.9020) tensor(0.4180) tensor(6.4664) bus_1\n",
    "tensor(110.4666) tensor(0.5921) tensor(4.5322) bus_1\n",
    "tensor(120.3000) tensor(0.7071) tensor(3.2541) bus_1\n",
    "tensor(130.1388) tensor(0.7626) tensor(2.6382) bus_1\n",
    "tensor(139.9199) tensor(0.7855) tensor(2.3834) bus_1\n",
    "tensor(145.1371) tensor(0.7913) tensor(2.3190) bus_1\n",
    "\n",
    "tensor(99.3025) tensor(0.3861) tensor(6.8216) bus_2\n",
    "tensor(110.6441) tensor(0.5948) tensor(4.5019) bus_2\n"
   ]
  }
 ],
 "metadata": {
  "kernelspec": {
   "display_name": "traffic",
   "language": "python",
   "name": "python3"
  },
  "language_info": {
   "codemirror_mode": {
    "name": "ipython",
    "version": 3
   },
   "file_extension": ".py",
   "mimetype": "text/x-python",
   "name": "python",
   "nbconvert_exporter": "python",
   "pygments_lexer": "ipython3",
   "version": "3.10.12"
  }
 },
 "nbformat": 4,
 "nbformat_minor": 2
}
