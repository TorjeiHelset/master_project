{
 "cells": [
  {
   "cell_type": "code",
   "execution_count": 2,
   "metadata": {},
   "outputs": [],
   "source": [
    "import torch"
   ]
  },
  {
   "cell_type": "markdown",
   "metadata": {},
   "source": [
    "#### Junction with 3 incoming and 3 outgoing roads:\n",
    "\n",
    "In first version assume that all roads have the same maximum density.\n",
    "Also assume that the priority of connections going into road j is different (or 0) for all connections (i,j)."
   ]
  },
  {
   "cell_type": "code",
   "execution_count": 62,
   "metadata": {},
   "outputs": [],
   "source": [
    "# Junction with four incoming roads and four outgoing roads:\n",
    "# Let roads 0, 3 and 4 be incoming roads and roads 1, 2, 5 be outgoing roads\n",
    "\n",
    "# Let the desired fluxes after multiplying with distribution matrix be:\n",
    "\n",
    "# fluxes[i,j] is the desired flux from road i to road j\n",
    "fluxes = [[1.0, 0.0,  0.1],\n",
    "          [0.0,  0.21, 0.8],\n",
    "          [0.59, 0.19, 0.7]]\n",
    "\n",
    "# Let the capacities of the outgoing roads be\n",
    "original_capacities = [0.4, 0.4, 0.7]\n",
    "capacities = [0.4, 0.4, 0.7]\n",
    "\n",
    "# priorities of the roads:\n",
    "# set equal to 0 if the connection does not exist\n",
    "priorities = [[1, 0, 1],\n",
    "              [0, 1, 2],\n",
    "              [2, 2, 3]]\n",
    "\n",
    "crossing_connections = [[[], [], []],\n",
    "                        [[], [], [(0,0)]],\n",
    "                        [[(0,0), (1,1), (1,2)], [(1,1)], [(0,0), (1,1)]]]"
   ]
  },
  {
   "cell_type": "code",
   "execution_count": 63,
   "metadata": {},
   "outputs": [],
   "source": [
    "def calculate_upper_bound(crossing_connections, fluxes):\n",
    "    upper_bound = 1.0\n",
    "    # Crossing connections on the form\n",
    "    crossing_fluxes = [fluxes[i][j] for i,j in crossing_connections]\n",
    "    upper_bound = max(0, 1.0 - sum(crossing_fluxes))\n",
    "    return upper_bound"
   ]
  },
  {
   "cell_type": "code",
   "execution_count": 71,
   "metadata": {},
   "outputs": [
    {
     "name": "stdout",
     "output_type": "stream",
     "text": [
      "Assigning fluxes of roads with priority 1\n",
      "Looking for roads with outgoing road 2\n",
      "Road connection 1 to road 2  has priority 1\n",
      "Connection 1 to 2 has no crossing connections\n",
      "Assigned flux: 0.9\n",
      "Remaining capacity: 0.0\n",
      "\n",
      "Looking for roads with outgoing road 3\n",
      "Road connection 4 to road 3  has priority 1\n",
      "Connection 4 to 3 has no crossing connections\n",
      "Assigned flux: 0.21\n",
      "Remaining capacity: 0.19000000000000003\n",
      "\n",
      "Looking for roads with outgoing road 6\n",
      "Road connection 1 to road 6  has priority 1\n",
      "Connection 1 to 6 has no crossing connections\n",
      "Assigned flux: 0.1\n",
      "Remaining capacity: 0.6\n",
      "\n",
      "Assigning fluxes of roads with priority 2\n",
      "Looking for roads with outgoing road 2\n",
      "No capacity left on road\n",
      "\n",
      "Looking for roads with outgoing road 3\n",
      "Road connection 5 to road 3  has priority 2\n",
      "Connection 5 to 3 has crossing connections [(1, 1)]\n",
      "Upper bound: 0.79\n",
      "Assigned flux: 0.19\n",
      "Remaining capacity: 2.7755575615628914e-17\n",
      "\n",
      "Looking for roads with outgoing road 6\n",
      "Road connection 4 to road 6  has priority 2\n",
      "Connection 4 to 6 has crossing connections [(0, 0)]\n",
      "Upper bound: 0.09999999999999998\n",
      "Assigned flux: 0.09999999999999998\n",
      "Remaining capacity: 0.5\n",
      "\n",
      "Assigning fluxes of roads with priority 3\n",
      "Looking for roads with outgoing road 2\n",
      "No capacity left on road\n",
      "\n",
      "Looking for roads with outgoing road 3\n",
      "\n",
      "Looking for roads with outgoing road 6\n",
      "Road connection 5 to road 6  has priority 3\n",
      "Connection 5 to 6 has crossing connections [(0, 0), (1, 1)]\n",
      "Upper bound: 0\n",
      "Assigned flux: 0\n",
      "Remaining capacity: 0.5\n",
      "\n"
     ]
    }
   ],
   "source": [
    "fluxes = [[1.0, 0.0,  0.1],\n",
    "          [0.0,  0.21, 0.8],\n",
    "          [0.59, 0.19, 0.7]]\n",
    "\n",
    "# Let the capacities of the outgoing roads be\n",
    "original_capacities = [0.4, 0.4, 0.7]\n",
    "capacities = [0.9, 0.4, 0.7]\n",
    "\n",
    "# priorities of the roads:\n",
    "# set equal to 0 if the connection does not exist\n",
    "# the flux at these positions will remain at 0\n",
    "priorities = [[1, 0, 1],\n",
    "              [0, 1, 2],\n",
    "              [2, 2, 3]]\n",
    "\n",
    "crossing_connections = [[[], [], []],\n",
    "                        [[], [], [(0,0)]],\n",
    "                        [[(0,0), (1,1), (1,2)], [(1,1)], [(0,0), (1,1)]]]\n",
    "\n",
    "entering = [1, 4, 5]\n",
    "leaving = [2, 3, 6]\n",
    "\n",
    "\n",
    "max_priority = max([max(row) for row in priorities])\n",
    "n = 3 # Incoming roads\n",
    "m = 3 # Outgoing roads\n",
    "actual_fluxes = [[0.0 for _ in range(m)] for _ in range(n)] # Elements between 0 and 1\n",
    "\n",
    "for i in range(1, max_priority+1):\n",
    "    print(f\"Assigning fluxes of roads with priority {i}\")\n",
    "    # Go through the priorities\n",
    "    for j in range(m):\n",
    "        print(f\"Looking for roads with outgoing road {leaving[j]}\")\n",
    "        # Go through the outgoing roads\n",
    "        if capacities[j] == 0:\n",
    "            print(f\"No capacity left on road\\n\")\n",
    "            # No capacity left on this outgoing road\n",
    "            # Go to next outgoing road\n",
    "            continue\n",
    "        for k in range(n):\n",
    "            # Go through all connections going to the outgoing road\n",
    "            if priorities[k][j] == i:\n",
    "                print(f\"Road connection {entering[k]} to road {leaving[j]}  has priority {i}\")\n",
    "                # If the priority of the incoming road is equal to the current priority\n",
    "                # this is the connection that we need to update\n",
    "\n",
    "                # Calculate the upper bound for this connection:\n",
    "                if len(crossing_connections[k][j]) == 0:\n",
    "                    print(f\"Connection {entering[k]} to {leaving[j]} has no crossing connections\")\n",
    "                    # If there are no crossing connections, no upper bound needed\n",
    "                    actual_fluxes[k][j] = min(capacities[j], fluxes[k][j])\n",
    "                    print(f\"Assigned flux: {actual_fluxes[k][j]}\")\n",
    "                    capacities[j] -= actual_fluxes[k][j] # Always greater or equal to 0\n",
    "                    print(f\"Remaining capacity: {capacities[j]}\")\n",
    "                else:\n",
    "                    print(f\"Connection {entering[k]} to {leaving[j]} has crossing connections {crossing_connections[k][j]}\")\n",
    "                    upper_bound = calculate_upper_bound(crossing_connections[k][j],  actual_fluxes)\n",
    "                    print(f\"Upper bound: {upper_bound}\")\n",
    "                    actual_fluxes[k][j] = min(capacities[j], fluxes[k][j], upper_bound)\n",
    "                    print(f\"Assigned flux: {actual_fluxes[k][j]}\")\n",
    "                    capacities[j] -= actual_fluxes[k][j]\n",
    "                    print(f\"Remaining capacity: {capacities[j]}\")\n",
    "        print()\n"
   ]
  },
  {
   "cell_type": "code",
   "execution_count": 56,
   "metadata": {},
   "outputs": [
    {
     "data": {
      "text/plain": [
       "[[0.4, 0.0, 0.1], [0.0, 0.21, 0.6], [0.0, 0.19, 0.0]]"
      ]
     },
     "execution_count": 56,
     "metadata": {},
     "output_type": "execute_result"
    }
   ],
   "source": [
    "actual_fluxes"
   ]
  },
  {
   "cell_type": "code",
   "execution_count": 57,
   "metadata": {},
   "outputs": [
    {
     "name": "stdout",
     "output_type": "stream",
     "text": [
      "Actual flux into road 0: 0.4\n",
      "Capacity of road 0: 0.4\n",
      "Remaining capacity of road 0: 0.0 \n",
      "\n",
      "Actual flux into road 1: 0.4\n",
      "Capacity of road 1: 0.4\n",
      "Remaining capacity of road 1: 2.7755575615628914e-17 \n",
      "\n",
      "Actual flux into road 2: 0.7\n",
      "Capacity of road 2: 0.7\n",
      "Remaining capacity of road 2: 0.0 \n",
      "\n",
      "Total flux out of road 0: 0.5 \n",
      "\n",
      "Total flux out of road 1: 0.8099999999999999 \n",
      "\n",
      "Total flux out of road 2: 0.19 \n",
      "\n"
     ]
    }
   ],
   "source": [
    "for j in range(m):\n",
    "    print(f\"Actual flux into road {j}: {sum([actual_fluxes[i][j] for i in range(n)])}\")\n",
    "    print(f\"Capacity of road {j}: {original_capacities[j]}\")\n",
    "    print(f\"Remaining capacity of road {j}: {capacities[j]} \\n\")\n",
    "\n",
    "for i in range(n):\n",
    "    print(f\"Total flux out of road {i}: {sum(actual_fluxes[i])} \\n\")"
   ]
  },
  {
   "cell_type": "markdown",
   "metadata": {},
   "source": [
    "### Now testing the most complicated junction in the system with 4 incoming and 4 outgoing roads"
   ]
  },
  {
   "cell_type": "code",
   "execution_count": null,
   "metadata": {},
   "outputs": [],
   "source": [
    "fluxes = [[0.7, 0.0, 0.15, 0.15],\n",
    "        [0.0, 0.7, 0.15, 0.15],\n",
    "        [0.15, 0.15, 0.7, 0.0],\n",
    "        [0.15, 0.15, 0.0, 0.7]]\n",
    "\n",
    "original_capacities = [0.4, 0.4, 0.7, 0.6]\n",
    "\n",
    "\n",
    "\n"
   ]
  }
 ],
 "metadata": {
  "kernelspec": {
   "display_name": "traffic",
   "language": "python",
   "name": "python3"
  },
  "language_info": {
   "codemirror_mode": {
    "name": "ipython",
    "version": 3
   },
   "file_extension": ".py",
   "mimetype": "text/x-python",
   "name": "python",
   "nbconvert_exporter": "python",
   "pygments_lexer": "ipython3",
   "version": "3.10.12"
  }
 },
 "nbformat": 4,
 "nbformat_minor": 2
}
