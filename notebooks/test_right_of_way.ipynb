{
 "cells": [
  {
   "cell_type": "code",
   "execution_count": 1,
   "metadata": {},
   "outputs": [],
   "source": [
    "import sys\n",
    "sys.path.append('../src_variable')\n",
    "\n",
    "import network as nw\n",
    "import road as rd\n",
    "import junction as jn\n",
    "import traffic_lights as tl\n",
    "import torch\n",
    "import openGLUtils as glutils"
   ]
  },
  {
   "cell_type": "markdown",
   "metadata": {},
   "source": [
    "### Testing right of way for some small road network\n",
    "\n",
    "First consider a road system with 3 incoming roads and 3 outgoing roads. Order the roads from 1 to 6 and suppose that roads 1, 4 and 5 are incoming roads and 2, 3 and 6 are outgoing roads. \n",
    "\n",
    "Roads 1 to 4 represent a two directional road that has the right of way. Roads 5 and 6 represent a one-way road that crosses the junction.\n",
    "\n",
    "We need to define some priorities and crossing_connections to represent this junction."
   ]
  },
  {
   "cell_type": "code",
   "execution_count": 2,
   "metadata": {},
   "outputs": [],
   "source": [
    "priorities = [[1,0,1],\n",
    "              [0,1,2],\n",
    "              [2,2,3]]\n",
    "\n",
    "crossing_connections = [[[], [], []],\n",
    "                        [[], [], [(0,0)]],\n",
    "                        [[(0,0), (1,1), (1,2)], [(1,1)], [(0,0), (1,1)]]]"
   ]
  },
  {
   "cell_type": "markdown",
   "metadata": {},
   "source": [
    "### Scenario 1:\n",
    "\n",
    "All flux from road 1 goes to road 2, all flux from road 4 goes to road 3, all of the flux from road 5 goes to road 6. If the right of way functions as expected, when there is a lot of traffic on the road with right of way, almost none of the flux from road 5 will be able to enter road 6. Check that this is indeed the case.\n",
    "\n",
    "Suppose that roads 1 and 4 start with a high density, and that roads 2 and 3 start with low densities so that there will be a lot of traffic on the road with right of way."
   ]
  },
  {
   "cell_type": "code",
   "execution_count": 3,
   "metadata": {},
   "outputs": [],
   "source": [
    "# Creating the roads\n",
    "L = 50\n",
    "N = 5\n",
    "\n",
    "road1 = rd.Road(2, L, N, torch.tensor([50.0], requires_grad=True), [], left_pos = (-1, 0), right_pos = (0, 0),\n",
    "                initial = lambda x: torch.ones_like(x) * 0.8, inflow = 0.1, id = \"1_fw\")\n",
    "road2 = rd.Road(2, L, N, torch.tensor([50.0], requires_grad=True), [], left_pos = (0, 0), right_pos = (1, 0),\n",
    "                initial = lambda x: torch.ones_like(x) * 0.2, inflow = 0.6, id = \"2_fw\")\n",
    "road3 = rd.Road(2, L, N, torch.tensor([50.0], requires_grad=True), [], left_pos = (0, 0), right_pos = (-1, 0),\n",
    "                initial = lambda x: torch.ones_like(x) * 0.2, inflow = 0.6, id = \"3_bw\")\n",
    "road4 = rd.Road(2, L, N, torch.tensor([50.0], requires_grad=True), [], left_pos = (1, 0), right_pos = (0, 0),\n",
    "                initial = lambda x: torch.ones_like(x) * 0.8, inflow = 0.1, id = \"4_bw\")\n",
    "road5 = rd.Road(1, L, N, torch.tensor([50.0], requires_grad=True), [], left_pos = (0, 1), right_pos = (0, 0),\n",
    "                initial = lambda x: torch.ones_like(x) * 0.3, inflow = 0.05, id = \"5\")\n",
    "road6 = rd.Road(1, L, N, torch.tensor([50.0], requires_grad=True), [], left_pos = (0, 0), right_pos = (0, -1),\n",
    "                initial = lambda x: torch.ones_like(x) * 0.3, inflow = 0.3, id = \"6\")\n",
    "\n",
    "roads = [road1, road2, road3, road4, road5, road6]\n",
    "entering = [0, 3, 4]\n",
    "leaving = [1, 2, 5]"
   ]
  },
  {
   "cell_type": "code",
   "execution_count": 4,
   "metadata": {},
   "outputs": [],
   "source": [
    "# Creating the junction -> No traffic lights for now\n",
    "\n",
    "distribution = [[1.0, 0.0, 0.0],\n",
    "                [0.0, 1.0, 0.0],\n",
    "                [0.0, 0.0, 1.0]]\n",
    "junction = jn.Junction(roads, entering=entering, leaving=leaving, distribution=distribution, trafficlights=[], \n",
    "                       coupled_trafficlights=[], duty_to_gw=True, priorities=priorities,\n",
    "                       crossing_connections=crossing_connections)"
   ]
  },
  {
   "cell_type": "code",
   "execution_count": 5,
   "metadata": {},
   "outputs": [],
   "source": [
    "# Create the network and make simulation\n",
    "T = 150\n",
    "network = nw.RoadNetwork(roads, [junction], T)\n",
    "densities, _, _, _ = network.solve_cons_law()"
   ]
  },
  {
   "cell_type": "code",
   "execution_count": 8,
   "metadata": {},
   "outputs": [],
   "source": [
    "# Make animation: running it here makes the kernel die\n",
    "# glutils.draw_timed_with_shift(network, densities, interval_seconds = 0.05)"
   ]
  },
  {
   "cell_type": "markdown",
   "metadata": {},
   "source": [
    "#### Same network but with both crossing and right hand rule:"
   ]
  },
  {
   "cell_type": "code",
   "execution_count": 9,
   "metadata": {},
   "outputs": [],
   "source": [
    "# Creating the roads\n",
    "L = 50\n",
    "N = 5\n",
    "\n",
    "road1 = rd.Road(2, L, N, torch.tensor([50.0], requires_grad=True), [], left_pos = (-1, 0), right_pos = (0, 0),\n",
    "                initial = lambda x: torch.ones_like(x) * 0.8, inflow = 0.1, id = \"1_fw\")\n",
    "road2 = rd.Road(2, L, N, torch.tensor([50.0], requires_grad=True), [], left_pos = (0, 0), right_pos = (1, 0),\n",
    "                initial = lambda x: torch.ones_like(x) * 0.2, inflow = 0.6, id = \"2_fw\")\n",
    "road3 = rd.Road(2, L, N, torch.tensor([50.0], requires_grad=True), [], left_pos = (0, 0), right_pos = (-1, 0),\n",
    "                initial = lambda x: torch.ones_like(x) * 0.2, inflow = 0.6, id = \"3_bw\")\n",
    "road4 = rd.Road(2, L, N, torch.tensor([50.0], requires_grad=True), [], left_pos = (1, 0), right_pos = (0, 0),\n",
    "                initial = lambda x: torch.ones_like(x) * 0.8, inflow = 0.1, id = \"4_bw\")\n",
    "road5 = rd.Road(1, L, N, torch.tensor([50.0], requires_grad=True), [], left_pos = (0, 1), right_pos = (0, 0),\n",
    "                initial = lambda x: torch.ones_like(x) * 0.3, inflow = 0.05, id = \"5\")\n",
    "road6 = rd.Road(1, L, N, torch.tensor([50.0], requires_grad=True), [], left_pos = (0, 0), right_pos = (0, -1),\n",
    "                initial = lambda x: torch.ones_like(x) * 0.3, inflow = 0.3, id = \"6\")\n",
    "\n",
    "roads = [road1, road2, road3, road4, road5, road6]\n",
    "entering = [0, 3, 4]\n",
    "leaving = [1, 2, 5]"
   ]
  },
  {
   "cell_type": "code",
   "execution_count": 10,
   "metadata": {},
   "outputs": [],
   "source": [
    "distribution = [[1.0, 0.0, 0.0],\n",
    "                [0.0, 1.0, 0.0],\n",
    "                [0.4, 0.4, 0.2]]\n",
    "\n",
    "junction = jn.Junction(roads, entering=entering, leaving=leaving, distribution=distribution, trafficlights=[], \n",
    "                       coupled_trafficlights=[], duty_to_gw=True, priorities=priorities,\n",
    "                       crossing_connections=crossing_connections)"
   ]
  },
  {
   "cell_type": "code",
   "execution_count": 11,
   "metadata": {},
   "outputs": [],
   "source": [
    "# Create the network and make simulation\n",
    "T = 150\n",
    "network = nw.RoadNetwork(roads, [junction], T)\n",
    "densities, _, _, _ = network.solve_cons_law()"
   ]
  },
  {
   "cell_type": "code",
   "execution_count": 12,
   "metadata": {},
   "outputs": [
    {
     "ename": "",
     "evalue": "",
     "output_type": "error",
     "traceback": [
      "\u001b[1;31mThe Kernel crashed while executing code in the current cell or a previous cell. \n",
      "\u001b[1;31mPlease review the code in the cell(s) to identify a possible cause of the failure. \n",
      "\u001b[1;31mClick <a href='https://aka.ms/vscodeJupyterKernelCrash'>here</a> for more info. \n",
      "\u001b[1;31mView Jupyter <a href='command:jupyter.viewOutput'>log</a> for further details."
     ]
    }
   ],
   "source": [
    "glutils.draw_timed_with_shift(network, densities, interval_seconds = 0.05)"
   ]
  },
  {
   "cell_type": "code",
   "execution_count": null,
   "metadata": {},
   "outputs": [],
   "source": []
  }
 ],
 "metadata": {
  "kernelspec": {
   "display_name": "traffic",
   "language": "python",
   "name": "python3"
  },
  "language_info": {
   "codemirror_mode": {
    "name": "ipython",
    "version": 3
   },
   "file_extension": ".py",
   "mimetype": "text/x-python",
   "name": "python",
   "nbconvert_exporter": "python",
   "pygments_lexer": "ipython3",
   "version": "3.10.12"
  }
 },
 "nbformat": 4,
 "nbformat_minor": 2
}
