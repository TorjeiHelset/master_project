{
 "cells": [
  {
   "cell_type": "code",
   "execution_count": 1,
   "metadata": {},
   "outputs": [],
   "source": [
    "import sys\n",
    "sys.path.append(\"../src\")\n",
    "import matplotlib.pyplot as plt\n",
    "import generate_general_networks as generate\n",
    "import torch\n",
    "import numpy as np\n",
    "import tikzplotlib\n",
    "import FV_schemes as fv\n"
   ]
  },
  {
   "cell_type": "markdown",
   "metadata": {},
   "source": [
    "#### Single lane network\n",
    "\n",
    "We start by computing the partial derivative using AD"
   ]
  },
  {
   "cell_type": "code",
   "execution_count": 2,
   "metadata": {},
   "outputs": [
    {
     "name": "stdout",
     "output_type": "stream",
     "text": [
      "Bus bus_1 reached bus stop 0 at time 25.714275360107422, should wait for 29.915130615234375 seconds\n"
     ]
    }
   ],
   "source": [
    "# Create network and run simulation\n",
    "T = 60\n",
    "N = 3\n",
    "speed_limit = [torch.tensor(40.0)]\n",
    "controls = []\n",
    "\n",
    "network = generate.single_lane_network(T, N, speed_limit, controls, track_grad=True)\n",
    "densities, queues, lengths, delays, n_stops = network.solve_cons_law_counting()"
   ]
  },
  {
   "cell_type": "code",
   "execution_count": 3,
   "metadata": {},
   "outputs": [],
   "source": [
    "def throughput(network, densities):\n",
    "    flux_out = torch.tensor(0.0)\n",
    "    times = list(densities[0].keys())\n",
    "    for i, road in enumerate(network.roads):\n",
    "        if not road.right:\n",
    "            # Outgoing road\n",
    "            for k in range(len(times)-1):\n",
    "                t1 = times[k]\n",
    "                t2 = times[k+1]\n",
    "                # Find density at the end of the road\n",
    "                end_rho1 = densities[i][t1][-1]\n",
    "                end_rho2 = densities[i][t2][-1]\n",
    "\n",
    "                flux1 =  fv.flux(end_rho1, road.gamma[0])\n",
    "                flux2 =  fv.flux(end_rho2, road.gamma[0])\n",
    "\n",
    "                flux_out -= (t2 - t1) * (flux1 + flux2) / 2\n",
    "    return flux_out"
   ]
  },
  {
   "cell_type": "code",
   "execution_count": 4,
   "metadata": {},
   "outputs": [],
   "source": [
    "# Compute gradient\n",
    "objective_val = throughput(network, densities)\n",
    "objective_val.backward()\n",
    "\n",
    "speed_grad = network.get_speed_limit_grads()\n",
    "light_grad = network.get_traffic_light_grads()"
   ]
  },
  {
   "cell_type": "code",
   "execution_count": 5,
   "metadata": {},
   "outputs": [
    {
     "name": "stdout",
     "output_type": "stream",
     "text": [
      "-0.034682903852727674\n"
     ]
    }
   ],
   "source": [
    "print(speed_grad[0]/3.6)"
   ]
  },
  {
   "cell_type": "markdown",
   "metadata": {},
   "source": [
    "Now we estimate the same gradient using finite differences"
   ]
  },
  {
   "cell_type": "code",
   "execution_count": 6,
   "metadata": {},
   "outputs": [
    {
     "name": "stdout",
     "output_type": "stream",
     "text": [
      "Bus bus_1 reached bus stop 0 at time 17.142864227294922, should wait for 29.94342041015625 seconds\n",
      "Bus bus_1 reached bus stop 0 at time 20.571435928344727, should wait for 29.932104110717773 seconds\n",
      "Bus bus_1 reached bus stop 0 at time 22.857131958007812, should wait for 29.924558639526367 seconds\n",
      "Bus bus_1 reached bus stop 0 at time 24.48978614807129, should wait for 29.919170379638672 seconds\n",
      "Bus bus_1 reached bus stop 0 at time 25.08711051940918, should wait for 29.917200088500977 seconds\n",
      "Bus bus_1 reached bus stop 0 at time 25.396818161010742, should wait for 29.91617774963379 seconds\n",
      "Bus bus_1 reached bus stop 0 at time 25.586339950561523, should wait for 29.915552139282227 seconds\n",
      "Bus bus_1 reached bus stop 0 at time 25.650175094604492, should wait for 29.915340423583984 seconds\n",
      "Bus bus_1 reached bus stop 0 at time 51.428550720214844, should wait for 29.830259323120117 seconds\n",
      "Bus bus_1 reached bus stop 0 at time 34.285728454589844, should wait for 29.886838912963867 seconds\n",
      "Bus bus_1 reached bus stop 0 at time 29.387746810913086, should wait for 29.903005599975586 seconds\n",
      "Bus bus_1 reached bus stop 0 at time 27.06764793395996, should wait for 29.910661697387695 seconds\n",
      "Bus bus_1 reached bus stop 0 at time 26.37362289428711, should wait for 29.912954330444336 seconds\n",
      "Bus bus_1 reached bus stop 0 at time 26.039796829223633, should wait for 29.91405487060547 seconds\n",
      "Bus bus_1 reached bus stop 0 at time 25.843505859375, should wait for 29.914703369140625 seconds\n",
      "Bus bus_1 reached bus stop 0 at time 25.778732299804688, should wait for 29.9149169921875 seconds\n"
     ]
    }
   ],
   "source": [
    "# Forward difference\n",
    "h_list = [20, 10, 5, 2, 1, 0.5, 0.2, 0.1]\n",
    "objectives_fwd = []\n",
    "for h in h_list:\n",
    "    speed_limit_h = [torch.tensor(40.0 + h)]\n",
    "    network_h = generate.single_lane_network(T, N, speed_limit_h, controls, track_grad=False)\n",
    "    densities_h, _, _, _, _ = network_h.solve_cons_law_counting()\n",
    "    objectives_fwd.append(throughput(network_h, densities_h))\n",
    "\n",
    "objectives_bwd = []\n",
    "for h in h_list:\n",
    "    speed_limit_h = [torch.tensor(40.0 - h)]\n",
    "    network_h = generate.single_lane_network(T, N, speed_limit_h, controls, track_grad=False)\n",
    "    densities_h, _, _, _, _ = network_h.solve_cons_law_counting()\n",
    "    objectives_bwd.append(throughput(network_h, densities_h))"
   ]
  },
  {
   "cell_type": "code",
   "execution_count": 7,
   "metadata": {},
   "outputs": [],
   "source": [
    "derivatives_fwd = []\n",
    "for h, objective in zip(h_list, objectives_fwd):\n",
    "    derivatives_fwd.append((objective - objective_val.detach()) / h)\n",
    "\n",
    "derivatives_bwd = []\n",
    "for h, objective in zip(h_list, objectives_bwd):\n",
    "    derivatives_bwd.append((objective_val.detach() - objective) / h)"
   ]
  },
  {
   "cell_type": "code",
   "execution_count": 8,
   "metadata": {},
   "outputs": [
    {
     "data": {
      "text/plain": [
       "[tensor(-0.0486),\n",
       " tensor(-0.0435),\n",
       " tensor(-0.0378),\n",
       " tensor(-0.0345),\n",
       " tensor(-0.0350),\n",
       " tensor(-0.0364),\n",
       " tensor(-0.0346),\n",
       " tensor(-0.0348)]"
      ]
     },
     "execution_count": 8,
     "metadata": {},
     "output_type": "execute_result"
    }
   ],
   "source": [
    "derivatives_fwd"
   ]
  },
  {
   "cell_type": "code",
   "execution_count": 9,
   "metadata": {},
   "outputs": [
    {
     "data": {
      "image/png": "[encoded data removed]",
      "text/plain": [
       "<Figure size 640x480 with 1 Axes>"
      ]
     },
     "metadata": {},
     "output_type": "display_data"
    }
   ],
   "source": [
    "errors_fwd = [abs(deriv - speed_grad[0]/3.6) for deriv in derivatives_fwd]\n",
    "errors_bwd = [abs(deriv - speed_grad[0]/3.6) for deriv in derivatives_bwd]\n",
    "\n",
    "plt.loglog(h_list, errors_fwd, label=\"Forward\")\n",
    "plt.loglog(h_list, errors_bwd, label=\"Backward\")\n",
    "plt.legend()\n",
    "plt.show()"
   ]
  },
  {
   "cell_type": "markdown",
   "metadata": {},
   "source": [
    "Finite difference approximation of derivative seem to converge, although the convergence is a bit unstable\n",
    "\n",
    "#### Single Junction\n",
    "\n",
    "We now consider the case of two roads connected with one junction"
   ]
  },
  {
   "cell_type": "code",
   "execution_count": 10,
   "metadata": {},
   "outputs": [
    {
     "name": "stdout",
     "output_type": "stream",
     "text": [
      "Bus bus_1 reached bus stop 0 at time 89.92867279052734, should wait for 29.869956970214844 seconds\n"
     ]
    }
   ],
   "source": [
    "# Create network and run simulation\n",
    "T = 150\n",
    "N = 3\n",
    "speed_limits = [[torch.tensor(40.0)], [torch.tensor(40.0)]]\n",
    "controls = [[], []]\n",
    "cycle = [torch.tensor(60.0), torch.tensor(60.0)]\n",
    "\n",
    "network = generate.single_junction_network(T, N, speed_limits, controls, cycle, track_grad=True)\n",
    "densities, queues, lengths, delays, n_stops = network.solve_cons_law_counting()"
   ]
  },
  {
   "cell_type": "code",
   "execution_count": 11,
   "metadata": {},
   "outputs": [],
   "source": [
    "# Compute gradient\n",
    "objective_val = throughput(network, densities)\n",
    "objective_val.backward()\n",
    "\n",
    "speed_grad = network.get_speed_limit_grads()\n",
    "light_grad = network.get_traffic_light_grads()\n",
    "ad_grad = speed_grad + light_grad"
   ]
  },
  {
   "cell_type": "code",
   "execution_count": 12,
   "metadata": {},
   "outputs": [],
   "source": [
    "ad_grad_scaled = np.array([ad_grad[0]/3.6, ad_grad[1]/3.6, ad_grad[2], ad_grad[3]])"
   ]
  },
  {
   "cell_type": "code",
   "execution_count": 13,
   "metadata": {},
   "outputs": [
    {
     "data": {
      "text/plain": [
       "array([-0.00737515, -0.0324123 ,  0.02325904, -0.02048029])"
      ]
     },
     "execution_count": 13,
     "metadata": {},
     "output_type": "execute_result"
    }
   ],
   "source": [
    "ad_grad_scaled"
   ]
  },
  {
   "cell_type": "markdown",
   "metadata": {},
   "source": [
    "We now estimate the gradient using finite differences"
   ]
  },
  {
   "cell_type": "code",
   "execution_count": 14,
   "metadata": {},
   "outputs": [
    {
     "name": "stdout",
     "output_type": "stream",
     "text": [
      "Bus bus_1 reached bus stop 0 at time 89.5000228881836, should wait for 29.688737869262695 seconds\n",
      "Bus bus_1 reached bus stop 0 at time 88.08390808105469, should wait for 29.92654800415039 seconds\n",
      "Bus bus_1 reached bus stop 0 at time 94.92867279052734, should wait for 29.870006561279297 seconds\n",
      "Bus bus_1 reached bus stop 0 at time 89.92867279052734, should wait for 29.869956970214844 seconds\n",
      "Bus bus_1 reached bus stop 0 at time 89.70906829833984, should wait for 29.669736862182617 seconds\n",
      "Bus bus_1 reached bus stop 0 at time 89.0308837890625, should wait for 29.960472106933594 seconds\n",
      "Bus bus_1 reached bus stop 0 at time 90.92867279052734, should wait for 29.8699951171875 seconds\n",
      "Bus bus_1 reached bus stop 0 at time 89.92867279052734, should wait for 29.869956970214844 seconds\n",
      "Bus bus_1 reached bus stop 0 at time 89.8174819946289, should wait for 29.674293518066406 seconds\n",
      "Bus bus_1 reached bus stop 0 at time 89.15873718261719, should wait for 29.994205474853516 seconds\n",
      "Bus bus_1 reached bus stop 0 at time 90.571533203125, should wait for 29.737442016601562 seconds\n",
      "Bus bus_1 reached bus stop 0 at time 89.92867279052734, should wait for 29.869956970214844 seconds\n",
      "Bus bus_1 reached bus stop 0 at time 89.8838119506836, should wait for 29.787715911865234 seconds\n",
      "Bus bus_1 reached bus stop 0 at time 89.87419891357422, should wait for 29.38368797302246 seconds\n",
      "Bus bus_1 reached bus stop 0 at time 90.571533203125, should wait for 29.366914749145508 seconds\n",
      "Bus bus_1 reached bus stop 0 at time 89.92867279052734, should wait for 29.869956970214844 seconds\n",
      "Bus bus_1 reached bus stop 0 at time 89.90613555908203, should wait for 29.871477127075195 seconds\n",
      "Bus bus_1 reached bus stop 0 at time 89.90130615234375, should wait for 29.857769012451172 seconds\n",
      "Bus bus_1 reached bus stop 0 at time 89.92867279052734, should wait for 29.927715301513672 seconds\n",
      "Bus bus_1 reached bus stop 0 at time 89.92867279052734, should wait for 29.869956970214844 seconds\n",
      "Bus bus_1 reached bus stop 0 at time 89.91735076904297, should wait for 29.870853424072266 seconds\n",
      "Bus bus_1 reached bus stop 0 at time 89.91492462158203, should wait for 29.863996505737305 seconds\n",
      "Bus bus_1 reached bus stop 0 at time 89.92867279052734, should wait for 29.91853904724121 seconds\n",
      "Bus bus_1 reached bus stop 0 at time 89.92867279052734, should wait for 29.869956970214844 seconds\n",
      "Bus bus_1 reached bus stop 0 at time 89.92407989501953, should wait for 29.87037467956543 seconds\n",
      "Bus bus_1 reached bus stop 0 at time 89.923095703125, should wait for 29.86762237548828 seconds\n",
      "Bus bus_1 reached bus stop 0 at time 89.92867279052734, should wait for 29.874553680419922 seconds\n",
      "Bus bus_1 reached bus stop 0 at time 89.92867279052734, should wait for 29.869956970214844 seconds\n",
      "Bus bus_1 reached bus stop 0 at time 89.92642974853516, should wait for 29.87019157409668 seconds\n",
      "Bus bus_1 reached bus stop 0 at time 89.92594909667969, should wait for 29.868789672851562 seconds\n",
      "Bus bus_1 reached bus stop 0 at time 89.92867279052734, should wait for 29.872262954711914 seconds\n",
      "Bus bus_1 reached bus stop 0 at time 89.92867279052734, should wait for 29.869956970214844 seconds\n",
      "Bus bus_1 reached bus stop 0 at time 89.92749786376953, should wait for 29.870080947875977 seconds\n",
      "Bus bus_1 reached bus stop 0 at time 89.92724609375, should wait for 29.869373321533203 seconds\n",
      "Bus bus_1 reached bus stop 0 at time 89.92867279052734, should wait for 29.871122360229492 seconds\n",
      "Bus bus_1 reached bus stop 0 at time 89.92867279052734, should wait for 29.869956970214844 seconds\n",
      "Bus bus_1 reached bus stop 0 at time 89.92835235595703, should wait for 29.86998176574707 seconds\n",
      "Bus bus_1 reached bus stop 0 at time 89.92828369140625, should wait for 29.86983871459961 seconds\n",
      "Bus bus_1 reached bus stop 0 at time 89.92867279052734, should wait for 29.87017822265625 seconds\n",
      "Bus bus_1 reached bus stop 0 at time 89.92867279052734, should wait for 29.869956970214844 seconds\n",
      "Bus bus_1 reached bus stop 0 at time 89.9285659790039, should wait for 29.869958877563477 seconds\n",
      "Bus bus_1 reached bus stop 0 at time 89.92854309082031, should wait for 29.869897842407227 seconds\n",
      "Bus bus_1 reached bus stop 0 at time 89.92867279052734, should wait for 29.870067596435547 seconds\n",
      "Bus bus_1 reached bus stop 0 at time 89.92867279052734, should wait for 29.869956970214844 seconds\n",
      "Bus bus_1 reached bus stop 0 at time 90.3652114868164, should wait for 29.989282608032227 seconds\n",
      "Bus bus_1 reached bus stop 0 at time 93.41844940185547, should wait for 29.6807804107666 seconds\n",
      "Bus bus_1 reached bus stop 0 at time 84.92866516113281, should wait for 29.86985969543457 seconds\n",
      "Bus bus_1 reached bus stop 0 at time 89.92867279052734, should wait for 29.869956970214844 seconds\n",
      "Bus bus_1 reached bus stop 0 at time 89.5102310180664, should wait for 29.96011734008789 seconds\n",
      "Bus bus_1 reached bus stop 0 at time 90.8516845703125, should wait for 29.4074649810791 seconds\n",
      "Bus bus_1 reached bus stop 0 at time 88.92867279052734, should wait for 29.869958877563477 seconds\n",
      "Bus bus_1 reached bus stop 0 at time 89.92867279052734, should wait for 29.869956970214844 seconds\n",
      "Bus bus_1 reached bus stop 0 at time 90.04253387451172, should wait for 29.623497009277344 seconds\n",
      "Bus bus_1 reached bus stop 0 at time 90.06693267822266, should wait for 29.922828674316406 seconds\n",
      "Bus bus_1 reached bus stop 0 at time 89.28581237792969, should wait for 29.935176849365234 seconds\n",
      "Bus bus_1 reached bus stop 0 at time 89.92867279052734, should wait for 29.869956970214844 seconds\n",
      "Bus bus_1 reached bus stop 0 at time 89.9738540649414, should wait for 29.39468002319336 seconds\n",
      "Bus bus_1 reached bus stop 0 at time 89.98353576660156, should wait for 29.892536163330078 seconds\n",
      "Bus bus_1 reached bus stop 0 at time 89.92868041992188, should wait for 29.71632957458496 seconds\n",
      "Bus bus_1 reached bus stop 0 at time 89.92867279052734, should wait for 29.869956970214844 seconds\n",
      "Bus bus_1 reached bus stop 0 at time 89.95121002197266, should wait for 29.39413833618164 seconds\n",
      "Bus bus_1 reached bus stop 0 at time 89.95603942871094, should wait for 29.881547927856445 seconds\n",
      "Bus bus_1 reached bus stop 0 at time 89.92867279052734, should wait for 29.752159118652344 seconds\n",
      "Bus bus_1 reached bus stop 0 at time 89.92867279052734, should wait for 29.869956970214844 seconds\n",
      "Bus bus_1 reached bus stop 0 at time 89.93988800048828, should wait for 29.86910057067871 seconds\n",
      "Bus bus_1 reached bus stop 0 at time 89.94229125976562, should wait for 29.875856399536133 seconds\n",
      "Bus bus_1 reached bus stop 0 at time 89.92867279052734, should wait for 29.858013153076172 seconds\n",
      "Bus bus_1 reached bus stop 0 at time 89.92867279052734, should wait for 29.869956970214844 seconds\n",
      "Bus bus_1 reached bus stop 0 at time 89.93315887451172, should wait for 29.869626998901367 seconds\n",
      "Bus bus_1 reached bus stop 0 at time 89.93412017822266, should wait for 29.87236976623535 seconds\n",
      "Bus bus_1 reached bus stop 0 at time 89.92867279052734, should wait for 29.865249633789062 seconds\n",
      "Bus bus_1 reached bus stop 0 at time 89.92867279052734, should wait for 29.869956970214844 seconds\n",
      "Bus bus_1 reached bus stop 0 at time 89.93091583251953, should wait for 29.869810104370117 seconds\n",
      "Bus bus_1 reached bus stop 0 at time 89.931396484375, should wait for 29.871200561523438 seconds\n",
      "Bus bus_1 reached bus stop 0 at time 89.92866516113281, should wait for 29.86762809753418 seconds\n",
      "Bus bus_1 reached bus stop 0 at time 89.92867279052734, should wait for 29.869956970214844 seconds\n",
      "Bus bus_1 reached bus stop 0 at time 89.92974853515625, should wait for 29.86985969543457 seconds\n",
      "Bus bus_1 reached bus stop 0 at time 89.92997741699219, should wait for 29.87057876586914 seconds\n",
      "Bus bus_1 reached bus stop 0 at time 89.92867279052734, should wait for 29.8687801361084 seconds\n",
      "Bus bus_1 reached bus stop 0 at time 89.92867279052734, should wait for 29.869956970214844 seconds\n",
      "Bus bus_1 reached bus stop 0 at time 89.92888641357422, should wait for 29.86993408203125 seconds\n",
      "Bus bus_1 reached bus stop 0 at time 89.9289321899414, should wait for 29.870088577270508 seconds\n",
      "Bus bus_1 reached bus stop 0 at time 89.92867279052734, should wait for 29.869712829589844 seconds\n",
      "Bus bus_1 reached bus stop 0 at time 89.92867279052734, should wait for 29.869956970214844 seconds\n",
      "Bus bus_1 reached bus stop 0 at time 89.92877960205078, should wait for 29.86993408203125 seconds\n",
      "Bus bus_1 reached bus stop 0 at time 89.92880249023438, should wait for 29.870018005371094 seconds\n",
      "Bus bus_1 reached bus stop 0 at time 89.92867279052734, should wait for 29.869834899902344 seconds\n",
      "Bus bus_1 reached bus stop 0 at time 89.92867279052734, should wait for 29.869956970214844 seconds\n"
     ]
    }
   ],
   "source": [
    "# Forward difference\n",
    "h_list = [5, 1, 0.5, 0.2, 0.1, 0.05, 0.02, 0.01, 0.005, 0.001, 0.0005]\n",
    "\n",
    "objectives_fwd = []\n",
    "for h in h_list:\n",
    "    speed_limits_orig = [[torch.tensor(40.0)], [torch.tensor(40.0)]]\n",
    "    speed_limits_h1 = [[torch.tensor(40.0 + h)], [torch.tensor(40.0)]]\n",
    "    speed_limits_h2 = [[torch.tensor(40.0)], [torch.tensor(40.0 + h)]]\n",
    "    cycle_orig = [torch.tensor(60.0), torch.tensor(60.0)]\n",
    "    cycle_h1 = [torch.tensor(60.0 + h), torch.tensor(60.0)]\n",
    "    cycl_h2 = [torch.tensor(60.0), torch.tensor(60.0 + h)]\n",
    "\n",
    "    network_1 = generate.single_junction_network(T, N, speed_limits_h1, controls, cycle_orig, track_grad=False)\n",
    "    network_2 = generate.single_junction_network(T, N, speed_limits_h2, controls, cycle_orig, track_grad=False)\n",
    "    network_3 = generate.single_junction_network(T, N, speed_limits_orig, controls, cycle_h1, track_grad=False)\n",
    "    network_4 = generate.single_junction_network(T, N, speed_limits_orig, controls, cycl_h2, track_grad=False)\n",
    "\n",
    "    densities_h1, _, _, _, _ = network_1.solve_cons_law_counting()\n",
    "    densities_h2, _, _, _, _ = network_2.solve_cons_law_counting()\n",
    "    densities_h3, _, _, _, _ = network_3.solve_cons_law_counting()\n",
    "    densities_h4, _, _, _, _ = network_4.solve_cons_law_counting()\n",
    "\n",
    "    objectives_fwd.append([throughput(network_1, densities_h1), throughput(network_2, densities_h2),\n",
    "                           throughput(network_3, densities_h3), throughput(network_4, densities_h4)])\n",
    "\n",
    "\n",
    "objectives_bwd = []\n",
    "for h in h_list:\n",
    "    speed_limits_orig = [[torch.tensor(40.0)], [torch.tensor(40.0)]]\n",
    "    speed_limits_h1 = [[torch.tensor(40.0 - h)], [torch.tensor(40.0)]]\n",
    "    speed_limits_h2 = [[torch.tensor(40.0)], [torch.tensor(40.0 - h)]]\n",
    "    cycle_orig = [torch.tensor(60.0), torch.tensor(60.0)]\n",
    "    cycle_h1 = [torch.tensor(60.0 - h), torch.tensor(60.0)]\n",
    "    cycl_h2 = [torch.tensor(60.0), torch.tensor(60.0 - h)]\n",
    "\n",
    "    network_1 = generate.single_junction_network(T, N, speed_limits_h1, controls, cycle_orig, track_grad=False)\n",
    "    network_2 = generate.single_junction_network(T, N, speed_limits_h2, controls, cycle_orig, track_grad=False)\n",
    "    network_3 = generate.single_junction_network(T, N, speed_limits_orig, controls, cycle_h1, track_grad=False)\n",
    "    network_4 = generate.single_junction_network(T, N, speed_limits_orig, controls, cycl_h2, track_grad=False)\n",
    "\n",
    "    densities_h1, _, _, _, _ = network_1.solve_cons_law_counting()\n",
    "    densities_h2, _, _, _, _ = network_2.solve_cons_law_counting()\n",
    "    densities_h3, _, _, _, _ = network_3.solve_cons_law_counting()\n",
    "    densities_h4, _, _, _, _ = network_4.solve_cons_law_counting()\n",
    "\n",
    "    objectives_bwd.append([throughput(network_1, densities_h1), throughput(network_2, densities_h2),\n",
    "                           throughput(network_3, densities_h3), throughput(network_4, densities_h4)])"
   ]
  },
  {
   "cell_type": "code",
   "execution_count": 15,
   "metadata": {},
   "outputs": [],
   "source": [
    "derivatives_fwd = []\n",
    "for h, objective in zip(h_list, objectives_fwd):\n",
    "    grad1 = (objective[0] - objective_val.detach()) / h\n",
    "    grad2 = (objective[1] - objective_val.detach()) / h\n",
    "    grad3 = (objective[2] - objective_val.detach()) / h\n",
    "    grad4 = (objective[3] - objective_val.detach()) / h\n",
    "    derivatives_fwd.append([grad1, grad2, grad3, grad4])\n",
    "\n",
    "\n",
    "derivatives_bwd = []\n",
    "for h, objective in zip(h_list, objectives_bwd):\n",
    "    grad1 = (objective_val.detach() - objective[0]) / h\n",
    "    grad2 = (objective_val.detach() - objective[1]) / h\n",
    "    grad3 = (objective_val.detach() - objective[2]) / h\n",
    "    grad4 = (objective_val.detach() - objective[3]) / h\n",
    "    derivatives_bwd.append([grad1, grad2, grad3, grad4])"
   ]
  },
  {
   "cell_type": "code",
   "execution_count": 16,
   "metadata": {},
   "outputs": [],
   "source": [
    "errors_fwd = [np.linalg.norm(np.array(grad) - ad_grad_scaled) for grad in derivatives_fwd]\n",
    "errors_bwd = [np.linalg.norm(np.array(grad) - ad_grad_scaled) for grad in derivatives_bwd]\n",
    "# i = 3\n",
    "# errors_fwd = [np.linalg.norm(np.array(grad[i]) - ad_grad_scaled[i]) for grad in derivatives_fwd]\n",
    "# errors_bwd = [np.linalg.norm(np.array(grad[i]) - ad_grad_scaled[i]) for grad in derivatives_bwd]"
   ]
  },
  {
   "cell_type": "code",
   "execution_count": 17,
   "metadata": {},
   "outputs": [
    {
     "data": {
      "image/png": "[encoded data removed]",
      "text/plain": [
       "<Figure size 640x480 with 1 Axes>"
      ]
     },
     "metadata": {},
     "output_type": "display_data"
    }
   ],
   "source": [
    "plt.loglog(h_list, errors_fwd, label=\"forward\")\n",
    "plt.loglog(h_list, errors_bwd, label=\"backward\")\n",
    "plt.legend()\n",
    "plt.show()"
   ]
  },
  {
   "cell_type": "markdown",
   "metadata": {},
   "source": [
    "#### Checking the matching of derivatives in a 2x2 junction"
   ]
  },
  {
   "cell_type": "code",
   "execution_count": 18,
   "metadata": {},
   "outputs": [
    {
     "name": "stdout",
     "output_type": "stream",
     "text": [
      "Bus bus_1 reached bus stop 0 at time 29.928564071655273, should wait for 29.70793914794922 seconds\n",
      "Bus bus_2 reached bus stop 0 at time 104.71446228027344, should wait for 29.555421829223633 seconds\n"
     ]
    }
   ],
   "source": [
    "# Create network and run simulation\n",
    "T = 150\n",
    "N = 3\n",
    "speed_limits = [[torch.tensor(40.0)], [torch.tensor(40.0)], [torch.tensor(40.0)], [torch.tensor(40.0)]]\n",
    "controls = [[], [], [], []]\n",
    "cycle = [torch.tensor(60.0), torch.tensor(60.0)]\n",
    "\n",
    "network = generate.two_two_junction(T, N, speed_limits, controls, cycle, track_grad=True)\n",
    "densities, queues, lengths, delays, n_stops = network.solve_cons_law_counting()"
   ]
  },
  {
   "cell_type": "code",
   "execution_count": 19,
   "metadata": {},
   "outputs": [],
   "source": [
    "# Compute gradient\n",
    "objective_val = delays[0][0] + delays[1][0]\n",
    "objective_val.backward()\n",
    "\n",
    "speed_grad = network.get_speed_limit_grads()\n",
    "light_grad = network.get_traffic_light_grads()\n",
    "ad_grad = speed_grad + light_grad"
   ]
  },
  {
   "cell_type": "code",
   "execution_count": 20,
   "metadata": {},
   "outputs": [],
   "source": [
    "ad_grad_scaled = np.array([ad_grad[0]/3.6, ad_grad[1]/3.6, ad_grad[2]/3.6, ad_grad[3]/3.6,\n",
    "                           ad_grad[4], ad_grad[5]])"
   ]
  },
  {
   "cell_type": "code",
   "execution_count": 21,
   "metadata": {},
   "outputs": [
    {
     "data": {
      "text/plain": [
       "array([-2.04110626e-01, -6.65107303e-01,  1.81416277e-02, -8.01795257e-01,\n",
       "        4.78045017e-01, -4.72537265e-21])"
      ]
     },
     "execution_count": 21,
     "metadata": {},
     "output_type": "execute_result"
    }
   ],
   "source": [
    "ad_grad_scaled"
   ]
  },
  {
   "cell_type": "markdown",
   "metadata": {},
   "source": [
    "Estimating using finite differences"
   ]
  },
  {
   "cell_type": "code",
   "execution_count": 22,
   "metadata": {},
   "outputs": [
    {
     "name": "stdout",
     "output_type": "stream",
     "text": [
      "Bus bus_1 reached bus stop 0 at time 28.93691635131836, should wait for 29.52756118774414 seconds\n",
      "Bus bus_2 reached bus stop 0 at time 105.26815032958984, should wait for 29.667781829833984 seconds\n",
      "Bus bus_1 reached bus stop 0 at time 24.259695053100586, should wait for 29.86117172241211 seconds\n",
      "Bus bus_2 reached bus stop 0 at time 105.26695251464844, should wait for 29.668739318847656 seconds\n",
      "Bus bus_1 reached bus stop 0 at time 30.20410919189453, should wait for 29.98574447631836 seconds\n",
      "Bus bus_2 reached bus stop 0 at time 103.61040496826172, should wait for 29.710363388061523 seconds\n",
      "Bus bus_1 reached bus stop 0 at time 30.20410919189453, should wait for 29.99038314819336 seconds\n",
      "Bus bus_2 reached bus stop 0 at time 99.06694030761719, should wait for 29.897550582885742 seconds\n",
      "Bus bus_1 reached bus stop 0 at time 29.4999942779541, should wait for 29.829423904418945 seconds\n",
      "Bus bus_2 reached bus stop 0 at time 104.71711730957031, should wait for 29.928937911987305 seconds\n",
      "Bus bus_1 reached bus stop 0 at time 25.43655776977539, should wait for 29.910795211791992 seconds\n",
      "Bus bus_2 reached bus stop 0 at time 104.7162094116211, should wait for 29.711088180541992 seconds\n",
      "Bus bus_1 reached bus stop 0 at time 30.571441650390625, should wait for 29.673646926879883 seconds\n",
      "Bus bus_2 reached bus stop 0 at time 104.11740112304688, should wait for 29.365577697753906 seconds\n",
      "Bus bus_1 reached bus stop 0 at time 30.571441650390625, should wait for 29.678401947021484 seconds\n",
      "Bus bus_2 reached bus stop 0 at time 99.83454895019531, should wait for 29.9727783203125 seconds\n",
      "Bus bus_1 reached bus stop 0 at time 29.344144821166992, should wait for 29.893306732177734 seconds\n",
      "Bus bus_2 reached bus stop 0 at time 105.06737518310547, should wait for 29.63495635986328 seconds\n",
      "Bus bus_1 reached bus stop 0 at time 26.320697784423828, should wait for 29.56722068786621 seconds\n",
      "Bus bus_2 reached bus stop 0 at time 105.06666564941406, should wait for 29.59965705871582 seconds\n",
      "Bus bus_1 reached bus stop 0 at time 30.103912353515625, should wait for 29.995668411254883 seconds\n",
      "Bus bus_2 reached bus stop 0 at time 103.70779418945312, should wait for 29.943096160888672 seconds\n",
      "Bus bus_1 reached bus stop 0 at time 30.103912353515625, should wait for 29.766862869262695 seconds\n",
      "Bus bus_2 reached bus stop 0 at time 101.07653045654297, should wait for 29.567398071289062 seconds\n",
      "Bus bus_1 reached bus stop 0 at time 29.157136917114258, should wait for 29.937763214111328 seconds\n",
      "Bus bus_2 reached bus stop 0 at time 104.97383117675781, should wait for 29.841014862060547 seconds\n",
      "Bus bus_1 reached bus stop 0 at time 26.714292526245117, should wait for 29.756696701049805 seconds\n",
      "Bus bus_2 reached bus stop 0 at time 104.97331237792969, should wait for 29.544281005859375 seconds\n",
      "Bus bus_1 reached bus stop 0 at time 30.05715560913086, should wait for 29.55269432067871 seconds\n",
      "Bus bus_2 reached bus stop 0 at time 104.0650634765625, should wait for 29.801803588867188 seconds\n",
      "Bus bus_1 reached bus stop 0 at time 30.05715560913086, should wait for 29.59756851196289 seconds\n",
      "Bus bus_2 reached bus stop 0 at time 101.95018005371094, should wait for 29.580276489257812 seconds\n",
      "Bus bus_1 reached bus stop 0 at time 29.49998664855957, should wait for 29.80086898803711 seconds\n",
      "Bus bus_2 reached bus stop 0 at time 105.43096160888672, should wait for 29.67793846130371 seconds\n",
      "Bus bus_1 reached bus stop 0 at time 28.142854690551758, should wait for 29.46253776550293 seconds\n",
      "Bus bus_2 reached bus stop 0 at time 104.85901641845703, should wait for 29.66798210144043 seconds\n",
      "Bus bus_1 reached bus stop 0 at time 29.999990463256836, should wait for 29.72476577758789 seconds\n",
      "Bus bus_2 reached bus stop 0 at time 104.35710906982422, should wait for 29.706890106201172 seconds\n",
      "Bus bus_1 reached bus stop 0 at time 29.999990463256836, should wait for 29.734621047973633 seconds\n",
      "Bus bus_2 reached bus stop 0 at time 102.9533920288086, should wait for 29.968156814575195 seconds\n",
      "Bus bus_1 reached bus stop 0 at time 71.28572082519531, should wait for 29.587127685546875 seconds\n",
      "Bus bus_2 reached bus stop 0 at time 104.71446228027344, should wait for 29.555421829223633 seconds\n",
      "Bus bus_1 reached bus stop 0 at time 103.42874145507812, should wait for 29.45517349243164 seconds\n",
      "Bus bus_2 reached bus stop 0 at time 104.71446228027344, should wait for 29.555421829223633 seconds\n",
      "Bus bus_1 reached bus stop 0 at time 29.928564071655273, should wait for 29.70793914794922 seconds\n",
      "Bus bus_2 reached bus stop 0 at time 144.14276123046875, should wait for 29.96270179748535 seconds\n",
      "Bus bus_1 reached bus stop 0 at time 29.928564071655273, should wait for 29.64128303527832 seconds\n",
      "Bus bus_2 reached bus stop 0 at time 26.71428108215332, should wait for 29.982704162597656 seconds\n",
      "Bus bus_1 reached bus stop 0 at time 42.78569793701172, should wait for 29.529640197753906 seconds\n",
      "Bus bus_2 reached bus stop 0 at time 104.71446228027344, should wait for 29.555421829223633 seconds\n",
      "Bus bus_1 reached bus stop 0 at time 53.71426010131836, should wait for 29.775684356689453 seconds\n",
      "Bus bus_2 reached bus stop 0 at time 104.71446228027344, should wait for 29.555421829223633 seconds\n",
      "Bus bus_1 reached bus stop 0 at time 29.928564071655273, should wait for 29.70793914794922 seconds\n",
      "Bus bus_2 reached bus stop 0 at time 116.9288101196289, should wait for 29.540542602539062 seconds\n",
      "Bus bus_1 reached bus stop 0 at time 29.928564071655273, should wait for 29.64128303527832 seconds\n",
      "Bus bus_2 reached bus stop 0 at time 128.21429443359375, should wait for 29.961734771728516 seconds\n",
      "Bus bus_1 reached bus stop 0 at time 36.9999885559082, should wait for 29.81157875061035 seconds\n",
      "Bus bus_2 reached bus stop 0 at time 104.71446228027344, should wait for 29.555421829223633 seconds\n",
      "Bus bus_1 reached bus stop 0 at time 44.0714111328125, should wait for 29.629365921020508 seconds\n",
      "Bus bus_2 reached bus stop 0 at time 104.71446228027344, should wait for 29.555421829223633 seconds\n",
      "Bus bus_1 reached bus stop 0 at time 29.928564071655273, should wait for 29.70793914794922 seconds\n",
      "Bus bus_2 reached bus stop 0 at time 111.14306640625, should wait for 29.957754135131836 seconds\n",
      "Bus bus_1 reached bus stop 0 at time 29.928564071655273, should wait for 29.64128303527832 seconds\n",
      "Bus bus_2 reached bus stop 0 at time 118.85739135742188, should wait for 29.657554626464844 seconds\n",
      "Bus bus_1 reached bus stop 0 at time 33.78570556640625, should wait for 29.40119171142578 seconds\n",
      "Bus bus_2 reached bus stop 0 at time 104.71446228027344, should wait for 29.555421829223633 seconds\n",
      "Bus bus_1 reached bus stop 0 at time 37.642845153808594, should wait for 29.713581085205078 seconds\n",
      "Bus bus_2 reached bus stop 0 at time 104.71446228027344, should wait for 29.555421829223633 seconds\n",
      "Bus bus_1 reached bus stop 0 at time 29.928564071655273, should wait for 29.70793914794922 seconds\n",
      "Bus bus_2 reached bus stop 0 at time 107.92876434326172, should wait for 29.607622146606445 seconds\n",
      "Bus bus_1 reached bus stop 0 at time 29.928564071655273, should wait for 29.64128303527832 seconds\n",
      "Bus bus_2 reached bus stop 0 at time 112.42878723144531, should wait for 29.698955535888672 seconds\n",
      "Bus bus_1 reached bus stop 0 at time 31.214277267456055, should wait for 29.899633407592773 seconds\n",
      "Bus bus_2 reached bus stop 0 at time 104.71446228027344, should wait for 29.555421829223633 seconds\n",
      "Bus bus_1 reached bus stop 0 at time 33.14284896850586, should wait for 29.482864379882812 seconds\n",
      "Bus bus_2 reached bus stop 0 at time 104.71446228027344, should wait for 29.555421829223633 seconds\n",
      "Bus bus_1 reached bus stop 0 at time 29.928564071655273, should wait for 29.70793914794922 seconds\n",
      "Bus bus_2 reached bus stop 0 at time 106.00018310546875, should wait for 29.359115600585938 seconds\n",
      "Bus bus_1 reached bus stop 0 at time 29.928564071655273, should wait for 29.64128303527832 seconds\n",
      "Bus bus_2 reached bus stop 0 at time 107.92876434326172, should wait for 29.464853286743164 seconds\n"
     ]
    }
   ],
   "source": [
    "# Forward difference\n",
    "h_list = [30, 20, 15, 10, 5]\n",
    "\n",
    "objectives_fwd = []\n",
    "for h in h_list:\n",
    "    speed_limits_orig = [[torch.tensor(40.0)], [torch.tensor(40.0)], [torch.tensor(40.0)], [torch.tensor(40.0)]]\n",
    "    speed_limits_h1 = [[torch.tensor(40.0 + h)], [torch.tensor(40.0)], [torch.tensor(40.0)], [torch.tensor(40.0)]]\n",
    "    speed_limits_h2 = [[torch.tensor(40.0)], [torch.tensor(40.0 + h)], [torch.tensor(40.0)], [torch.tensor(40.0)]]\n",
    "    speed_limits_h3 = [[torch.tensor(40.0)], [torch.tensor(40.0)], [torch.tensor(40.0 + h)], [torch.tensor(40.0)]]\n",
    "    speed_limits_h4 = [[torch.tensor(40.0)], [torch.tensor(40.0)], [torch.tensor(40.0)], [torch.tensor(40.0 + h)]]\n",
    "    cycle_orig = [torch.tensor(60.0), torch.tensor(60.0)]\n",
    "    cycle_h1 = [torch.tensor(60.0 + h), torch.tensor(60.0)]\n",
    "    cycl_h2 = [torch.tensor(60.0), torch.tensor(60.0 + h)]\n",
    "\n",
    "    network_1 = generate.two_two_junction(T, N, speed_limits_h1, controls, cycle_orig, track_grad=False)\n",
    "    network_2 = generate.two_two_junction(T, N, speed_limits_h2, controls, cycle_orig, track_grad=False)\n",
    "    network_3 = generate.two_two_junction(T, N, speed_limits_h3, controls, cycle_orig, track_grad=False)\n",
    "    network_4 = generate.two_two_junction(T, N, speed_limits_h4, controls, cycle_orig, track_grad=False)\n",
    "    network_5 = generate.two_two_junction(T, N, speed_limits_orig, controls, cycle_h1, track_grad=False)\n",
    "    network_6 = generate.two_two_junction(T, N, speed_limits_orig, controls, cycl_h2, track_grad=False)\n",
    "\n",
    "    densities_h1, _, _, _, _ = network_1.solve_cons_law_counting()\n",
    "    densities_h2, _, _, _, _ = network_2.solve_cons_law_counting()\n",
    "    densities_h3, _, _, _, _ = network_3.solve_cons_law_counting()\n",
    "    densities_h4, _, _, _, _ = network_4.solve_cons_law_counting()\n",
    "    densities_h5, _, _, _, _ = network_3.solve_cons_law_counting()\n",
    "    densities_h6, _, _, _, _ = network_4.solve_cons_law_counting()\n",
    "\n",
    "    objectives_fwd.append([throughput(network_1, densities_h1), throughput(network_2, densities_h2),\n",
    "                           throughput(network_3, densities_h3), throughput(network_4, densities_h4),\n",
    "                           throughput(network_5, densities_h5), throughput(network_6, densities_h6)])\n",
    "\n",
    "\n",
    "objectives_bwd = []\n",
    "for h in h_list:\n",
    "    speed_limits_orig = [[torch.tensor(40.0)], [torch.tensor(40.0)], [torch.tensor(40.0)], [torch.tensor(40.0)]]\n",
    "    speed_limits_h1 = [[torch.tensor(40.0 - h)], [torch.tensor(40.0)], [torch.tensor(40.0)], [torch.tensor(40.0)]]\n",
    "    speed_limits_h2 = [[torch.tensor(40.0)], [torch.tensor(40.0 - h)], [torch.tensor(40.0)], [torch.tensor(40.0)]]\n",
    "    speed_limits_h3 = [[torch.tensor(40.0)], [torch.tensor(40.0)], [torch.tensor(40.0 - h)], [torch.tensor(40.0)]]\n",
    "    speed_limits_h4 = [[torch.tensor(40.0)], [torch.tensor(40.0)], [torch.tensor(40.0)], [torch.tensor(40.0 - h)]]\n",
    "    cycle_orig = [torch.tensor(60.0), torch.tensor(60.0)]\n",
    "    cycle_h1 = [torch.tensor(60.0 - h), torch.tensor(60.0)]\n",
    "    cycl_h2 = [torch.tensor(60.0), torch.tensor(60.0 - h)]\n",
    "\n",
    "    network_1 = generate.two_two_junction(T, N, speed_limits_h1, controls, cycle_orig, track_grad=False)\n",
    "    network_2 = generate.two_two_junction(T, N, speed_limits_h2, controls, cycle_orig, track_grad=False)\n",
    "    network_3 = generate.two_two_junction(T, N, speed_limits_h3, controls, cycle_orig, track_grad=False)\n",
    "    network_4 = generate.two_two_junction(T, N, speed_limits_h4, controls, cycle_orig, track_grad=False)\n",
    "    network_5 = generate.two_two_junction(T, N, speed_limits_orig, controls, cycle_h1, track_grad=False)\n",
    "    network_6 = generate.two_two_junction(T, N, speed_limits_orig, controls, cycl_h2, track_grad=False)\n",
    "\n",
    "    densities_h1, _, _, _, _ = network_1.solve_cons_law_counting()\n",
    "    densities_h2, _, _, _, _ = network_2.solve_cons_law_counting()\n",
    "    densities_h3, _, _, _, _ = network_3.solve_cons_law_counting()\n",
    "    densities_h4, _, _, _, _ = network_4.solve_cons_law_counting()\n",
    "    densities_h5, _, _, _, _ = network_3.solve_cons_law_counting()\n",
    "    densities_h6, _, _, _, _ = network_4.solve_cons_law_counting()\n",
    "\n",
    "    objectives_bwd.append([throughput(network_1, densities_h1), throughput(network_2, densities_h2),\n",
    "                           throughput(network_3, densities_h3), throughput(network_4, densities_h4),\n",
    "                           throughput(network_5, densities_h5), throughput(network_6, densities_h6)])"
   ]
  },
  {
   "cell_type": "code",
   "execution_count": 23,
   "metadata": {},
   "outputs": [],
   "source": [
    "derivatives_fwd = []\n",
    "for h, objective in zip(h_list, objectives_fwd):\n",
    "    grad1 = (objective[0] - objective_val.detach()) / h\n",
    "    grad2 = (objective[1] - objective_val.detach()) / h\n",
    "    grad3 = (objective[2] - objective_val.detach()) / h\n",
    "    grad4 = (objective[3] - objective_val.detach()) / h\n",
    "    grad5 = (objective[4] - objective_val.detach()) / h\n",
    "    grad6 = (objective[5] - objective_val.detach()) / h\n",
    "    derivatives_fwd.append([grad1, grad2, grad3, grad4, grad5, grad6])\n",
    "\n",
    "\n",
    "derivatives_bwd = []\n",
    "for h, objective in zip(h_list, objectives_bwd):\n",
    "    grad1 = (objective_val.detach() - objective[0]) / h\n",
    "    grad2 = (objective_val.detach() - objective[1]) / h\n",
    "    grad3 = (objective_val.detach() - objective[2]) / h\n",
    "    grad4 = (objective_val.detach() - objective[3]) / h\n",
    "    grad5 = (objective_val.detach() - objective[4]) / h\n",
    "    grad6 = (objective_val.detach() - objective[5]) / h\n",
    "    derivatives_bwd.append([grad1, grad2, grad3, grad4, grad5, grad6])"
   ]
  },
  {
   "cell_type": "code",
   "execution_count": 24,
   "metadata": {},
   "outputs": [],
   "source": [
    "errors_fwd = [np.linalg.norm(np.array(grad) - ad_grad_scaled) for grad in derivatives_fwd]\n",
    "errors_bwd = [np.linalg.norm(np.array(grad) - ad_grad_scaled) for grad in derivatives_bwd]\n",
    "\n",
    "i = 5\n",
    "errors_fwd = [np.linalg.norm(np.array(grad[i]) - ad_grad_scaled[i]) for grad in derivatives_fwd]\n",
    "errors_bwd = [np.linalg.norm(np.array(grad[i]) - ad_grad_scaled[i]) for grad in derivatives_bwd]"
   ]
  },
  {
   "cell_type": "code",
   "execution_count": 25,
   "metadata": {},
   "outputs": [],
   "source": [
    "# derivatives_bwd\n",
    "errors_fwd = [np.linalg.norm(np.array(grad) - ad_grad_scaled) for grad in derivatives_fwd]\n",
    "errors_bwd = [np.linalg.norm(np.array(grad) - ad_grad_scaled) for grad in derivatives_bwd]"
   ]
  },
  {
   "cell_type": "code",
   "execution_count": 26,
   "metadata": {},
   "outputs": [
    {
     "data": {
      "image/png": "[encoded data removed]",
      "text/plain": [
       "<Figure size 640x480 with 1 Axes>"
      ]
     },
     "metadata": {},
     "output_type": "display_data"
    }
   ],
   "source": [
    "# plt.loglog(h_list, errors_fwd, label=\"forward\")\n",
    "plt.loglog(h_list, errors_bwd, label=\"backward\")\n",
    "plt.legend()\n",
    "plt.show()"
   ]
  },
  {
   "cell_type": "code",
   "execution_count": null,
   "metadata": {},
   "outputs": [],
   "source": []
  }
 ],
 "metadata": {
  "kernelspec": {
   "display_name": "traffic",
   "language": "python",
   "name": "python3"
  },
  "language_info": {
   "codemirror_mode": {
    "name": "ipython",
    "version": 3
   },
   "file_extension": ".py",
   "mimetype": "text/x-python",
   "name": "python",
   "nbconvert_exporter": "python",
   "pygments_lexer": "ipython3",
   "version": "3.10.12"
  }
 },
 "nbformat": 4,
 "nbformat_minor": 2
}
