{
 "cells": [
  {
   "cell_type": "code",
   "execution_count": 12,
   "metadata": {},
   "outputs": [],
   "source": [
    "import sys\n",
    "sys.path.append('../src')\n",
    "\n",
    "import network as nw\n",
    "import torch\n",
    "import generate_kvadraturen as gk\n",
    "import bus\n",
    "import road as rd\n",
    "import traffic_lights as tl\n",
    "import junction as jn\n",
    "import numpy as np\n",
    "import loading_json as load\n",
    "import matplotlib.pyplot as plt\n"
   ]
  },
  {
   "cell_type": "code",
   "execution_count": 2,
   "metadata": {},
   "outputs": [],
   "source": [
    "T = 100\n",
    "road_1 = rd.Road(1, 50, 5, torch.tensor([50.0/3.6], requires_grad=True), [],\n",
    "               initial=lambda x : torch.ones_like(x) * 0.2,\n",
    "               left_pos=(-1, 2), right_pos=(2.9,2),\n",
    "               periodic=True, id = \"road_1_fw\")\n",
    "\n",
    "road_2 = rd.Road(1, 50, 5, torch.tensor([50.0/3.6], requires_grad=True), [],\n",
    "               initial=lambda x : torch.ones_like(x) * 0.2,\n",
    "               left_pos=(3.1, 2), right_pos=(7,2),\n",
    "               periodic=True, id = \"road_2_fw\")\n",
    "\n",
    "road_3 = rd.Road(1, 50, 5, torch.tensor([50.0/3.6], requires_grad=True), [],\n",
    "               initial=lambda x : torch.ones_like(x) * 0.4,\n",
    "               left_pos=(-1, 4), right_pos=(2.9,4),\n",
    "               periodic=True, id = \"road_3_fw\")\n",
    "\n",
    "road_4 = rd.Road(1, 50, 5, torch.tensor([50.0/3.6], requires_grad=True), [],\n",
    "               initial=lambda x : torch.ones_like(x) * 0.4,\n",
    "               left_pos=(3.1, 4), right_pos=(7,4),\n",
    "               periodic=True, id = \"road_4_fw\")\n",
    "\n",
    "road_5 = rd.Road(1, 50, 5, torch.tensor([50.0/3.6], requires_grad=True), [],\n",
    "               initial=lambda x : torch.ones_like(x) * 0.6,\n",
    "               left_pos=(-1, 6), right_pos=(2.9,6),\n",
    "               periodic=True, id = \"road_5_fw\")\n",
    "\n",
    "road_6 = rd.Road(1, 50, 5, torch.tensor([50.0/3.6], requires_grad=True), [],\n",
    "               initial=lambda x : torch.ones_like(x) * 0.2,\n",
    "               left_pos=(3.1, 6), right_pos=(7,6),\n",
    "               periodic=True, id = \"road_6_fw\")\n",
    "\n",
    "traffic_light_2 = tl.TrafficLightContinous(True, [0], [1], [torch.tensor(30.),torch.tensor(30.)])\n",
    "traffic_light_3 = tl.TrafficLightContinous(True, [0], [1], [torch.tensor(30.),torch.tensor(30.)])\n",
    "traffic_light_1 = tl.TrafficLightContinous(True, [0], [1], [torch.tensor(30.),torch.tensor(30.)])\n",
    "junction_1 = jn.Junction([road_1, road_2], [0], [1], [[1.0]], [traffic_light_1], [])\n",
    "junction_2 = jn.Junction([road_3, road_4], [0], [1], [[1.0]], [traffic_light_2], [])\n",
    "junction_3 = jn.Junction([road_5, road_6], [0], [1], [[1.0]], [traffic_light_3], [])\n",
    "\n",
    "\n",
    "roads = [road_1, road_2, road_3, road_4, road_5, road_6]\n",
    "junctions = [junction_1, junction_2, junction_3]\n",
    "network = nw.RoadNetwork(roads, [], T)"
   ]
  },
  {
   "cell_type": "code",
   "execution_count": 3,
   "metadata": {},
   "outputs": [],
   "source": [
    "ids = [\"road_1_fw\", \"road_2_fw\"]\n",
    "stops = [(\"road_2_fw\", 40)]\n",
    "times = [60]\n",
    "bus_1 = bus.Bus(ids, stops, times, network, id=\"bus1\")\n",
    "\n",
    "ids = [\"road_3_fw\", \"road_4_fw\"]\n",
    "stops = [(\"road_4_fw\", 40)]\n",
    "times = [60]\n",
    "bus_2 = bus.Bus(ids, stops, times, network, id=\"bus2\")\n",
    "\n",
    "ids = [\"road_5_fw\", \"road_6_fw\"]\n",
    "stops = [(\"road_6_fw\", 40)]\n",
    "times = [60]\n",
    "bus_3 = bus.Bus(ids, stops, times, network, id=\"bus3\")\n",
    "\n",
    "\n",
    "bus_network = nw.RoadNetwork(roads, junctions, T, busses=[bus_1, bus_2, bus_3])"
   ]
  },
  {
   "cell_type": "code",
   "execution_count": 4,
   "metadata": {},
   "outputs": [
    {
     "name": "stdout",
     "output_type": "stream",
     "text": [
      "Bus bus1 reached bus stop 0 at time 40.0, should wait for 29.986072540283203 seconds\n",
      "Bus bus3 reached bus stop 0 at time 41.20000457763672, should wait for 29.632442474365234 seconds\n",
      "Bus bus2 reached bus stop 0 at time 41.600006103515625, should wait for 29.683917999267578 seconds\n"
     ]
    }
   ],
   "source": [
    "densities, queues, bus_lengths, delays = bus_network.solve_cons_law()"
   ]
  },
  {
   "cell_type": "code",
   "execution_count": 13,
   "metadata": {},
   "outputs": [
    {
     "name": "stdout",
     "output_type": "stream",
     "text": [
      "('', 0, '')\n",
      "('road_4_fw', tensor(40.9621, grad_fn=<RsubBackward1>), '')\n",
      "('', 0, '')\n"
     ]
    }
   ],
   "source": [
    "for busss in bus_network.busses:\n",
    "    print(busss.get_road_id())"
   ]
  },
  {
   "cell_type": "code",
   "execution_count": 10,
   "metadata": {},
   "outputs": [],
   "source": [
    "times = []\n",
    "lengths = []\n",
    "for t, l in bus_lengths[0].items():\n",
    "    try:\n",
    "        times.append(t.detach())\n",
    "        lengths.append(l.detach())\n",
    "    except:\n",
    "        times.append(t)\n",
    "        lengths.append(l)"
   ]
  },
  {
   "cell_type": "code",
   "execution_count": 14,
   "metadata": {},
   "outputs": [
    {
     "name": "stdout",
     "output_type": "stream",
     "text": [
      "['road_1_fw', 'road_2_fw']\n",
      "['road_3_fw', 'road_4_fw']\n",
      "['road_5_fw', 'road_6_fw']\n"
     ]
    }
   ],
   "source": [
    "for bus_ in bus_network.busses:\n",
    "    print(bus_.ids)"
   ]
  },
  {
   "cell_type": "code",
   "execution_count": 15,
   "metadata": {},
   "outputs": [
    {
     "name": "stdout",
     "output_type": "stream",
     "text": [
      "road_1_fw 50\n",
      "road_2_fw 50\n",
      "road_3_fw 50\n",
      "road_4_fw 50\n",
      "road_5_fw 50\n",
      "road_6_fw 50\n"
     ]
    }
   ],
   "source": [
    "for road in bus_network.roads:\n",
    "    print(road.id, road.b*road.L)"
   ]
  },
  {
   "cell_type": "code",
   "execution_count": 13,
   "metadata": {},
   "outputs": [
    {
     "data": {
      "image/png": "[encoded data removed]",
      "text/plain": [
       "<Figure size 640x480 with 1 Axes>"
      ]
     },
     "metadata": {},
     "output_type": "display_data"
    }
   ],
   "source": [
    "plt.plot(times, lengths)\n",
    "plt.show()"
   ]
  },
  {
   "cell_type": "code",
   "execution_count": 15,
   "metadata": {},
   "outputs": [
    {
     "name": "stdout",
     "output_type": "stream",
     "text": [
      "(tensor(0.2222, grad_fn=<DivBackward0>), tensor(0.9997))\n",
      "(tensor(0.2221, grad_fn=<DivBackward0>), tensor(0.9997))\n",
      "(tensor(0.1667, grad_fn=<DivBackward0>), tensor(0.9997))\n",
      "(tensor(0.0747, grad_fn=<DivBackward0>), tensor(0.9997))\n",
      "(tensor(0.1111, grad_fn=<DivBackward0>), tensor(0.9997))\n",
      "(tensor(0.2218, grad_fn=<DivBackward0>), tensor(0.9997))\n"
     ]
    }
   ],
   "source": [
    "for road in bus_network.roads:\n",
    "    print(road.get_speed(torch.tensor(0.8), torch.tensor(0.2)))"
   ]
  },
  {
   "cell_type": "code",
   "execution_count": 16,
   "metadata": {},
   "outputs": [
    {
     "name": "stdout",
     "output_type": "stream",
     "text": [
      "(False, 0.0)\n",
      "(True, tensor(1.2697e-15))\n",
      "(False, 0.0)\n"
     ]
    }
   ],
   "source": [
    "for j in bus_network.junctions:\n",
    "    print(j.get_activation(0.7, \"road_3_fw\", \"road_4_fw\"))"
   ]
  },
  {
   "cell_type": "code",
   "execution_count": 5,
   "metadata": {},
   "outputs": [],
   "source": [
    "densities = load.convert_from_tensor(densities)\n",
    "queues = load.convert_from_tensor(queues)\n",
    "bus_lengths = load.convert_from_tensor(bus_lengths)\n",
    "bus_delay_dict = {i : [float(l.detach()) for l in delays[i]] for i in range(len(delays))}"
   ]
  },
  {
   "cell_type": "code",
   "execution_count": 6,
   "metadata": {},
   "outputs": [],
   "source": [
    "import json\n",
    "with open(\"../results/test_bus_stopping.json\", 'w') as fd:\n",
    "    fd.write(json.dumps([densities, queues, bus_lengths, bus_delay_dict]))"
   ]
  }
 ],
 "metadata": {
  "kernelspec": {
   "display_name": "traffic",
   "language": "python",
   "name": "python3"
  },
  "language_info": {
   "codemirror_mode": {
    "name": "ipython",
    "version": 3
   },
   "file_extension": ".py",
   "mimetype": "text/x-python",
   "name": "python",
   "nbconvert_exporter": "python",
   "pygments_lexer": "ipython3",
   "version": "3.10.12"
  }
 },
 "nbformat": 4,
 "nbformat_minor": 2
}
