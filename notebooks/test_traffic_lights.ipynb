{
 "cells": [
  {
   "cell_type": "code",
   "execution_count": 1,
   "metadata": {},
   "outputs": [],
   "source": [
    "import torch"
   ]
  },
  {
   "cell_type": "code",
   "execution_count": 59,
   "metadata": {},
   "outputs": [],
   "source": [
    "class coupled_light:\n",
    "    state = None\n",
    "    on_time = None\n",
    "    off_time = None\n",
    "\n",
    "    def __init__(self, start_state, on, off):\n",
    "        self.state = start_state\n",
    "        self.on_time = torch.tensor(float(on), requires_grad=True)\n",
    "        self.off_time = torch.tensor(float(off), requires_grad=True)\n",
    "\n",
    "    def change_state(self, t):\n",
    "        '''\n",
    "        Find out which state will be active\n",
    "        '''\n",
    "        if t > self.on_time:\n",
    "            self.state = 0"
   ]
  },
  {
   "cell_type": "code",
   "execution_count": 62,
   "metadata": {},
   "outputs": [],
   "source": [
    "on_time = 2.\n",
    "off_time = 0.4\n",
    "\n",
    "coupled = coupled_light(1, on_time, off_time)"
   ]
  },
  {
   "cell_type": "code",
   "execution_count": 68,
   "metadata": {},
   "outputs": [],
   "source": [
    "def fa(t, coupled):\n",
    "    if t < 2:\n",
    "        return 1. * coupled.on_time #/ coupled.on_time.detach()\n",
    "    else:\n",
    "        return 0\n",
    "    \n",
    "def fb(t, coupled):\n",
    "    if t < 2:\n",
    "        return 0\n",
    "    else:\n",
    "        return 1. * coupled.off_time #/ coupled.off_time.detach()"
   ]
  },
  {
   "cell_type": "code",
   "execution_count": 69,
   "metadata": {},
   "outputs": [
    {
     "name": "stdout",
     "output_type": "stream",
     "text": [
      "tensor(94.4001, grad_fn=<AddBackward0>)\n",
      "(tensor(39.),)\n",
      "(tensor(41.),)\n"
     ]
    }
   ],
   "source": [
    "T = 4\n",
    "t = 0\n",
    "dt = 0.05\n",
    "coupled = coupled_light(1, on_time, off_time)\n",
    "total = 0\n",
    "\n",
    "a_states = 0\n",
    "b_states = 0\n",
    "\n",
    "while t < T:\n",
    "    # Sum up flux\n",
    "    t += dt\n",
    "    coupled.change_state(t)\n",
    "    if coupled.state:\n",
    "        a_states += 1\n",
    "        total += fa(t, coupled)\n",
    "    else:\n",
    "        b_states += 1\n",
    "        total += fb(t, coupled)\n",
    "\n",
    "print(total)\n",
    "print(torch.autograd.grad(total, coupled.on_time, create_graph=True, allow_unused=True))\n",
    "print(torch.autograd.grad(total, coupled.off_time))"
   ]
  },
  {
   "cell_type": "code",
   "execution_count": 67,
   "metadata": {},
   "outputs": [
    {
     "name": "stdout",
     "output_type": "stream",
     "text": [
      "40\n",
      "41\n"
     ]
    }
   ],
   "source": [
    "print(a_states)\n",
    "print(b_states)"
   ]
  }
 ],
 "metadata": {
  "kernelspec": {
   "display_name": "traffic",
   "language": "python",
   "name": "python3"
  },
  "language_info": {
   "codemirror_mode": {
    "name": "ipython",
    "version": 3
   },
   "file_extension": ".py",
   "mimetype": "text/x-python",
   "name": "python",
   "nbconvert_exporter": "python",
   "pygments_lexer": "ipython3",
   "version": "3.10.12"
  },
  "orig_nbformat": 4
 },
 "nbformat": 4,
 "nbformat_minor": 2
}
