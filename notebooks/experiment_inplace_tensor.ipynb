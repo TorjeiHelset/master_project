{
 "cells": [
  {
   "cell_type": "code",
   "execution_count": 1,
   "metadata": {},
   "outputs": [],
   "source": [
    "import torch"
   ]
  },
  {
   "cell_type": "code",
   "execution_count": 67,
   "metadata": {},
   "outputs": [],
   "source": [
    "array = torch.zeros((2,2)) # [0.0 for _ in range(3)]\n",
    "\n",
    "a = torch.tensor(2.0, requires_grad=True)\n",
    "b = torch.tensor(3.0, requires_grad=True)\n",
    "c = torch.tensor(4.0, requires_grad=True)\n",
    "d = torch.tensor(5.0, requires_grad=True)\n",
    "a_2 = torch.tensor(0.1, requires_grad=True)\n",
    "b_2 = torch.tensor(0.8, requires_grad=True)\n",
    "c_2 = torch.tensor(0.2, requires_grad=True)\n",
    "d_2 = torch.tensor(0.7, requires_grad=True)\n",
    "\n",
    "dummy_density = torch.tensor([0.1, 0.4, 0.2, 0.4], requires_grad=True)\n",
    "\n",
    "# Initial assignment\n",
    "array[0][0] = a\n",
    "array[0][1] = b\n",
    "array[1][0] = c\n",
    "array[1][1] = d\n",
    "\n",
    "\n",
    "array_2 = torch.zeros((2,2)) #, requires_grad=True)\n",
    "new_array = array_2.clone()\n",
    "\n",
    "for i in range(2):\n",
    "    for j in range(2):\n",
    "        array_2[i,j] = array[i,j] * dummy_density[i*2+j]\n",
    "\n",
    "# array_2[i,j] = b_2\n",
    "# # j == 0:\n",
    "capacity = a_2\n",
    "sum_influx = torch.sum(array_2[:,0])\n",
    "\n",
    "if sum_influx > capacity:\n",
    "    new_array[:,0] = array_2[:,0] * capacity / sum_influx\n",
    "#     # for i in range(2):\n",
    "#     #     array_2[i,0] = array_2[i,0] / dummy_density[i*2]\n",
    "\n",
    "# j == 1:\n",
    "capacity = b_2\n",
    "sum_influx = torch.sum(array_2[:,1])\n",
    "\n",
    "if sum_influx > capacity:\n",
    "    new_array[:,1] = array_2[:,1] * capacity / sum_influx\n",
    "    # for i in range(2):\n",
    "    #     array[i,1] = array_2[i,1] / dummy_density[i*2+1]\n",
    "\n",
    "\n",
    "objective = torch.sum(array) + torch.sum(new_array) \n"
   ]
  },
  {
   "cell_type": "code",
   "execution_count": 66,
   "metadata": {},
   "outputs": [],
   "source": [
    "objective.backward()"
   ]
  },
  {
   "cell_type": "code",
   "execution_count": null,
   "metadata": {},
   "outputs": [],
   "source": [
    "array = torch.zeros((2,2)) # [0.0 for _ in range(3)]\n",
    "\n",
    "a = torch.tensor(2.0, requires_grad=True)\n",
    "b = torch.tensor(3.0, requires_grad=True)\n",
    "c = torch.tensor(4.0, requires_grad=True)\n",
    "d = torch.tensor(5.0, requires_grad=True)\n",
    "a_2 = torch.tensor(0.1, requires_grad=True)\n",
    "b_2 = torch.tensor(0.8, requires_grad=True)\n",
    "c_2 = torch.tensor(0.2, requires_grad=True)\n",
    "d_2 = torch.tensor(0.7, requires_grad=True)\n",
    "\n",
    "dummy_density = torch.tensor([0.1, 0.4, 0.2, 0.4], requires_grad=True)\n",
    "\n",
    "# Initial assignment\n",
    "array[0][0] = a\n",
    "array[0][1] = b\n",
    "array[1][0] = c\n",
    "array[1][1] = d\n",
    "\n",
    "array_2 = torch.zeros((2,2))\n",
    "\n",
    "for i in range(2):\n",
    "    for j in range(2):\n",
    "        array_2[i][j] = array[i][j] * dummy_density[i*2+j]\n",
    "\n",
    "# j == 0:\n",
    "capacity = a_2\n",
    "sum_influx = torch.sum(array_2[:,0])\n",
    "\n",
    "if sum_influx > capacity:\n",
    "    array_2[:,0] = array_2[:,0] * capacity / sum_influx\n",
    "\n",
    "# j == 1:\n",
    "capacity = b_2\n",
    "sum_influx = torch.sum(array_2[:,1])\n",
    "\n",
    "if sum_influx > capacity:\n",
    "    array_2[:,1] = array_2[:,1] * capacity / sum_influx\n",
    "\n",
    "\n",
    "objective = torch.sum(array) + torch.sum(array_2) "
   ]
  }
 ],
 "metadata": {
  "kernelspec": {
   "display_name": "traffic",
   "language": "python",
   "name": "python3"
  },
  "language_info": {
   "codemirror_mode": {
    "name": "ipython",
    "version": 3
   },
   "file_extension": ".py",
   "mimetype": "text/x-python",
   "name": "python",
   "nbconvert_exporter": "python",
   "pygments_lexer": "ipython3",
   "version": "3.10.12"
  }
 },
 "nbformat": 4,
 "nbformat_minor": 2
}
