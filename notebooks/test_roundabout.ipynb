{
 "cells": [
  {
   "cell_type": "code",
   "execution_count": 38,
   "metadata": {},
   "outputs": [],
   "source": [
    "import sys\n",
    "sys.path.append('../src')\n",
    "\n",
    "import network as nw\n",
    "import road as rd\n",
    "import junction as jn\n",
    "import traffic_lights as tl\n",
    "import torch\n",
    "import openGLUtils as glutils\n",
    "import openGLUtilsGif as glgif\n",
    "import matplotlib.pyplot as plt\n",
    "import FV_schemes as fv\n",
    "import scipy.integrate as integrate\n",
    "import numpy as np\n",
    "import roundabout as rb\n",
    "import torch\n",
    "import generate_kvadraturen as gk\n",
    "import bus\n",
    "import loading_json as load"
   ]
  },
  {
   "cell_type": "code",
   "execution_count": 39,
   "metadata": {},
   "outputs": [],
   "source": [
    "T = 100\n",
    "# network = gk.generate_kvadraturen_minimal_junctions(T)\n",
    "\n",
    "network = gk.generate_kvadraturen_w_roundabout(T)"
   ]
  },
  {
   "cell_type": "code",
   "execution_count": 5,
   "metadata": {},
   "outputs": [
    {
     "name": "stdout",
     "output_type": "stream",
     "text": [
      "Loading results...\n"
     ]
    }
   ],
   "source": [
    "# import json\n",
    "# print(\"Loading results...\")\n",
    "# f = open(\"kvadraturen_roundabout.json\")\n",
    "# data = json.load(f)\n",
    "# f.close()\n",
    "# densities = data[0]\n",
    "# queues = data[1]\n",
    "# bus_lengths = data[2]\n",
    "# bus_delays = data[3]"
   ]
  },
  {
   "cell_type": "code",
   "execution_count": 40,
   "metadata": {},
   "outputs": [],
   "source": [
    "ids_bw = [\"lundsbro_bw\", \"elvegata_bw\", \"tollbod_2bw\", \"tollbod_1bw\", \"v_strand_5bw\", \n",
    "          \"v_strand_4bw\", \"v_strand_3bw\", \"v_strand_2bw\", \"v_strand_1bw\"]            \n",
    "            \n",
    "\n",
    "stops_bw = [(\"tollbod_2bw\", 50), (\"tollbod_1bw\", 90), (\"tollbod_1bw\", 230), (\"v_strand_1bw\", 25)]\n",
    "\n",
    "times_bw = [40, 130, 190, 250]\n",
    "\n",
    "bus_bw = bus.Bus(ids_bw, stops_bw, times_bw, network, id = \"2\", start_time = 0.0)\n",
    "\n",
    "ids_fw = [\"v_strand_1fw\", \"h_w_2\", \"festning_3fw\", \"festning_4fw\", \"tollbod_2fw\",\n",
    "          \"elvegata_fw\", \"lundsbro_fw\"]\n",
    "\n",
    "stops_fw = [(\"h_w_2\", 130), (\"festning_4fw\", 40), (\"tollbod_2fw\", 25), \n",
    "            (\"tollbod_2fw\", 260)]\n",
    "times_fw = [30, 110, 130, 230]\n",
    "\n",
    "\n",
    "bus_fw = bus.Bus(ids_fw, stops_fw, times_fw, network, id = \"1\")\n",
    "\n",
    "\n",
    "times_bw_2 = [240, 330, 390, 450]\n",
    "\n",
    "times_fw_2 = [530, 610, 630, 830]\n",
    "\n",
    "bus_bw_2 = bus.Bus(ids_bw, stops_bw, times_bw, network, id = \"3\", start_time = 200.0)\n",
    "bus_fw_2 = bus.Bus(ids_fw, stops_fw, times_fw, network, id = \"4\", start_time = 500.0)"
   ]
  },
  {
   "cell_type": "code",
   "execution_count": 41,
   "metadata": {},
   "outputs": [],
   "source": [
    "# Create actual network\n",
    "roads = network.roads\n",
    "junctions = network.junctions\n",
    "T = network.T\n",
    "roundabouts = network.roundabouts\n",
    "# Don't store the densities \n",
    "T = 100\n",
    "# bus_network = nw.RoadNetwork(roads, junctions, T, [bus_fw, bus_bw], store_densities = False)\n",
    "bus_network = nw.RoadNetwork(roads, junctions, T, busses=[bus_fw, bus_bw, bus_fw_2, bus_bw_2], roundabouts=roundabouts,\n",
    "                             store_densities = True)"
   ]
  },
  {
   "cell_type": "code",
   "execution_count": 42,
   "metadata": {},
   "outputs": [
    {
     "name": "stdout",
     "output_type": "stream",
     "text": [
      "Bus 2 reached bus stop 0 at time 19.600006103515625, should wait for 29.75235939025879 seconds\n",
      "Bus 1 reached bus stop 0 at time 27.40001106262207, should wait for 29.48542022705078 seconds\n",
      "Bus 1 reached bus stop 1 at time 86.7474365234375, should wait for 29.866254806518555 seconds\n",
      "Bus 2 reached bus stop 1 at time 92.08149719238281, should wait for 37.43041229248047 seconds\n"
     ]
    }
   ],
   "source": [
    "densities, _, _, _  = bus_network.solve_cons_law()"
   ]
  },
  {
   "cell_type": "code",
   "execution_count": 47,
   "metadata": {},
   "outputs": [
    {
     "name": "stdout",
     "output_type": "stream",
     "text": [
      "42\n"
     ]
    }
   ],
   "source": [
    "for i, road in enumerate(bus_network.roads):\n",
    "    if road.id == \"vs_mainline_4\":\n",
    "        print(i)"
   ]
  },
  {
   "cell_type": "code",
   "execution_count": 58,
   "metadata": {},
   "outputs": [
    {
     "name": "stdout",
     "output_type": "stream",
     "text": [
      "t = 0, densities = tensor([0., 0., 0., 0., 0., 0.])\n",
      "t = 0.5999999642372131, densities = tensor([0.0570, 0.0570, 0.0000, 0.0000, 0.0000, 0.0000], grad_fn=<CopySlices>)\n",
      "t = 1.1999999284744263, densities = tensor([0.0598, 0.0598, 0.0280, 0.0265, 0.0262, 0.0262], grad_fn=<CopySlices>)\n",
      "t = 1.7999999523162842, densities = tensor([0.0691, 0.0691, 0.0440, 0.0412, 0.0403, 0.0403], grad_fn=<CopySlices>)\n",
      "t = 2.3999998569488525, densities = tensor([0.0748, 0.0748, 0.0566, 0.0536, 0.0524, 0.0524], grad_fn=<CopySlices>)\n",
      "t = 2.999999761581421, densities = tensor([0.0818, 0.0818, 0.0658, 0.0631, 0.0619, 0.0619], grad_fn=<CopySlices>)\n",
      "t = 3.5999996662139893, densities = tensor([0.0886, 0.0886, 0.0739, 0.0712, 0.0700, 0.0700], grad_fn=<CopySlices>)\n",
      "t = 4.199999809265137, densities = tensor([0.0947, 0.0947, 0.0813, 0.0786, 0.0773, 0.0773], grad_fn=<CopySlices>)\n",
      "t = 4.799999713897705, densities = tensor([0.1000, 0.1000, 0.0881, 0.0853, 0.0841, 0.0841], grad_fn=<CopySlices>)\n",
      "t = 5.0, densities = tensor([0.1015, 0.1015, 0.0914, 0.0861, 0.0846, 0.0846], grad_fn=<CopySlices>)\n",
      "t = 5.599999904632568, densities = tensor([0.1051, 0.1051, 0.0964, 0.0936, 0.0921, 0.0921], grad_fn=<CopySlices>)\n"
     ]
    }
   ],
   "source": [
    "jnc_idx = 0\n",
    "index = 39 + jnc_idx\n",
    "times = densities[index].keys()\n",
    "for i, t in enumerate(times):\n",
    "    if i > 10:\n",
    "        break\n",
    "    print(f\"t = {t}, densities = {densities[index][t]}\")\n",
    "\n",
    "# 42 seem to stabilize around 0.1798\n",
    "# 41 seem to stabilize around 0.9747, 0.9747, 0.6386, 0.5232, 0.5046, 0.5046\n",
    "# 40 seem to stabilize around 0.4921, 0.4921, 0.4895, 0.4860, 0.4821, 0.4821\n",
    "# 39 seem to stabilize around 0.1339"
   ]
  },
  {
   "cell_type": "code",
   "execution_count": 31,
   "metadata": {},
   "outputs": [
    {
     "name": "stdout",
     "output_type": "stream",
     "text": [
      "vs_mainline_1\n",
      "vs_mainline_2\n",
      "vs_mainline_3\n",
      "vs_mainline_4\n",
      "v_strand_1fw\n",
      "None\n",
      "tensor(0.1042)\n",
      "None\n",
      "tensor(0.0264)\n",
      "None\n",
      "tensor(0.0317)\n",
      "v_strand_1bw\n",
      "None\n",
      "None\n",
      "None\n",
      "\n",
      "--------------------------------\n",
      "\n",
      "fn_mainline_1\n",
      "fn_mainline_2\n",
      "fn_mainline_3\n",
      "festning_1fw\n",
      "None\n",
      "tensor(0.0708)\n",
      "None\n",
      "tensor(0.0708)\n",
      "festning_1bw\n",
      "None\n",
      "None\n",
      "\n",
      "--------------------------------\n",
      "\n"
     ]
    }
   ],
   "source": [
    "# Investigate the roundabout\n",
    "for roundabout in bus_network.roundabouts:\n",
    "    # for j in roundabout.junctions:\n",
    "    #     print(j.)\n",
    "    for mainline in roundabout.mainline_roads:\n",
    "        print(mainline.id)\n",
    "    for secondary in roundabout.secondary_inroads:\n",
    "        try:\n",
    "            print(secondary.id)\n",
    "        except:\n",
    "            print(\"None\")\n",
    "            print(secondary.inflow_fnc(0.2))\n",
    "\n",
    "    for secondary in roundabout.secondary_outroads:\n",
    "        try:\n",
    "            print(secondary.id)\n",
    "        except:\n",
    "            print(\"None\")\n",
    "\n",
    "    print(\"\\n--------------------------------\\n\")"
   ]
  },
  {
   "cell_type": "code",
   "execution_count": 37,
   "metadata": {},
   "outputs": [
    {
     "name": "stdout",
     "output_type": "stream",
     "text": [
      "vs_mainline_1\n",
      "vs_mainline_2\n",
      "(0, 0) (0.15, -0.3)\n",
      "v_strand_1fw\n",
      "v_strand_1bw\n",
      "vs_mainline_2\n",
      "vs_mainline_3\n",
      "(0.15, -0.3) (0, -0.6)\n",
      "External secondary roads:\n",
      "Influx: 0.1041666716337204\n",
      "vs_mainline_3\n",
      "vs_mainline_4\n",
      "(0, -0.6) (-0.15, -0.3)\n",
      "External secondary roads:\n",
      "Influx: 0.02638889104127884\n",
      "vs_mainline_4\n",
      "vs_mainline_1\n",
      "(-0.15, -0.3) (0, 0)\n",
      "External secondary roads:\n",
      "Influx: 0.03166666626930237\n"
     ]
    }
   ],
   "source": [
    "for j in bus_network.roundabouts[0].junctions:\n",
    "    print(j.mainline_in.id)\n",
    "    print(j.mainline_out.id)\n",
    "    print(j.mainline_in.left_pos, j.mainline_in.right_pos)\n",
    "    try:\n",
    "        print(j.secondary_in.id)\n",
    "        print(j.secondary_out.id)\n",
    "    except:\n",
    "        print(\"External secondary roads:\")\n",
    "        print(f\"Influx: {j.secondary_in.inflow_fnc(0.2)}\")\n"
   ]
  },
  {
   "cell_type": "code",
   "execution_count": 10,
   "metadata": {},
   "outputs": [],
   "source": [
    "# for i, road in enumerate(bus_network.roads):\n",
    "#     print(i, road.id)\n",
    "\n",
    "# 39, 40, 41, 42 are mainline roads of the first roundabout"
   ]
  },
  {
   "cell_type": "code",
   "execution_count": null,
   "metadata": {},
   "outputs": [],
   "source": []
  },
  {
   "cell_type": "code",
   "execution_count": 48,
   "metadata": {},
   "outputs": [
    {
     "ename": "KeyError",
     "evalue": "'39'",
     "output_type": "error",
     "traceback": [
      "\u001b[1;31m---------------------------------------------------------------------------\u001b[0m",
      "\u001b[1;31mKeyError\u001b[0m                                  Traceback (most recent call last)",
      "Cell \u001b[1;32mIn[48], line 2\u001b[0m\n\u001b[0;32m      1\u001b[0m index \u001b[38;5;241m=\u001b[39m \u001b[38;5;124m'\u001b[39m\u001b[38;5;124m39\u001b[39m\u001b[38;5;124m'\u001b[39m\n\u001b[1;32m----> 2\u001b[0m times \u001b[38;5;241m=\u001b[39m \u001b[43mdensities\u001b[49m\u001b[43m[\u001b[49m\u001b[43mindex\u001b[49m\u001b[43m]\u001b[49m\u001b[38;5;241m.\u001b[39mkeys()\n\u001b[0;32m      3\u001b[0m \u001b[38;5;28;01mfor\u001b[39;00m i, t \u001b[38;5;129;01min\u001b[39;00m \u001b[38;5;28menumerate\u001b[39m(times):\n\u001b[0;32m      4\u001b[0m     \u001b[38;5;28mprint\u001b[39m(\u001b[38;5;124mf\u001b[39m\u001b[38;5;124m\"\u001b[39m\u001b[38;5;124mTime: \u001b[39m\u001b[38;5;132;01m{\u001b[39;00mt\u001b[38;5;132;01m}\u001b[39;00m\u001b[38;5;124m, In-boundary density: \u001b[39m\u001b[38;5;132;01m{\u001b[39;00mdensities[index][t][\u001b[38;5;241m0\u001b[39m]\u001b[38;5;132;01m}\u001b[39;00m\u001b[38;5;124m\"\u001b[39m)\n",
      "\u001b[1;31mKeyError\u001b[0m: '39'"
     ]
    }
   ],
   "source": [
    "index = '39'\n",
    "times = densities[index].keys()\n",
    "for i, t in enumerate(times):\n",
    "    print(f\"Time: {t}, In-boundary density: {densities[index][t][0]}\")\n",
    "    print(f\"Time: {t}, Out-boundary density: {densities[index][t][-1]}\")\n",
    "    if i > 20:\n",
    "        break"
   ]
  },
  {
   "cell_type": "markdown",
   "metadata": {},
   "source": [
    "#### Testing for a minimal roundabout"
   ]
  },
  {
   "cell_type": "code",
   "execution_count": 2,
   "metadata": {},
   "outputs": [],
   "source": [
    "L = 25 # Length of road\n",
    "N = 2 # Number of nodes to be used for every 50 meters\n",
    "\n",
    "# Vestre Strandgate roundabout:\n",
    "# Four arm roundabout with 4 junctions, where 2 roads are a part of simulation\n",
    "# Secondary roads can be described by a small object with a queue and an inflow condition\n",
    "# Creating the mainline\n",
    "main_speed_limit = torch.tensor([50.0], requires_grad=True)\n",
    "vs_main_1 = rd.Road(1, L, N, main_speed_limit, [], left_pos=(0,0), right_pos=(0.5, -0.5),\n",
    "                    inflow = 0.0, id=\"vs_mainline_1\")\n",
    "vs_main_2 = rd.Road(1, L, N, main_speed_limit, [], left_pos=(0.5, -0.5), right_pos=(0, -1),\n",
    "                    inflow = 0.0, id=\"vs_mainline_2\")\n",
    "vs_main_3 = rd.Road(1, L, N, main_speed_limit, [], left_pos=(0, -1), right_pos=(-0.5, -0.5),\n",
    "                    inflow = 0.0, id=\"vs_mainline_3\")\n",
    "vs_main_4 = rd.Road(1, L, N, main_speed_limit, [], left_pos=(-0.5, -0.5), right_pos=(0, 0),\n",
    "                    inflow = 0.0, id=\"vs_mainline_4\")"
   ]
  },
  {
   "cell_type": "code",
   "execution_count": 3,
   "metadata": {},
   "outputs": [],
   "source": [
    "secondary_gamma = torch.tensor(50 / (25 * 3.6))\n",
    "max_inflow = fv.flux(torch.tensor(0.5), secondary_gamma)\n",
    "# Assume constant inflow from all roads\n",
    "rho_1, rho_2, rho_3 = torch.tensor(0.4),torch.tensor(0.05), torch.tensor(0.05)\n",
    "inflow_1 = lambda t : fv.flux(rho_1, secondary_gamma)\n",
    "inflow_2 = lambda t : fv.flux(rho_2, secondary_gamma)\n",
    "inflow_3 = lambda t : fv.flux(rho_3, secondary_gamma)"
   ]
  },
  {
   "cell_type": "code",
   "execution_count": 4,
   "metadata": {},
   "outputs": [
    {
     "data": {
      "text/plain": [
       "tensor(0.1389)"
      ]
     },
     "execution_count": 4,
     "metadata": {},
     "output_type": "execute_result"
    }
   ],
   "source": [
    "max_inflow"
   ]
  },
  {
   "cell_type": "code",
   "execution_count": 5,
   "metadata": {},
   "outputs": [],
   "source": [
    "# Secondary roads\n",
    "vs_fw = rd.Road(2, L, N, main_speed_limit, [], left_pos=(0.0,0.0), right_pos=(0.0,1),\n",
    "                    inflow = 0.0, id=\"vs_fw\")\n",
    "vs_bw = rd.Road(2, L, N, main_speed_limit, [], left_pos=(0.0,1), right_pos=(0,0),\n",
    "                    inflow = 0.0, id=\"vs_bw\")\n",
    "vs_secondary_1 = rb.RoundaboutRoad(inflow_1, max_inflow)\n",
    "vs_secondary_2 = rb.RoundaboutRoad(inflow_2, max_inflow)\n",
    "vs_secondary_3 = rb.RoundaboutRoad(inflow_3, max_inflow)\n",
    "vs_jnc_1 = rb.RoundaboutJunction(vs_main_1, vs_main_2, 0.7, vs_fw, vs_bw, queue_junction = False)\n",
    "vs_jnc_2 = rb.RoundaboutJunction(vs_main_2, vs_main_3, 0.7, vs_secondary_1, None, queue_junction = True)\n",
    "vs_jnc_3 = rb.RoundaboutJunction(vs_main_3, vs_main_4, 0.7, vs_secondary_2, None, queue_junction = True)\n",
    "vs_jnc_4 = rb.RoundaboutJunction(vs_main_4, vs_main_1, 0.7, vs_secondary_3, None, queue_junction = True)\n",
    "vs_junctions = [vs_jnc_1, vs_jnc_2, vs_jnc_3, vs_jnc_4]"
   ]
  },
  {
   "cell_type": "code",
   "execution_count": 6,
   "metadata": {},
   "outputs": [],
   "source": [
    "# Create the roundabout\n",
    "roundabout = rb.Roundabout([vs_main_1, vs_main_2, vs_main_3, vs_main_4], \n",
    "                           [vs_fw, vs_secondary_1, vs_secondary_2, vs_secondary_3],\n",
    "                           [vs_bw, None, None, None],vs_junctions)"
   ]
  },
  {
   "cell_type": "code",
   "execution_count": 7,
   "metadata": {},
   "outputs": [],
   "source": [
    "# Create network:\n",
    "roads = [vs_main_1, vs_main_2, vs_main_3, vs_main_4, vs_fw, vs_bw]\n",
    "network = nw.RoadNetwork(roads, [], 50, [roundabout])"
   ]
  },
  {
   "cell_type": "code",
   "execution_count": 8,
   "metadata": {},
   "outputs": [],
   "source": [
    "densities, queues, _, _ = network.solve_cons_law()"
   ]
  },
  {
   "cell_type": "code",
   "execution_count": 9,
   "metadata": {},
   "outputs": [
    {
     "ename": "",
     "evalue": "",
     "output_type": "error",
     "traceback": [
      "\u001b[1;31mThe Kernel crashed while executing code in the current cell or a previous cell. \n",
      "\u001b[1;31mPlease review the code in the cell(s) to identify a possible cause of the failure. \n",
      "\u001b[1;31mClick <a href='https://aka.ms/vscodeJupyterKernelCrash'>here</a> for more info. \n",
      "\u001b[1;31mView Jupyter <a href='command:jupyter.viewOutput'>log</a> for further details."
     ]
    }
   ],
   "source": [
    "glgif.draw_timed_with_shift(network, densities, interval_seconds = 0.05, output_name = 'roundabout.gif')"
   ]
  },
  {
   "cell_type": "code",
   "execution_count": null,
   "metadata": {},
   "outputs": [],
   "source": [
    "ASFGHKJ"
   ]
  },
  {
   "cell_type": "code",
   "execution_count": null,
   "metadata": {},
   "outputs": [
    {
     "data": {
      "text/plain": [
       "tensor(0., grad_fn=<MaximumBackward0>)"
      ]
     },
     "execution_count": 8,
     "metadata": {},
     "output_type": "execute_result"
    }
   ],
   "source": [
    "vs_secondary_1.queue_length"
   ]
  },
  {
   "cell_type": "code",
   "execution_count": null,
   "metadata": {},
   "outputs": [],
   "source": [
    "# vs_jnc_2:\n",
    "jnc = vs_jnc_2\n",
    "main_in = jnc.mainline_in\n",
    "main_out = jnc.mainline_out\n",
    "second_in = jnc.secondary_in\n",
    "beta = rb.priority_fnc(main_in.rho[-1])"
   ]
  },
  {
   "cell_type": "code",
   "execution_count": null,
   "metadata": {},
   "outputs": [
    {
     "data": {
      "text/plain": [
       "{0: {0: tensor([0., 0., 0., 0., 0., 0.]),\n",
       "  tensor(0.6000, grad_fn=<AddBackward0>): tensor([0.0475, 0.0475, 0.0000, 0.0000, 0.0000, 0.0000], grad_fn=<CopySlices>),\n",
       "  tensor(1.2000, grad_fn=<AddBackward0>): tensor([0.0495, 0.0495, 0.0234, 0.0224, 0.0221, 0.0221], grad_fn=<CopySlices>),\n",
       "  tensor(1.8000, grad_fn=<AddBackward0>): tensor([0.0564, 0.0564, 0.0365, 0.0346, 0.0340, 0.0340], grad_fn=<CopySlices>),\n",
       "  tensor(2.4000, grad_fn=<AddBackward0>): tensor([0.0605, 0.0605, 0.0465, 0.0445, 0.0437, 0.0437], grad_fn=<CopySlices>),\n",
       "  tensor(3.0000, grad_fn=<AddBackward0>): tensor([0.0653, 0.0653, 0.0535, 0.0519, 0.0511, 0.0511], grad_fn=<CopySlices>),\n",
       "  tensor(3., grad_fn=<AddBackward0>): tensor([0.0653, 0.0653, 0.0535, 0.0519, 0.0511, 0.0511], grad_fn=<CopySlices>)},\n",
       " 1: {0: tensor([0., 0., 0., 0., 0., 0.]),\n",
       "  tensor(0.6000, grad_fn=<AddBackward0>): tensor([0., 0., 0., 0., 0., 0.], grad_fn=<CopySlices>),\n",
       "  tensor(1.2000, grad_fn=<AddBackward0>): tensor([0., 0., 0., 0., 0., 0.], grad_fn=<CopySlices>),\n",
       "  tensor(1.8000, grad_fn=<AddBackward0>): tensor([0.0065, 0.0065, 0.0000, 0.0000, 0.0000, 0.0000], grad_fn=<CopySlices>),\n",
       "  tensor(2.4000, grad_fn=<AddBackward0>): tensor([0.0099, 0.0099, 0.0032, 0.0032, 0.0032, 0.0032], grad_fn=<CopySlices>),\n",
       "  tensor(3.0000, grad_fn=<AddBackward0>): tensor([0.0126, 0.0126, 0.0066, 0.0065, 0.0065, 0.0065], grad_fn=<CopySlices>),\n",
       "  tensor(3., grad_fn=<AddBackward0>): tensor([0.0126, 0.0126, 0.0066, 0.0065, 0.0065, 0.0065], grad_fn=<CopySlices>)},\n",
       " 2: {0: tensor([0., 0., 0., 0., 0., 0.]),\n",
       "  tensor(0.6000, grad_fn=<AddBackward0>): tensor([0.2400, 0.2400, 0.0000, 0.0000, 0.0000, 0.0000], grad_fn=<CopySlices>),\n",
       "  tensor(1.2000, grad_fn=<AddBackward0>): tensor([0.2889, 0.2889, 0.1081, 0.0887, 0.0848, 0.0848], grad_fn=<CopySlices>),\n",
       "  tensor(1.8000, grad_fn=<AddBackward0>): tensor([0.3185, 0.3185, 0.1893, 0.1392, 0.1285, 0.1285], grad_fn=<CopySlices>),\n",
       "  tensor(2.4000, grad_fn=<AddBackward0>): tensor([0.3387, 0.3387, 0.2448, 0.1838, 0.1681, 0.1681], grad_fn=<CopySlices>),\n",
       "  tensor(3.0000, grad_fn=<AddBackward0>): tensor([0.3542, 0.3542, 0.2831, 0.2217, 0.2022, 0.2022], grad_fn=<CopySlices>),\n",
       "  tensor(3., grad_fn=<AddBackward0>): tensor([0.3542, 0.3542, 0.2831, 0.2217, 0.2022, 0.2022], grad_fn=<CopySlices>)},\n",
       " 3: {0: tensor([0., 0., 0., 0., 0., 0.]),\n",
       "  tensor(0.6000, grad_fn=<AddBackward0>): tensor([0.0475, 0.0475, 0.0000, 0.0000, 0.0000, 0.0000], grad_fn=<CopySlices>),\n",
       "  tensor(1.2000, grad_fn=<AddBackward0>): tensor([0.0495, 0.0495, 0.0234, 0.0224, 0.0221, 0.0221], grad_fn=<CopySlices>),\n",
       "  tensor(1.8000, grad_fn=<AddBackward0>): tensor([0.0731, 0.0731, 0.0365, 0.0346, 0.0340, 0.0340], grad_fn=<CopySlices>),\n",
       "  tensor(2.4000, grad_fn=<AddBackward0>): tensor([0.0863, 0.0863, 0.0549, 0.0509, 0.0496, 0.0496], grad_fn=<CopySlices>),\n",
       "  tensor(3.0000, grad_fn=<AddBackward0>): tensor([0.0968, 0.0968, 0.0707, 0.0659, 0.0642, 0.0642], grad_fn=<CopySlices>),\n",
       "  tensor(3., grad_fn=<AddBackward0>): tensor([0.0968, 0.0968, 0.0707, 0.0659, 0.0642, 0.0642], grad_fn=<CopySlices>)},\n",
       " 4: {0: tensor([0., 0., 0., 0., 0., 0., 0., 0., 0.]),\n",
       "  tensor(0.6000, grad_fn=<AddBackward0>): tensor([0., 0., 0., 0., 0., 0., 0., 0., 0.], grad_fn=<CopySlices>),\n",
       "  tensor(1.2000, grad_fn=<AddBackward0>): tensor([0., 0., 0., 0., 0., 0., 0., 0., 0.], grad_fn=<CopySlices>),\n",
       "  tensor(1.8000, grad_fn=<AddBackward0>): tensor([0., 0., 0., 0., 0., 0., 0., 0., 0.], grad_fn=<CopySlices>),\n",
       "  tensor(2.4000, grad_fn=<AddBackward0>): tensor([0., 0., 0., 0., 0., 0., 0., 0., 0.], grad_fn=<CopySlices>),\n",
       "  tensor(3.0000, grad_fn=<AddBackward0>): tensor([0., 0., 0., 0., 0., 0., 0., 0., 0.], grad_fn=<CopySlices>),\n",
       "  tensor(3., grad_fn=<AddBackward0>): tensor([0., 0., 0., 0., 0., 0., 0., 0., 0.], grad_fn=<CopySlices>)},\n",
       " 5: {0: tensor([0., 0., 0., 0., 0., 0., 0., 0., 0.]),\n",
       "  tensor(0.6000, grad_fn=<AddBackward0>): tensor([0., 0., 0., 0., 0., 0., 0., 0., 0.], grad_fn=<CopySlices>),\n",
       "  tensor(1.2000, grad_fn=<AddBackward0>): tensor([0., 0., 0., 0., 0., 0., 0., 0., 0.], grad_fn=<CopySlices>),\n",
       "  tensor(1.8000, grad_fn=<AddBackward0>): tensor([0.0151, 0.0151, 0.0000, 0.0000, 0.0000, 0.0000, 0.0000, 0.0000, 0.0000],\n",
       "         grad_fn=<CopySlices>),\n",
       "  tensor(2.4000, grad_fn=<AddBackward0>): tensor([0.0232, 0.0232, 0.0075, 0.0074, 0.0000, 0.0000, 0.0000, 0.0000, 0.0000],\n",
       "         grad_fn=<CopySlices>),\n",
       "  tensor(3.0000, grad_fn=<AddBackward0>): tensor([0.0298, 0.0298, 0.0154, 0.0149, 0.0037, 0.0036, 0.0000, 0.0000, 0.0000],\n",
       "         grad_fn=<CopySlices>),\n",
       "  tensor(3., grad_fn=<AddBackward0>): tensor([2.9782e-02, 2.9782e-02, 1.5365e-02, 1.4941e-02, 3.7430e-03, 3.6193e-03,\n",
       "          1.4111e-09, 1.4111e-09, 1.4111e-09], grad_fn=<CopySlices>)}}"
      ]
     },
     "execution_count": 9,
     "metadata": {},
     "output_type": "execute_result"
    }
   ],
   "source": [
    "densities"
   ]
  },
  {
   "cell_type": "code",
   "execution_count": null,
   "metadata": {},
   "outputs": [],
   "source": [
    "t = 50"
   ]
  },
  {
   "cell_type": "code",
   "execution_count": null,
   "metadata": {},
   "outputs": [],
   "source": [
    "main_rho_in = main_in.rho[-1]\n",
    "main_rho_out = main_out.rho[-1]\n",
    "main_max_dens = main_in.max_dens\n",
    "main_gamma = main_in.gamma[main_in.idx]\n",
    "\n",
    "demands = torch.zeros(2)\n",
    "demands[0] = main_max_dens * fv.D(main_rho_in, main_gamma)\n",
    "demands[1] = second_in.demand(t)\n",
    "# Demands look okay..."
   ]
  },
  {
   "cell_type": "code",
   "execution_count": null,
   "metadata": {},
   "outputs": [
    {
     "data": {
      "text/plain": [
       "tensor(0.1389, grad_fn=<MulBackward0>)"
      ]
     },
     "execution_count": 13,
     "metadata": {},
     "output_type": "execute_result"
    }
   ],
   "source": [
    "supply = main_max_dens * fv.S(main_rho_out, main_gamma)\n",
    "supply\n",
    "# Supply also looks good"
   ]
  },
  {
   "cell_type": "code",
   "execution_count": null,
   "metadata": {},
   "outputs": [],
   "source": [
    "# alpha = 0.7\n",
    "alpha = 0.7\n",
    "out_flux = torch.min((1-alpha)*demands[0] + demands[1])\n",
    "in_fluxes = torch.zeros(2)\n",
    "max_main_in = torch.max(beta*supply, supply - demands[1])\n",
    "in_fluxes[0] = 1/(1-alpha) * torch.min((1-alpha)*demands[0], max_main_in)\n",
    "max_second_in = torch.max((1-beta)*supply, supply - (1-alpha)*demands[0])\n",
    "in_fluxes[1] = torch.min(demands[1], max_second_in)"
   ]
  },
  {
   "cell_type": "code",
   "execution_count": null,
   "metadata": {},
   "outputs": [
    {
     "data": {
      "text/plain": [
       "tensor([4.9659e-05, 1.3887e-01], grad_fn=<CopySlices>)"
      ]
     },
     "execution_count": 15,
     "metadata": {},
     "output_type": "execute_result"
    }
   ],
   "source": [
    "out_flux # This is okay\n",
    "in_fluxes # This is wrong!"
   ]
  },
  {
   "cell_type": "code",
   "execution_count": null,
   "metadata": {},
   "outputs": [
    {
     "name": "stdout",
     "output_type": "stream",
     "text": [
      "tensor([0.0776, 0.0776, 0.0412, 0.0412, 0.0412, 0.0412], grad_fn=<CopySlices>)\n",
      "tensor([0.4332, 0.4332, 0.0412, 0.0412, 0.0412, 0.0412], grad_fn=<CopySlices>)\n"
     ]
    }
   ],
   "source": [
    "out_flux\n",
    "dt = 1.2\n",
    "print(main_out.rho)\n",
    "main_out.update_left_boundary(out_flux, dt)\n",
    "print(main_out.rho)"
   ]
  },
  {
   "cell_type": "code",
   "execution_count": null,
   "metadata": {},
   "outputs": [
    {
     "ename": "NameError",
     "evalue": "name 'ahfdjk' is not defined",
     "output_type": "error",
     "traceback": [
      "\u001b[1;31m---------------------------------------------------------------------------\u001b[0m",
      "\u001b[1;31mNameError\u001b[0m                                 Traceback (most recent call last)",
      "Cell \u001b[1;32mIn[17], line 1\u001b[0m\n\u001b[1;32m----> 1\u001b[0m \u001b[43mahfdjk\u001b[49m\n\u001b[0;32m      2\u001b[0m \u001b[38;5;66;03m# glgif.draw_timed_with_shift(network, densities, interval_seconds = 0.05, output_name = 'roundabout.gif')\u001b[39;00m\n",
      "\u001b[1;31mNameError\u001b[0m: name 'ahfdjk' is not defined"
     ]
    }
   ],
   "source": [
    "ahfdjk\n",
    "# glgif.draw_timed_with_shift(network, densities, interval_seconds = 0.05, output_name = 'roundabout.gif')"
   ]
  }
 ],
 "metadata": {
  "kernelspec": {
   "display_name": "traffic",
   "language": "python",
   "name": "python3"
  },
  "language_info": {
   "codemirror_mode": {
    "name": "ipython",
    "version": 3
   },
   "file_extension": ".py",
   "mimetype": "text/x-python",
   "name": "python",
   "nbconvert_exporter": "python",
   "pygments_lexer": "ipython3",
   "version": "3.10.12"
  }
 },
 "nbformat": 4,
 "nbformat_minor": 2
}
