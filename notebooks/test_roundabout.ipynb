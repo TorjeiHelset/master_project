{
 "cells": [
  {
   "cell_type": "code",
   "execution_count": 1,
   "metadata": {},
   "outputs": [],
   "source": [
    "import sys\n",
    "sys.path.append('../src')\n",
    "\n",
    "import network as nw\n",
    "import road as rd\n",
    "import junction as jn\n",
    "import traffic_lights as tl\n",
    "import torch\n",
    "import openGLUtils as glutils\n",
    "import openGLUtilsGif as glgif\n",
    "import matplotlib.pyplot as plt\n",
    "import FV_schemes as fv\n",
    "import scipy.integrate as integrate\n",
    "import numpy as np\n",
    "import roundabout as rb"
   ]
  },
  {
   "cell_type": "code",
   "execution_count": 2,
   "metadata": {},
   "outputs": [],
   "source": [
    "L = 25 # Length of road\n",
    "N = 2 # Number of nodes to be used for every 50 meters\n",
    "\n",
    "# Vestre Strandgate roundabout:\n",
    "# Four arm roundabout with 4 junctions, where 2 roads are a part of simulation\n",
    "# Secondary roads can be described by a small object with a queue and an inflow condition\n",
    "# Creating the mainline\n",
    "main_speed_limit = torch.tensor([50.0], requires_grad=True)\n",
    "vs_main_1 = rd.Road(1, L, N, main_speed_limit, [], left_pos=(0,0), right_pos=(0.5, -0.5),\n",
    "                    inflow = 0.0, id=\"vs_mainline_1\")\n",
    "vs_main_2 = rd.Road(1, L, N, main_speed_limit, [], left_pos=(0.5, -0.5), right_pos=(0, -1),\n",
    "                    inflow = 0.0, id=\"vs_mainline_2\")\n",
    "vs_main_3 = rd.Road(1, L, N, main_speed_limit, [], left_pos=(0, -1), right_pos=(-0.5, -0.5),\n",
    "                    inflow = 0.0, id=\"vs_mainline_3\")\n",
    "vs_main_4 = rd.Road(1, L, N, main_speed_limit, [], left_pos=(-0.5, -0.5), right_pos=(0, 0),\n",
    "                    inflow = 0.0, id=\"vs_mainline_4\")"
   ]
  },
  {
   "cell_type": "code",
   "execution_count": 3,
   "metadata": {},
   "outputs": [],
   "source": [
    "secondary_gamma = torch.tensor(50 / (25 * 3.6))\n",
    "max_inflow = fv.flux(torch.tensor(0.5), secondary_gamma)\n",
    "# Assume constant inflow from all roads\n",
    "rho_1, rho_2, rho_3 = torch.tensor(0.4),torch.tensor(0.05), torch.tensor(0.05)\n",
    "inflow_1 = lambda t : fv.flux(rho_1, secondary_gamma)\n",
    "inflow_2 = lambda t : fv.flux(rho_2, secondary_gamma)\n",
    "inflow_3 = lambda t : fv.flux(rho_3, secondary_gamma)"
   ]
  },
  {
   "cell_type": "code",
   "execution_count": 4,
   "metadata": {},
   "outputs": [
    {
     "data": {
      "text/plain": [
       "tensor(0.1389)"
      ]
     },
     "execution_count": 4,
     "metadata": {},
     "output_type": "execute_result"
    }
   ],
   "source": [
    "max_inflow"
   ]
  },
  {
   "cell_type": "code",
   "execution_count": 5,
   "metadata": {},
   "outputs": [],
   "source": [
    "# Secondary roads\n",
    "vs_fw = rd.Road(2, L, N, main_speed_limit, [], left_pos=(0.0,0.0), right_pos=(0.0,1),\n",
    "                    inflow = 0.0, id=\"vs_fw\")\n",
    "vs_bw = rd.Road(2, L, N, main_speed_limit, [], left_pos=(0.0,1), right_pos=(0,0),\n",
    "                    inflow = 0.0, id=\"vs_bw\")\n",
    "vs_secondary_1 = rb.RoundaboutRoad(inflow_1, max_inflow)\n",
    "vs_secondary_2 = rb.RoundaboutRoad(inflow_2, max_inflow)\n",
    "vs_secondary_3 = rb.RoundaboutRoad(inflow_3, max_inflow)\n",
    "vs_jnc_1 = rb.RoundaboutJunction(vs_main_1, vs_main_2, 0.7, vs_fw, vs_bw, queue_junction = False)\n",
    "vs_jnc_2 = rb.RoundaboutJunction(vs_main_2, vs_main_3, 0.7, vs_secondary_1, None, queue_junction = True)\n",
    "vs_jnc_3 = rb.RoundaboutJunction(vs_main_3, vs_main_4, 0.7, vs_secondary_2, None, queue_junction = True)\n",
    "vs_jnc_4 = rb.RoundaboutJunction(vs_main_4, vs_main_1, 0.7, vs_secondary_3, None, queue_junction = True)\n",
    "vs_junctions = [vs_jnc_1, vs_jnc_2, vs_jnc_3, vs_jnc_4]"
   ]
  },
  {
   "cell_type": "code",
   "execution_count": 6,
   "metadata": {},
   "outputs": [],
   "source": [
    "# Create the roundabout\n",
    "roundabout = rb.Roundabout([vs_main_1, vs_main_2, vs_main_3, vs_main_4], \n",
    "                           [vs_fw, vs_secondary_1, vs_secondary_2, vs_secondary_3],\n",
    "                           [vs_bw, None, None, None],vs_junctions)"
   ]
  },
  {
   "cell_type": "code",
   "execution_count": 7,
   "metadata": {},
   "outputs": [],
   "source": [
    "# Create network:\n",
    "roads = [vs_main_1, vs_main_2, vs_main_3, vs_main_4, vs_fw, vs_bw]\n",
    "network = nw.RoadNetwork(roads, [], 50, [roundabout])"
   ]
  },
  {
   "cell_type": "code",
   "execution_count": 8,
   "metadata": {},
   "outputs": [],
   "source": [
    "densities, queues, _, _ = network.solve_cons_law()"
   ]
  },
  {
   "cell_type": "code",
   "execution_count": 9,
   "metadata": {},
   "outputs": [
    {
     "ename": "",
     "evalue": "",
     "output_type": "error",
     "traceback": [
      "\u001b[1;31mThe Kernel crashed while executing code in the current cell or a previous cell. \n",
      "\u001b[1;31mPlease review the code in the cell(s) to identify a possible cause of the failure. \n",
      "\u001b[1;31mClick <a href='https://aka.ms/vscodeJupyterKernelCrash'>here</a> for more info. \n",
      "\u001b[1;31mView Jupyter <a href='command:jupyter.viewOutput'>log</a> for further details."
     ]
    }
   ],
   "source": [
    "glgif.draw_timed_with_shift(network, densities, interval_seconds = 0.05, output_name = 'roundabout.gif')"
   ]
  },
  {
   "cell_type": "code",
   "execution_count": null,
   "metadata": {},
   "outputs": [],
   "source": [
    "ASFGHKJ"
   ]
  },
  {
   "cell_type": "code",
   "execution_count": null,
   "metadata": {},
   "outputs": [
    {
     "data": {
      "text/plain": [
       "tensor(0., grad_fn=<MaximumBackward0>)"
      ]
     },
     "execution_count": 8,
     "metadata": {},
     "output_type": "execute_result"
    }
   ],
   "source": [
    "vs_secondary_1.queue_length"
   ]
  },
  {
   "cell_type": "code",
   "execution_count": null,
   "metadata": {},
   "outputs": [],
   "source": [
    "# vs_jnc_2:\n",
    "jnc = vs_jnc_2\n",
    "main_in = jnc.mainline_in\n",
    "main_out = jnc.mainline_out\n",
    "second_in = jnc.secondary_in\n",
    "beta = rb.priority_fnc(main_in.rho[-1])"
   ]
  },
  {
   "cell_type": "code",
   "execution_count": null,
   "metadata": {},
   "outputs": [
    {
     "data": {
      "text/plain": [
       "{0: {0: tensor([0., 0., 0., 0., 0., 0.]),\n",
       "  tensor(0.6000, grad_fn=<AddBackward0>): tensor([0.0475, 0.0475, 0.0000, 0.0000, 0.0000, 0.0000], grad_fn=<CopySlices>),\n",
       "  tensor(1.2000, grad_fn=<AddBackward0>): tensor([0.0495, 0.0495, 0.0234, 0.0224, 0.0221, 0.0221], grad_fn=<CopySlices>),\n",
       "  tensor(1.8000, grad_fn=<AddBackward0>): tensor([0.0564, 0.0564, 0.0365, 0.0346, 0.0340, 0.0340], grad_fn=<CopySlices>),\n",
       "  tensor(2.4000, grad_fn=<AddBackward0>): tensor([0.0605, 0.0605, 0.0465, 0.0445, 0.0437, 0.0437], grad_fn=<CopySlices>),\n",
       "  tensor(3.0000, grad_fn=<AddBackward0>): tensor([0.0653, 0.0653, 0.0535, 0.0519, 0.0511, 0.0511], grad_fn=<CopySlices>),\n",
       "  tensor(3., grad_fn=<AddBackward0>): tensor([0.0653, 0.0653, 0.0535, 0.0519, 0.0511, 0.0511], grad_fn=<CopySlices>)},\n",
       " 1: {0: tensor([0., 0., 0., 0., 0., 0.]),\n",
       "  tensor(0.6000, grad_fn=<AddBackward0>): tensor([0., 0., 0., 0., 0., 0.], grad_fn=<CopySlices>),\n",
       "  tensor(1.2000, grad_fn=<AddBackward0>): tensor([0., 0., 0., 0., 0., 0.], grad_fn=<CopySlices>),\n",
       "  tensor(1.8000, grad_fn=<AddBackward0>): tensor([0.0065, 0.0065, 0.0000, 0.0000, 0.0000, 0.0000], grad_fn=<CopySlices>),\n",
       "  tensor(2.4000, grad_fn=<AddBackward0>): tensor([0.0099, 0.0099, 0.0032, 0.0032, 0.0032, 0.0032], grad_fn=<CopySlices>),\n",
       "  tensor(3.0000, grad_fn=<AddBackward0>): tensor([0.0126, 0.0126, 0.0066, 0.0065, 0.0065, 0.0065], grad_fn=<CopySlices>),\n",
       "  tensor(3., grad_fn=<AddBackward0>): tensor([0.0126, 0.0126, 0.0066, 0.0065, 0.0065, 0.0065], grad_fn=<CopySlices>)},\n",
       " 2: {0: tensor([0., 0., 0., 0., 0., 0.]),\n",
       "  tensor(0.6000, grad_fn=<AddBackward0>): tensor([0.2400, 0.2400, 0.0000, 0.0000, 0.0000, 0.0000], grad_fn=<CopySlices>),\n",
       "  tensor(1.2000, grad_fn=<AddBackward0>): tensor([0.2889, 0.2889, 0.1081, 0.0887, 0.0848, 0.0848], grad_fn=<CopySlices>),\n",
       "  tensor(1.8000, grad_fn=<AddBackward0>): tensor([0.3185, 0.3185, 0.1893, 0.1392, 0.1285, 0.1285], grad_fn=<CopySlices>),\n",
       "  tensor(2.4000, grad_fn=<AddBackward0>): tensor([0.3387, 0.3387, 0.2448, 0.1838, 0.1681, 0.1681], grad_fn=<CopySlices>),\n",
       "  tensor(3.0000, grad_fn=<AddBackward0>): tensor([0.3542, 0.3542, 0.2831, 0.2217, 0.2022, 0.2022], grad_fn=<CopySlices>),\n",
       "  tensor(3., grad_fn=<AddBackward0>): tensor([0.3542, 0.3542, 0.2831, 0.2217, 0.2022, 0.2022], grad_fn=<CopySlices>)},\n",
       " 3: {0: tensor([0., 0., 0., 0., 0., 0.]),\n",
       "  tensor(0.6000, grad_fn=<AddBackward0>): tensor([0.0475, 0.0475, 0.0000, 0.0000, 0.0000, 0.0000], grad_fn=<CopySlices>),\n",
       "  tensor(1.2000, grad_fn=<AddBackward0>): tensor([0.0495, 0.0495, 0.0234, 0.0224, 0.0221, 0.0221], grad_fn=<CopySlices>),\n",
       "  tensor(1.8000, grad_fn=<AddBackward0>): tensor([0.0731, 0.0731, 0.0365, 0.0346, 0.0340, 0.0340], grad_fn=<CopySlices>),\n",
       "  tensor(2.4000, grad_fn=<AddBackward0>): tensor([0.0863, 0.0863, 0.0549, 0.0509, 0.0496, 0.0496], grad_fn=<CopySlices>),\n",
       "  tensor(3.0000, grad_fn=<AddBackward0>): tensor([0.0968, 0.0968, 0.0707, 0.0659, 0.0642, 0.0642], grad_fn=<CopySlices>),\n",
       "  tensor(3., grad_fn=<AddBackward0>): tensor([0.0968, 0.0968, 0.0707, 0.0659, 0.0642, 0.0642], grad_fn=<CopySlices>)},\n",
       " 4: {0: tensor([0., 0., 0., 0., 0., 0., 0., 0., 0.]),\n",
       "  tensor(0.6000, grad_fn=<AddBackward0>): tensor([0., 0., 0., 0., 0., 0., 0., 0., 0.], grad_fn=<CopySlices>),\n",
       "  tensor(1.2000, grad_fn=<AddBackward0>): tensor([0., 0., 0., 0., 0., 0., 0., 0., 0.], grad_fn=<CopySlices>),\n",
       "  tensor(1.8000, grad_fn=<AddBackward0>): tensor([0., 0., 0., 0., 0., 0., 0., 0., 0.], grad_fn=<CopySlices>),\n",
       "  tensor(2.4000, grad_fn=<AddBackward0>): tensor([0., 0., 0., 0., 0., 0., 0., 0., 0.], grad_fn=<CopySlices>),\n",
       "  tensor(3.0000, grad_fn=<AddBackward0>): tensor([0., 0., 0., 0., 0., 0., 0., 0., 0.], grad_fn=<CopySlices>),\n",
       "  tensor(3., grad_fn=<AddBackward0>): tensor([0., 0., 0., 0., 0., 0., 0., 0., 0.], grad_fn=<CopySlices>)},\n",
       " 5: {0: tensor([0., 0., 0., 0., 0., 0., 0., 0., 0.]),\n",
       "  tensor(0.6000, grad_fn=<AddBackward0>): tensor([0., 0., 0., 0., 0., 0., 0., 0., 0.], grad_fn=<CopySlices>),\n",
       "  tensor(1.2000, grad_fn=<AddBackward0>): tensor([0., 0., 0., 0., 0., 0., 0., 0., 0.], grad_fn=<CopySlices>),\n",
       "  tensor(1.8000, grad_fn=<AddBackward0>): tensor([0.0151, 0.0151, 0.0000, 0.0000, 0.0000, 0.0000, 0.0000, 0.0000, 0.0000],\n",
       "         grad_fn=<CopySlices>),\n",
       "  tensor(2.4000, grad_fn=<AddBackward0>): tensor([0.0232, 0.0232, 0.0075, 0.0074, 0.0000, 0.0000, 0.0000, 0.0000, 0.0000],\n",
       "         grad_fn=<CopySlices>),\n",
       "  tensor(3.0000, grad_fn=<AddBackward0>): tensor([0.0298, 0.0298, 0.0154, 0.0149, 0.0037, 0.0036, 0.0000, 0.0000, 0.0000],\n",
       "         grad_fn=<CopySlices>),\n",
       "  tensor(3., grad_fn=<AddBackward0>): tensor([2.9782e-02, 2.9782e-02, 1.5365e-02, 1.4941e-02, 3.7430e-03, 3.6193e-03,\n",
       "          1.4111e-09, 1.4111e-09, 1.4111e-09], grad_fn=<CopySlices>)}}"
      ]
     },
     "execution_count": 9,
     "metadata": {},
     "output_type": "execute_result"
    }
   ],
   "source": [
    "densities"
   ]
  },
  {
   "cell_type": "code",
   "execution_count": null,
   "metadata": {},
   "outputs": [],
   "source": [
    "t = 50"
   ]
  },
  {
   "cell_type": "code",
   "execution_count": null,
   "metadata": {},
   "outputs": [],
   "source": [
    "main_rho_in = main_in.rho[-1]\n",
    "main_rho_out = main_out.rho[-1]\n",
    "main_max_dens = main_in.max_dens\n",
    "main_gamma = main_in.gamma[main_in.idx]\n",
    "\n",
    "demands = torch.zeros(2)\n",
    "demands[0] = main_max_dens * fv.D(main_rho_in, main_gamma)\n",
    "demands[1] = second_in.demand(t)\n",
    "# Demands look okay..."
   ]
  },
  {
   "cell_type": "code",
   "execution_count": null,
   "metadata": {},
   "outputs": [
    {
     "data": {
      "text/plain": [
       "tensor(0.1389, grad_fn=<MulBackward0>)"
      ]
     },
     "execution_count": 13,
     "metadata": {},
     "output_type": "execute_result"
    }
   ],
   "source": [
    "supply = main_max_dens * fv.S(main_rho_out, main_gamma)\n",
    "supply\n",
    "# Supply also looks good"
   ]
  },
  {
   "cell_type": "code",
   "execution_count": null,
   "metadata": {},
   "outputs": [],
   "source": [
    "# alpha = 0.7\n",
    "alpha = 0.7\n",
    "out_flux = torch.min((1-alpha)*demands[0] + demands[1])\n",
    "in_fluxes = torch.zeros(2)\n",
    "max_main_in = torch.max(beta*supply, supply - demands[1])\n",
    "in_fluxes[0] = 1/(1-alpha) * torch.min((1-alpha)*demands[0], max_main_in)\n",
    "max_second_in = torch.max((1-beta)*supply, supply - (1-alpha)*demands[0])\n",
    "in_fluxes[1] = torch.min(demands[1], max_second_in)"
   ]
  },
  {
   "cell_type": "code",
   "execution_count": null,
   "metadata": {},
   "outputs": [
    {
     "data": {
      "text/plain": [
       "tensor([4.9659e-05, 1.3887e-01], grad_fn=<CopySlices>)"
      ]
     },
     "execution_count": 15,
     "metadata": {},
     "output_type": "execute_result"
    }
   ],
   "source": [
    "out_flux # This is okay\n",
    "in_fluxes # This is wrong!"
   ]
  },
  {
   "cell_type": "code",
   "execution_count": null,
   "metadata": {},
   "outputs": [
    {
     "name": "stdout",
     "output_type": "stream",
     "text": [
      "tensor([0.0776, 0.0776, 0.0412, 0.0412, 0.0412, 0.0412], grad_fn=<CopySlices>)\n",
      "tensor([0.4332, 0.4332, 0.0412, 0.0412, 0.0412, 0.0412], grad_fn=<CopySlices>)\n"
     ]
    }
   ],
   "source": [
    "out_flux\n",
    "dt = 1.2\n",
    "print(main_out.rho)\n",
    "main_out.update_left_boundary(out_flux, dt)\n",
    "print(main_out.rho)"
   ]
  },
  {
   "cell_type": "code",
   "execution_count": null,
   "metadata": {},
   "outputs": [
    {
     "ename": "NameError",
     "evalue": "name 'ahfdjk' is not defined",
     "output_type": "error",
     "traceback": [
      "\u001b[1;31m---------------------------------------------------------------------------\u001b[0m",
      "\u001b[1;31mNameError\u001b[0m                                 Traceback (most recent call last)",
      "Cell \u001b[1;32mIn[17], line 1\u001b[0m\n\u001b[1;32m----> 1\u001b[0m \u001b[43mahfdjk\u001b[49m\n\u001b[0;32m      2\u001b[0m \u001b[38;5;66;03m# glgif.draw_timed_with_shift(network, densities, interval_seconds = 0.05, output_name = 'roundabout.gif')\u001b[39;00m\n",
      "\u001b[1;31mNameError\u001b[0m: name 'ahfdjk' is not defined"
     ]
    }
   ],
   "source": [
    "ahfdjk\n",
    "# glgif.draw_timed_with_shift(network, densities, interval_seconds = 0.05, output_name = 'roundabout.gif')"
   ]
  }
 ],
 "metadata": {
  "kernelspec": {
   "display_name": "traffic",
   "language": "python",
   "name": "python3"
  },
  "language_info": {
   "codemirror_mode": {
    "name": "ipython",
    "version": 3
   },
   "file_extension": ".py",
   "mimetype": "text/x-python",
   "name": "python",
   "nbconvert_exporter": "python",
   "pygments_lexer": "ipython3",
   "version": "3.10.12"
  }
 },
 "nbformat": 4,
 "nbformat_minor": 2
}
