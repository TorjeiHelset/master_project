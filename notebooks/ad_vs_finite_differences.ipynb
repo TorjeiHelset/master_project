{
 "cells": [
  {
   "cell_type": "code",
   "execution_count": 63,
   "metadata": {},
   "outputs": [],
   "source": [
    "import sys\n",
    "sys.path.append(\"../src\")\n",
    "import matplotlib.pyplot as plt\n",
    "import generate_general_networks as generate\n",
    "import torch\n",
    "import numpy as np\n",
    "import tikzplotlib"
   ]
  },
  {
   "cell_type": "markdown",
   "metadata": {},
   "source": [
    "#### Single lane junction\n",
    "\n",
    "We start by computing the partial derivative using AD"
   ]
  },
  {
   "cell_type": "code",
   "execution_count": 31,
   "metadata": {},
   "outputs": [
    {
     "name": "stdout",
     "output_type": "stream",
     "text": [
      "Bus bus_1 reached bus stop 0 at time 25.714275360107422, should wait for 29.915130615234375 seconds\n"
     ]
    }
   ],
   "source": [
    "# Create network and run simulation\n",
    "T = 60\n",
    "N = 3\n",
    "speed_limit = [torch.tensor(40.0)]\n",
    "controls = []\n",
    "\n",
    "network = generate.single_lane_network(T, N, speed_limit, controls, track_grad=True)\n",
    "densities, queues, lengths, delays, n_stops = network.solve_cons_law_counting()"
   ]
  },
  {
   "cell_type": "code",
   "execution_count": 32,
   "metadata": {},
   "outputs": [],
   "source": [
    "# Compute gradient\n",
    "objective_val = delays[0][0]\n",
    "objective_val.backward()\n",
    "\n",
    "speed_grad = network.get_speed_limit_grads()\n",
    "light_grad = network.get_traffic_light_grads()"
   ]
  },
  {
   "cell_type": "code",
   "execution_count": 33,
   "metadata": {},
   "outputs": [
    {
     "name": "stdout",
     "output_type": "stream",
     "text": [
      "-0.6568066279093424\n"
     ]
    }
   ],
   "source": [
    "print(speed_grad[0]/3.6)"
   ]
  },
  {
   "cell_type": "markdown",
   "metadata": {},
   "source": [
    "Now we estimate the same gradient using finite differences"
   ]
  },
  {
   "cell_type": "code",
   "execution_count": 41,
   "metadata": {},
   "outputs": [
    {
     "name": "stdout",
     "output_type": "stream",
     "text": [
      "Bus bus_1 reached bus stop 0 at time 17.142864227294922, should wait for 29.94342041015625 seconds\n",
      "Bus bus_1 reached bus stop 0 at time 20.571435928344727, should wait for 29.932104110717773 seconds\n",
      "Bus bus_1 reached bus stop 0 at time 22.857131958007812, should wait for 29.924558639526367 seconds\n",
      "Bus bus_1 reached bus stop 0 at time 24.48978614807129, should wait for 29.919170379638672 seconds\n",
      "Bus bus_1 reached bus stop 0 at time 25.08711051940918, should wait for 29.917200088500977 seconds\n",
      "Bus bus_1 reached bus stop 0 at time 25.396818161010742, should wait for 29.91617774963379 seconds\n",
      "Bus bus_1 reached bus stop 0 at time 25.586339950561523, should wait for 29.915552139282227 seconds\n",
      "Bus bus_1 reached bus stop 0 at time 25.650175094604492, should wait for 29.915340423583984 seconds\n",
      "Bus bus_1 reached bus stop 0 at time 51.428550720214844, should wait for 29.830259323120117 seconds\n",
      "Bus bus_1 reached bus stop 0 at time 34.285728454589844, should wait for 29.886838912963867 seconds\n",
      "Bus bus_1 reached bus stop 0 at time 29.387746810913086, should wait for 29.903005599975586 seconds\n",
      "Bus bus_1 reached bus stop 0 at time 27.06764793395996, should wait for 29.910661697387695 seconds\n",
      "Bus bus_1 reached bus stop 0 at time 26.37362289428711, should wait for 29.912954330444336 seconds\n",
      "Bus bus_1 reached bus stop 0 at time 26.039785385131836, should wait for 29.91405487060547 seconds\n",
      "Bus bus_1 reached bus stop 0 at time 25.843505859375, should wait for 29.914703369140625 seconds\n",
      "Bus bus_1 reached bus stop 0 at time 25.778732299804688, should wait for 29.9149169921875 seconds\n"
     ]
    }
   ],
   "source": [
    "# Forward difference\n",
    "h_list = [20, 10, 5, 2, 1, 0.5, 0.2, 0.1]\n",
    "objectives_fwd = []\n",
    "for h in h_list:\n",
    "    speed_limit_h = [torch.tensor(40.0 + h)]\n",
    "    network_h = generate.single_lane_network(T, N, speed_limit_h, controls, track_grad=False)\n",
    "    _, _, _, delays_h, _ = network_h.solve_cons_law_counting()\n",
    "    objectives_fwd.append(delays_h[0][0])\n",
    "\n",
    "objectives_bwd = []\n",
    "for h in h_list:\n",
    "    speed_limit_h = [torch.tensor(40.0 - h)]\n",
    "    network_h = generate.single_lane_network(T, N, speed_limit_h, controls, track_grad=False)\n",
    "    _, _, _, delays_h, _ = network_h.solve_cons_law_counting()\n",
    "    objectives_bwd.append(delays_h[0][0])"
   ]
  },
  {
   "cell_type": "code",
   "execution_count": 42,
   "metadata": {},
   "outputs": [],
   "source": [
    "derivatives_fwd = []\n",
    "for h, objective in zip(h_list, objectives_fwd):\n",
    "    derivatives_fwd.append((objective - objective_val.detach()) / h)\n",
    "\n",
    "derivatives_bwd = []\n",
    "for h, objective in zip(h_list, objectives_bwd):\n",
    "    derivatives_bwd.append((objective_val.detach() - objective) / h)"
   ]
  },
  {
   "cell_type": "code",
   "execution_count": 43,
   "metadata": {},
   "outputs": [
    {
     "data": {
      "text/plain": [
       "[tensor(-0.4379),\n",
       " tensor(-0.5254),\n",
       " tensor(-0.5838),\n",
       " tensor(-0.6255),\n",
       " tensor(-0.6408),\n",
       " tensor(-0.6487),\n",
       " tensor(-0.6536),\n",
       " tensor(-0.6549)]"
      ]
     },
     "execution_count": 43,
     "metadata": {},
     "output_type": "execute_result"
    }
   ],
   "source": [
    "derivatives_fwd"
   ]
  },
  {
   "cell_type": "code",
   "execution_count": 44,
   "metadata": {},
   "outputs": [
    {
     "data": {
      "image/png": "[encoded data removed]",
      "text/plain": [
       "<Figure size 640x480 with 1 Axes>"
      ]
     },
     "metadata": {},
     "output_type": "display_data"
    }
   ],
   "source": [
    "errors_fwd = [abs(deriv - speed_grad[0]/3.6) for deriv in derivatives_fwd]\n",
    "errors_bwd = [abs(deriv - speed_grad[0]/3.6) for deriv in derivatives_bwd]\n",
    "\n",
    "plt.loglog(h_list, errors_fwd, label=\"Forward\")\n",
    "plt.loglog(h_list, errors_bwd, label=\"Backward\")\n",
    "plt.legend()\n",
    "plt.show()"
   ]
  },
  {
   "cell_type": "markdown",
   "metadata": {},
   "source": [
    "Finite difference approximation of derivative seem to match\n",
    "\n",
    "#### Single Junction\n",
    "\n",
    "We now consider the case of two roads connected with one junction"
   ]
  },
  {
   "cell_type": "code",
   "execution_count": 54,
   "metadata": {},
   "outputs": [
    {
     "name": "stdout",
     "output_type": "stream",
     "text": [
      "Bus bus_1 reached bus stop 0 at time 89.92867279052734, should wait for 29.869873046875 seconds\n"
     ]
    }
   ],
   "source": [
    "# Create network and run simulation\n",
    "T = 150\n",
    "N = 3\n",
    "speed_limits = [[torch.tensor(40.0)], [torch.tensor(40.0)]]\n",
    "controls = [[], []]\n",
    "cycle = [torch.tensor(60.0), torch.tensor(60.0)]\n",
    "\n",
    "network = generate.single_junction_network(T, N, speed_limits, controls, cycle, track_grad=True)\n",
    "densities, queues, lengths, delays, n_stops = network.solve_cons_law_counting()"
   ]
  },
  {
   "cell_type": "code",
   "execution_count": 55,
   "metadata": {},
   "outputs": [],
   "source": [
    "# Compute gradient\n",
    "objective_val = delays[0][0]\n",
    "objective_val.backward()\n",
    "\n",
    "speed_grad = network.get_speed_limit_grads()\n",
    "light_grad = network.get_traffic_light_grads()\n",
    "ad_grad = speed_grad + light_grad\n"
   ]
  },
  {
   "cell_type": "code",
   "execution_count": 64,
   "metadata": {},
   "outputs": [],
   "source": [
    "ad_grad_scaled = np.array([ad_grad[0]/3.6, ad_grad[1]/3.6, ad_grad[2], ad_grad[3]])"
   ]
  },
  {
   "cell_type": "markdown",
   "metadata": {},
   "source": [
    "We now estimate the gradient using finite differences"
   ]
  },
  {
   "cell_type": "code",
   "execution_count": 88,
   "metadata": {},
   "outputs": [
    {
     "name": "stdout",
     "output_type": "stream",
     "text": [
      "Bus bus_1 reached bus stop 0 at time 89.5000228881836, should wait for 29.688749313354492 seconds\n",
      "Bus bus_1 reached bus stop 0 at time 88.07624816894531, should wait for 29.686124801635742 seconds\n",
      "Bus bus_1 reached bus stop 0 at time 94.92867279052734, should wait for 29.86993408203125 seconds\n",
      "Bus bus_1 reached bus stop 0 at time 89.92867279052734, should wait for 29.869873046875 seconds\n",
      "Bus bus_1 reached bus stop 0 at time 89.70906829833984, should wait for 29.669750213623047 seconds\n",
      "Bus bus_1 reached bus stop 0 at time 89.03483581542969, should wait for 29.959794998168945 seconds\n",
      "Bus bus_1 reached bus stop 0 at time 90.92867279052734, should wait for 29.869909286499023 seconds\n",
      "Bus bus_1 reached bus stop 0 at time 89.92867279052734, should wait for 29.869873046875 seconds\n",
      "Bus bus_1 reached bus stop 0 at time 89.8174819946289, should wait for 29.674318313598633 seconds\n",
      "Bus bus_1 reached bus stop 0 at time 89.15874481201172, should wait for 29.994216918945312 seconds\n",
      "Bus bus_1 reached bus stop 0 at time 90.571533203125, should wait for 29.737367630004883 seconds\n",
      "Bus bus_1 reached bus stop 0 at time 89.92867279052734, should wait for 29.869873046875 seconds\n",
      "Bus bus_1 reached bus stop 0 at time 89.8838119506836, should wait for 29.787715911865234 seconds\n",
      "Bus bus_1 reached bus stop 0 at time 89.87419891357422, should wait for 29.38370132446289 seconds\n",
      "Bus bus_1 reached bus stop 0 at time 90.571533203125, should wait for 29.36688995361328 seconds\n",
      "Bus bus_1 reached bus stop 0 at time 89.92867279052734, should wait for 29.869873046875 seconds\n",
      "Bus bus_1 reached bus stop 0 at time 89.90613555908203, should wait for 29.87145233154297 seconds\n",
      "Bus bus_1 reached bus stop 0 at time 89.90130615234375, should wait for 29.85778045654297 seconds\n",
      "Bus bus_1 reached bus stop 0 at time 89.92867279052734, should wait for 29.927640914916992 seconds\n",
      "Bus bus_1 reached bus stop 0 at time 89.92867279052734, should wait for 29.869873046875 seconds\n",
      "Bus bus_1 reached bus stop 0 at time 89.91735076904297, should wait for 29.87081527709961 seconds\n",
      "Bus bus_1 reached bus stop 0 at time 89.91492462158203, should wait for 29.86397361755371 seconds\n",
      "Bus bus_1 reached bus stop 0 at time 89.92866516113281, should wait for 29.918466567993164 seconds\n",
      "Bus bus_1 reached bus stop 0 at time 89.92867279052734, should wait for 29.869873046875 seconds\n",
      "Bus bus_1 reached bus stop 0 at time 89.92407989501953, should wait for 29.87031364440918 seconds\n",
      "Bus bus_1 reached bus stop 0 at time 89.923095703125, should wait for 29.86756134033203 seconds\n",
      "Bus bus_1 reached bus stop 0 at time 89.92867279052734, should wait for 29.874467849731445 seconds\n",
      "Bus bus_1 reached bus stop 0 at time 89.92867279052734, should wait for 29.869873046875 seconds\n",
      "Bus bus_1 reached bus stop 0 at time 89.92642974853516, should wait for 29.8701171875 seconds\n",
      "Bus bus_1 reached bus stop 0 at time 89.92594909667969, should wait for 29.86874008178711 seconds\n",
      "Bus bus_1 reached bus stop 0 at time 89.92867279052734, should wait for 29.87220001220703 seconds\n",
      "Bus bus_1 reached bus stop 0 at time 89.92867279052734, should wait for 29.869873046875 seconds\n",
      "Bus bus_1 reached bus stop 0 at time 89.92749786376953, should wait for 29.870019912719727 seconds\n",
      "Bus bus_1 reached bus stop 0 at time 89.92724609375, should wait for 29.869312286376953 seconds\n",
      "Bus bus_1 reached bus stop 0 at time 89.92867279052734, should wait for 29.87102508544922 seconds\n",
      "Bus bus_1 reached bus stop 0 at time 89.92867279052734, should wait for 29.869873046875 seconds\n",
      "Bus bus_1 reached bus stop 0 at time 89.92835235595703, should wait for 29.869909286499023 seconds\n",
      "Bus bus_1 reached bus stop 0 at time 89.92828369140625, should wait for 29.86976432800293 seconds\n",
      "Bus bus_1 reached bus stop 0 at time 89.92867279052734, should wait for 29.8701171875 seconds\n",
      "Bus bus_1 reached bus stop 0 at time 89.92867279052734, should wait for 29.869873046875 seconds\n",
      "Bus bus_1 reached bus stop 0 at time 89.9285659790039, should wait for 29.869897842407227 seconds\n",
      "Bus bus_1 reached bus stop 0 at time 89.92854309082031, should wait for 29.869836807250977 seconds\n",
      "Bus bus_1 reached bus stop 0 at time 89.92867279052734, should wait for 29.870006561279297 seconds\n",
      "Bus bus_1 reached bus stop 0 at time 89.92867279052734, should wait for 29.869873046875 seconds\n",
      "Bus bus_1 reached bus stop 0 at time 90.46184539794922, should wait for 29.945951461791992 seconds\n",
      "Bus bus_1 reached bus stop 0 at time 93.41844940185547, should wait for 29.6807804107666 seconds\n",
      "Bus bus_1 reached bus stop 0 at time 84.92867279052734, should wait for 29.869823455810547 seconds\n",
      "Bus bus_1 reached bus stop 0 at time 89.92867279052734, should wait for 29.869873046875 seconds\n",
      "Bus bus_1 reached bus stop 0 at time 89.51652526855469, should wait for 29.95905876159668 seconds\n",
      "Bus bus_1 reached bus stop 0 at time 90.8516845703125, should wait for 29.407514572143555 seconds\n",
      "Bus bus_1 reached bus stop 0 at time 88.92867279052734, should wait for 29.869884490966797 seconds\n",
      "Bus bus_1 reached bus stop 0 at time 89.92867279052734, should wait for 29.869873046875 seconds\n",
      "Bus bus_1 reached bus stop 0 at time 90.04253387451172, should wait for 29.623558044433594 seconds\n",
      "Bus bus_1 reached bus stop 0 at time 90.06693267822266, should wait for 29.922828674316406 seconds\n",
      "Bus bus_1 reached bus stop 0 at time 89.28581237792969, should wait for 29.935138702392578 seconds\n",
      "Bus bus_1 reached bus stop 0 at time 89.92867279052734, should wait for 29.869873046875 seconds\n",
      "Bus bus_1 reached bus stop 0 at time 89.9738540649414, should wait for 29.39468002319336 seconds\n",
      "Bus bus_1 reached bus stop 0 at time 89.98353576660156, should wait for 29.892536163330078 seconds\n",
      "Bus bus_1 reached bus stop 0 at time 89.92867279052734, should wait for 29.716243743896484 seconds\n",
      "Bus bus_1 reached bus stop 0 at time 89.92867279052734, should wait for 29.869873046875 seconds\n",
      "Bus bus_1 reached bus stop 0 at time 89.95121002197266, should wait for 29.39413833618164 seconds\n",
      "Bus bus_1 reached bus stop 0 at time 89.95603942871094, should wait for 29.88153648376465 seconds\n",
      "Bus bus_1 reached bus stop 0 at time 89.92867279052734, should wait for 29.752073287963867 seconds\n",
      "Bus bus_1 reached bus stop 0 at time 89.92867279052734, should wait for 29.869873046875 seconds\n",
      "Bus bus_1 reached bus stop 0 at time 89.93988037109375, should wait for 29.869075775146484 seconds\n",
      "Bus bus_1 reached bus stop 0 at time 89.94229125976562, should wait for 29.87583351135254 seconds\n",
      "Bus bus_1 reached bus stop 0 at time 89.92867279052734, should wait for 29.85796546936035 seconds\n",
      "Bus bus_1 reached bus stop 0 at time 89.92867279052734, should wait for 29.869873046875 seconds\n",
      "Bus bus_1 reached bus stop 0 at time 89.93315887451172, should wait for 29.869577407836914 seconds\n",
      "Bus bus_1 reached bus stop 0 at time 89.93412017822266, should wait for 29.8723087310791 seconds\n",
      "Bus bus_1 reached bus stop 0 at time 89.92867279052734, should wait for 29.865188598632812 seconds\n",
      "Bus bus_1 reached bus stop 0 at time 89.92867279052734, should wait for 29.869873046875 seconds\n",
      "Bus bus_1 reached bus stop 0 at time 89.93091583251953, should wait for 29.86973762512207 seconds\n",
      "Bus bus_1 reached bus stop 0 at time 89.931396484375, should wait for 29.87111473083496 seconds\n",
      "Bus bus_1 reached bus stop 0 at time 89.92867279052734, should wait for 29.867542266845703 seconds\n",
      "Bus bus_1 reached bus stop 0 at time 89.92867279052734, should wait for 29.869873046875 seconds\n",
      "Bus bus_1 reached bus stop 0 at time 89.92974090576172, should wait for 29.869823455810547 seconds\n",
      "Bus bus_1 reached bus stop 0 at time 89.92996215820312, should wait for 29.87051773071289 seconds\n",
      "Bus bus_1 reached bus stop 0 at time 89.92867279052734, should wait for 29.86871910095215 seconds\n",
      "Bus bus_1 reached bus stop 0 at time 89.92867279052734, should wait for 29.869873046875 seconds\n",
      "Bus bus_1 reached bus stop 0 at time 89.92887878417969, should wait for 29.869848251342773 seconds\n",
      "Bus bus_1 reached bus stop 0 at time 89.9289321899414, should wait for 29.87001609802246 seconds\n",
      "Bus bus_1 reached bus stop 0 at time 89.92867279052734, should wait for 29.869651794433594 seconds\n",
      "Bus bus_1 reached bus stop 0 at time 89.92867279052734, should wait for 29.869873046875 seconds\n",
      "Bus bus_1 reached bus stop 0 at time 89.92877960205078, should wait for 29.86985969543457 seconds\n",
      "Bus bus_1 reached bus stop 0 at time 89.92880249023438, should wait for 29.869943618774414 seconds\n",
      "Bus bus_1 reached bus stop 0 at time 89.92867279052734, should wait for 29.869762420654297 seconds\n",
      "Bus bus_1 reached bus stop 0 at time 89.92867279052734, should wait for 29.869873046875 seconds\n"
     ]
    }
   ],
   "source": [
    "# Forward difference\n",
    "h_list = [5, 1, 0.5, 0.2, 0.1, 0.05, 0.02, 0.01, 0.005, 0.001, 0.0005]\n",
    "\n",
    "objectives_fwd = []\n",
    "for h in h_list:\n",
    "    speed_limits_orig = [[torch.tensor(40.0)], [torch.tensor(40.0)]]\n",
    "    speed_limits_h1 = [[torch.tensor(40.0 + h)], [torch.tensor(40.0)]]\n",
    "    speed_limits_h2 = [[torch.tensor(40.0)], [torch.tensor(40.0 + h)]]\n",
    "    cycle_orig = [torch.tensor(60.0), torch.tensor(60.0)]\n",
    "    cycle_h1 = [torch.tensor(60.0 + h), torch.tensor(60.0)]\n",
    "    cycl_h2 = [torch.tensor(60.0), torch.tensor(60.0 + h)]\n",
    "\n",
    "    network_1 = generate.single_junction_network(T, N, speed_limits_h1, controls, cycle_orig, track_grad=False)\n",
    "    network_2 = generate.single_junction_network(T, N, speed_limits_h2, controls, cycle_orig, track_grad=False)\n",
    "    network_3 = generate.single_junction_network(T, N, speed_limits_orig, controls, cycle_h1, track_grad=False)\n",
    "    network_4 = generate.single_junction_network(T, N, speed_limits_orig, controls, cycl_h2, track_grad=False)\n",
    "\n",
    "    _, _, _, delays_h1, _ = network_1.solve_cons_law_counting()\n",
    "    _, _, _, delays_h2, _ = network_2.solve_cons_law_counting()\n",
    "    _, _, _, delays_h3, _ = network_3.solve_cons_law_counting()\n",
    "    _, _, _, delays_h4, _ = network_4.solve_cons_law_counting()\n",
    "\n",
    "    objectives_fwd.append([delays_h1[0][0], delays_h2[0][0], delays_h3[0][0], delays_h4[0][0]])\n",
    "\n",
    "\n",
    "objectives_bwd = []\n",
    "for h in h_list:\n",
    "    speed_limits_orig = [[torch.tensor(40.0)], [torch.tensor(40.0)]]\n",
    "    speed_limits_h1 = [[torch.tensor(40.0 - h)], [torch.tensor(40.0)]]\n",
    "    speed_limits_h2 = [[torch.tensor(40.0)], [torch.tensor(40.0 - h)]]\n",
    "    cycle_orig = [torch.tensor(60.0), torch.tensor(60.0)]\n",
    "    cycle_h1 = [torch.tensor(60.0 - h), torch.tensor(60.0)]\n",
    "    cycl_h2 = [torch.tensor(60.0), torch.tensor(60.0 - h)]\n",
    "\n",
    "    network_1 = generate.single_junction_network(T, N, speed_limits_h1, controls, cycle_orig, track_grad=False)\n",
    "    network_2 = generate.single_junction_network(T, N, speed_limits_h2, controls, cycle_orig, track_grad=False)\n",
    "    network_3 = generate.single_junction_network(T, N, speed_limits_orig, controls, cycle_h1, track_grad=False)\n",
    "    network_4 = generate.single_junction_network(T, N, speed_limits_orig, controls, cycl_h2, track_grad=False)\n",
    "\n",
    "    _, _, _, delays_h1, _ = network_1.solve_cons_law_counting()\n",
    "    _, _, _, delays_h2, _ = network_2.solve_cons_law_counting()\n",
    "    _, _, _, delays_h3, _ = network_3.solve_cons_law_counting()\n",
    "    _, _, _, delays_h4, _ = network_4.solve_cons_law_counting()\n",
    "\n",
    "    objectives_bwd.append([delays_h1[0][0], delays_h2[0][0], delays_h3[0][0], delays_h4[0][0]])"
   ]
  },
  {
   "cell_type": "code",
   "execution_count": 89,
   "metadata": {},
   "outputs": [],
   "source": [
    "derivatives_fwd = []\n",
    "for h, objective in zip(h_list, objectives_fwd):\n",
    "    grad1 = (objective[0] - objective_val.detach()) / h\n",
    "    grad2 = (objective[1] - objective_val.detach()) / h\n",
    "    grad3 = (objective[2] - objective_val.detach()) / h\n",
    "    grad4 = (objective[3] - objective_val.detach()) / h\n",
    "    derivatives_fwd.append([grad1, grad2, grad3, grad4])\n",
    "\n",
    "\n",
    "derivatives_bwd = []\n",
    "for h, objective in zip(h_list, objectives_bwd):\n",
    "    grad1 = (objective_val.detach() - objective[0]) / h\n",
    "    grad2 = (objective_val.detach() - objective[1]) / h\n",
    "    grad3 = (objective_val.detach() - objective[2]) / h\n",
    "    grad4 = (objective_val.detach() - objective[3]) / h\n",
    "    derivatives_bwd.append([grad1, grad2, grad3, grad4])"
   ]
  },
  {
   "cell_type": "code",
   "execution_count": 98,
   "metadata": {},
   "outputs": [],
   "source": [
    "errors_fwd = [np.linalg.norm(np.array(grad) - ad_grad_scaled) for grad in derivatives_fwd]\n",
    "errors_bwd = [np.linalg.norm(np.array(grad) - ad_grad_scaled) for grad in derivatives_bwd]\n",
    "# i = 3\n",
    "# errors_fwd = [np.linalg.norm(np.array(grad[i]) - ad_grad_scaled[i]) for grad in derivatives_fwd]\n",
    "# errors_bwd = [np.linalg.norm(np.array(grad[i]) - ad_grad_scaled[i]) for grad in derivatives_bwd]"
   ]
  },
  {
   "cell_type": "code",
   "execution_count": 99,
   "metadata": {},
   "outputs": [
    {
     "data": {
      "image/png": "[encoded data removed]",
      "text/plain": [
       "<Figure size 640x480 with 1 Axes>"
      ]
     },
     "metadata": {},
     "output_type": "display_data"
    }
   ],
   "source": [
    "plt.loglog(h_list, errors_fwd, label=\"forward\")\n",
    "plt.loglog(h_list, errors_bwd, label=\"backward\")\n",
    "plt.legend()\n",
    "plt.show()"
   ]
  },
  {
   "cell_type": "markdown",
   "metadata": {},
   "source": [
    "#### Checking the matching of derivatives in a 2x2 junction"
   ]
  },
  {
   "cell_type": "code",
   "execution_count": 100,
   "metadata": {},
   "outputs": [
    {
     "name": "stdout",
     "output_type": "stream",
     "text": [
      "Bus bus_1 reached bus stop 0 at time 29.928564071655273, should wait for 29.70793914794922 seconds\n",
      "Bus bus_2 reached bus stop 0 at time 104.71446228027344, should wait for 29.55537223815918 seconds\n"
     ]
    }
   ],
   "source": [
    "# Create network and run simulation\n",
    "T = 150\n",
    "N = 3\n",
    "speed_limits = [[torch.tensor(40.0)], [torch.tensor(40.0)], [torch.tensor(40.0)], [torch.tensor(40.0)]]\n",
    "controls = [[], [], [], []]\n",
    "cycle = [torch.tensor(60.0), torch.tensor(60.0)]\n",
    "\n",
    "network = generate.two_two_junction(T, N, speed_limits, controls, cycle, track_grad=True)\n",
    "densities, queues, lengths, delays, n_stops = network.solve_cons_law_counting()"
   ]
  },
  {
   "cell_type": "code",
   "execution_count": 101,
   "metadata": {},
   "outputs": [],
   "source": [
    "# Compute gradient\n",
    "objective_val = delays[0][0] + delays[1][0]\n",
    "objective_val.backward()\n",
    "\n",
    "speed_grad = network.get_speed_limit_grads()\n",
    "light_grad = network.get_traffic_light_grads()\n",
    "ad_grad = speed_grad + light_grad"
   ]
  },
  {
   "cell_type": "code",
   "execution_count": 102,
   "metadata": {},
   "outputs": [],
   "source": [
    "ad_grad_scaled = np.array([ad_grad[0]/3.6, ad_grad[1]/3.6, ad_grad[2]/3.6, ad_grad[3]/3.6,\n",
    "                           ad_grad[4], ad_grad[5]])"
   ]
  },
  {
   "cell_type": "code",
   "execution_count": 111,
   "metadata": {},
   "outputs": [
    {
     "data": {
      "text/plain": [
       "array([-2.04110891e-01, -6.64905575e-01,  9.60404674e-03, -7.93459813e-01,\n",
       "        4.78048146e-01, -4.49547662e-21])"
      ]
     },
     "execution_count": 111,
     "metadata": {},
     "output_type": "execute_result"
    }
   ],
   "source": [
    "ad_grad_scaled"
   ]
  },
  {
   "cell_type": "markdown",
   "metadata": {},
   "source": [
    "Estimating using finite differences"
   ]
  },
  {
   "cell_type": "code",
   "execution_count": 138,
   "metadata": {},
   "outputs": [
    {
     "name": "stdout",
     "output_type": "stream",
     "text": [
      "Bus bus_1 reached bus stop 0 at time 28.93691635131836, should wait for 29.52756118774414 seconds\n",
      "Bus bus_2 reached bus stop 0 at time 105.26815032958984, should wait for 29.667842864990234 seconds\n",
      "Bus bus_1 reached bus stop 0 at time 24.460880279541016, should wait for 29.78268814086914 seconds\n",
      "Bus bus_2 reached bus stop 0 at time 105.26695251464844, should wait for 29.670177459716797 seconds\n",
      "Bus bus_1 reached bus stop 0 at time 30.20410919189453, should wait for 29.98574447631836 seconds\n",
      "Bus bus_2 reached bus stop 0 at time 103.61040496826172, should wait for 29.710363388061523 seconds\n",
      "Bus bus_1 reached bus stop 0 at time 30.20410919189453, should wait for 29.99038314819336 seconds\n",
      "Bus bus_2 reached bus stop 0 at time 99.34349060058594, should wait for 29.803354263305664 seconds\n",
      "Bus bus_1 reached bus stop 0 at time 29.4999942779541, should wait for 29.829423904418945 seconds\n",
      "Bus bus_2 reached bus stop 0 at time 104.71711730957031, should wait for 29.928987503051758 seconds\n",
      "Bus bus_1 reached bus stop 0 at time 25.580381393432617, should wait for 29.86546516418457 seconds\n",
      "Bus bus_2 reached bus stop 0 at time 104.7162094116211, should wait for 29.71123695373535 seconds\n",
      "Bus bus_1 reached bus stop 0 at time 30.571441650390625, should wait for 29.673646926879883 seconds\n",
      "Bus bus_2 reached bus stop 0 at time 104.11740112304688, should wait for 29.365577697753906 seconds\n",
      "Bus bus_1 reached bus stop 0 at time 30.571441650390625, should wait for 29.678401947021484 seconds\n",
      "Bus bus_2 reached bus stop 0 at time 100.12381744384766, should wait for 29.88093376159668 seconds\n",
      "Bus bus_1 reached bus stop 0 at time 29.344144821166992, should wait for 29.893306732177734 seconds\n",
      "Bus bus_2 reached bus stop 0 at time 105.06737518310547, should wait for 29.634981155395508 seconds\n",
      "Bus bus_1 reached bus stop 0 at time 26.3754940032959, should wait for 29.55794334411621 seconds\n",
      "Bus bus_2 reached bus stop 0 at time 105.06666564941406, should wait for 29.59965705871582 seconds\n",
      "Bus bus_1 reached bus stop 0 at time 30.103912353515625, should wait for 29.995668411254883 seconds\n",
      "Bus bus_2 reached bus stop 0 at time 103.70779418945312, should wait for 29.943096160888672 seconds\n",
      "Bus bus_1 reached bus stop 0 at time 30.103912353515625, should wait for 29.766862869262695 seconds\n",
      "Bus bus_2 reached bus stop 0 at time 100.8279037475586, should wait for 29.98733139038086 seconds\n",
      "Bus bus_1 reached bus stop 0 at time 29.157136917114258, should wait for 29.937763214111328 seconds\n",
      "Bus bus_2 reached bus stop 0 at time 104.97383117675781, should wait for 29.841014862060547 seconds\n",
      "Bus bus_1 reached bus stop 0 at time 26.714292526245117, should wait for 29.756696701049805 seconds\n",
      "Bus bus_2 reached bus stop 0 at time 104.97331237792969, should wait for 29.544292449951172 seconds\n",
      "Bus bus_1 reached bus stop 0 at time 30.05715560913086, should wait for 29.55269432067871 seconds\n",
      "Bus bus_2 reached bus stop 0 at time 104.0650634765625, should wait for 29.801803588867188 seconds\n",
      "Bus bus_1 reached bus stop 0 at time 30.05715560913086, should wait for 29.59756851196289 seconds\n",
      "Bus bus_2 reached bus stop 0 at time 102.10498809814453, should wait for 29.544889450073242 seconds\n",
      "Bus bus_1 reached bus stop 0 at time 29.49998664855957, should wait for 29.80086898803711 seconds\n",
      "Bus bus_2 reached bus stop 0 at time 105.43096160888672, should wait for 29.677927017211914 seconds\n",
      "Bus bus_1 reached bus stop 0 at time 28.142854690551758, should wait for 29.46253776550293 seconds\n",
      "Bus bus_2 reached bus stop 0 at time 104.85901641845703, should wait for 29.667970657348633 seconds\n",
      "Bus bus_1 reached bus stop 0 at time 29.999990463256836, should wait for 29.72476577758789 seconds\n",
      "Bus bus_2 reached bus stop 0 at time 104.35710906982422, should wait for 29.7069034576416 seconds\n",
      "Bus bus_1 reached bus stop 0 at time 29.999990463256836, should wait for 29.734621047973633 seconds\n",
      "Bus bus_2 reached bus stop 0 at time 103.03577423095703, should wait for 29.942790985107422 seconds\n",
      "Bus bus_1 reached bus stop 0 at time 71.28572082519531, should wait for 29.587127685546875 seconds\n",
      "Bus bus_2 reached bus stop 0 at time 104.71446228027344, should wait for 29.55537223815918 seconds\n",
      "Bus bus_1 reached bus stop 0 at time 103.42874145507812, should wait for 29.45517349243164 seconds\n",
      "Bus bus_2 reached bus stop 0 at time 104.71446228027344, should wait for 29.55537223815918 seconds\n",
      "Bus bus_1 reached bus stop 0 at time 29.928564071655273, should wait for 29.70793914794922 seconds\n",
      "Bus bus_2 reached bus stop 0 at time 144.14276123046875, should wait for 29.96270179748535 seconds\n",
      "Bus bus_1 reached bus stop 0 at time 29.928564071655273, should wait for 29.64128303527832 seconds\n",
      "Bus bus_1 reached bus stop 0 at time 29.928564071655273, should wait for 29.70793914794922 seconds\n",
      "Bus bus_2 reached bus stop 0 at time 74.71431732177734, should wait for 29.55537223815918 seconds\n",
      "Bus bus_1 reached bus stop 0 at time 29.928564071655273, should wait for 29.70793914794922 seconds\n",
      "Bus bus_2 reached bus stop 0 at time 104.5000228881836, should wait for 29.872800827026367 seconds\n",
      "Bus bus_1 reached bus stop 0 at time 42.78569793701172, should wait for 29.529640197753906 seconds\n",
      "Bus bus_2 reached bus stop 0 at time 104.71446228027344, should wait for 29.55537223815918 seconds\n",
      "Bus bus_1 reached bus stop 0 at time 53.71426010131836, should wait for 29.775684356689453 seconds\n",
      "Bus bus_2 reached bus stop 0 at time 104.71446228027344, should wait for 29.55537223815918 seconds\n",
      "Bus bus_1 reached bus stop 0 at time 29.928564071655273, should wait for 29.70793914794922 seconds\n",
      "Bus bus_2 reached bus stop 0 at time 116.9288101196289, should wait for 29.540542602539062 seconds\n",
      "Bus bus_1 reached bus stop 0 at time 29.928564071655273, should wait for 29.64128303527832 seconds\n",
      "Bus bus_2 reached bus stop 0 at time 128.21429443359375, should wait for 29.961734771728516 seconds\n",
      "Bus bus_1 reached bus stop 0 at time 29.928564071655273, should wait for 29.70793914794922 seconds\n",
      "Bus bus_2 reached bus stop 0 at time 84.7143783569336, should wait for 29.55537223815918 seconds\n",
      "Bus bus_1 reached bus stop 0 at time 29.928564071655273, should wait for 29.70793914794922 seconds\n",
      "Bus bus_2 reached bus stop 0 at time 104.5000228881836, should wait for 29.84063720703125 seconds\n",
      "Bus bus_1 reached bus stop 0 at time 36.9999885559082, should wait for 29.81157875061035 seconds\n",
      "Bus bus_2 reached bus stop 0 at time 104.71446228027344, should wait for 29.55537223815918 seconds\n",
      "Bus bus_1 reached bus stop 0 at time 44.0714111328125, should wait for 29.629365921020508 seconds\n",
      "Bus bus_2 reached bus stop 0 at time 104.71446228027344, should wait for 29.55537223815918 seconds\n",
      "Bus bus_1 reached bus stop 0 at time 29.928564071655273, should wait for 29.70793914794922 seconds\n",
      "Bus bus_2 reached bus stop 0 at time 111.14306640625, should wait for 29.957754135131836 seconds\n",
      "Bus bus_1 reached bus stop 0 at time 29.928564071655273, should wait for 29.64128303527832 seconds\n",
      "Bus bus_2 reached bus stop 0 at time 118.85739135742188, should wait for 29.657554626464844 seconds\n",
      "Bus bus_1 reached bus stop 0 at time 29.928564071655273, should wait for 29.70793914794922 seconds\n",
      "Bus bus_2 reached bus stop 0 at time 89.71440887451172, should wait for 29.555397033691406 seconds\n",
      "Bus bus_1 reached bus stop 0 at time 29.928564071655273, should wait for 29.70793914794922 seconds\n",
      "Bus bus_2 reached bus stop 0 at time 104.71446228027344, should wait for 29.55537223815918 seconds\n",
      "Bus bus_1 reached bus stop 0 at time 33.78570556640625, should wait for 29.40119171142578 seconds\n",
      "Bus bus_2 reached bus stop 0 at time 104.71446228027344, should wait for 29.55537223815918 seconds\n",
      "Bus bus_1 reached bus stop 0 at time 37.642845153808594, should wait for 29.713581085205078 seconds\n",
      "Bus bus_2 reached bus stop 0 at time 104.71446228027344, should wait for 29.55537223815918 seconds\n",
      "Bus bus_1 reached bus stop 0 at time 29.928564071655273, should wait for 29.70793914794922 seconds\n",
      "Bus bus_2 reached bus stop 0 at time 107.92876434326172, should wait for 29.607622146606445 seconds\n",
      "Bus bus_1 reached bus stop 0 at time 29.928564071655273, should wait for 29.64128303527832 seconds\n",
      "Bus bus_2 reached bus stop 0 at time 112.42878723144531, should wait for 29.698955535888672 seconds\n",
      "Bus bus_1 reached bus stop 0 at time 29.928564071655273, should wait for 29.70793914794922 seconds\n",
      "Bus bus_2 reached bus stop 0 at time 94.71443939208984, should wait for 29.55537223815918 seconds\n",
      "Bus bus_1 reached bus stop 0 at time 29.928564071655273, should wait for 29.70793914794922 seconds\n",
      "Bus bus_2 reached bus stop 0 at time 104.71446228027344, should wait for 29.55537223815918 seconds\n",
      "Bus bus_1 reached bus stop 0 at time 31.214277267456055, should wait for 29.899633407592773 seconds\n",
      "Bus bus_2 reached bus stop 0 at time 104.71446228027344, should wait for 29.55537223815918 seconds\n",
      "Bus bus_1 reached bus stop 0 at time 33.14284896850586, should wait for 29.482864379882812 seconds\n",
      "Bus bus_2 reached bus stop 0 at time 104.71446228027344, should wait for 29.55537223815918 seconds\n",
      "Bus bus_1 reached bus stop 0 at time 29.928564071655273, should wait for 29.70793914794922 seconds\n",
      "Bus bus_2 reached bus stop 0 at time 106.00018310546875, should wait for 29.359128952026367 seconds\n",
      "Bus bus_1 reached bus stop 0 at time 29.928564071655273, should wait for 29.64128303527832 seconds\n",
      "Bus bus_2 reached bus stop 0 at time 107.92876434326172, should wait for 29.464868545532227 seconds\n",
      "Bus bus_1 reached bus stop 0 at time 29.928564071655273, should wait for 29.70793914794922 seconds\n",
      "Bus bus_2 reached bus stop 0 at time 99.71446228027344, should wait for 29.55537223815918 seconds\n",
      "Bus bus_1 reached bus stop 0 at time 29.928564071655273, should wait for 29.70793914794922 seconds\n",
      "Bus bus_2 reached bus stop 0 at time 104.71446228027344, should wait for 29.55537223815918 seconds\n"
     ]
    }
   ],
   "source": [
    "# Forward difference\n",
    "h_list = [30, 20, 15, 10, 5]\n",
    "\n",
    "objectives_fwd = []\n",
    "for h in h_list:\n",
    "    speed_limits_orig = [[torch.tensor(40.0)], [torch.tensor(40.0)], [torch.tensor(40.0)], [torch.tensor(40.0)]]\n",
    "    speed_limits_h1 = [[torch.tensor(40.0 + h)], [torch.tensor(40.0)], [torch.tensor(40.0)], [torch.tensor(40.0)]]\n",
    "    speed_limits_h2 = [[torch.tensor(40.0)], [torch.tensor(40.0 + h)], [torch.tensor(40.0)], [torch.tensor(40.0)]]\n",
    "    speed_limits_h3 = [[torch.tensor(40.0)], [torch.tensor(40.0)], [torch.tensor(40.0 + h)], [torch.tensor(40.0)]]\n",
    "    speed_limits_h4 = [[torch.tensor(40.0)], [torch.tensor(40.0)], [torch.tensor(40.0)], [torch.tensor(40.0 + h)]]\n",
    "    cycle_orig = [torch.tensor(60.0), torch.tensor(60.0)]\n",
    "    cycle_h1 = [torch.tensor(60.0 + h), torch.tensor(60.0)]\n",
    "    cycl_h2 = [torch.tensor(60.0), torch.tensor(60.0 + h)]\n",
    "\n",
    "    network_1 = generate.two_two_junction(T, N, speed_limits_h1, controls, cycle_orig, track_grad=False)\n",
    "    network_2 = generate.two_two_junction(T, N, speed_limits_h2, controls, cycle_orig, track_grad=False)\n",
    "    network_3 = generate.two_two_junction(T, N, speed_limits_h3, controls, cycle_orig, track_grad=False)\n",
    "    network_4 = generate.two_two_junction(T, N, speed_limits_h4, controls, cycle_orig, track_grad=False)\n",
    "    network_5 = generate.two_two_junction(T, N, speed_limits_orig, controls, cycle_h1, track_grad=False)\n",
    "    network_6 = generate.two_two_junction(T, N, speed_limits_orig, controls, cycl_h2, track_grad=False)\n",
    "\n",
    "    _, _, _, delays_h1, _ = network_1.solve_cons_law_counting()\n",
    "    _, _, _, delays_h2, _ = network_2.solve_cons_law_counting()\n",
    "    _, _, _, delays_h3, _ = network_3.solve_cons_law_counting()\n",
    "    _, _, _, delays_h4, _ = network_4.solve_cons_law_counting()\n",
    "    _, _, _, delays_h5, _ = network_3.solve_cons_law_counting()\n",
    "    _, _, _, delays_h6, _ = network_4.solve_cons_law_counting()\n",
    "\n",
    "    objectives_fwd.append([delays_h1[0][0]+delays_h1[1][0], delays_h2[0][0]+delays_h2[1][0],\n",
    "                           delays_h3[0][0]+delays_h3[1][0], delays_h4[0][0]+delays_h4[1][0],\n",
    "                           delays_h5[0][0]+delays_h5[1][0], delays_h6[0][0]+delays_h6[1][0]])\n",
    "\n",
    "\n",
    "objectives_bwd = []\n",
    "for h in h_list:\n",
    "    speed_limits_orig = [[torch.tensor(40.0)], [torch.tensor(40.0)], [torch.tensor(40.0)], [torch.tensor(40.0)]]\n",
    "    speed_limits_h1 = [[torch.tensor(40.0 - h)], [torch.tensor(40.0)], [torch.tensor(40.0)], [torch.tensor(40.0)]]\n",
    "    speed_limits_h2 = [[torch.tensor(40.0)], [torch.tensor(40.0 - h)], [torch.tensor(40.0)], [torch.tensor(40.0)]]\n",
    "    speed_limits_h3 = [[torch.tensor(40.0)], [torch.tensor(40.0)], [torch.tensor(40.0 - h)], [torch.tensor(40.0)]]\n",
    "    speed_limits_h4 = [[torch.tensor(40.0)], [torch.tensor(40.0)], [torch.tensor(40.0)], [torch.tensor(40.0 - h)]]\n",
    "    cycle_orig = [torch.tensor(60.0), torch.tensor(60.0)]\n",
    "    cycle_h1 = [torch.tensor(60.0 - h), torch.tensor(60.0)]\n",
    "    cycl_h2 = [torch.tensor(60.0), torch.tensor(60.0 - h)]\n",
    "\n",
    "    network_1 = generate.two_two_junction(T, N, speed_limits_h1, controls, cycle_orig, track_grad=False)\n",
    "    network_2 = generate.two_two_junction(T, N, speed_limits_h2, controls, cycle_orig, track_grad=False)\n",
    "    network_3 = generate.two_two_junction(T, N, speed_limits_h3, controls, cycle_orig, track_grad=False)\n",
    "    network_4 = generate.two_two_junction(T, N, speed_limits_h4, controls, cycle_orig, track_grad=False)\n",
    "    network_5 = generate.two_two_junction(T, N, speed_limits_orig, controls, cycle_h1, track_grad=False)\n",
    "    network_6 = generate.two_two_junction(T, N, speed_limits_orig, controls, cycl_h2, track_grad=False)\n",
    "\n",
    "    _, _, _, delays_h1, _ = network_1.solve_cons_law_counting()\n",
    "    _, _, _, delays_h2, _ = network_2.solve_cons_law_counting()\n",
    "    _, _, _, delays_h3, _ = network_3.solve_cons_law_counting()\n",
    "    _, _, _, delays_h4, _ = network_4.solve_cons_law_counting()\n",
    "    _, _, _, delays_h5, _ = network_5.solve_cons_law_counting()\n",
    "    _, _, _, delays_h6, _ = network_6.solve_cons_law_counting()\n",
    "\n",
    "    objectives_bwd.append([delays_h1[0][0]+delays_h1[1][0], delays_h2[0][0]+delays_h2[1][0],\n",
    "                           delays_h3[0][0]+delays_h3[1][0], delays_h4[0][0]+delays_h4[1][0],\n",
    "                           delays_h5[0][0]+delays_h5[1][0], delays_h6[0][0]+delays_h6[1][0]])"
   ]
  },
  {
   "cell_type": "code",
   "execution_count": 139,
   "metadata": {},
   "outputs": [],
   "source": [
    "derivatives_fwd = []\n",
    "for h, objective in zip(h_list, objectives_fwd):\n",
    "    grad1 = (objective[0] - objective_val.detach()) / h\n",
    "    grad2 = (objective[1] - objective_val.detach()) / h\n",
    "    grad3 = (objective[2] - objective_val.detach()) / h\n",
    "    grad4 = (objective[3] - objective_val.detach()) / h\n",
    "    grad5 = (objective[4] - objective_val.detach()) / h\n",
    "    grad6 = (objective[5] - objective_val.detach()) / h\n",
    "    derivatives_fwd.append([grad1, grad2, grad3, grad4, grad5, grad6])\n",
    "\n",
    "\n",
    "derivatives_bwd = []\n",
    "for h, objective in zip(h_list, objectives_bwd):\n",
    "    grad1 = (objective_val.detach() - objective[0]) / h\n",
    "    grad2 = (objective_val.detach() - objective[1]) / h\n",
    "    grad3 = (objective_val.detach() - objective[2]) / h\n",
    "    grad4 = (objective_val.detach() - objective[3]) / h\n",
    "    grad5 = (objective_val.detach() - objective[4]) / h\n",
    "    grad6 = (objective_val.detach() - objective[5]) / h\n",
    "    derivatives_bwd.append([grad1, grad2, grad3, grad4, grad5, grad6])"
   ]
  },
  {
   "cell_type": "code",
   "execution_count": 140,
   "metadata": {},
   "outputs": [],
   "source": [
    "errors_fwd = [np.linalg.norm(np.array(grad) - ad_grad_scaled) for grad in derivatives_fwd]\n",
    "errors_bwd = [np.linalg.norm(np.array(grad) - ad_grad_scaled) for grad in derivatives_bwd]\n",
    "\n",
    "i = 5\n",
    "errors_fwd = [np.linalg.norm(np.array(grad[i]) - ad_grad_scaled[i]) for grad in derivatives_fwd]\n",
    "errors_bwd = [np.linalg.norm(np.array(grad[i]) - ad_grad_scaled[i]) for grad in derivatives_bwd]"
   ]
  },
  {
   "cell_type": "code",
   "execution_count": 141,
   "metadata": {},
   "outputs": [],
   "source": [
    "# derivatives_bwd\n",
    "errors_fwd = [np.linalg.norm(np.array(grad) - ad_grad_scaled) for grad in derivatives_fwd]\n",
    "errors_bwd = [np.linalg.norm(np.array(grad) - ad_grad_scaled) for grad in derivatives_bwd]"
   ]
  },
  {
   "cell_type": "code",
   "execution_count": 143,
   "metadata": {},
   "outputs": [
    {
     "data": {
      "image/png": "[encoded data removed]",
      "text/plain": [
       "<Figure size 640x480 with 1 Axes>"
      ]
     },
     "metadata": {},
     "output_type": "display_data"
    }
   ],
   "source": [
    "# plt.loglog(h_list, errors_fwd, label=\"forward\")\n",
    "plt.loglog(h_list, errors_bwd, label=\"backward\")\n",
    "plt.legend()\n",
    "plt.show()"
   ]
  },
  {
   "cell_type": "code",
   "execution_count": null,
   "metadata": {},
   "outputs": [],
   "source": []
  }
 ],
 "metadata": {
  "kernelspec": {
   "display_name": "traffic",
   "language": "python",
   "name": "python3"
  },
  "language_info": {
   "codemirror_mode": {
    "name": "ipython",
    "version": 3
   },
   "file_extension": ".py",
   "mimetype": "text/x-python",
   "name": "python",
   "nbconvert_exporter": "python",
   "pygments_lexer": "ipython3",
   "version": "3.10.12"
  }
 },
 "nbformat": 4,
 "nbformat_minor": 2
}
