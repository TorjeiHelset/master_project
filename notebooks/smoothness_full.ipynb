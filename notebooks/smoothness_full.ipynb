{
 "cells": [
  {
   "cell_type": "code",
   "execution_count": null,
   "metadata": {},
   "outputs": [],
   "source": [
    "import sys\n",
    "sys.path.append('../src_variable')\n",
    "\n",
    "import road as rd\n",
    "import network as nw \n",
    "import torch\n",
    "import traffic_lights as tl\n",
    "import junction as jn\n",
    "import smoothness as sm\n",
    "import generate_kvadraturen as gk\n",
    "import bus\n",
    "import matplotlib.pyplot as plt"
   ]
  }
 ],
 "metadata": {
  "language_info": {
   "name": "python"
  }
 },
 "nbformat": 4,
 "nbformat_minor": 2
}
