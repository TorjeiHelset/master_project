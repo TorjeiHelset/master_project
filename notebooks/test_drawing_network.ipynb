{
 "cells": [
  {
   "cell_type": "code",
   "execution_count": 1,
   "metadata": {},
   "outputs": [],
   "source": [
    "import sys\n",
    "sys.path.append('../src_variable')\n",
    "\n",
    "import loading_json as load\n",
    "import openGLUtils as gl"
   ]
  },
  {
   "cell_type": "code",
   "execution_count": null,
   "metadata": {},
   "outputs": [],
   "source": []
  },
  {
   "cell_type": "code",
   "execution_count": 2,
   "metadata": {},
   "outputs": [
    {
     "name": "stdout",
     "output_type": "stream",
     "text": [
      "1 roads initialized\n",
      "2 roads initialized\n",
      "All roads initialized\n",
      "1 junctions initialized\n",
      "All junctions initialized\n"
     ]
    }
   ],
   "source": [
    "import loading_json as load\n",
    "loaded_roads, loaded_junctions, network = load.initialize_road_network(\"../networks/1-1.json\")\n",
    "densities, queues = network.solve_cons_law()"
   ]
  },
  {
   "cell_type": "code",
   "execution_count": 3,
   "metadata": {},
   "outputs": [],
   "source": [
    "end_time = list(densities[0].keys())[-1]\n",
    "end_densities = [densities[i][end_time] for i in range(len(densities))]"
   ]
  },
  {
   "cell_type": "code",
   "execution_count": 5,
   "metadata": {},
   "outputs": [
    {
     "data": {
      "text/plain": [
       "[tensor([0.8000, 0.8000, 0.8000, 0.8000, 0.8001, 0.8001, 0.8001, 0.8002, 0.8003,\n",
       "         0.8004, 0.8006, 0.8009, 0.8013, 0.8019, 0.8026, 0.8035, 0.8046, 0.8061,\n",
       "         0.8078, 0.8099, 0.8122, 0.8149, 0.8178, 0.8209, 0.8242, 0.8275, 0.8308,\n",
       "         0.8340, 0.8371, 0.8399, 0.8426, 0.8448, 0.8468, 0.8484, 0.8498, 0.8508,\n",
       "         0.8517, 0.8522, 0.8527, 0.8530, 0.8532, 0.8533, 0.8534, 0.8535, 0.8535,\n",
       "         0.8535, 0.8535, 0.8536, 0.8536, 0.8536, 0.8536, 0.8536, 0.8536, 0.8536],\n",
       "        grad_fn=<CopySlices>),\n",
       " tensor([0.4729, 0.4729, 0.4526, 0.4401, 0.4280, 0.4163, 0.4048, 0.3935, 0.3824,\n",
       "         0.3715, 0.3607, 0.3500, 0.3395, 0.3291, 0.3188, 0.3086, 0.2986, 0.2888,\n",
       "         0.2790, 0.2695, 0.2601, 0.2508, 0.2417, 0.2329, 0.2242, 0.2157, 0.2075,\n",
       "         0.1995, 0.1917, 0.1843, 0.1771, 0.1702, 0.1635, 0.1573, 0.1513, 0.1458,\n",
       "         0.1404, 0.1356, 0.1310, 0.1269, 0.1230, 0.1197, 0.1165, 0.1139, 0.1114,\n",
       "         0.1094, 0.1075, 0.1061, 0.1047, 0.1038, 0.1029, 0.1023, 0.1023, 0.1023],\n",
       "        grad_fn=<CopySlices>)]"
      ]
     },
     "execution_count": 5,
     "metadata": {},
     "output_type": "execute_result"
    }
   ],
   "source": [
    "end_densities"
   ]
  },
  {
   "cell_type": "code",
   "execution_count": 4,
   "metadata": {},
   "outputs": [
    {
     "name": "stdout",
     "output_type": "stream",
     "text": [
      "Left 1\n",
      "[-0.14264781  0.99826919]\n",
      "J 1\n",
      "[-0.00024754  0.00173081]\n",
      "Right 2\n",
      "[ 0.14289535 -1.        ]\n",
      "J 1\n",
      "[-0.00024754  0.00173081]\n"
     ]
    },
    {
     "ename": "ValueError",
     "evalue": "The truth value of an array with more than one element is ambiguous. Use a.any() or a.all()",
     "output_type": "error",
     "traceback": [
      "\u001b[1;31m---------------------------------------------------------------------------\u001b[0m",
      "\u001b[1;31mValueError\u001b[0m                                Traceback (most recent call last)",
      "\u001b[1;32mc:\\Users\\torje\\OneDrive - NTNU\\Dokumenter\\Semester9\\Prosjektoppgave\\trafficmodelling_physical\\notebooks\\test_drawing_network.ipynb Cell 4\u001b[0m line \u001b[0;36m1\n\u001b[1;32m----> <a href='vscode-notebook-cell:/c%3A/Users/torje/OneDrive%20-%20NTNU/Dokumenter/Semester9/Prosjektoppgave/trafficmodelling_physical/notebooks/test_drawing_network.ipynb#W3sZmlsZQ%3D%3D?line=0'>1</a>\u001b[0m gl\u001b[39m.\u001b[39;49mdraw_network(network, end_densities)\n",
      "File \u001b[1;32mc:\\Users\\torje\\OneDrive - NTNU\\Dokumenter\\Semester9\\Prosjektoppgave\\trafficmodelling_physical\\notebooks\\../src_variable\\openGLUtils.py:118\u001b[0m, in \u001b[0;36mdraw_network\u001b[1;34m(network, densities)\u001b[0m\n\u001b[0;32m    115\u001b[0m \u001b[39mfor\u001b[39;00m i, d \u001b[39min\u001b[39;00m \u001b[39menumerate\u001b[39m(densities):\n\u001b[0;32m    116\u001b[0m     \u001b[39m# d is an array of densities -> convert to colors\u001b[39;00m\n\u001b[0;32m    117\u001b[0m     colors[i] \u001b[39m=\u001b[39m [map_value_to_color(rho) \u001b[39mfor\u001b[39;00m rho \u001b[39min\u001b[39;00m d]\n\u001b[1;32m--> 118\u001b[0m     points[i] \u001b[39m=\u001b[39m convert_to_points(road_positions[i], \u001b[39mlen\u001b[39;49m(colors[i])) \u001b[39m# SHould be same length as colors[i]\u001b[39;00m\n\u001b[0;32m    120\u001b[0m \u001b[39m# Initialize display\u001b[39;00m\n\u001b[0;32m    121\u001b[0m glutInit(sys\u001b[39m.\u001b[39margv)\n",
      "File \u001b[1;32mc:\\Users\\torje\\OneDrive - NTNU\\Dokumenter\\Semester9\\Prosjektoppgave\\trafficmodelling_physical\\notebooks\\../src_variable\\openGLUtils.py:88\u001b[0m, in \u001b[0;36mconvert_to_points\u001b[1;34m(road_positions, n)\u001b[0m\n\u001b[0;32m     85\u001b[0m \u001b[39melif\u001b[39;00m key[:\u001b[39m5\u001b[39m] \u001b[39m==\u001b[39m \u001b[39m'\u001b[39m\u001b[39mRight\u001b[39m\u001b[39m'\u001b[39m:\n\u001b[0;32m     86\u001b[0m     right_point \u001b[39m==\u001b[39m road_positions[key]\n\u001b[1;32m---> 88\u001b[0m \u001b[39mif\u001b[39;00m \u001b[39mnot\u001b[39;00m left_point \u001b[39mand\u001b[39;00m right_point \u001b[39mand\u001b[39;00m key[:\u001b[39m1\u001b[39m] \u001b[39m==\u001b[39m \u001b[39m'\u001b[39m\u001b[39mJ\u001b[39m\u001b[39m'\u001b[39m:\n\u001b[0;32m     89\u001b[0m     \u001b[39m# Right edge already found - left edge at junction\u001b[39;00m\n\u001b[0;32m     90\u001b[0m     left_point \u001b[39m==\u001b[39m road_positions[key]\n\u001b[0;32m     92\u001b[0m \u001b[39melif\u001b[39;00m left_point \u001b[39mand\u001b[39;00m \u001b[39mnot\u001b[39;00m right_point \u001b[39mand\u001b[39;00m key[:\u001b[39m1\u001b[39m] \u001b[39m==\u001b[39m \u001b[39m'\u001b[39m\u001b[39mJ\u001b[39m\u001b[39m'\u001b[39m:\n",
      "\u001b[1;31mValueError\u001b[0m: The truth value of an array with more than one element is ambiguous. Use a.any() or a.all()"
     ]
    }
   ],
   "source": [
    "gl.draw_network(network, end_densities)"
   ]
  },
  {
   "cell_type": "code",
   "execution_count": null,
   "metadata": {},
   "outputs": [
    {
     "name": "stdout",
     "output_type": "stream",
     "text": [
      "Left 1\n",
      "[ 1.         -0.03543634]\n",
      "J 1\n",
      "[-1.05260122e-03  3.57382726e-05]\n",
      "Right 2\n",
      "[-0.9989474   0.03540061]\n",
      "J 1\n",
      "[-1.05260122e-03  3.57382726e-05]\n"
     ]
    },
    {
     "data": {
      "text/plain": [
       "{0: {'Left 1': array([ 1.        , -0.03543634]),\n",
       "  'J 1': array([-1.05260122e-03,  3.57382726e-05])},\n",
       " 1: {'Right 2': array([-0.9989474 ,  0.03540061]),\n",
       "  'J 1': array([-1.05260122e-03,  3.57382726e-05])}}"
      ]
     },
     "execution_count": 5,
     "metadata": {},
     "output_type": "execute_result"
    }
   ],
   "source": [
    "network.get_node_pos()"
   ]
  }
 ],
 "metadata": {
  "kernelspec": {
   "display_name": "traffic",
   "language": "python",
   "name": "python3"
  },
  "language_info": {
   "codemirror_mode": {
    "name": "ipython",
    "version": 3
   },
   "file_extension": ".py",
   "mimetype": "text/x-python",
   "name": "python",
   "nbconvert_exporter": "python",
   "pygments_lexer": "ipython3",
   "version": "3.10.12"
  },
  "orig_nbformat": 4
 },
 "nbformat": 4,
 "nbformat_minor": 2
}
