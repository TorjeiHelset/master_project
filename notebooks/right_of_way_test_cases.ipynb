{
 "cells": [
  {
   "cell_type": "markdown",
   "metadata": {},
   "source": [
    "## This notebook will investigate right of way for some specific networks"
   ]
  },
  {
   "cell_type": "code",
   "execution_count": 1,
   "metadata": {},
   "outputs": [],
   "source": [
    "import numpy as np\n",
    "import torch\n",
    "import matplotlib.pyplot as plt\n",
    "import sys\n",
    "sys.path.append('../src_variable')\n",
    "import network as nw\n",
    "import road as rd\n",
    "import junction as jn\n",
    "import traffic_lights as tl\n",
    "import torch\n",
    "import openGLUtils as glutils\n",
    "import openGLUtilsGif as glgif\n",
    "import FV_schemes as fv"
   ]
  },
  {
   "cell_type": "code",
   "execution_count": 2,
   "metadata": {},
   "outputs": [
    {
     "data": {
      "text/plain": [
       "tensor([0.0000, 0.2500, 0.5000, 0.7500, 1.0000])"
      ]
     },
     "execution_count": 2,
     "metadata": {},
     "output_type": "execute_result"
    }
   ],
   "source": [
    "n = 4\n",
    "dx = 1 / n\n",
    "xk = torch.linspace(0, 1, n+1)\n",
    "xk"
   ]
  },
  {
   "cell_type": "markdown",
   "metadata": {},
   "source": [
    "### 2-1 junction\n",
    "\n",
    "We consider the simplest junction in which there is the need for a priority parameter.\n",
    "In this case it is only necessary with one priority parameter.\n",
    "\n",
    "The specific network has two incoming roads and one outgoing road. There is only one outgoing road, and hence no crossing connections. Assume that road one has priority over road 2.\n",
    "\n",
    "The distribution matrix takes the form\n",
    "$$\n",
    "A = \n",
    "\\begin{bmatrix}\n",
    "1 \\\\\n",
    "1\n",
    "\\end{bmatrix}.\n",
    "$$\n",
    "\n",
    "For all cases we will assume the roads have lengths of 50 meters."
   ]
  },
  {
   "cell_type": "code",
   "execution_count": 3,
   "metadata": {},
   "outputs": [],
   "source": [
    "# Configuration of the network\n",
    "distribution = [[1.0], [1.0]]\n",
    "priorities = [[1], [2]]\n",
    "crossing_connections =  [[[]],\n",
    "                        [[]]]\n",
    "L = 50\n",
    "N = 5"
   ]
  },
  {
   "cell_type": "markdown",
   "metadata": {},
   "source": [
    "#### Case 1:\n",
    "Two equivalent roads with speed limits 50 km/h leading into a road with speed limit 50km/h. Almost no traffic in the beginning, but the combined influx into the two roads is bigger than the capacity of the outgoing road, so that there will arise some congestion.\n",
    "\n",
    "For the first case we have no traffic lights."
   ]
  },
  {
   "cell_type": "code",
   "execution_count": 4,
   "metadata": {},
   "outputs": [],
   "source": [
    "# Creating the network\n",
    "road1 = rd.Road(1, L, N, torch.tensor([50.0], requires_grad=True), [], left_pos = (-1, 1), right_pos = (0, 0),\n",
    "                initial = lambda x: torch.ones_like(x) * 0.1, inflow = 0.3, id = \"1_fw\")\n",
    "road2 = rd.Road(1, L, N, torch.tensor([50.0], requires_grad=True), [], left_pos = (-1, -1), right_pos = (0, 0),\n",
    "                initial = lambda x: torch.ones_like(x) * 0.1, inflow = 0.3, id = \"2_fw\")\n",
    "road3 = rd.Road(1, L, N, torch.tensor([50.0], requires_grad=True), [], left_pos = (0, 0), right_pos = (1, 0),\n",
    "                initial = lambda x: torch.ones_like(x) * 0.2, inflow = 0.0, id = \"3_fw\")\n",
    "\n",
    "entering = [0,1]\n",
    "leaving = [2]\n",
    "\n",
    "junction = jn.Junction([road1, road2, road3], entering, leaving, distribution, trafficlights=[],\n",
    "                       coupled_trafficlights = [], duty_to_gw = True, priorities = priorities,\n",
    "                       crossing_connections = crossing_connections)\n",
    "T = 50\n",
    "network = nw.RoadNetwork([road1, road2, road3], [junction], T)\n"
   ]
  },
  {
   "cell_type": "code",
   "execution_count": 5,
   "metadata": {},
   "outputs": [],
   "source": [
    "densities, _, _, _ = network.solve_cons_law()"
   ]
  },
  {
   "cell_type": "code",
   "execution_count": 6,
   "metadata": {},
   "outputs": [],
   "source": [
    "# Comment out to create the gif - note this will crash the kernel\n",
    "# glgif.draw_timed_with_shift(network, densities, interval_seconds = 0.05, output_name = '2-1-row.gif')"
   ]
  },
  {
   "cell_type": "markdown",
   "metadata": {},
   "source": [
    "#### Case 1:\n",
    "Two equivalent roads with speed limits 50 km/h leading into a road with speed limit 50km/h. Here there is much traffic in the beginning, but the influx to the roads is less than the capacity of the outgoing road. Expected behaviour: traffic on road 1 should clear out before the traffic on the second road.\n",
    "\n",
    "We still have no traffic lights."
   ]
  },
  {
   "cell_type": "code",
   "execution_count": 7,
   "metadata": {},
   "outputs": [],
   "source": [
    "# Creating the network\n",
    "road1 = rd.Road(1, L, N, torch.tensor([50.0], requires_grad=True), [], left_pos = (-1, 1), right_pos = (0, 0),\n",
    "                initial = lambda x: torch.ones_like(x) * 0.7, inflow = 0.1, id = \"1_fw\")\n",
    "road2 = rd.Road(1, L, N, torch.tensor([50.0], requires_grad=True), [], left_pos = (-1, -1), right_pos = (0, 0),\n",
    "                initial = lambda x: torch.ones_like(x) * 0.7, inflow = 0.1, id = \"2_fw\")\n",
    "road3 = rd.Road(1, L, N, torch.tensor([50.0], requires_grad=True), [], left_pos = (0, 0), right_pos = (1, 0),\n",
    "                initial = lambda x: torch.ones_like(x) * 0.2, inflow = 0.0, id = \"3_fw\")\n",
    "\n",
    "entering = [0,1]\n",
    "leaving = [2]\n",
    "\n",
    "junction = jn.Junction([road1, road2, road3], entering, leaving, distribution, trafficlights=[],\n",
    "                       coupled_trafficlights = [], duty_to_gw = True, priorities = priorities,\n",
    "                       crossing_connections = crossing_connections)\n",
    "T = 100\n",
    "network = nw.RoadNetwork([road1, road2, road3], [junction], T)\n"
   ]
  },
  {
   "cell_type": "code",
   "execution_count": 8,
   "metadata": {},
   "outputs": [],
   "source": [
    "densities, _, _, _ = network.solve_cons_law()"
   ]
  },
  {
   "cell_type": "code",
   "execution_count": 9,
   "metadata": {},
   "outputs": [],
   "source": [
    "# Comment out to create the gif - note this will crash the kernel\n",
    "# glgif.draw_timed_with_shift(network, densities, interval_seconds = 0.05, output_name = '2-1-row_2.gif')"
   ]
  },
  {
   "cell_type": "markdown",
   "metadata": {},
   "source": [
    "### 2-2 junction\n",
    "\n",
    "This is the smallest junction in which there may be crossing connections. Order the roads 1, 2, 3, 4, with 1 and 2 being the incoming roads, and 3 and 4 being the outgoing roads. Assume that road 1 has right of way. That means that it has priority going in to the two outgoing roads. In addition, road 2 crosses connection 1->3 when going to outgoing road 4. Hence, an upper bound needs to be calculated. Since there are two outgoing roads, we need a distribution matrix A. For the first case, assume that A takes the form\n",
    "$$\n",
    "A = \n",
    "\\begin{bmatrix}\n",
    "1 & 0\\\\\n",
    "0 & 1\n",
    "\\end{bmatrix}\n",
    "$$\n",
    "that is, all traffic on road 1 continues to road 3 and all traffic on road 2 goes to road 4.\n"
   ]
  },
  {
   "cell_type": "code",
   "execution_count": 10,
   "metadata": {},
   "outputs": [],
   "source": [
    "# Configuration of the network\n",
    "distribution = [[1.0, 0.0], [0.0, 1.0]]\n",
    "priorities = [[1, 1], [2, 2]]\n",
    "crossing_connections =  [[[], []],\n",
    "                        [[], [(0,0)]]]\n",
    "L = 50\n",
    "N = 5"
   ]
  },
  {
   "cell_type": "markdown",
   "metadata": {},
   "source": [
    "Case 1:\n",
    "\n",
    "All roads have the same maximum densities, and the same speed limits of 50 km/h. We assume that there are no traffic lights. Assume there is quite a lot of traffic on both roads, and not that high inflow of traffic."
   ]
  },
  {
   "cell_type": "code",
   "execution_count": 11,
   "metadata": {},
   "outputs": [],
   "source": [
    "# Creating the network\n",
    "road1 = rd.Road(1, L, N, torch.tensor([50.0], requires_grad=True), [], left_pos = (-1, 0), right_pos = (0, 0),\n",
    "                initial = lambda x: torch.ones_like(x) * 0.7, inflow = 0.3, id = \"1_fw\")\n",
    "road2 = rd.Road(1, L, N, torch.tensor([50.0], requires_grad=True), [], left_pos = (0, 1), right_pos = (0, 0),\n",
    "                initial = lambda x: torch.ones_like(x) * 0.3, inflow = 0.05, id = \"2_fw\")\n",
    "road3 = rd.Road(1, L, N, torch.tensor([50.0], requires_grad=True), [], left_pos = (0, 0), right_pos = (1, 0),\n",
    "                initial = lambda x: torch.ones_like(x) * 0.3, inflow = 0.0, id = \"3_fw\")\n",
    "road4 = rd.Road(1, L, N, torch.tensor([50.0], requires_grad=True), [], left_pos = (0, 0), right_pos = (0, -1),\n",
    "                initial = lambda x: torch.ones_like(x) * 0.3, inflow = 0.0, id = \"4_fw\")\n",
    "\n",
    "entering = [0,1]\n",
    "leaving = [2, 3]\n",
    "\n",
    "junction = jn.Junction([road1, road2, road3, road4], entering, leaving, distribution, trafficlights=[],\n",
    "                       coupled_trafficlights = [], duty_to_gw = True, priorities = priorities,\n",
    "                       crossing_connections = crossing_connections)\n",
    "T = 150\n",
    "network = nw.RoadNetwork([road1, road2, road3, road4], [junction], T)"
   ]
  },
  {
   "cell_type": "code",
   "execution_count": 12,
   "metadata": {},
   "outputs": [],
   "source": [
    "for road in network.roads:\n",
    "    road.update_index(0.0)"
   ]
  },
  {
   "cell_type": "code",
   "execution_count": 13,
   "metadata": {},
   "outputs": [],
   "source": [
    "densities, queues, _, _ = network.solve_cons_law()"
   ]
  },
  {
   "cell_type": "code",
   "execution_count": 14,
   "metadata": {},
   "outputs": [],
   "source": [
    "# dsfd"
   ]
  },
  {
   "cell_type": "code",
   "execution_count": 15,
   "metadata": {},
   "outputs": [],
   "source": [
    "# glgif.draw_timed_with_shift(network, densities, interval_seconds = 0.05, output_name = '2-2-row.gif')"
   ]
  },
  {
   "cell_type": "markdown",
   "metadata": {},
   "source": [
    "### 4-4 junction\n",
    "This is the largest junction in the simulation, and we would therefore like to investigate some of the phenoma arising in this junction. Each road in the simulation is unidirectional, meaning that to be able to model a bi-directional road, we model it as two individual uni-directional roads. The junction we are considering is really only a 2-2 junction where each road is bi-directional, but for us we will model them as a 4-4 junction. We order the roads as following:\n",
    "- road 1 goes from left to right into the junction\n",
    "- road 2 goes from left to right out from the junction\n",
    "- road 3 goes from right to left into the junction\n",
    "- road 4 goes from rigth to left out from the junction\n",
    "- road 5 goes from top to bottom into the junction\n",
    "- road 6 goes from top to bottom out from the junction\n",
    "- road 7 goes from bottom to top into the junction\n",
    "- road 8 goes from bottom to top out from the junction\n",
    "\n",
    "We will assume that the road going from left to right (and opposite) has right of way. We will also assume that most of the traffic will keep going, and that some of it will turn left or right. In addition to roads 1,2,3 and 4 having right of way, we will also assume a right hand rule where applicable. We summarize the distribution of traffic in the distribution matrix A:\n",
    "$$\n",
    "A = \n",
    "\\begin{bmatrix}\n",
    "0.8 & 0.0 & 0.1 & 0.1\\\\\n",
    "0.0 & 0.8 & 0.1 & 0.1\\\\\n",
    "0.25 & 0.25 & 0.5 & 0.0\\\\\n",
    "0.25 & 0.25 & 0.0 & 0.5\n",
    "\\end{bmatrix}.\n",
    "$$ \n",
    "We assume that u-turns are not allowed, which is why some of the terms are equal to zero.\n",
    "\n",
    "Now for the crossing connections. Traffic from road 1 crosses no lanes when going to roads 2 and 6. However, when going to road 8, traffic from road 3 to road 4 is being crossed.\n",
    "Traffic from road 3 crosses no lanes when going to road 4 and road 8. However, when going to road 6, traffic from road 1 to road 2 is being crossed.\n",
    "Traffic from road 5 crosses no lanes when going to road 4. Traffic going to road 2 crosses traffic from road 3 to road 4, and traffic going to road 6 crosses traffic from road 3 to road 4, traffic from 1 to 2 and traffic from road 1 to road 8.\n",
    "Traffic from road 7 crosses no lanes when going to road 2. Traffic  going to lane 4 crosses traffic from road 1 to road 2, and traffic going to road 8 crosses traffic from road 1 to road 2, road 3 to road 4 and road 3 to road 6. \n",
    "We summarize the crossing connections in the matrix $C$:\n",
    "$$\n",
    "C = \n",
    "\\begin{bmatrix}\n",
    ". & . & . & [(1,1)]\\\\\n",
    ". & . & [(0,0)] & .\\\\\n",
    "[(1,1)] & . & [(0,0),(1,1),(0,3)] & .\\\\\n",
    ". & [(0,0)] & . & [(0,0), (1,1), (1,2)]\n",
    "\\end{bmatrix}\n",
    "$$\n",
    "We also need to specify the prirorities of the incoming roads for each outgoing road. This we summarize in the matrix $P$:\n",
    "$$\n",
    "P = \n",
    "\\begin{bmatrix}\n",
    "1 & 0 & 1 & 2\\\\\n",
    "0 & 1 & 2 & 1\\\\\n",
    "3 & 2 & 3 & 0\\\\\n",
    "2 & 3 & 0 & 3\n",
    "\\end{bmatrix},\n",
    "$$\n",
    "here elements equal to zero indicate that the edge is not allowed. The positions of these elements should match with the zero elements of the distribution matrix.\n",
    "We still assume that there are no traffic lights in the junction.\n",
    "\n",
    "---\n",
    "\n",
    "% (0,0) : 1 -> 2 (0,1) : 1 -> 4 (1,0) : 3 -> 2 (2,2) : 5 -> 6"
   ]
  },
  {
   "cell_type": "code",
   "execution_count": 16,
   "metadata": {},
   "outputs": [],
   "source": [
    "# Configuration of the network\n",
    "distribution = [[0.8, 0.0, 0.1, 0.1],\n",
    "                [0.0, 0.8, 0.1, 0.1],\n",
    "                [0.25, 0.25, 0.5, 0.0],\n",
    "                [0.25, 0.25, 0.0, 0.5]]\n",
    "priorities = [[1, 0, 1, 2],\n",
    "              [0, 1, 2, 1],\n",
    "              [3, 2, 3, 0],\n",
    "              [2, 3, 0, 3]]\n",
    "crossing_connections =  [[[], [], [], [(1,1)]],\n",
    "                         [[], [], [(0,0)], []],\n",
    "                         [[(1,1)], [], [(0,0),(1,1),(0,3)], []],\n",
    "                         [[], [(0,0)], [], [(0,0),(1,1),(1,2)]]]\n",
    "\n",
    "L = 50\n",
    "N = 5"
   ]
  },
  {
   "cell_type": "code",
   "execution_count": 17,
   "metadata": {},
   "outputs": [
    {
     "data": {
      "text/plain": [
       "<torch.autograd.anomaly_mode.set_detect_anomaly at 0x244b8173130>"
      ]
     },
     "execution_count": 17,
     "metadata": {},
     "output_type": "execute_result"
    }
   ],
   "source": [
    "torch.autograd.set_detect_anomaly(False)"
   ]
  },
  {
   "cell_type": "code",
   "execution_count": 23,
   "metadata": {},
   "outputs": [],
   "source": [
    "# Creating the network\n",
    "road1 = rd.Road(1, L, N, torch.tensor([50.0], requires_grad=True), [], left_pos = (-1, 0), right_pos = (0, 0),\n",
    "                initial = lambda x: torch.ones_like(x) * 0.6, inflow = 0.2, id = \"1_fw\")\n",
    "road2 = rd.Road(1, L, N, torch.tensor([50.0], requires_grad=True), [], left_pos = (0, 0), right_pos = (1, 0),\n",
    "                initial = lambda x: torch.ones_like(x) * 0.3, inflow = 0.05, id = \"2_fw\")\n",
    "road3 = rd.Road(1, L, N, torch.tensor([50.0], requires_grad=True), [], left_pos = (1, 0), right_pos = (0, 0),\n",
    "                initial = lambda x: torch.ones_like(x) * 0.6, inflow = 0.2, id = \"3_bw\")\n",
    "road4 = rd.Road(1, L, N, torch.tensor([50.0], requires_grad=True), [], left_pos = (0, 0), right_pos = (-1, 0),\n",
    "                initial = lambda x: torch.ones_like(x) * 0.3, inflow = 0.05, id = \"4_bw\")\n",
    "road5 = rd.Road(1, L, N, torch.tensor([50.0], requires_grad=True), [], left_pos = (0, 1), right_pos = (0, 0),\n",
    "                initial = lambda x: torch.ones_like(x) * 0.3, inflow = 0.3, id = \"5_fw\")\n",
    "road6 = rd.Road(1, L, N, torch.tensor([50.0], requires_grad=True), [], left_pos = (0, 0), right_pos = (0, -1),\n",
    "                initial = lambda x: torch.ones_like(x) * 0.3, inflow = 0.05, id = \"6_fw\")\n",
    "road7 = rd.Road(1, L, N, torch.tensor([50.0], requires_grad=True), [], left_pos = (0, -1), right_pos = (0, 0),\n",
    "                initial = lambda x: torch.ones_like(x) * 0.3, inflow = 0.3, id = \"7_bw\")\n",
    "road8 = rd.Road(1, L, N, torch.tensor([50.0], requires_grad=True), [], left_pos = (0, 0), right_pos = (0, 1),\n",
    "                initial = lambda x: torch.ones_like(x) * 0.3, inflow = 0.3, id = \"8_bw\")\n",
    "\n",
    "entering = [0, 2, 4, 6]\n",
    "leaving = [1, 3, 5, 7]\n",
    "\n",
    "junction = jn.Junction([road1, road2, road3, road4, road5, road6, road7, road8], entering, leaving, distribution, trafficlights=[],\n",
    "                       coupled_trafficlights = [], duty_to_gw = True, priorities = priorities,\n",
    "                       crossing_connections = crossing_connections)\n",
    "T = 150\n",
    "network = nw.RoadNetwork([road1, road2, road3, road4, road5, road6, road7, road8], [junction], T)"
   ]
  },
  {
   "cell_type": "code",
   "execution_count": null,
   "metadata": {},
   "outputs": [],
   "source": []
  },
  {
   "cell_type": "code",
   "execution_count": 19,
   "metadata": {},
   "outputs": [],
   "source": [
    "densities, queues, _, _ = network.solve_cons_law()"
   ]
  },
  {
   "cell_type": "code",
   "execution_count": 20,
   "metadata": {},
   "outputs": [],
   "source": [
    "times = densities[0].keys()\n",
    "objective = torch.tensor(0)\n",
    "for i in range(len(densities)):\n",
    "    for t in times:\n",
    "        objective = objective + torch.sum(densities[i][t])"
   ]
  },
  {
   "cell_type": "code",
   "execution_count": 21,
   "metadata": {},
   "outputs": [],
   "source": [
    "objective.backward()"
   ]
  },
  {
   "cell_type": "code",
   "execution_count": 22,
   "metadata": {},
   "outputs": [
    {
     "ename": "NameError",
     "evalue": "name 'sdf' is not defined",
     "output_type": "error",
     "traceback": [
      "\u001b[1;31m---------------------------------------------------------------------------\u001b[0m",
      "\u001b[1;31mNameError\u001b[0m                                 Traceback (most recent call last)",
      "Cell \u001b[1;32mIn[22], line 1\u001b[0m\n\u001b[1;32m----> 1\u001b[0m \u001b[43msdf\u001b[49m\n",
      "\u001b[1;31mNameError\u001b[0m: name 'sdf' is not defined"
     ]
    }
   ],
   "source": [
    "sdf"
   ]
  },
  {
   "cell_type": "markdown",
   "metadata": {},
   "source": [
    "Checking if autograd still works"
   ]
  },
  {
   "cell_type": "code",
   "execution_count": null,
   "metadata": {},
   "outputs": [
    {
     "name": "stdout",
     "output_type": "stream",
     "text": [
      "End of simulation reached!\n",
      "Saving GIF as: 4-4-test.gif\n"
     ]
    },
    {
     "ename": "",
     "evalue": "",
     "output_type": "error",
     "traceback": [
      "\u001b[1;31mThe Kernel crashed while executing code in the current cell or a previous cell. \n",
      "\u001b[1;31mPlease review the code in the cell(s) to identify a possible cause of the failure. \n",
      "\u001b[1;31mClick <a href='https://aka.ms/vscodeJupyterKernelCrash'>here</a> for more info. \n",
      "\u001b[1;31mView Jupyter <a href='command:jupyter.viewOutput'>log</a> for further details."
     ]
    }
   ],
   "source": [
    "# print(queues)\n",
    "glgif.draw_timed_with_shift(network, densities, interval_seconds = 0.05, output_name = '4-4-test.gif')"
   ]
  },
  {
   "cell_type": "code",
   "execution_count": null,
   "metadata": {},
   "outputs": [],
   "source": [
    "# Checking flux distribution manually\n",
    "jnc = network.junctions[0]\n",
    "rho_in = [road.rho[-road.pad] for road in jnc.road_in]\n",
    "gamma_in = [road.gamma[road.idx] for road in jnc.road_in]\n",
    "max_flux_in = [fv.fmax(gamma) for gamma in gamma_in]\n",
    "max_dens_in = torch.tensor([road.max_dens for road in jnc.road_in])\n",
    "rho_out = [road.rho[road.pad-1] for road in jnc.road_out]\n",
    "gamma_out = [road.gamma[road.idx] for road in jnc.road_out]\n",
    "max_dens_out = torch.tensor([road.max_dens for road in jnc.road_out])"
   ]
  },
  {
   "cell_type": "code",
   "execution_count": null,
   "metadata": {},
   "outputs": [
    {
     "name": "stdout",
     "output_type": "stream",
     "text": [
      "rho_in [tensor(0.3000, grad_fn=<SelectBackward0>), tensor(0., grad_fn=<SelectBackward0>), tensor(0.6772, grad_fn=<SelectBackward0>), tensor(2.8026e-45, grad_fn=<SelectBackward0>)]\n",
      "gamma_in [tensor(0.2778, grad_fn=<DivBackward0>), tensor(0.2778, grad_fn=<DivBackward0>), tensor(0.2778, grad_fn=<DivBackward0>), tensor(0.2778, grad_fn=<DivBackward0>)]\n",
      "max_flux_in [tensor(0.0694, grad_fn=<DifferentiableGraphBackward>), tensor(0.0694, grad_fn=<DifferentiableGraphBackward>), tensor(0.0694, grad_fn=<DifferentiableGraphBackward>), tensor(0.0694, grad_fn=<DifferentiableGraphBackward>)]\n",
      "max_dens_in tensor([1, 1, 1, 1])\n",
      "rho_out [tensor(0.3604, grad_fn=<SelectBackward0>), tensor(0.0670, grad_fn=<SelectBackward0>), tensor(0.1321, grad_fn=<SelectBackward0>), tensor(0.0215, grad_fn=<SelectBackward0>)]\n",
      "gamma_out [tensor(0.2778, grad_fn=<DivBackward0>), tensor(0.2778, grad_fn=<DivBackward0>), tensor(0.2778, grad_fn=<DivBackward0>), tensor(0.2778, grad_fn=<DivBackward0>)]\n",
      "max_dens_out tensor([1, 1, 1, 1])\n"
     ]
    }
   ],
   "source": [
    "print(\"rho_in\", rho_in)\n",
    "print(\"gamma_in\", gamma_in)\n",
    "print(\"max_flux_in\", max_flux_in)\n",
    "print(\"max_dens_in\", max_dens_in)\n",
    "print(\"rho_out\", rho_out)\n",
    "print(\"gamma_out\", gamma_out)\n",
    "print(\"max_dens_out\", max_dens_out)"
   ]
  },
  {
   "cell_type": "code",
   "execution_count": null,
   "metadata": {},
   "outputs": [
    {
     "name": "stdout",
     "output_type": "stream",
     "text": [
      "tensor([[1., 1., 1., 1.],\n",
      "        [1., 1., 1., 1.],\n",
      "        [1., 1., 1., 1.],\n",
      "        [1., 1., 1., 1.]])\n"
     ]
    }
   ],
   "source": [
    "n = len(jnc.entering)\n",
    "m = len(jnc.leaving)\n",
    "activation = jnc.calculate_activation(n, m, 60)\n",
    "print(activation)"
   ]
  },
  {
   "cell_type": "code",
   "execution_count": null,
   "metadata": {},
   "outputs": [
    {
     "data": {
      "text/plain": [
       "tensor(0.0444)"
      ]
     },
     "execution_count": 22,
     "metadata": {},
     "output_type": "execute_result"
    }
   ],
   "source": [
    "fv.flux(torch.tensor(0.2), torch.tensor(0.2778))"
   ]
  },
  {
   "cell_type": "code",
   "execution_count": null,
   "metadata": {},
   "outputs": [
    {
     "name": "stdout",
     "output_type": "stream",
     "text": [
      "tensor([[0.0467, 0.0000, 0.0058, 0.0058],\n",
      "        [0.0000, 0.0000, 0.0000, 0.0000],\n",
      "        [0.0174, 0.0174, 0.0347, 0.0000],\n",
      "        [0.0000, 0.0000, 0.0000, 0.0000]], grad_fn=<CopySlices>)\n",
      "[tensor(0.0694, grad_fn=<MulBackward0>), tensor(0.0694, grad_fn=<MulBackward0>), tensor(0.0694, grad_fn=<MulBackward0>), tensor(0.0694, grad_fn=<MulBackward0>)]\n"
     ]
    }
   ],
   "source": [
    "demand = jnc.calculate_demand(rho_in, gamma_in, activation, max_dens_in, n, m)\n",
    "print(demand)\n",
    "capacities = [max_dens_out[j] * fv.S(rho_out[j].clone(),  gamma_out[j]) for j in range(m)]\n",
    "print(capacities)\n",
    "# Demand and capacities seem reasonable"
   ]
  },
  {
   "cell_type": "code",
   "execution_count": null,
   "metadata": {},
   "outputs": [
    {
     "name": "stdout",
     "output_type": "stream",
     "text": [
      "[[tensor(0.7488, grad_fn=<AddBackward0>), tensor(0.6000, grad_fn=<AddBackward0>), tensor(0.6157, grad_fn=<AddBackward0>), tensor(0.6157, grad_fn=<AddBackward0>)], [tensor(0.1507, grad_fn=<MulBackward0>), tensor(0.2400, grad_fn=<MulBackward0>), tensor(0.2306, grad_fn=<MulBackward0>), tensor(0.2306, grad_fn=<MulBackward0>)], [tensor(0.1005, grad_fn=<RsubBackward1>), tensor(0.1600, grad_fn=<RsubBackward1>), tensor(0.1537, grad_fn=<RsubBackward1>), tensor(0.1537, grad_fn=<RsubBackward1>)], [0, 0, 0, 0]]\n"
     ]
    }
   ],
   "source": [
    "priorities = jnc.calculate_priority_params(rho_in, n, m)\n",
    "print(priorities)\n",
    "# Probably okay too"
   ]
  },
  {
   "cell_type": "code",
   "execution_count": null,
   "metadata": {},
   "outputs": [
    {
     "name": "stdout",
     "output_type": "stream",
     "text": [
      "[tensor(0.0583, grad_fn=<DivBackward0>), tensor(0., grad_fn=<DivBackward0>), tensor(0.0607, grad_fn=<DivBackward0>), tensor(0., grad_fn=<DivBackward0>)]\n",
      "[tensor(0.0640, grad_fn=<DivBackward0>), tensor(0.0174, grad_fn=<DivBackward0>), tensor(0.0318, grad_fn=<DivBackward0>), tensor(0.0058, grad_fn=<DivBackward0>)]\n"
     ]
    }
   ],
   "source": [
    "fluxes_in, fluxes_out = jnc.calculate_fluxes(demand, capacities, priorities, n, m, \n",
    "                                                      max_flux_in, max_dens_in, max_dens_out)\n",
    "print(fluxes_in)\n",
    "print(fluxes_out)\n",
    "\n",
    "# All flux entering junction is allowed to enter..."
   ]
  },
  {
   "cell_type": "code",
   "execution_count": null,
   "metadata": {},
   "outputs": [
    {
     "name": "stdout",
     "output_type": "stream",
     "text": [
      "New flux is being calculated:\n",
      "Upper bound: 0.04666668176651001\n",
      "Demand: 0.04666668176651001\n",
      "Distributed priority: 0.0520000085234642\n",
      "Capcities - deman: 0.005416654050350189\n",
      "Capcities - upper bounds: 0.005416654050350189\n",
      "tensor(0.0467, grad_fn=<MinimumBackward0>)\n",
      "\n",
      "New flux is being calculated:\n",
      "Upper bound: 0.0\n",
      "Demand: 0.0\n",
      "Distributed priority: 0.0416666716337204\n",
      "Capcities - deman: 0.0520833358168602\n",
      "Capcities - upper bounds: 0.0520833358168602\n",
      "tensor(0., grad_fn=<MinimumBackward0>)\n",
      "\n",
      "New flux is being calculated:\n",
      "Upper bound: 0.005833335220813751\n",
      "Demand: 0.005833335220813751\n",
      "Distributed priority: 0.04275781661272049\n",
      "Capcities - deman: 0.028888888657093048\n",
      "Capcities - upper bounds: 0.028888888657093048\n",
      "tensor(0.0058, grad_fn=<MinimumBackward0>)\n",
      "\n",
      "New flux is being calculated:\n",
      "Upper bound: 0.0\n",
      "Demand: 0.0\n",
      "Distributed priority: 0.010466663166880608\n",
      "Capcities - deman: 0.005416654050350189\n",
      "Capcities - upper bounds: 0.005416654050350189\n",
      "tensor(0., grad_fn=<MinimumBackward0>)\n",
      "\n",
      "New flux is being calculated:\n",
      "Upper bound: 0.0\n",
      "Demand: 0.0\n",
      "Distributed priority: 0.01666666753590107\n",
      "Capcities - deman: 0.0520833358168602\n",
      "Capcities - upper bounds: 0.0520833358168602\n",
      "tensor(0., grad_fn=<MinimumBackward0>)\n",
      "\n",
      "New flux is being calculated:\n",
      "Upper bound: 0.0\n",
      "Demand: 0.0\n",
      "Distributed priority: 0.016011979430913925\n",
      "Capcities - deman: 0.06361111253499985\n",
      "Capcities - upper bounds: 0.06361111253499985\n",
      "tensor(0., grad_fn=<MinimumBackward0>)\n",
      "\n",
      "New flux is being calculated:\n",
      "Upper bound: 0.0173611119389534\n",
      "Demand: 0.0173611119389534\n",
      "Distributed priority: 0.011111109517514706\n",
      "Capcities - deman: 0.0520833358168602\n",
      "Capcities - upper bounds: 0.0520833358168602\n",
      "tensor(0.0174, grad_fn=<MinimumBackward0>)\n",
      "\n",
      "New flux is being calculated:\n",
      "Upper bound: 0.0\n",
      "Demand: 0.0\n",
      "Distributed priority: 0.010674654506146908\n",
      "Capcities - deman: 0.06361111253499985\n",
      "Capcities - upper bounds: 0.06361111253499985\n",
      "tensor(0., grad_fn=<MinimumBackward0>)\n",
      "\n",
      "New flux is being calculated:\n",
      "Upper bound: 0.0\n",
      "Demand: 0.0\n",
      "Distributed priority: 0.0\n",
      "Capcities - deman: 0.005416654050350189\n",
      "Capcities - upper bounds: 0.005416654050350189\n",
      "tensor(0., grad_fn=<MinimumBackward0>)\n",
      "\n",
      "New flux is being calculated:\n",
      "Upper bound: 0.0\n",
      "Demand: 0.0\n",
      "Distributed priority: 0.0\n",
      "Capcities - deman: 0.028888888657093048\n",
      "Capcities - upper bounds: 0.028888888657093048\n",
      "tensor(0., grad_fn=<MinimumBackward0>)\n",
      "\n",
      "Upper bound calculated:\n",
      "actual_fluxes tensor([[0., 0., 0., 0.],\n",
      "        [0., 0., 0., 0.],\n",
      "        [0., 0., 0., 0.],\n",
      "        [0., 0., 0., 0.]])\n"
     ]
    },
    {
     "ename": "TypeError",
     "evalue": "Junction.calculate_upper_bound() takes from 6 to 7 positional arguments but 9 were given",
     "output_type": "error",
     "traceback": [
      "\u001b[1;31m---------------------------------------------------------------------------\u001b[0m",
      "\u001b[1;31mTypeError\u001b[0m                                 Traceback (most recent call last)",
      "Cell \u001b[1;32mIn[26], line 15\u001b[0m\n\u001b[0;32m     13\u001b[0m     \u001b[38;5;28mprint\u001b[39m(\u001b[38;5;124m\"\u001b[39m\u001b[38;5;124mUpper bound calculated:\u001b[39m\u001b[38;5;124m\"\u001b[39m)\n\u001b[0;32m     14\u001b[0m     \u001b[38;5;28mprint\u001b[39m(\u001b[38;5;124m\"\u001b[39m\u001b[38;5;124mactual_fluxes\u001b[39m\u001b[38;5;124m\"\u001b[39m, actual_fluxes)\n\u001b[1;32m---> 15\u001b[0m     \u001b[38;5;28mprint\u001b[39m(\u001b[43mjnc\u001b[49m\u001b[38;5;241;43m.\u001b[39;49m\u001b[43mcalculate_upper_bound\u001b[49m\u001b[43m(\u001b[49m\u001b[43mactual_fluxes\u001b[49m\u001b[43m,\u001b[49m\u001b[43m \u001b[49m\n\u001b[0;32m     16\u001b[0m \u001b[43m                                \u001b[49m\u001b[43mjnc\u001b[49m\u001b[38;5;241;43m.\u001b[39;49m\u001b[43mcrossing_connections\u001b[49m\u001b[43m[\u001b[49m\u001b[43mi\u001b[49m\u001b[43m]\u001b[49m\u001b[43m[\u001b[49m\u001b[43mj\u001b[49m\u001b[43m]\u001b[49m\u001b[43m,\u001b[49m\n\u001b[0;32m     17\u001b[0m \u001b[43m                                \u001b[49m\u001b[43mi\u001b[49m\u001b[43m,\u001b[49m\u001b[43m \u001b[49m\u001b[43mj\u001b[49m\u001b[43m,\u001b[49m\u001b[43m \u001b[49m\u001b[43mn\u001b[49m\u001b[43m,\u001b[49m\u001b[43m \u001b[49m\u001b[43mm\u001b[49m\u001b[43m,\u001b[49m\u001b[43m \u001b[49m\u001b[43mmax_flux_in\u001b[49m\u001b[43m,\u001b[49m\u001b[43m \u001b[49m\u001b[43mdemand\u001b[49m\u001b[43m[\u001b[49m\u001b[43mi\u001b[49m\u001b[43m,\u001b[49m\u001b[43mj\u001b[49m\u001b[43m]\u001b[49m\u001b[43m)\u001b[49m)\n\u001b[0;32m     18\u001b[0m \u001b[38;5;66;03m# Calculate actual flux\u001b[39;00m\n\u001b[0;32m     19\u001b[0m \u001b[38;5;66;03m# upper_bound[i,j] should be less or equal to demand[i,j] and so\u001b[39;00m\n\u001b[0;32m     20\u001b[0m \u001b[38;5;66;03m# it should not be necessary to include upper_bounds[i,j] below\u001b[39;00m\n\u001b[0;32m     21\u001b[0m \u001b[38;5;28mprint\u001b[39m(\u001b[38;5;124m\"\u001b[39m\u001b[38;5;124mNew flux is being calculated:\u001b[39m\u001b[38;5;124m\"\u001b[39m)\n",
      "\u001b[1;31mTypeError\u001b[0m: Junction.calculate_upper_bound() takes from 6 to 7 positional arguments but 9 were given"
     ]
    }
   ],
   "source": [
    "actual_fluxes = torch.zeros((n, m))\n",
    "\n",
    "assigned_fluxes = []\n",
    "upper_bounds = demand.clone()\n",
    "\n",
    "for n_crossing in range(jnc.max_crossing_connections + 1):\n",
    "            for i in range(n):\n",
    "                for j in range(m):\n",
    "                    if len(jnc.crossing_connections[i][j]) == n_crossing and (i,j) not in assigned_fluxes:\n",
    "                        # Connection has not been assigned a flux, and it has the correct number of crossing connections\n",
    "                        if len(jnc.crossing_connections[i][j]) > 0:\n",
    "                            # Update upper bound\n",
    "                            print(\"Upper bound calculated:\")\n",
    "                            print(\"actual_fluxes\", actual_fluxes)\n",
    "                            print(jnc.calculate_upper_bound(actual_fluxes, \n",
    "                                                        jnc.crossing_connections[i][j],\n",
    "                                                        i, j, n, m, max_flux_in, demand[i,j]))\n",
    "                        # Calculate actual flux\n",
    "                        # upper_bound[i,j] should be less or equal to demand[i,j] and so\n",
    "                        # it should not be necessary to include upper_bounds[i,j] below\n",
    "                        print(\"New flux is being calculated:\")\n",
    "                        print(f\"Upper bound: {upper_bounds[i,j]}\")\n",
    "                        print(f\"Demand: {demand[i,j]}\")\n",
    "                        print(f\"Distributed priority: {priorities[i][j]*capacities[j]}\")\n",
    "                        print(f\"Capcities - deman: {capacities[j] - torch.sum(demand[:,j])}\")\n",
    "                        print(f\"Capcities - upper bounds: {capacities[j] - torch.sum(upper_bounds[:,j])}\")\n",
    "                        demand_sum = torch.tensor(0.0)\n",
    "                        upper_bound_sum = torch.tensor(0.0)\n",
    "                        for l in range(n):\n",
    "                            if l != i:\n",
    "                                demand_sum += demand[l,j]\n",
    "                                upper_bound_sum += upper_bounds[l,j]\n",
    "\n",
    "                        print(torch.min(torch.min(upper_bounds[i,j], demand[i,j]), \n",
    "                                                    torch.max(priorities[i][j]*capacities[j],\n",
    "                                                        torch.max(\n",
    "                                                        capacities[j] - demand_sum,\n",
    "                                                        capacities[j] - upper_bound_sum\n",
    "                                                        ))))\n",
    "                            \n",
    "                        print()\n",
    "                        assigned_fluxes.append((i,j))"
   ]
  },
  {
   "cell_type": "code",
   "execution_count": null,
   "metadata": {},
   "outputs": [
    {
     "ename": "",
     "evalue": "",
     "output_type": "error",
     "traceback": [
      "\u001b[1;31mThe Kernel crashed while executing code in the current cell or a previous cell. \n",
      "\u001b[1;31mPlease review the code in the cell(s) to identify a possible cause of the failure. \n",
      "\u001b[1;31mClick <a href='https://aka.ms/vscodeJupyterKernelCrash'>here</a> for more info. \n",
      "\u001b[1;31mView Jupyter <a href='command:jupyter.viewOutput'>log</a> for further details."
     ]
    }
   ],
   "source": [
    "glgif.draw_timed_with_shift(network, densities, interval_seconds = 0.05, output_name = '2-2-row.gif')"
   ]
  },
  {
   "cell_type": "code",
   "execution_count": null,
   "metadata": {},
   "outputs": [
    {
     "ename": "NameError",
     "evalue": "name 'fdkjlsg' is not defined",
     "output_type": "error",
     "traceback": [
      "\u001b[1;31m---------------------------------------------------------------------------\u001b[0m",
      "\u001b[1;31mNameError\u001b[0m                                 Traceback (most recent call last)",
      "Cell \u001b[1;32mIn[14], line 1\u001b[0m\n\u001b[1;32m----> 1\u001b[0m \u001b[43mfdkjlsg\u001b[49m\n",
      "\u001b[1;31mNameError\u001b[0m: name 'fdkjlsg' is not defined"
     ]
    }
   ],
   "source": [
    "fdkjlsg"
   ]
  },
  {
   "cell_type": "code",
   "execution_count": null,
   "metadata": {},
   "outputs": [],
   "source": [
    "# Stationary point (0.1, 0.9053, 0.2275) found\n",
    "# Should this actually be a stationary point?\n",
    "\n",
    "# Calculate fluxes in:\n",
    "rho_in = [road.rho[-road.pad] for road in network.junctions[0].road_in]\n",
    "gamma_in = [road.gamma[road.idx] for road in network.junctions[0].road_in]\n",
    "max_flux_in = [fv.fmax(gamma) for gamma in gamma_in]\n",
    "max_dens_in = torch.tensor([road.max_dens for road in network.junctions[0].road_in])\n",
    "rho_out = [road.rho[road.pad-1] for road in network.junctions[0].road_out]\n",
    "gamma_out = [road.gamma[road.idx] for road in network.junctions[0].road_out]\n",
    "max_dens_out = torch.tensor([road.max_dens for road in network.junctions[0].road_out])"
   ]
  },
  {
   "cell_type": "code",
   "execution_count": null,
   "metadata": {},
   "outputs": [
    {
     "name": "stdout",
     "output_type": "stream",
     "text": [
      "[tensor(0.1000, grad_fn=<SelectBackward0>), tensor(0.9053, grad_fn=<SelectBackward0>)]\n",
      "[tensor(0.2778, grad_fn=<DivBackward0>), tensor(0.2778, grad_fn=<DivBackward0>)]\n",
      "[tensor(0.2275, grad_fn=<SelectBackward0>)]\n",
      "[tensor(0.2778, grad_fn=<DivBackward0>)]\n",
      "tensor([1, 1])\n",
      "tensor([1])\n"
     ]
    }
   ],
   "source": [
    "# Quantities seem reasonable\n",
    "print(rho_in)\n",
    "print(gamma_in)\n",
    "print(rho_out)\n",
    "print(gamma_out)\n",
    "print(max_dens_in)\n",
    "print(max_dens_out)"
   ]
  },
  {
   "cell_type": "code",
   "execution_count": null,
   "metadata": {},
   "outputs": [],
   "source": [
    "jnc = network.junctions[0]"
   ]
  },
  {
   "cell_type": "code",
   "execution_count": null,
   "metadata": {},
   "outputs": [
    {
     "name": "stdout",
     "output_type": "stream",
     "text": [
      "tensor([[1.],\n",
      "        [1.]])\n"
     ]
    }
   ],
   "source": [
    "n = len(jnc.entering)\n",
    "m = len(jnc.leaving)\n",
    "activation = jnc.calculate_activation(n, m, 60)\n",
    "print(activation)\n",
    "# Activation seems reasonable"
   ]
  },
  {
   "cell_type": "code",
   "execution_count": null,
   "metadata": {},
   "outputs": [
    {
     "name": "stdout",
     "output_type": "stream",
     "text": [
      "tensor([[0.0250],\n",
      "        [0.0694]], grad_fn=<CopySlices>)\n",
      "[tensor(0.0694, grad_fn=<MulBackward0>)]\n"
     ]
    }
   ],
   "source": [
    "demand = jnc.calculate_demand(rho_in, gamma_in, activation, max_dens_in, n, m)\n",
    "print(demand)\n",
    "capacities = [max_dens_out[j] * fv.S(rho_out[j].clone(),  gamma_out[j]) for j in range(m)]\n",
    "print(capacities)\n",
    "# Demand and capacities seem reasonable"
   ]
  },
  {
   "cell_type": "code",
   "execution_count": null,
   "metadata": {},
   "outputs": [
    {
     "name": "stdout",
     "output_type": "stream",
     "text": [
      "[[tensor(0.6569, grad_fn=<AddBackward0>)], [tensor(0.3431, grad_fn=<RsubBackward1>)]]\n"
     ]
    }
   ],
   "source": [
    "priorities = jnc.calculate_priority_params(rho_in, n, m)\n",
    "print(priorities)\n",
    "# Probably okay too"
   ]
  },
  {
   "cell_type": "code",
   "execution_count": null,
   "metadata": {},
   "outputs": [
    {
     "name": "stdout",
     "output_type": "stream",
     "text": [
      "[tensor(0.0250, grad_fn=<DivBackward0>), tensor(0.0238, grad_fn=<DivBackward0>)]\n",
      "[tensor(0.0488, grad_fn=<DivBackward0>)]\n"
     ]
    }
   ],
   "source": [
    "fluxes_in, fluxes_out = jnc.calculate_fluxes(demand, capacities, priorities, n, m, \n",
    "                                                      max_flux_in, max_dens_in, max_dens_out)\n",
    "print(fluxes_in)\n",
    "print(fluxes_out)\n",
    "# -> Not all of the capacity is being used, why is this?"
   ]
  },
  {
   "cell_type": "code",
   "execution_count": null,
   "metadata": {},
   "outputs": [
    {
     "data": {
      "text/plain": [
       "tensor([[0.0944]], grad_fn=<SumBackward1>)"
      ]
     },
     "execution_count": 52,
     "metadata": {},
     "output_type": "execute_result"
    }
   ],
   "source": [
    "demand.sum(dim=0, keepdim=True)"
   ]
  },
  {
   "cell_type": "code",
   "execution_count": null,
   "metadata": {},
   "outputs": [
    {
     "name": "stdout",
     "output_type": "stream",
     "text": [
      "New flux is being calculated:\n",
      "Upper bound: 0.02500000037252903\n",
      "Demand: 0.02500000037252903\n",
      "Distributed priority: 0.04562114551663399\n",
      "Capcities - deman: -0.02499999850988388\n",
      "Capcities - upper bounds: -0.02499999850988388\n",
      "tensor(0.0250, grad_fn=<MinimumBackward0>)\n",
      "\n",
      "New flux is being calculated:\n",
      "Upper bound: 0.0694444477558136\n",
      "Demand: 0.0694444477558136\n",
      "Distributed priority: 0.02382330223917961\n",
      "Capcities - deman: -0.02499999850988388\n",
      "Capcities - upper bounds: -0.02499999850988388\n",
      "tensor(0.0444, grad_fn=<MinimumBackward0>)\n",
      "\n"
     ]
    }
   ],
   "source": [
    "# Doing the steps manually\n",
    "actual_fluxes = torch.zeros((n, m))\n",
    "\n",
    "assigned_fluxes = []\n",
    "upper_bounds = demand.clone()\n",
    "\n",
    "for n_crossing in range(jnc.max_crossing_connections + 1):\n",
    "            for i in range(n):\n",
    "                for j in range(m):\n",
    "                    if len(jnc.crossing_connections[i][j]) == n_crossing and (i,j) not in assigned_fluxes:\n",
    "                        # Connection has not been assigned a flux, and it has the correct number of crossing connections\n",
    "                        if len(jnc.crossing_connections[i][j]) > 0:\n",
    "                            # Update upper bound\n",
    "                            print(\"Upper bound calculated:\")\n",
    "                            print(jnc.calculate_upper_bound(actual_fluxes, \n",
    "                                                        jnc.crossing_connections[i][j],\n",
    "                                                        i, j, n, m, max_flux_in, demand[i,j]))\n",
    "                        # Calculate actual flux\n",
    "                        # upper_bound[i,j] should be less or equal to demand[i,j] and so\n",
    "                        # it should not be necessary to include upper_bounds[i,j] below\n",
    "                        print(\"New flux is being calculated:\")\n",
    "                        print(f\"Upper bound: {upper_bounds[i,j]}\")\n",
    "                        print(f\"Demand: {demand[i,j]}\")\n",
    "                        print(f\"Distributed priority: {priorities[i][j]*capacities[j]}\")\n",
    "                        print(f\"Capcities - deman: {capacities[j] - torch.sum(demand[:,j])}\")\n",
    "                        print(f\"Capcities - upper bounds: {capacities[j] - torch.sum(upper_bounds[:,j])}\")\n",
    "                        demand_sum = torch.tensor(0.0)\n",
    "                        upper_bound_sum = torch.tensor(0.0)\n",
    "                        for l in range(n):\n",
    "                            if l != i:\n",
    "                                demand_sum += demand[l,j]\n",
    "                                upper_bound_sum += upper_bounds[l,j]\n",
    "\n",
    "                        print(torch.min(torch.min(upper_bounds[i,j], demand[i,j]), \n",
    "                                                    torch.max(priorities[i][j]*capacities[j],\n",
    "                                                        torch.max(\n",
    "                                                        capacities[j] - demand_sum,\n",
    "                                                        capacities[j] - upper_bound_sum\n",
    "                                                        ))))\n",
    "                            \n",
    "                        print()\n",
    "                        assigned_fluxes.append((i,j))"
   ]
  }
 ],
 "metadata": {
  "kernelspec": {
   "display_name": "traffic",
   "language": "python",
   "name": "python3"
  },
  "language_info": {
   "codemirror_mode": {
    "name": "ipython",
    "version": 3
   },
   "file_extension": ".py",
   "mimetype": "text/x-python",
   "name": "python",
   "nbconvert_exporter": "python",
   "pygments_lexer": "ipython3",
   "version": "3.10.12"
  }
 },
 "nbformat": 4,
 "nbformat_minor": 2
}
