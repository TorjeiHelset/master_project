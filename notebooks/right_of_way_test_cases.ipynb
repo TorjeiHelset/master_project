{
 "cells": [
  {
   "cell_type": "markdown",
   "metadata": {},
   "source": [
    "## This notebook will investigate right of way for some specific networks"
   ]
  },
  {
   "cell_type": "code",
   "execution_count": 5,
   "metadata": {},
   "outputs": [],
   "source": [
    "import numpy as np\n",
    "import torch\n",
    "import matplotlib.pyplot as plt\n",
    "import sys\n",
    "sys.path.append('../src')\n",
    "import network as nw\n",
    "import road as rd\n",
    "import traffic_lights as tl\n",
    "import torch\n",
    "import FV_schemes as fv\n",
    "import junction as jn\n",
    "import initial_and_bc as ibc"
   ]
  },
  {
   "cell_type": "markdown",
   "metadata": {},
   "source": [
    "### 2-1 junction\n",
    "\n",
    "We consider the simplest junction in which there is the need for a priority parameter.\n",
    "In this case it is only necessary with one priority parameter.\n",
    "\n",
    "The specific network has two incoming roads and one outgoing road. There is only one outgoing road, and hence no crossing connections. Assume that road one has priority over road 2.\n",
    "\n",
    "The distribution matrix takes the form\n",
    "$$\n",
    "A = \n",
    "\\begin{bmatrix}\n",
    "1 \\\\\n",
    "1\n",
    "\\end{bmatrix}.\n",
    "$$\n",
    "\n",
    "For all cases we will assume the roads have lengths of 50 meters."
   ]
  },
  {
   "cell_type": "code",
   "execution_count": 2,
   "metadata": {},
   "outputs": [],
   "source": [
    "# Configuration of the network\n",
    "distribution = [[1.0], [1.0]]\n",
    "priorities = [[1], [2]]\n",
    "crossing_connections =  [[[]],\n",
    "                        [[]]]\n",
    "L = 50\n",
    "N = 5"
   ]
  },
  {
   "cell_type": "markdown",
   "metadata": {},
   "source": [
    "#### Case 1:\n",
    "Two equivalent roads with speed limits 50 km/h leading into a road with speed limit 50km/h. Almost no traffic in the beginning, but the combined influx into the two roads is bigger than the capacity of the outgoing road, so that there will arise some congestion.\n",
    "\n",
    "For the first case we have no traffic lights."
   ]
  },
  {
   "cell_type": "code",
   "execution_count": 7,
   "metadata": {},
   "outputs": [],
   "source": [
    "# Creating the network\n",
    "boundary_1 = ibc.boundary_conditions(1, max_dens = 1, densities = torch.tensor([0.3]),\n",
    "                                           time_jumps = [], in_speed = torch.tensor(50.0),\n",
    "                                           L = L)\n",
    "boundary_2 = ibc.boundary_conditions(1, max_dens = 1, densities = torch.tensor([0.3]),\n",
    "                                           time_jumps = [], in_speed = torch.tensor(50.0),\n",
    "                                           L = L)\n",
    "road1 = rd.Road(1, L, N, torch.tensor([50.0], requires_grad=True), [], left_pos = (-1, 1), right_pos = (0, 0),\n",
    "                initial = lambda x: torch.ones_like(x) * 0.1, id = \"1_fw\", boundary_fnc=boundary_1)\n",
    "road2 = rd.Road(1, L, N, torch.tensor([50.0], requires_grad=True), [], left_pos = (-1, -1), right_pos = (0, 0),\n",
    "                initial = lambda x: torch.ones_like(x) * 0.1, id = \"2_fw\", boundary_fnc=boundary_2)\n",
    "road3 = rd.Road(1, L, N, torch.tensor([50.0], requires_grad=True), [], left_pos = (0, 0), right_pos = (1, 0),\n",
    "                initial = lambda x: torch.ones_like(x) * 0.2, id = \"3_fw\")\n",
    "\n",
    "entering = [0,1]\n",
    "leaving = [2]\n",
    "\n",
    "junction = jn.Junction([road1, road2, road3], entering, leaving, distribution, trafficlights=[],\n",
    "                       coupled_trafficlights = [], duty_to_gw = True, priorities = priorities,\n",
    "                       crossing_connections = crossing_connections)\n",
    "T = 50\n",
    "network = nw.RoadNetwork([road1, road2, road3], [junction], T)\n"
   ]
  },
  {
   "cell_type": "code",
   "execution_count": 8,
   "metadata": {},
   "outputs": [],
   "source": [
    "densities, _, _, _ = network.solve_cons_law()"
   ]
  },
  {
   "cell_type": "code",
   "execution_count": 5,
   "metadata": {},
   "outputs": [],
   "source": [
    "# Comment out to create the gif - note this will crash the kernel\n",
    "# Need to update gif creation code to create this gif..."
   ]
  },
  {
   "cell_type": "markdown",
   "metadata": {},
   "source": [
    "#### Case 1:\n",
    "Two equivalent roads with speed limits 50 km/h leading into a road with speed limit 50km/h. Here there is much traffic in the beginning, but the influx to the roads is less than the capacity of the outgoing road. Expected behaviour: traffic on road 1 should clear out before the traffic on the second road.\n",
    "\n",
    "We still have no traffic lights."
   ]
  },
  {
   "cell_type": "code",
   "execution_count": 9,
   "metadata": {},
   "outputs": [],
   "source": [
    "# Creating the network\n",
    "boundary_fnc_1 = ibc.boundary_conditions(1, max_dens = 1, densities = torch.tensor([0.1]),\n",
    "                                           time_jumps = [], in_speed = torch.tensor(50.0),\n",
    "                                           L = L)\n",
    "boundary_fnc_2 = ibc.boundary_conditions(1, max_dens = 1, densities = torch.tensor([0.1]),\n",
    "                                           time_jumps = [], in_speed = torch.tensor(50.0),\n",
    "                                           L = L)\n",
    "road1 = rd.Road(1, L, N, torch.tensor([50.0], requires_grad=True), [], left_pos = (-1, 1), right_pos = (0, 0),\n",
    "                initial = lambda x: torch.ones_like(x) * 0.7, id = \"1_fw\", boundary_fnc=boundary_fnc_1)\n",
    "road2 = rd.Road(1, L, N, torch.tensor([50.0], requires_grad=True), [], left_pos = (-1, -1), right_pos = (0, 0),\n",
    "                initial = lambda x: torch.ones_like(x) * 0.7, id = \"2_fw\", boundary_fnc=boundary_fnc_2)\n",
    "road3 = rd.Road(1, L, N, torch.tensor([50.0], requires_grad=True), [], left_pos = (0, 0), right_pos = (1, 0),\n",
    "                initial = lambda x: torch.ones_like(x) * 0.2, id = \"3_fw\")\n",
    "\n",
    "entering = [0,1]\n",
    "leaving = [2]\n",
    "\n",
    "junction = jn.Junction([road1, road2, road3], entering, leaving, distribution, trafficlights=[],\n",
    "                       coupled_trafficlights = [], duty_to_gw = True, priorities = priorities,\n",
    "                       crossing_connections = crossing_connections)\n",
    "T = 100\n",
    "network = nw.RoadNetwork([road1, road2, road3], [junction], T)\n"
   ]
  },
  {
   "cell_type": "code",
   "execution_count": 10,
   "metadata": {},
   "outputs": [],
   "source": [
    "densities, _, _, _ = network.solve_cons_law()"
   ]
  },
  {
   "cell_type": "code",
   "execution_count": 11,
   "metadata": {},
   "outputs": [],
   "source": [
    "# Comment out to create the gif - note this will crash the kernel\n",
    "# Update gif drawing script to correctly draw this gif"
   ]
  },
  {
   "cell_type": "markdown",
   "metadata": {},
   "source": [
    "### 2-2 junction\n",
    "\n",
    "This is the smallest junction in which there may be crossing connections. Order the roads 1, 2, 3, 4, with 1 and 2 being the incoming roads, and 3 and 4 being the outgoing roads. Assume that road 1 has right of way. That means that it has priority going in to the two outgoing roads. In addition, road 2 crosses connection 1->3 when going to outgoing road 4. Hence, an upper bound needs to be calculated. Since there are two outgoing roads, we need a distribution matrix A. For the first case, assume that A takes the form\n",
    "$$\n",
    "A = \n",
    "\\begin{bmatrix}\n",
    "1 & 0\\\\\n",
    "0 & 1\n",
    "\\end{bmatrix}\n",
    "$$\n",
    "that is, all traffic on road 1 continues to road 3 and all traffic on road 2 goes to road 4.\n"
   ]
  },
  {
   "cell_type": "code",
   "execution_count": 12,
   "metadata": {},
   "outputs": [],
   "source": [
    "# Configuration of the network\n",
    "distribution = [[1.0, 0.0], [0.0, 1.0]]\n",
    "priorities = [[1, 1], [2, 2]]\n",
    "crossing_connections =  [[[], []],\n",
    "                        [[], [(0,0)]]]\n",
    "L = 50\n",
    "N = 5"
   ]
  },
  {
   "cell_type": "markdown",
   "metadata": {},
   "source": [
    "Case 1:\n",
    "\n",
    "All roads have the same maximum densities, and the same speed limits of 50 km/h. We assume that there are no traffic lights. Assume there is quite a lot of traffic on both roads, and not that high inflow of traffic."
   ]
  },
  {
   "cell_type": "code",
   "execution_count": 13,
   "metadata": {},
   "outputs": [],
   "source": [
    "# Creating the network\n",
    "boundary1 = ibc.boundary_conditions(1, max_dens = 1, densities = torch.tensor([0.3]),\n",
    "                                           time_jumps = [], in_speed = torch.tensor(50.0),\n",
    "                                           L = L)\n",
    "boundary2 = ibc.boundary_conditions(1, max_dens = 1, densities = torch.tensor([0.05]),\n",
    "                                           time_jumps = [], in_speed = torch.tensor(50.0),\n",
    "                                           L = L)\n",
    "road1 = rd.Road(1, L, N, torch.tensor([50.0], requires_grad=True), [], left_pos = (-1, 0), right_pos = (0, 0),\n",
    "                initial = lambda x: torch.ones_like(x) * 0.7, id = \"1_fw\", boundary_fnc=boundary1)\n",
    "road2 = rd.Road(1, L, N, torch.tensor([50.0], requires_grad=True), [], left_pos = (0, 1), right_pos = (0, 0),\n",
    "                initial = lambda x: torch.ones_like(x) * 0.3, id = \"2_fw\", boundary_fnc=boundary2)\n",
    "road3 = rd.Road(1, L, N, torch.tensor([50.0], requires_grad=True), [], left_pos = (0, 0), right_pos = (1, 0),\n",
    "                initial = lambda x: torch.ones_like(x) * 0.3, id = \"3_fw\")\n",
    "road4 = rd.Road(1, L, N, torch.tensor([50.0], requires_grad=True), [], left_pos = (0, 0), right_pos = (0, -1),\n",
    "                initial = lambda x: torch.ones_like(x) * 0.3, id = \"4_fw\")\n",
    "\n",
    "entering = [0,1]\n",
    "leaving = [2, 3]\n",
    "\n",
    "junction = jn.Junction([road1, road2, road3, road4], entering, leaving, distribution, trafficlights=[],\n",
    "                       coupled_trafficlights = [], duty_to_gw = True, priorities = priorities,\n",
    "                       crossing_connections = crossing_connections)\n",
    "T = 150\n",
    "network = nw.RoadNetwork([road1, road2, road3, road4], [junction], T)"
   ]
  },
  {
   "cell_type": "code",
   "execution_count": 15,
   "metadata": {},
   "outputs": [],
   "source": [
    "densities, queues, _, _ = network.solve_cons_law()"
   ]
  },
  {
   "cell_type": "code",
   "execution_count": null,
   "metadata": {},
   "outputs": [],
   "source": [
    "# glgif.draw_timed_with_shift(network, densities, interval_seconds = 0.05, output_name = '2-2-row.gif')"
   ]
  },
  {
   "cell_type": "markdown",
   "metadata": {},
   "source": [
    "### 4-4 junction\n",
    "This is the largest junction in the simulation, and we would therefore like to investigate some of the phenoma arising in this junction. Each road in the simulation is unidirectional, meaning that to be able to model a bi-directional road, we model it as two individual uni-directional roads. The junction we are considering is really only a 2-2 junction where each road is bi-directional, but for us we will model them as a 4-4 junction. We order the roads as following:\n",
    "- road 1 goes from left to right into the junction\n",
    "- road 2 goes from left to right out from the junction\n",
    "- road 3 goes from right to left into the junction\n",
    "- road 4 goes from rigth to left out from the junction\n",
    "- road 5 goes from top to bottom into the junction\n",
    "- road 6 goes from top to bottom out from the junction\n",
    "- road 7 goes from bottom to top into the junction\n",
    "- road 8 goes from bottom to top out from the junction\n",
    "\n",
    "We will assume that the road going from left to right (and opposite) has right of way. We will also assume that most of the traffic will keep going, and that some of it will turn left or right. In addition to roads 1,2,3 and 4 having right of way, we will also assume a right hand rule where applicable. We summarize the distribution of traffic in the distribution matrix A:\n",
    "$$\n",
    "A = \n",
    "\\begin{bmatrix}\n",
    "0.8 & 0.0 & 0.1 & 0.1\\\\\n",
    "0.0 & 0.8 & 0.1 & 0.1\\\\\n",
    "0.25 & 0.25 & 0.5 & 0.0\\\\\n",
    "0.25 & 0.25 & 0.0 & 0.5\n",
    "\\end{bmatrix}.\n",
    "$$ \n",
    "We assume that u-turns are not allowed, which is why some of the terms are equal to zero.\n",
    "\n",
    "Now for the crossing connections. Traffic from road 1 crosses no lanes when going to roads 2 and 6. However, when going to road 8, traffic from road 3 to road 4 is being crossed.\n",
    "Traffic from road 3 crosses no lanes when going to road 4 and road 8. However, when going to road 6, traffic from road 1 to road 2 is being crossed.\n",
    "Traffic from road 5 crosses no lanes when going to road 4. Traffic going to road 2 crosses traffic from road 3 to road 4, and traffic going to road 6 crosses traffic from road 3 to road 4, traffic from 1 to 2 and traffic from road 1 to road 8.\n",
    "Traffic from road 7 crosses no lanes when going to road 2. Traffic  going to lane 4 crosses traffic from road 1 to road 2, and traffic going to road 8 crosses traffic from road 1 to road 2, road 3 to road 4 and road 3 to road 6. \n",
    "We summarize the crossing connections in the matrix $C$:\n",
    "$$\n",
    "C = \n",
    "\\begin{bmatrix}\n",
    ". & . & . & [(1,1)]\\\\\n",
    ". & . & [(0,0)] & .\\\\\n",
    "[(1,1)] & . & [(0,0),(1,1),(0,3)] & .\\\\\n",
    ". & [(0,0)] & . & [(0,0), (1,1), (1,2)]\n",
    "\\end{bmatrix}\n",
    "$$\n",
    "We also need to specify the prirorities of the incoming roads for each outgoing road. This we summarize in the matrix $P$:\n",
    "$$\n",
    "P = \n",
    "\\begin{bmatrix}\n",
    "1 & 0 & 1 & 2\\\\\n",
    "0 & 1 & 2 & 1\\\\\n",
    "3 & 2 & 3 & 0\\\\\n",
    "2 & 3 & 0 & 3\n",
    "\\end{bmatrix},\n",
    "$$\n",
    "here elements equal to zero indicate that the edge is not allowed. The positions of these elements should match with the zero elements of the distribution matrix.\n",
    "We still assume that there are no traffic lights in the junction.\n",
    "\n",
    "---\n",
    "\n",
    "% (0,0) : 1 -> 2 (0,1) : 1 -> 4 (1,0) : 3 -> 2 (2,2) : 5 -> 6"
   ]
  },
  {
   "cell_type": "markdown",
   "metadata": {},
   "source": [
    "### Test case 1"
   ]
  },
  {
   "cell_type": "code",
   "execution_count": 16,
   "metadata": {},
   "outputs": [],
   "source": [
    "# Configuration of the network\n",
    "# distribution = [[0.9, 0.0, 0.05, 0.05],\n",
    "#                 [0.0, 0.9, 0.05, 0.05],\n",
    "#                 [0.25, 0.25, 0.5, 0.0],\n",
    "#                 [0.25, 0.25, 0.0, 0.5]]\n",
    "distribution = [[0.9, 0.0, 0.1, 0.0],\n",
    "                [0.0, 0.9, 0.0, 0.1],\n",
    "                [0.05, 0.05, 0.9, 0.0],\n",
    "                [0.05, 0.05, 0.0, 0.9]]\n",
    "priorities = [[1, 0, 1, 2],\n",
    "              [0, 1, 2, 1],\n",
    "              [3, 2, 3, 0],\n",
    "              [2, 3, 0, 3]]\n",
    "crossing_connections =  [[[], [], [], [(1,1)]],\n",
    "                         [[], [], [(0,0)], []],\n",
    "                         [[(1,1)], [], [(0,0),(1,1),(0,3)], []],\n",
    "                         [[], [(0,0)], [], [(0,0),(1,1),(1,2)]]]\n",
    "\n",
    "L = 50\n",
    "N = 5"
   ]
  },
  {
   "cell_type": "code",
   "execution_count": 17,
   "metadata": {},
   "outputs": [
    {
     "data": {
      "text/plain": [
       "<torch.autograd.anomaly_mode.set_detect_anomaly at 0x2b705c5fa00>"
      ]
     },
     "execution_count": 17,
     "metadata": {},
     "output_type": "execute_result"
    }
   ],
   "source": [
    "torch.autograd.set_detect_anomaly(False)"
   ]
  },
  {
   "cell_type": "code",
   "execution_count": 18,
   "metadata": {},
   "outputs": [],
   "source": [
    "# Creating the network\n",
    "boundary1 = ibc.boundary_conditions(1, max_dens = 1, densities = torch.tensor([0.3]),\n",
    "                                           time_jumps = [], in_speed = torch.tensor(50.0),\n",
    "                                           L = L)\n",
    "boundary2 = ibc.boundary_conditions(1, max_dens = 1, densities = torch.tensor([0.3]),\n",
    "                                           time_jumps = [], in_speed = torch.tensor(50.0),\n",
    "                                           L = L)\n",
    "boundary3 = ibc.boundary_conditions(1, max_dens = 1, densities = torch.tensor([0.12]),\n",
    "                                           time_jumps = [], in_speed = torch.tensor(50.0),\n",
    "                                           L = L)\n",
    "boundary4 = ibc.boundary_conditions(1, max_dens = 1, densities = torch.tensor([0.12]),\n",
    "                                           time_jumps = [], in_speed = torch.tensor(50.0),\n",
    "                                           L = L)\n",
    "road1 = rd.Road(1, L, N, torch.tensor([50.0], requires_grad=True), [], left_pos = (-1, 0), right_pos = (-0.1, 0),\n",
    "                initial = lambda x: torch.ones_like(x) * 0.7, id = \"1_fw\", boundary_fnc=boundary1)\n",
    "road2 = rd.Road(1, L, N, torch.tensor([50.0], requires_grad=True), [], left_pos = (0.1, 0), right_pos = (1, 0),\n",
    "                initial = lambda x: torch.ones_like(x) * 0.3, id = \"2_fw\")\n",
    "road3 = rd.Road(1, L, N, torch.tensor([50.0], requires_grad=True), [], left_pos = (1, 0), right_pos = (0.1, 0),\n",
    "                initial = lambda x: torch.ones_like(x) * 0.7, id = \"3_bw\", boundary_fnc=boundary2)\n",
    "road4 = rd.Road(1, L, N, torch.tensor([50.0], requires_grad=True), [], left_pos = (-0.1, 0), right_pos = (-1, 0),\n",
    "                initial = lambda x: torch.ones_like(x) * 0.3,  id = \"4_bw\")\n",
    "road5 = rd.Road(1, L, N, torch.tensor([50.0], requires_grad=True), [], left_pos = (0, 1), right_pos = (0, 0.1),\n",
    "                initial = lambda x: torch.ones_like(x) * 0.4, id = \"5_fw\", boundary_fnc=boundary3)\n",
    "road6 = rd.Road(1, L, N, torch.tensor([50.0], requires_grad=True), [], left_pos = (0, -0.1), right_pos = (0, -1),\n",
    "                initial = lambda x: torch.ones_like(x) * 0.3, id = \"6_fw\")\n",
    "road7 = rd.Road(1, L, N, torch.tensor([50.0], requires_grad=True), [], left_pos = (0, -1), right_pos = (0, -0.1),\n",
    "                initial = lambda x: torch.ones_like(x) * 0.4, id = \"7_bw\", boundary_fnc=boundary4)\n",
    "road8 = rd.Road(1, L, N, torch.tensor([50.0], requires_grad=True), [], left_pos = (0, 0.1), right_pos = (0, 1),\n",
    "                initial = lambda x: torch.ones_like(x) * 0.3, id = \"8_bw\")\n",
    "\n",
    "entering = [0, 2, 4, 6]\n",
    "leaving = [1, 3, 5, 7]\n",
    "\n",
    "junction = jn.Junction([road1, road2, road3, road4, road5, road6, road7, road8], entering, leaving, distribution, trafficlights=[],\n",
    "                       coupled_trafficlights = [], duty_to_gw = True, priorities = priorities,\n",
    "                       crossing_connections = crossing_connections)\n",
    "T = 200\n",
    "network = nw.RoadNetwork([road1, road2, road3, road4, road5, road6, road7, road8], [junction], T)"
   ]
  },
  {
   "cell_type": "code",
   "execution_count": 19,
   "metadata": {},
   "outputs": [],
   "source": [
    "densities, queues, _, _ = network.solve_cons_law()"
   ]
  },
  {
   "cell_type": "code",
   "execution_count": 20,
   "metadata": {},
   "outputs": [],
   "source": [
    "times = densities[0].keys()\n",
    "objective = torch.tensor(0)\n",
    "for i in range(len(densities)):\n",
    "    for t in times:\n",
    "        objective = objective + torch.sum(densities[i][t])"
   ]
  },
  {
   "cell_type": "code",
   "execution_count": 21,
   "metadata": {},
   "outputs": [],
   "source": [
    "objective.backward()"
   ]
  },
  {
   "cell_type": "markdown",
   "metadata": {},
   "source": [
    "Checking if autograd still works"
   ]
  },
  {
   "cell_type": "code",
   "execution_count": 22,
   "metadata": {},
   "outputs": [],
   "source": [
    "# print(queues)\n",
    "# glgif.draw_timed_with_shift(network, densities, interval_seconds = 0.05, output_name = '4-4-test.gif')\n",
    "# Check that equilibrium is correct..."
   ]
  },
  {
   "cell_type": "markdown",
   "metadata": {},
   "source": [
    "#### Test case 2"
   ]
  },
  {
   "cell_type": "code",
   "execution_count": 23,
   "metadata": {},
   "outputs": [],
   "source": [
    "distribution = [[0.7, 0.0, 0.15, 0.15],\n",
    "                [0.0, 0.7, 0.15, 0.15],\n",
    "                [0.3, 0.3, 0.4, 0.0],\n",
    "                [0.3, 0.3, 0.0, 0.4]]\n",
    "priorities = [[1, 0, 1, 2],\n",
    "              [0, 1, 2, 1],\n",
    "              [3, 2, 3, 0],\n",
    "              [2, 3, 0, 3]]\n",
    "crossing_connections =  [[[], [], [], [(1,1)]],\n",
    "                         [[], [], [(0,0)], []],\n",
    "                         [[(1,1)], [], [(0,0),(1,1),(0,3)], []],\n",
    "                         [[], [(0,0)], [], [(0,0),(1,1),(1,2)]]]\n",
    "\n",
    "L = 50\n",
    "N = 5"
   ]
  },
  {
   "cell_type": "code",
   "execution_count": 24,
   "metadata": {},
   "outputs": [],
   "source": [
    "# Creating the network\n",
    "boundary1 = ibc.boundary_conditions(1, max_dens = 1, densities = torch.tensor([0.3]),\n",
    "                                           time_jumps = [], in_speed = torch.tensor(50.0),\n",
    "                                           L = L)\n",
    "boundary2 = ibc.boundary_conditions(1, max_dens = 1, densities = torch.tensor([0.3]),\n",
    "                                           time_jumps = [], in_speed = torch.tensor(50.0),\n",
    "                                           L = L)\n",
    "boundary3 = ibc.boundary_conditions(1, max_dens = 1, densities = torch.tensor([0.12]),\n",
    "                                           time_jumps = [], in_speed = torch.tensor(50.0),\n",
    "                                           L = L)\n",
    "boundary4 = ibc.boundary_conditions(1, max_dens = 1, densities = torch.tensor([0.12]),\n",
    "                                           time_jumps = [], in_speed = torch.tensor(50.0),\n",
    "                                           L = L)\n",
    "road1 = rd.Road(1, L, N, torch.tensor([50.0], requires_grad=True), [], left_pos = (-1, 0), right_pos = (-0.1, 0),\n",
    "                initial = lambda x: torch.ones_like(x) * 0.7, id = \"1_fw\", boundary_fnc=boundary1)\n",
    "road2 = rd.Road(1, L, N, torch.tensor([50.0], requires_grad=True), [], left_pos = (0.1, 0), right_pos = (1, 0),\n",
    "                initial = lambda x: torch.ones_like(x) * 0.3, id = \"2_fw\")\n",
    "road3 = rd.Road(1, L, N, torch.tensor([50.0], requires_grad=True), [], left_pos = (1, 0), right_pos = (0.1, 0),\n",
    "                initial = lambda x: torch.ones_like(x) * 0.7, id = \"3_bw\", boundary_fnc=boundary2)\n",
    "road4 = rd.Road(1, L, N, torch.tensor([50.0], requires_grad=True), [], left_pos = (-0.1, 0), right_pos = (-1, 0),\n",
    "                initial = lambda x: torch.ones_like(x) * 0.3,  id = \"4_bw\")\n",
    "road5 = rd.Road(1, L, N, torch.tensor([50.0], requires_grad=True), [], left_pos = (0, 1), right_pos = (0, 0.1),\n",
    "                initial = lambda x: torch.ones_like(x) * 0.4, id = \"5_fw\", boundary_fnc=boundary3)\n",
    "road6 = rd.Road(1, L, N, torch.tensor([50.0], requires_grad=True), [], left_pos = (0, -0.1), right_pos = (0, -1),\n",
    "                initial = lambda x: torch.ones_like(x) * 0.3, id = \"6_fw\")\n",
    "road7 = rd.Road(1, L, N, torch.tensor([50.0], requires_grad=True), [], left_pos = (0, -1), right_pos = (0, -0.1),\n",
    "                initial = lambda x: torch.ones_like(x) * 0.4, id = \"7_bw\", boundary_fnc=boundary4)\n",
    "road8 = rd.Road(1, L, N, torch.tensor([50.0], requires_grad=True), [], left_pos = (0, 0.1), right_pos = (0, 1),\n",
    "                initial = lambda x: torch.ones_like(x) * 0.3, id = \"8_bw\")\n",
    "\n",
    "entering = [0, 2, 4, 6]\n",
    "leaving = [1, 3, 5, 7]\n",
    "\n",
    "junction = jn.Junction([road1, road2, road3, road4, road5, road6, road7, road8], entering, leaving, distribution, trafficlights=[],\n",
    "                       coupled_trafficlights = [], duty_to_gw = True, priorities = priorities,\n",
    "                       crossing_connections = crossing_connections)\n",
    "T = 50\n",
    "network = nw.RoadNetwork([road1, road2, road3, road4, road5, road6, road7, road8], [junction], T)"
   ]
  },
  {
   "cell_type": "code",
   "execution_count": 25,
   "metadata": {},
   "outputs": [],
   "source": [
    "densities, queues, _, _ = network.solve_cons_law()"
   ]
  },
  {
   "cell_type": "code",
   "execution_count": null,
   "metadata": {},
   "outputs": [],
   "source": [
    "# glgif.draw_timed_with_shift(network, densities, interval_seconds = 0.05, output_name = '4-4-test2.gif')"
   ]
  },
  {
   "cell_type": "markdown",
   "metadata": {},
   "source": [
    "#### Test case 3"
   ]
  },
  {
   "cell_type": "code",
   "execution_count": 26,
   "metadata": {},
   "outputs": [],
   "source": [
    "distribution = [[1.0, 0.0, 0.0, 0.0],\n",
    "                [0.0, 1.0, 0.0, 0.0],\n",
    "                [0.0, 0.0, 1.0, 0.0],\n",
    "                [0.0, 0.0, 0.0, 1.0]]\n",
    "priorities = [[1, 0, 1, 2],\n",
    "              [0, 1, 2, 1],\n",
    "              [3, 2, 3, 0],\n",
    "              [2, 3, 0, 3]]\n",
    "crossing_connections =  [[[], [], [], [(1,1)]],\n",
    "                         [[], [], [(0,0)], []],\n",
    "                         [[(1,1)], [], [(0,0),(1,1),(0,3)], []],\n",
    "                         [[], [(0,0)], [], [(0,0),(1,1),(1,2)]]]\n",
    "\n",
    "L = 50\n",
    "N = 5"
   ]
  },
  {
   "cell_type": "code",
   "execution_count": 27,
   "metadata": {},
   "outputs": [],
   "source": [
    "# Creating the network\n",
    "boundary1 = ibc.boundary_conditions(1, max_dens = 1, densities = torch.tensor([0.15]),\n",
    "                                           time_jumps = [], in_speed = torch.tensor(50.0),\n",
    "                                           L = L)\n",
    "boundary2 = ibc.boundary_conditions(1, max_dens = 1, densities = torch.tensor([0.15]),\n",
    "                                           time_jumps = [], in_speed = torch.tensor(50.0),\n",
    "                                           L = L)\n",
    "boundary3 = ibc.boundary_conditions(1, max_dens = 1, densities = torch.tensor([0.1]),\n",
    "                                           time_jumps = [], in_speed = torch.tensor(50.0),\n",
    "                                           L = L)\n",
    "boundary4 = ibc.boundary_conditions(1, max_dens = 1, densities = torch.tensor([0.1]),\n",
    "                                           time_jumps = [], in_speed = torch.tensor(50.0),\n",
    "                                           L = L)\n",
    "road1 = rd.Road(1, L, N, torch.tensor([50.0], requires_grad=True), [], left_pos = (-1, 0), right_pos = (-0.1, 0),\n",
    "                initial = lambda x: torch.ones_like(x) * 0.7, id = \"1_fw\", boundary_fnc=boundary1)\n",
    "road2 = rd.Road(1, L, N, torch.tensor([50.0], requires_grad=True), [], left_pos = (0.1, 0), right_pos = (1, 0),\n",
    "                initial = lambda x: torch.ones_like(x) * 0.3, id = \"2_fw\")\n",
    "road3 = rd.Road(1, L, N, torch.tensor([50.0], requires_grad=True), [], left_pos = (1, 0), right_pos = (0.1, 0),\n",
    "                initial = lambda x: torch.ones_like(x) * 0.7, id = \"3_bw\", boundary_fnc=boundary2)\n",
    "road4 = rd.Road(1, L, N, torch.tensor([50.0], requires_grad=True), [], left_pos = (-0.1, 0), right_pos = (-1, 0),\n",
    "                initial = lambda x: torch.ones_like(x) * 0.3,  id = \"4_bw\")\n",
    "road5 = rd.Road(1, L, N, torch.tensor([50.0], requires_grad=True), [], left_pos = (0, 1), right_pos = (0, 0.1),\n",
    "                initial = lambda x: torch.ones_like(x) * 0.4, id = \"5_fw\", boundary_fnc=boundary3)\n",
    "road6 = rd.Road(1, L, N, torch.tensor([50.0], requires_grad=True), [], left_pos = (0, -0.1), right_pos = (0, -1),\n",
    "                initial = lambda x: torch.ones_like(x) * 0.3, id = \"6_fw\")\n",
    "road7 = rd.Road(1, L, N, torch.tensor([50.0], requires_grad=True), [], left_pos = (0, -1), right_pos = (0, -0.1),\n",
    "                initial = lambda x: torch.ones_like(x) * 0.4, id = \"7_bw\", boundary_fnc=boundary4)\n",
    "road8 = rd.Road(1, L, N, torch.tensor([50.0], requires_grad=True), [], left_pos = (0, 0.1), right_pos = (0, 1),\n",
    "                initial = lambda x: torch.ones_like(x) * 0.3, id = \"8_bw\")\n",
    "\n",
    "entering = [0, 2, 4, 6]\n",
    "leaving = [1, 3, 5, 7]\n",
    "\n",
    "junction = jn.Junction([road1, road2, road3, road4, road5, road6, road7, road8], entering, leaving, distribution, trafficlights=[],\n",
    "                       coupled_trafficlights = [], duty_to_gw = True, priorities = priorities,\n",
    "                       crossing_connections = crossing_connections)\n",
    "T = 150\n",
    "network = nw.RoadNetwork([road1, road2, road3, road4, road5, road6, road7, road8], [junction], T)"
   ]
  },
  {
   "cell_type": "code",
   "execution_count": 28,
   "metadata": {},
   "outputs": [],
   "source": [
    "densities, queues, _, _ = network.solve_cons_law()"
   ]
  },
  {
   "cell_type": "code",
   "execution_count": null,
   "metadata": {},
   "outputs": [
    {
     "name": "stdout",
     "output_type": "stream",
     "text": [
      "End of simulation reached!\n",
      "Saving GIF as: 4-4-test3.gif\n"
     ]
    },
    {
     "ename": "",
     "evalue": "",
     "output_type": "error",
     "traceback": [
      "\u001b[1;31mThe Kernel crashed while executing code in the current cell or a previous cell. \n",
      "\u001b[1;31mPlease review the code in the cell(s) to identify a possible cause of the failure. \n",
      "\u001b[1;31mClick <a href='https://aka.ms/vscodeJupyterKernelCrash'>here</a> for more info. \n",
      "\u001b[1;31mView Jupyter <a href='command:jupyter.viewOutput'>log</a> for further details."
     ]
    }
   ],
   "source": [
    "# glgif.draw_timed_with_shift(network, densities, interval_seconds = 0.05, output_name = '4-4-test3.gif')"
   ]
  }
 ],
 "metadata": {
  "kernelspec": {
   "display_name": "traffic",
   "language": "python",
   "name": "python3"
  },
  "language_info": {
   "codemirror_mode": {
    "name": "ipython",
    "version": 3
   },
   "file_extension": ".py",
   "mimetype": "text/x-python",
   "name": "python",
   "nbconvert_exporter": "python",
   "pygments_lexer": "ipython3",
   "version": "3.10.12"
  }
 },
 "nbformat": 4,
 "nbformat_minor": 2
}
