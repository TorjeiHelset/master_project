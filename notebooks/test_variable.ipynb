{
 "cells": [
  {
   "cell_type": "code",
   "execution_count": 1,
   "metadata": {},
   "outputs": [],
   "source": [
    "import sys\n",
    "sys.path.append('../src_variable')\n",
    "\n",
    "import loading_json as load\n",
    "import road_network as rn\n",
    "import torch\n",
    "import matplotlib.pyplot as plt"
   ]
  },
  {
   "cell_type": "code",
   "execution_count": 2,
   "metadata": {},
   "outputs": [
    {
     "name": "stdout",
     "output_type": "stream",
     "text": [
      "1 roads initialized\n",
      "2 roads initialized\n",
      "All roads initialized\n",
      "1 junctions initialized\n",
      "All junctions initialized\n"
     ]
    }
   ],
   "source": [
    "T, roads, junctions, ControlPoints = load.read_json('../configs_variable/simple_1-1.json')"
   ]
  },
  {
   "cell_type": "code",
   "execution_count": 3,
   "metadata": {},
   "outputs": [],
   "source": [
    "def initialize_road_network(T, roads, junctions, vmaxes, control_points):\n",
    "    '''\n",
    "    Initializing a road network given a time, roads and junctions as well as the speed limits\n",
    "    vmaxes.\n",
    "    Could probably instead just update densities and speed limits of existing system...\n",
    "\n",
    "    Need to be updated to take in vmaxes that may vary for each road\n",
    "    '''\n",
    "\n",
    "    n_speeds = len(control_points) + 1 # Number of different speed limits for each road\n",
    "\n",
    "    loaded_roads = []\n",
    "    loaded_junctions = []\n",
    "    for l, r in enumerate(roads):\n",
    "        # print(Vmax[l])\n",
    "        idx = l * n_speeds\n",
    "        loaded_roads.append(rn.Road(b=r['b'], L = r['L'], N = r['N'], Vmax=[float(vmaxes[i]) for i in range(idx, idx+n_speeds)],\n",
    "                    scheme=r['Scheme'], limiter=\"minmod\",\n",
    "                    initial = r[\"Init_distr\"], inflow = r[\"Inflow\"]))\n",
    "\n",
    "    for j in junctions:\n",
    "        loaded_junctions.append(rn.Junction(roads = [loaded_roads[i] for i in j[\"j_roads\"]],\n",
    "                                        entering = j[\"entering\"], leaving = j[\"leaving\"],\n",
    "                                        distribution=j[\"distribution\"], redlights=[]))\n",
    "    network = rn.RoadNetwork(loaded_roads, loaded_junctions, T, control_points)\n",
    "\n",
    "    return loaded_roads, loaded_junctions, network"
   ]
  },
  {
   "cell_type": "code",
   "execution_count": 4,
   "metadata": {},
   "outputs": [],
   "source": [
    "second = torch.tensor([80.0000, 80., 80., 50.0000, 40.0000, 35.0000])\n",
    "_, _, network = initialize_road_network(T, roads, junctions, second, ControlPoints)"
   ]
  },
  {
   "cell_type": "code",
   "execution_count": 5,
   "metadata": {},
   "outputs": [
    {
     "name": "stdout",
     "output_type": "stream",
     "text": [
      "Currently simulating untill time 10\n",
      "Time equal to 0\n",
      "Currently simulating untill time 40\n",
      "Time equal to 10.0\n",
      "Currently simulating untill time 60\n",
      "Time equal to 40.0\n"
     ]
    }
   ],
   "source": [
    "history = network.solve_cons_law()"
   ]
  },
  {
   "cell_type": "code",
   "execution_count": 6,
   "metadata": {},
   "outputs": [
    {
     "data": {
      "text/plain": [
       "tensor(0.1201, grad_fn=<AddBackward0>)"
      ]
     },
     "execution_count": 6,
     "metadata": {},
     "output_type": "execute_result"
    }
   ],
   "source": [
    "network.roads[0].queue_length"
   ]
  },
  {
   "cell_type": "code",
   "execution_count": 10,
   "metadata": {},
   "outputs": [
    {
     "name": "stdout",
     "output_type": "stream",
     "text": [
      "BOOM\n",
      "BO\n",
      "bbb\n"
     ]
    }
   ],
   "source": [
    "h = history[0]\n",
    "\n",
    "for t in h.keys():\n",
    "    if t == 10.0:\n",
    "        print(\"BOOM\")\n",
    "    if t == 40.0:\n",
    "        print(\"BO\")\n",
    "    if t == 60.0:\n",
    "        print(\"bbb\")"
   ]
  },
  {
   "cell_type": "code",
   "execution_count": 37,
   "metadata": {},
   "outputs": [
    {
     "name": "stdout",
     "output_type": "stream",
     "text": [
      "5.1\n"
     ]
    }
   ],
   "source": [
    "cycle = [1.,1.3,0.3, 1.,1.4, 0.1]\n",
    "assert(len(cycle)%2 == 0)\n",
    "cycle_time = sum(cycle)\n",
    "print(cycle_time)\n",
    "cycle = [torch.tensor(c, requires_grad=True) for c in cycle]"
   ]
  },
  {
   "cell_type": "code",
   "execution_count": 41,
   "metadata": {},
   "outputs": [
    {
     "name": "stdout",
     "output_type": "stream",
     "text": [
      "Current t: 0.1\n",
      "t in other intervals\n",
      "Current t: 0.4\n",
      "t in other intervals\n",
      "Current t: 1.3\n",
      "(tensor(1., grad_fn=<AddBackward0>), tensor(2.3000, grad_fn=<AddBackward0>))\n",
      "Opposite of start\n",
      "Current t: 1.7\n",
      "(tensor(1., grad_fn=<AddBackward0>), tensor(2.3000, grad_fn=<AddBackward0>))\n",
      "Opposite of start\n",
      "Current t: 2.2\n",
      "(tensor(1., grad_fn=<AddBackward0>), tensor(2.3000, grad_fn=<AddBackward0>))\n",
      "Opposite of start\n",
      "Current t: 2.5\n",
      "t in other intervals\n",
      "Current t: 2.6\n",
      "(tensor(2.6000, grad_fn=<AddBackward0>), tensor(3.6000, grad_fn=<AddBackward0>))\n",
      "Opposite of start\n",
      "Current t: 3.8\n",
      "t in other intervals\n"
     ]
    }
   ],
   "source": [
    "t_list = [0.1, 0.4, 1.3, 1.7, 2.2, 2.5, 2.6, 3.8]\n",
    "for t in t_list:\n",
    "    print(f\"Current t: {t}\")\n",
    "\n",
    "    tau = t % cycle_time\n",
    "    n = t // cycle_time\n",
    "\n",
    "    # if True:#tau < cycle[0]:\n",
    "    #     print(f\"{(cycle_time*n, cycle_time*n + cycle[0].detach())}\")\n",
    "    #     print(\"Same state as start\")\n",
    "\n",
    "    # if True:#tau > cycle_time - cycle[-1]:\n",
    "    #     print(f\"{(cycle_time*n + cycle_time - cycle[-1].detach(), cycle_time*(n+1))}\")\n",
    "    #     print(\"Opposite of start\")\n",
    "\n",
    "    found = False\n",
    "    combined = 0\n",
    "    for i in range(0, len(cycle), 2):\n",
    "        combined += cycle[i]\n",
    "        if tau >= combined and tau < combined + cycle[i+1]:\n",
    "            found = True\n",
    "            print(f\"{(cycle_time*n + combined, cycle_time*n + combined + cycle[i+1].detach())}\")\n",
    "            print(\"Opposite of start\")\n",
    "\n",
    "        combined += cycle[i+1]\n",
    "\n",
    "    if not found:\n",
    "        print(\"t in other intervals\")\n"
   ]
  }
 ],
 "metadata": {
  "kernelspec": {
   "display_name": "traffic",
   "language": "python",
   "name": "python3"
  },
  "language_info": {
   "codemirror_mode": {
    "name": "ipython",
    "version": 3
   },
   "file_extension": ".py",
   "mimetype": "text/x-python",
   "name": "python",
   "nbconvert_exporter": "python",
   "pygments_lexer": "ipython3",
   "version": "3.10.12"
  },
  "orig_nbformat": 4
 },
 "nbformat": 4,
 "nbformat_minor": 2
}
