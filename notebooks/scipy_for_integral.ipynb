{
 "cells": [
  {
   "cell_type": "code",
   "execution_count": 1,
   "metadata": {},
   "outputs": [],
   "source": [
    "from sympy import *"
   ]
  },
  {
   "cell_type": "code",
   "execution_count": 91,
   "metadata": {},
   "outputs": [
    {
     "data": {
      "text/latex": [
       "$\\displaystyle -0.933333333333336$"
      ],
      "text/plain": [
       "-0.933333333333336"
      ]
     },
     "execution_count": 91,
     "metadata": {},
     "output_type": "execute_result"
    }
   ],
   "source": [
    "d2 = Symbol('d2', positive=True, real=True, bounded=True, less_than=1/2)\n",
    "d1 = Symbol('d', positive=True, real=True, bounded=True, less_than=d2)\n",
    "d1 = 0.7\n",
    "d2 = 0.5\n",
    "\n",
    "f1 = lambda x : (1 - x/(1-d1)) * (1 - x/(1-d2))\n",
    "I1_calc = d1 / ((1-d1)*(1-d2)) * (5/6 * d1**2 + 3/2*d1*d2 -2*d1 -d2 + 1) # Seem correct\n",
    "I1_calc = 1 / ((1-d1)*(1-d2)) * (5/6 * d1**3 + 3/2*d1**2*d2 -2*d1**2 -d1*d2 + d1)\n",
    "f2 = lambda x : (1 - d1/(1-d1)) * (1 - x/(1-d2))\n",
    "I2_calc = (1-2*d1) / ((1-d1)*(1-d2)) * (1/2 * d1**2 -3/2*d2**2 -d1 +d1*d2 + d2)\n",
    "I2_calc = 1 / ((1-d1)*(1-d2)) * (-3/2 * d2**2 - d1*d2 - d1 + 5/2*d1**2 + d2 + 3*d1*d2**2 - 2*d1**2*d2 - d1**3)\n",
    "\n",
    "# I2_calc = (1-d1/(1-d1)) * (d2 -d1 - 0.5 * (d2**2 - d1**2)/(1-d2)) # Correct!\n",
    "f3 = lambda x : (1 - d1/(1-d1)) * (1 - d2/(1-d2))\n",
    "I3_calc = 1 / ((1-d1)*(1-d2)) * (1 - 4*d2 + 4*d2**2 - 2*d1 + 8*d1*d2 - 8*d1*d2**2) # Seem correct\n",
    "f4 = lambda x : (1 - d1/(1-d1)) * (1 - (1-x)/(1-d2))\n",
    "# I4_calc = 1 / ((1-d1)*(1-d2)) * (4*d2 - 5*d2**2 + 8*d1*d2**2 - 4*d1 + 5*d1**2 - 8*d1**2*d2) # Wrong...\n",
    "# I4_calc = (1-d1/(1-d1)) * ((d2 -d1) * (1 - 1/(1-d2)) + 0.5 * ((1-d1)**2 - (1-d2)**2)/(1-d2)) # Correct!\n",
    "# # I4_calc = 1 / ((1-d1)*(1-d2)) * (2 * d2 - 3/2 * d2**2 - 2*d1 - 2*d1*d2 + 9/2 * d1**2 + 3*d1*d2**2 - 4*d1**2*d2 - d1**3)\n",
    "# # I4_calc = (1-2*d1) / ((1-d1)*(1-d2)) * ( (d2-d1)*(1-2*d2) + 1/2 * ((1-d1)**2 - (1-d2)**2))\n",
    "# I4_calc = (1-2*d1) / ((1-d1)) * ( (d2 -d1) * ((- d2)/(1-d2)) + 0.5 * ((1-d1)**2 - (1-d2)**2)/(1-d2))\n",
    "# I4_calc = 1 / ((1-d1)*(1-d2)) * (-3/2 * d2**2 - d1*d2 - d1 + 3/2 * d1**2  + d2 + 3*d1*d2**2 - 2*d1**2*d2 - d1**3)\n",
    "# I4_calc = (1-2*d1) / ((1-d1)*(1-d2)) * ( -3/2 * d2**2 + d1*d2 - d1 + 0.5*d1**2 + d2)\n",
    "# I4_calc = 1 / ((1-d1)*(1-d2)) * (-3/2 * d2**2 + d1*d2 - d1 + 0.5*d1**2 + d2 + 3*d1*d2**2 - 2*d1**2*d2 + 2*d1**2 - d1**3 - 2*d1*d2)\n",
    "I4_calc = 1 / ((1-d1)*(1-d2)) * (-3/2 * d2**2 - d1*d2 - d1 + 5/2*d1**2 + d2 + 3*d1*d2**2 - 2*d1**2*d2 - d1**3)\n",
    "\n",
    "\n",
    "\n",
    "f5 = lambda x : (1 - (1-x)/(1-d1)) * (1 - (1-x)/(1-d2))\n",
    "I5_calc = d1**3 / (3*(1-d1)*(1-d2)) # Wrong...\n",
    "# I5_calc = 1 / ((1-d1)*(1-d2)) * ((1/3 - 1/2 * d1 - 1/2 * d2 + d1*d2) - (1/3*(1-d1)**3 - 1/2 * d1*(1-d1)**2 - 1/2 * d2*(1-d2)**2 + d1*d2))\n",
    "I5_calc = 1 / ((1-d1)*(1-d2)) * (d1 - 2*d1**2 + 5/6 * d1**3 - d1*d2 + 3/2 * d1**2*d2)\n",
    "\n",
    "x = Symbol('x', positive=True)\n",
    "I1 = integrate(f1(x), (x, 0, d1))\n",
    "I2 = integrate(f2(x), (x, d1, d2))\n",
    "I3 = integrate(f3(x), (x, d2, 1-d2))\n",
    "I4 = integrate(f4(x), (x, 1-d2, 1-d1))\n",
    "I5 = integrate(f5(x), (x, 1-d1, 1))\n",
    "\n",
    "I_sum = 1/((1-d1)*(1-d2)) * (1 - 1/3 * d1**3 + d1**2 - 2*d1 + d2**2 - 2*d2 - 3*d1**2*d2 - 4*d1*d2**2 + 6*d1*d2)\n",
    "# I4_calc - I2\n",
    "I_sum - (I1 + I2 + I3 + I4 + I5)"
   ]
  },
  {
   "cell_type": "code",
   "execution_count": 39,
   "metadata": {},
   "outputs": [
    {
     "data": {
      "text/latex": [
       "$\\displaystyle - \\frac{d \\min\\left(1, d\\right)}{1 - d} + \\frac{d \\min\\left(1, \\max\\left(d, 1 - d\\right)\\right)}{1 - d} - \\frac{\\min\\left(1, d\\right)^{2}}{2 d - 2} - \\frac{\\min\\left(1, \\max\\left(d, 1 - d\\right)\\right)^{2}}{2 d - 2} + \\frac{1}{2 d - 2} + \\frac{\\min\\left(1, \\max\\left(d, 1 - d\\right)\\right)}{d - 1} - \\frac{1}{d - 1}$"
      ],
      "text/plain": [
       "-d*Min(1, d)/(1 - d) + d*Min(1, Max(d, 1 - d))/(1 - d) - Min(1, d)**2/(2*d - 2) - Min(1, Max(d, 1 - d))**2/(2*d - 2) + 1/(2*d - 2) + Min(1, Max(d, 1 - d))/(d - 1) - 1/(d - 1)"
      ]
     },
     "execution_count": 39,
     "metadata": {},
     "output_type": "execute_result"
    }
   ],
   "source": [
    "d1 = Symbol('d', positive=True, real=True, bounded=True, less_than=1/2)\n",
    "d2 = Symbol('d2', positive=True, real=True, bounded=True, less_than=1/2)\n",
    "d3 = Symbol('d3', positive=True, real=True, bounded=True, less_than=1/2)\n",
    "# d1 = 0.4\n",
    "d2 = 0.3\n",
    "d3 = 0.1\n",
    "\n",
    "# f = lambda x: Piecewise((x/(1-d), x <= d), (d/(1-d),x > d, x <= 1-d)), ((1-x)/(1-d), x > 1-d), (0, True))\n",
    "# def f(x):\n",
    "#     if x <= d:\n",
    "#         return x/(1-d)\n",
    "#     elif x > d and x <= 1-d:\n",
    "#         return d/(1-d)\n",
    "#     else:\n",
    "#         return (1-x)/(1-d)\n",
    "\n",
    "f = lambda x: Piecewise((x/(1-d1), x <= d1), (d1/(1-d1), And(x > d1, x <= 1 - d1)), ((1-x)/(1-d1), x > 1-d1), (0, True))\n",
    "# g = lambda x: Piecewise((x/(1-d2), x <= d2), (d2/(1-d2), And(x > d2, x <= 1 - d2)), ((1-x)/(1-d2), x > 1-d2), (0, True))\n",
    "# h = lambda x: Piecewise((x/(1-d3), x <= d3), (d3/(1-d3), And(x > d3, x <= 1 - d3)), ((1-x)/(1-d3), x > 1-d3), (0, True))\n",
    "\n",
    "x = Symbol('x')\n",
    "integrate((f(x)), (x,0,1))"
   ]
  }
 ],
 "metadata": {
  "kernelspec": {
   "display_name": "traffic",
   "language": "python",
   "name": "python3"
  },
  "language_info": {
   "codemirror_mode": {
    "name": "ipython",
    "version": 3
   },
   "file_extension": ".py",
   "mimetype": "text/x-python",
   "name": "python",
   "nbconvert_exporter": "python",
   "pygments_lexer": "ipython3",
   "version": "3.10.12"
  }
 },
 "nbformat": 4,
 "nbformat_minor": 2
}
