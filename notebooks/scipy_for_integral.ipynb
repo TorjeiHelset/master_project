{
 "cells": [
  {
   "cell_type": "code",
   "execution_count": 1,
   "metadata": {},
   "outputs": [],
   "source": [
    "from sympy import *"
   ]
  },
  {
   "cell_type": "code",
   "execution_count": 21,
   "metadata": {},
   "outputs": [
    {
     "data": {
      "text/latex": [
       "$\\displaystyle 0.55$"
      ],
      "text/plain": [
       "0.550000000000000"
      ]
     },
     "execution_count": 21,
     "metadata": {},
     "output_type": "execute_result"
    }
   ],
   "source": [
    "d2 = Symbol('d2', positive=True, real=True, bounded=True, less_than=1/2)\n",
    "d1 = Symbol('d', positive=True, real=True, bounded=True, less_than=d2)\n",
    "d1 = 0.3\n",
    "d2 = 0.4\n",
    "\n",
    "f1 = lambda x : (1 - x/(1-d1)) * (1 - x/(1-d2))\n",
    "I1_calc = d1 / ((1-d1)*(1-d2)) * (5/6 * d1**2 + 3/2*d1*d2 -2*d1 -d2 + 1) # Seem correct\n",
    "I1_calc = 1 / ((1-d1)*(1-d2)) * (5/6 * d1**3 + 3/2*d1**2*d2 -2*d1**2 -d1*d2 + d1)\n",
    "f2 = lambda x : (1 - d1/(1-d1)) * (1 - x/(1-d2))\n",
    "I2_calc = (1-2*d1) / ((1-d1)*(1-d2)) * (1/2 * d1**2 -3/2*d2**2 -d1 +d1*d2 + d2)\n",
    "I2_calc = 1 / ((1-d1)*(1-d2)) * (-3/2 * d2**2 - d1*d2 - d1 + 5/2*d1**2 + d2 + 3*d1*d2**2 - 2*d1**2*d2 - d1**3)\n",
    "\n",
    "# I2_calc = (1-d1/(1-d1)) * (d2 -d1 - 0.5 * (d2**2 - d1**2)/(1-d2)) # Correct!\n",
    "f3 = lambda x : (1 - d1/(1-d1)) * (1 - d2/(1-d2))\n",
    "I3_calc = 1 / ((1-d1)*(1-d2)) * (1 - 4*d2 + 4*d2**2 - 2*d1 + 8*d1*d2 - 8*d1*d2**2) # Seem correct\n",
    "f4 = lambda x : (1 - d1/(1-d1)) * (1 - (1-x)/(1-d2))\n",
    "# I4_calc = 1 / ((1-d1)*(1-d2)) * (4*d2 - 5*d2**2 + 8*d1*d2**2 - 4*d1 + 5*d1**2 - 8*d1**2*d2) # Wrong...\n",
    "# I4_calc = (1-d1/(1-d1)) * ((d2 -d1) * (1 - 1/(1-d2)) + 0.5 * ((1-d1)**2 - (1-d2)**2)/(1-d2)) # Correct!\n",
    "# # I4_calc = 1 / ((1-d1)*(1-d2)) * (2 * d2 - 3/2 * d2**2 - 2*d1 - 2*d1*d2 + 9/2 * d1**2 + 3*d1*d2**2 - 4*d1**2*d2 - d1**3)\n",
    "# # I4_calc = (1-2*d1) / ((1-d1)*(1-d2)) * ( (d2-d1)*(1-2*d2) + 1/2 * ((1-d1)**2 - (1-d2)**2))\n",
    "# I4_calc = (1-2*d1) / ((1-d1)) * ( (d2 -d1) * ((- d2)/(1-d2)) + 0.5 * ((1-d1)**2 - (1-d2)**2)/(1-d2))\n",
    "# I4_calc = 1 / ((1-d1)*(1-d2)) * (-3/2 * d2**2 - d1*d2 - d1 + 3/2 * d1**2  + d2 + 3*d1*d2**2 - 2*d1**2*d2 - d1**3)\n",
    "# I4_calc = (1-2*d1) / ((1-d1)*(1-d2)) * ( -3/2 * d2**2 + d1*d2 - d1 + 0.5*d1**2 + d2)\n",
    "# I4_calc = 1 / ((1-d1)*(1-d2)) * (-3/2 * d2**2 + d1*d2 - d1 + 0.5*d1**2 + d2 + 3*d1*d2**2 - 2*d1**2*d2 + 2*d1**2 - d1**3 - 2*d1*d2)\n",
    "I4_calc = 1 / ((1-d1)*(1-d2)) * (-3/2 * d2**2 - d1*d2 - d1 + 5/2*d1**2 + d2 + 3*d1*d2**2 - 2*d1**2*d2 - d1**3)\n",
    "\n",
    "\n",
    "f5 = lambda x : (1 - (1-x)/(1-d1)) * (1 - (1-x)/(1-d2))\n",
    "I5_calc = d1**3 / (3*(1-d1)*(1-d2)) # Wrong...\n",
    "# I5_calc = 1 / ((1-d1)*(1-d2)) * ((1/3 - 1/2 * d1 - 1/2 * d2 + d1*d2) - (1/3*(1-d1)**3 - 1/2 * d1*(1-d1)**2 - 1/2 * d2*(1-d2)**2 + d1*d2))\n",
    "I5_calc = 1 / ((1-d1)*(1-d2)) * (d1 - 2*d1**2 + 5/6 * d1**3 - d1*d2 + 3/2 * d1**2*d2)\n",
    "\n",
    "x = Symbol('x', positive=True)\n",
    "I1 = integrate(f1(x), (x, 0, d1))\n",
    "I2 = integrate(f2(x), (x, d1, d2))\n",
    "I3 = integrate(f3(x), (x, d2, 1-d2))\n",
    "I4 = integrate(f4(x), (x, 1-d2, 1-d1))\n",
    "I5 = integrate(f5(x), (x, 1-d1, 1))\n",
    "\n",
    "I_sum = 1/((1-d1)*(1-d2)) * (1 - 1/3 * d1**3 + d1**2 - 2*d1 + d2**2 - 2*d2 - 3*d1**2*d2 - 4*d1*d2**2 + 6*d1*d2)\n",
    "I1_calc - I1\n",
    "\n",
    "I1_short = 5/6 * d1**3 + 3/2*d1**2*d2 -2*d1**2 -d1*d2 + d1\n",
    "I2_short = -3/2 * d2**2 - d1*d2 - d1 + 5/2*d1**2 + d2 + 3*d1*d2**2 - 2*d1**2*d2 - d1**3\n",
    "I3_short = 1 - 4*d2 + 4*d2**2 - 2*d1 + 8*d1*d2 - 8*d1*d2**2\n",
    "\n",
    "I_sum = (2*I1_short + 2*I2_short + I3_short) \n",
    "# I_sum - (I1 + I2 + I3 + I4 + I5)\n",
    "I_sum\n",
    "I_sum_calc = 1-1/3 * d1**3 - d1**2*d2 + d1**2 - 2*d1*d2**2 + 4*d1*d2 - 2*d1 + d2**2- 2*d2\n",
    "I_sum - I_sum_calc\n",
    "\n",
    "length = 1/3 * d1**3 + d1**2*d2 - d1**2 + 2*d1*d2**2 - 3*d1*d2 + d1 - d2**2 + d2\n",
    "simplify(length * 1 / ((1-d1)*(1-d2)))\n"
   ]
  },
  {
   "cell_type": "code",
   "execution_count": 3,
   "metadata": {},
   "outputs": [
    {
     "data": {
      "text/latex": [
       "$\\displaystyle \\frac{d d_{2} d_{3} \\left(\\min\\left(1, \\max\\left(d, \\min\\left(1 - d, \\max\\left(d_{2}, \\min\\left(d_{3}, 1 - d_{2}\\right)\\right)\\right)\\right)\\right) - \\min\\left(1, \\max\\left(d, \\min\\left(1 - d, \\max\\left(d_{2}, \\min\\left(1 - d_{2}, \\max\\left(d_{3}, 1 - d_{3}\\right)\\right)\\right)\\right)\\right)\\right)\\right) \\left(d d_{2} d_{3} - d d_{2} - d d_{3} + d - d_{2} d_{3} + d_{2} + d_{3} - 1\\right) + \\frac{\\left(d - 1\\right) \\left(d_{2} - 1\\right) \\left(d_{3} - 1\\right) \\left(- \\min\\left(1, d\\right)^{4} - \\min\\left(1, \\max\\left(d, 1 - d\\right)\\right)^{4} - \\min\\left(1, \\max\\left(d, d_{2}, 1 - d\\right)\\right)^{4} + \\min\\left(1, \\max\\left(d, 1 - d, \\min\\left(d_{2}, \\max\\left(d_{3}, 1 - d_{3}\\right)\\right)\\right)\\right)^{4} + \\min\\left(1, \\max\\left(d, 1 - d, \\min\\left(d_{2}, d_{3}\\right)\\right)\\right)^{4} + \\min\\left(1, \\max\\left(d, d_{2}, 1 - d, 1 - d_{2}\\right)\\right)^{4} - \\min\\left(1, \\max\\left(d, d_{2}, d_{3}, 1 - d, 1 - d_{2}\\right)\\right)^{4} - \\min\\left(1, \\max\\left(d, d_{2}, d_{3}, 1 - d, 1 - d_{2}, 1 - d_{3}\\right)\\right)^{4} + \\min\\left(1, d, d_{2}\\right)^{4} - \\min\\left(1, d, \\max\\left(d_{2}, 1 - d_{2}\\right)\\right)^{4} + \\min\\left(1, d, \\max\\left(d_{2}, d_{3}, 1 - d_{2}\\right)\\right)^{4} + \\min\\left(1, d, \\max\\left(d_{2}, d_{3}, 1 - d_{2}, 1 - d_{3}\\right)\\right)^{4} - \\min\\left(1, d, d_{2}, d_{3}\\right)^{4} - \\min\\left(1, d, d_{2}, \\max\\left(d_{3}, 1 - d_{3}\\right)\\right)^{4} + 1\\right)}{4} + \\left(d - 1\\right) \\left(d_{2} - 1\\right) \\left(d_{3} - 1\\right) \\left(- d d_{2} \\min\\left(1, \\max\\left(d, \\min\\left(1 - d, \\max\\left(d_{2}, 1 - d_{2}\\right)\\right)\\right)\\right) + d d_{2} \\min\\left(1, \\max\\left(d, \\min\\left(1 - d, \\max\\left(d_{2}, \\min\\left(1 - d_{2}, \\max\\left(d_{3}, 1 - d_{3}\\right)\\right)\\right)\\right)\\right)\\right) + d d_{3} \\min\\left(1, \\max\\left(d, \\min\\left(1 - d, \\max\\left(d_{2}, d_{3}, 1 - d_{2}\\right)\\right)\\right)\\right) - d d_{3} \\min\\left(1, \\max\\left(d, \\min\\left(1 - d, \\max\\left(d_{2}, d_{3}, 1 - d_{2}, 1 - d_{3}\\right)\\right)\\right)\\right) + d \\min\\left(1, \\max\\left(d, 1 - d\\right)\\right)^{2} - d \\min\\left(1, \\max\\left(d, 1 - d\\right)\\right) - d \\min\\left(1, \\max\\left(d, \\min\\left(1 - d, \\max\\left(d_{2}, d_{3}, 1 - d_{2}, 1 - d_{3}\\right)\\right)\\right)\\right)^{2} + d \\min\\left(1, \\max\\left(d, \\min\\left(1 - d, \\max\\left(d_{2}, d_{3}, 1 - d_{2}, 1 - d_{3}\\right)\\right)\\right)\\right) + d_{2} d_{3} \\min\\left(1, \\max\\left(d, d_{2}, 1 - d, \\min\\left(d_{3}, 1 - d_{2}\\right)\\right)\\right) - d_{2} d_{3} \\min\\left(1, \\max\\left(d, d_{2}, 1 - d, \\min\\left(1 - d_{2}, \\max\\left(d_{3}, 1 - d_{3}\\right)\\right)\\right)\\right) + d_{2} \\min\\left(1, \\max\\left(d, d_{2}, 1 - d, 1 - d_{2}\\right)\\right)^{2} - d_{2} \\min\\left(1, \\max\\left(d, d_{2}, 1 - d, 1 - d_{2}\\right)\\right) - d_{2} \\min\\left(1, \\max\\left(d, d_{2}, 1 - d, \\min\\left(1 - d_{2}, \\max\\left(d_{3}, 1 - d_{3}\\right)\\right)\\right)\\right)^{2} + d_{2} \\min\\left(1, \\max\\left(d, d_{2}, 1 - d, \\min\\left(1 - d_{2}, \\max\\left(d_{3}, 1 - d_{3}\\right)\\right)\\right)\\right) - d_{3} \\min\\left(1, \\max\\left(d, d_{2}, d_{3}, 1 - d, 1 - d_{2}\\right)\\right)^{2} + d_{3} \\min\\left(1, \\max\\left(d, d_{2}, d_{3}, 1 - d, 1 - d_{2}\\right)\\right) + d_{3} \\min\\left(1, \\max\\left(d, d_{2}, d_{3}, 1 - d, 1 - d_{2}, 1 - d_{3}\\right)\\right)^{2} - d_{3} \\min\\left(1, \\max\\left(d, d_{2}, d_{3}, 1 - d, 1 - d_{2}, 1 - d_{3}\\right)\\right) + \\min\\left(1, \\max\\left(d, d_{2}, d_{3}, 1 - d, 1 - d_{2}, 1 - d_{3}\\right)\\right)^{3} + \\min\\left(1, \\max\\left(d, d_{2}, d_{3}, 1 - d, 1 - d_{2}, 1 - d_{3}\\right)\\right) - 2\\right) + \\frac{\\left(d - 1\\right) \\left(d_{2} - 1\\right) \\left(d_{3} - 1\\right) \\left(d d_{2} \\min\\left(1, \\max\\left(d, \\min\\left(d_{2}, 1 - d\\right)\\right)\\right)^{2} + d d_{2} \\min\\left(1, \\max\\left(d, \\min\\left(1 - d, \\max\\left(d_{2}, 1 - d_{2}\\right)\\right)\\right)\\right)^{2} - d d_{2} \\min\\left(1, \\max\\left(d, \\min\\left(1 - d, \\max\\left(d_{2}, \\min\\left(d_{3}, 1 - d_{2}\\right)\\right)\\right)\\right)\\right)^{2} - d d_{2} \\min\\left(1, \\max\\left(d, \\min\\left(1 - d, \\max\\left(d_{2}, \\min\\left(1 - d_{2}, \\max\\left(d_{3}, 1 - d_{3}\\right)\\right)\\right)\\right)\\right)\\right)^{2} - d d_{3} \\min\\left(1, \\max\\left(d, \\min\\left(1 - d, \\max\\left(d_{2}, d_{3}, 1 - d_{2}\\right)\\right)\\right)\\right)^{2} + d d_{3} \\min\\left(1, \\max\\left(d, \\min\\left(1 - d, \\max\\left(d_{2}, d_{3}, 1 - d_{2}, 1 - d_{3}\\right)\\right)\\right)\\right)^{2} + d d_{3} \\min\\left(1, \\max\\left(d, \\min\\left(d_{2}, d_{3}, 1 - d\\right)\\right)\\right)^{2} - d d_{3} \\min\\left(1, \\max\\left(d, \\min\\left(d_{2}, 1 - d, \\max\\left(d_{3}, 1 - d_{3}\\right)\\right)\\right)\\right)^{2} - d \\min\\left(1, \\max\\left(d, \\min\\left(d_{2}, 1 - d\\right)\\right)\\right)^{2} + d \\min\\left(1, \\max\\left(d, \\min\\left(1 - d, \\max\\left(d_{2}, 1 - d_{2}\\right)\\right)\\right)\\right)^{2} - d \\min\\left(1, \\max\\left(d, \\min\\left(1 - d, \\max\\left(d_{2}, d_{3}, 1 - d_{2}\\right)\\right)\\right)\\right)^{2} + d \\min\\left(1, \\max\\left(d, \\min\\left(d_{2}, 1 - d, \\max\\left(d_{3}, 1 - d_{3}\\right)\\right)\\right)\\right)^{2} - d_{2} d_{3} \\min\\left(1, \\max\\left(d, d_{2}, 1 - d, \\min\\left(d_{3}, 1 - d_{2}\\right)\\right)\\right)^{2} + d_{2} d_{3} \\min\\left(1, \\max\\left(d, d_{2}, 1 - d, \\min\\left(1 - d_{2}, \\max\\left(d_{3}, 1 - d_{3}\\right)\\right)\\right)\\right)^{2} + d_{2} d_{3} \\min\\left(1, d, \\max\\left(d_{2}, \\min\\left(d_{3}, 1 - d_{2}\\right)\\right)\\right)^{2} - d_{2} d_{3} \\min\\left(1, d, \\max\\left(d_{2}, \\min\\left(1 - d_{2}, \\max\\left(d_{3}, 1 - d_{3}\\right)\\right)\\right)\\right)^{2} + d_{2} \\min\\left(1, \\max\\left(d, d_{2}, 1 - d\\right)\\right)^{2} - d_{2} \\min\\left(1, \\max\\left(d, d_{2}, 1 - d, \\min\\left(d_{3}, 1 - d_{2}\\right)\\right)\\right)^{2} - d_{2} \\min\\left(1, d, \\max\\left(d_{2}, 1 - d_{2}\\right)\\right)^{2} + d_{2} \\min\\left(1, d, \\max\\left(d_{2}, \\min\\left(1 - d_{2}, \\max\\left(d_{3}, 1 - d_{3}\\right)\\right)\\right)\\right)^{2} - d_{3} \\min\\left(1, \\max\\left(d, 1 - d, \\min\\left(d_{2}, \\max\\left(d_{3}, 1 - d_{3}\\right)\\right)\\right)\\right)^{2} + d_{3} \\min\\left(1, \\max\\left(d, 1 - d, \\min\\left(d_{2}, d_{3}\\right)\\right)\\right)^{2} + d_{3} \\min\\left(1, d, \\max\\left(d_{2}, d_{3}, 1 - d_{2}\\right)\\right)^{2} - d_{3} \\min\\left(1, d, \\max\\left(d_{2}, d_{3}, 1 - d_{2}, 1 - d_{3}\\right)\\right)^{2} - \\min\\left(1, d\\right)^{2} - \\min\\left(1, \\max\\left(d, d_{2}, 1 - d\\right)\\right)^{2} + \\min\\left(1, \\max\\left(d, 1 - d, \\min\\left(d_{2}, \\max\\left(d_{3}, 1 - d_{3}\\right)\\right)\\right)\\right)^{2} + \\min\\left(1, \\max\\left(d, d_{2}, 1 - d, 1 - d_{2}\\right)\\right)^{2} - \\min\\left(1, \\max\\left(d, d_{2}, d_{3}, 1 - d, 1 - d_{2}\\right)\\right)^{2} - 3 \\min\\left(1, \\max\\left(d, d_{2}, d_{3}, 1 - d, 1 - d_{2}, 1 - d_{3}\\right)\\right)^{2} + \\min\\left(1, d, \\max\\left(d_{2}, d_{3}, 1 - d_{2}, 1 - d_{3}\\right)\\right)^{2} + 3\\right)}{2} + \\frac{\\left(d - 1\\right) \\left(d_{2} - 1\\right) \\left(d_{3} - 1\\right) \\left(d \\min\\left(1, d\\right)^{3} - d \\min\\left(1, \\max\\left(d, 1 - d\\right)\\right)^{3} + d \\min\\left(1, \\max\\left(d, \\min\\left(d_{2}, 1 - d\\right)\\right)\\right)^{3} - d \\min\\left(1, \\max\\left(d, \\min\\left(1 - d, \\max\\left(d_{2}, 1 - d_{2}\\right)\\right)\\right)\\right)^{3} + d \\min\\left(1, \\max\\left(d, \\min\\left(1 - d, \\max\\left(d_{2}, d_{3}, 1 - d_{2}\\right)\\right)\\right)\\right)^{3} + d \\min\\left(1, \\max\\left(d, \\min\\left(1 - d, \\max\\left(d_{2}, d_{3}, 1 - d_{2}, 1 - d_{3}\\right)\\right)\\right)\\right)^{3} - d \\min\\left(1, \\max\\left(d, \\min\\left(d_{2}, d_{3}, 1 - d\\right)\\right)\\right)^{3} - d \\min\\left(1, \\max\\left(d, \\min\\left(d_{2}, 1 - d, \\max\\left(d_{3}, 1 - d_{3}\\right)\\right)\\right)\\right)^{3} - d_{2} \\min\\left(1, \\max\\left(d, d_{2}, 1 - d\\right)\\right)^{3} - d_{2} \\min\\left(1, \\max\\left(d, d_{2}, 1 - d, 1 - d_{2}\\right)\\right)^{3} + d_{2} \\min\\left(1, \\max\\left(d, d_{2}, 1 - d, \\min\\left(d_{3}, 1 - d_{2}\\right)\\right)\\right)^{3} + d_{2} \\min\\left(1, \\max\\left(d, d_{2}, 1 - d, \\min\\left(1 - d_{2}, \\max\\left(d_{3}, 1 - d_{3}\\right)\\right)\\right)\\right)^{3} + d_{2} \\min\\left(1, d, d_{2}\\right)^{3} + d_{2} \\min\\left(1, d, \\max\\left(d_{2}, 1 - d_{2}\\right)\\right)^{3} - d_{2} \\min\\left(1, d, \\max\\left(d_{2}, \\min\\left(d_{3}, 1 - d_{2}\\right)\\right)\\right)^{3} - d_{2} \\min\\left(1, d, \\max\\left(d_{2}, \\min\\left(1 - d_{2}, \\max\\left(d_{3}, 1 - d_{3}\\right)\\right)\\right)\\right)^{3} + d_{3} \\min\\left(1, \\max\\left(d, 1 - d, \\min\\left(d_{2}, \\max\\left(d_{3}, 1 - d_{3}\\right)\\right)\\right)\\right)^{3} - d_{3} \\min\\left(1, \\max\\left(d, 1 - d, \\min\\left(d_{2}, d_{3}\\right)\\right)\\right)^{3} + d_{3} \\min\\left(1, \\max\\left(d, d_{2}, d_{3}, 1 - d, 1 - d_{2}\\right)\\right)^{3} - d_{3} \\min\\left(1, \\max\\left(d, d_{2}, d_{3}, 1 - d, 1 - d_{2}, 1 - d_{3}\\right)\\right)^{3} - d_{3} \\min\\left(1, d, \\max\\left(d_{2}, d_{3}, 1 - d_{2}\\right)\\right)^{3} + d_{3} \\min\\left(1, d, \\max\\left(d_{2}, d_{3}, 1 - d_{2}, 1 - d_{3}\\right)\\right)^{3} + d_{3} \\min\\left(1, d, d_{2}, d_{3}\\right)^{3} - d_{3} \\min\\left(1, d, d_{2}, \\max\\left(d_{3}, 1 - d_{3}\\right)\\right)^{3} + 2 \\min\\left(1, d\\right)^{3} + \\min\\left(1, \\max\\left(d, 1 - d\\right)\\right)^{3} + 2 \\min\\left(1, \\max\\left(d, d_{2}, 1 - d\\right)\\right)^{3} - 2 \\min\\left(1, \\max\\left(d, 1 - d, \\min\\left(d_{2}, \\max\\left(d_{3}, 1 - d_{3}\\right)\\right)\\right)\\right)^{3} - \\min\\left(1, \\max\\left(d, 1 - d, \\min\\left(d_{2}, d_{3}\\right)\\right)\\right)^{3} - 2 \\min\\left(1, \\max\\left(d, d_{2}, 1 - d, 1 - d_{2}\\right)\\right)^{3} + 2 \\min\\left(1, \\max\\left(d, d_{2}, d_{3}, 1 - d, 1 - d_{2}\\right)\\right)^{3} - \\min\\left(1, d, d_{2}\\right)^{3} + \\min\\left(1, d, \\max\\left(d_{2}, 1 - d_{2}\\right)\\right)^{3} - \\min\\left(1, d, \\max\\left(d_{2}, d_{3}, 1 - d_{2}\\right)\\right)^{3} - 2 \\min\\left(1, d, \\max\\left(d_{2}, d_{3}, 1 - d_{2}, 1 - d_{3}\\right)\\right)^{3} + \\min\\left(1, d, d_{2}, \\max\\left(d_{3}, 1 - d_{3}\\right)\\right)^{3}\\right)}{3}}{\\left(d - 1\\right) \\left(d_{2} - 1\\right) \\left(d_{3} - 1\\right) \\left(d d_{2} d_{3} - d d_{2} - d d_{3} + d - d_{2} d_{3} + d_{2} + d_{3} - 1\\right)}$"
      ],
      "text/plain": [
       "(d*d2*d3*(Min(1, Max(d, Min(1 - d, Max(d2, Min(d3, 1 - d2))))) - Min(1, Max(d, Min(1 - d, Max(d2, Min(1 - d2, Max(d3, 1 - d3)))))))*(d*d2*d3 - d*d2 - d*d3 + d - d2*d3 + d2 + d3 - 1) + (d - 1)*(d2 - 1)*(d3 - 1)*(-Min(1, d)**4 - Min(1, Max(d, 1 - d))**4 - Min(1, Max(d, d2, 1 - d))**4 + Min(1, Max(d, 1 - d, Min(d2, Max(d3, 1 - d3))))**4 + Min(1, Max(d, 1 - d, Min(d2, d3)))**4 + Min(1, Max(d, d2, 1 - d, 1 - d2))**4 - Min(1, Max(d, d2, d3, 1 - d, 1 - d2))**4 - Min(1, Max(d, d2, d3, 1 - d, 1 - d2, 1 - d3))**4 + Min(1, d, d2)**4 - Min(1, d, Max(d2, 1 - d2))**4 + Min(1, d, Max(d2, d3, 1 - d2))**4 + Min(1, d, Max(d2, d3, 1 - d2, 1 - d3))**4 - Min(1, d, d2, d3)**4 - Min(1, d, d2, Max(d3, 1 - d3))**4 + 1)/4 + (d - 1)*(d2 - 1)*(d3 - 1)*(-d*d2*Min(1, Max(d, Min(1 - d, Max(d2, 1 - d2)))) + d*d2*Min(1, Max(d, Min(1 - d, Max(d2, Min(1 - d2, Max(d3, 1 - d3)))))) + d*d3*Min(1, Max(d, Min(1 - d, Max(d2, d3, 1 - d2)))) - d*d3*Min(1, Max(d, Min(1 - d, Max(d2, d3, 1 - d2, 1 - d3)))) + d*Min(1, Max(d, 1 - d))**2 - d*Min(1, Max(d, 1 - d)) - d*Min(1, Max(d, Min(1 - d, Max(d2, d3, 1 - d2, 1 - d3))))**2 + d*Min(1, Max(d, Min(1 - d, Max(d2, d3, 1 - d2, 1 - d3)))) + d2*d3*Min(1, Max(d, d2, 1 - d, Min(d3, 1 - d2))) - d2*d3*Min(1, Max(d, d2, 1 - d, Min(1 - d2, Max(d3, 1 - d3)))) + d2*Min(1, Max(d, d2, 1 - d, 1 - d2))**2 - d2*Min(1, Max(d, d2, 1 - d, 1 - d2)) - d2*Min(1, Max(d, d2, 1 - d, Min(1 - d2, Max(d3, 1 - d3))))**2 + d2*Min(1, Max(d, d2, 1 - d, Min(1 - d2, Max(d3, 1 - d3)))) - d3*Min(1, Max(d, d2, d3, 1 - d, 1 - d2))**2 + d3*Min(1, Max(d, d2, d3, 1 - d, 1 - d2)) + d3*Min(1, Max(d, d2, d3, 1 - d, 1 - d2, 1 - d3))**2 - d3*Min(1, Max(d, d2, d3, 1 - d, 1 - d2, 1 - d3)) + Min(1, Max(d, d2, d3, 1 - d, 1 - d2, 1 - d3))**3 + Min(1, Max(d, d2, d3, 1 - d, 1 - d2, 1 - d3)) - 2) + (d - 1)*(d2 - 1)*(d3 - 1)*(d*d2*Min(1, Max(d, Min(d2, 1 - d)))**2 + d*d2*Min(1, Max(d, Min(1 - d, Max(d2, 1 - d2))))**2 - d*d2*Min(1, Max(d, Min(1 - d, Max(d2, Min(d3, 1 - d2)))))**2 - d*d2*Min(1, Max(d, Min(1 - d, Max(d2, Min(1 - d2, Max(d3, 1 - d3))))))**2 - d*d3*Min(1, Max(d, Min(1 - d, Max(d2, d3, 1 - d2))))**2 + d*d3*Min(1, Max(d, Min(1 - d, Max(d2, d3, 1 - d2, 1 - d3))))**2 + d*d3*Min(1, Max(d, Min(d2, d3, 1 - d)))**2 - d*d3*Min(1, Max(d, Min(d2, 1 - d, Max(d3, 1 - d3))))**2 - d*Min(1, Max(d, Min(d2, 1 - d)))**2 + d*Min(1, Max(d, Min(1 - d, Max(d2, 1 - d2))))**2 - d*Min(1, Max(d, Min(1 - d, Max(d2, d3, 1 - d2))))**2 + d*Min(1, Max(d, Min(d2, 1 - d, Max(d3, 1 - d3))))**2 - d2*d3*Min(1, Max(d, d2, 1 - d, Min(d3, 1 - d2)))**2 + d2*d3*Min(1, Max(d, d2, 1 - d, Min(1 - d2, Max(d3, 1 - d3))))**2 + d2*d3*Min(1, d, Max(d2, Min(d3, 1 - d2)))**2 - d2*d3*Min(1, d, Max(d2, Min(1 - d2, Max(d3, 1 - d3))))**2 + d2*Min(1, Max(d, d2, 1 - d))**2 - d2*Min(1, Max(d, d2, 1 - d, Min(d3, 1 - d2)))**2 - d2*Min(1, d, Max(d2, 1 - d2))**2 + d2*Min(1, d, Max(d2, Min(1 - d2, Max(d3, 1 - d3))))**2 - d3*Min(1, Max(d, 1 - d, Min(d2, Max(d3, 1 - d3))))**2 + d3*Min(1, Max(d, 1 - d, Min(d2, d3)))**2 + d3*Min(1, d, Max(d2, d3, 1 - d2))**2 - d3*Min(1, d, Max(d2, d3, 1 - d2, 1 - d3))**2 - Min(1, d)**2 - Min(1, Max(d, d2, 1 - d))**2 + Min(1, Max(d, 1 - d, Min(d2, Max(d3, 1 - d3))))**2 + Min(1, Max(d, d2, 1 - d, 1 - d2))**2 - Min(1, Max(d, d2, d3, 1 - d, 1 - d2))**2 - 3*Min(1, Max(d, d2, d3, 1 - d, 1 - d2, 1 - d3))**2 + Min(1, d, Max(d2, d3, 1 - d2, 1 - d3))**2 + 3)/2 + (d - 1)*(d2 - 1)*(d3 - 1)*(d*Min(1, d)**3 - d*Min(1, Max(d, 1 - d))**3 + d*Min(1, Max(d, Min(d2, 1 - d)))**3 - d*Min(1, Max(d, Min(1 - d, Max(d2, 1 - d2))))**3 + d*Min(1, Max(d, Min(1 - d, Max(d2, d3, 1 - d2))))**3 + d*Min(1, Max(d, Min(1 - d, Max(d2, d3, 1 - d2, 1 - d3))))**3 - d*Min(1, Max(d, Min(d2, d3, 1 - d)))**3 - d*Min(1, Max(d, Min(d2, 1 - d, Max(d3, 1 - d3))))**3 - d2*Min(1, Max(d, d2, 1 - d))**3 - d2*Min(1, Max(d, d2, 1 - d, 1 - d2))**3 + d2*Min(1, Max(d, d2, 1 - d, Min(d3, 1 - d2)))**3 + d2*Min(1, Max(d, d2, 1 - d, Min(1 - d2, Max(d3, 1 - d3))))**3 + d2*Min(1, d, d2)**3 + d2*Min(1, d, Max(d2, 1 - d2))**3 - d2*Min(1, d, Max(d2, Min(d3, 1 - d2)))**3 - d2*Min(1, d, Max(d2, Min(1 - d2, Max(d3, 1 - d3))))**3 + d3*Min(1, Max(d, 1 - d, Min(d2, Max(d3, 1 - d3))))**3 - d3*Min(1, Max(d, 1 - d, Min(d2, d3)))**3 + d3*Min(1, Max(d, d2, d3, 1 - d, 1 - d2))**3 - d3*Min(1, Max(d, d2, d3, 1 - d, 1 - d2, 1 - d3))**3 - d3*Min(1, d, Max(d2, d3, 1 - d2))**3 + d3*Min(1, d, Max(d2, d3, 1 - d2, 1 - d3))**3 + d3*Min(1, d, d2, d3)**3 - d3*Min(1, d, d2, Max(d3, 1 - d3))**3 + 2*Min(1, d)**3 + Min(1, Max(d, 1 - d))**3 + 2*Min(1, Max(d, d2, 1 - d))**3 - 2*Min(1, Max(d, 1 - d, Min(d2, Max(d3, 1 - d3))))**3 - Min(1, Max(d, 1 - d, Min(d2, d3)))**3 - 2*Min(1, Max(d, d2, 1 - d, 1 - d2))**3 + 2*Min(1, Max(d, d2, d3, 1 - d, 1 - d2))**3 - Min(1, d, d2)**3 + Min(1, d, Max(d2, 1 - d2))**3 - Min(1, d, Max(d2, d3, 1 - d2))**3 - 2*Min(1, d, Max(d2, d3, 1 - d2, 1 - d3))**3 + Min(1, d, d2, Max(d3, 1 - d3))**3)/3)/((d - 1)*(d2 - 1)*(d3 - 1)*(d*d2*d3 - d*d2 - d*d3 + d - d2*d3 + d2 + d3 - 1))"
      ]
     },
     "execution_count": 3,
     "metadata": {},
     "output_type": "execute_result"
    }
   ],
   "source": [
    "d1 = Symbol('d', positive=True, real=True, bounded=True, less_than=1/2)\n",
    "d2 = Symbol('d2', positive=True, real=True, bounded=True, less_than=1/2)\n",
    "d3 = Symbol('d3', positive=True, real=True, bounded=True, less_than=1/2)\n",
    "# d1 = 0.4\n",
    "# d2 = 0.3\n",
    "# d3 = 0.1\n",
    "\n",
    "# f = lambda x: Piecewise((x/(1-d), x <= d), (d/(1-d),x > d, x <= 1-d)), ((1-x)/(1-d), x > 1-d), (0, True))\n",
    "# def f(x):\n",
    "#     if x <= d:\n",
    "#         return x/(1-d)\n",
    "#     elif x > d and x <= 1-d:\n",
    "#         return d/(1-d)\n",
    "#     else:\n",
    "#         return (1-x)/(1-d)\n",
    "\n",
    "f = lambda x: Piecewise((x/(1-d1), x <= d1), (d1/(1-d1), And(x > d1, x <= 1 - d1)), ((1-x)/(1-d1), x > 1-d1), (0, True))\n",
    "g = lambda x: Piecewise((x/(1-d2), x <= d2), (d2/(1-d2), And(x > d2, x <= 1 - d2)), ((1-x)/(1-d2), x > 1-d2), (0, True))\n",
    "h = lambda x: Piecewise((x/(1-d3), x <= d3), (d3/(1-d3), And(x > d3, x <= 1 - d3)), ((1-x)/(1-d3), x > 1-d3), (0, True))\n",
    "\n",
    "x = Symbol('x')\n",
    "simplify(integrate((f(x)*g(x)*h(x)), (x,0,1)))"
   ]
  }
 ],
 "metadata": {
  "kernelspec": {
   "display_name": "traffic",
   "language": "python",
   "name": "python3"
  },
  "language_info": {
   "codemirror_mode": {
    "name": "ipython",
    "version": 3
   },
   "file_extension": ".py",
   "mimetype": "text/x-python",
   "name": "python",
   "nbconvert_exporter": "python",
   "pygments_lexer": "ipython3",
   "version": "3.10.12"
  }
 },
 "nbformat": 4,
 "nbformat_minor": 2
}
