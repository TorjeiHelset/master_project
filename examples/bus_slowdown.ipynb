{
 "cells": [
  {
   "cell_type": "code",
   "execution_count": 1,
   "metadata": {},
   "outputs": [],
   "source": [
    "import sys\n",
    "sys.path.append('../src')\n",
    "\n",
    "import network as nw\n",
    "import torch\n",
    "import generate_kvadraturen as gk\n",
    "import bus\n",
    "import road as rd\n",
    "import traffic_lights as tl\n",
    "import junction as jn\n",
    "import numpy as np\n",
    "import loading_json as load"
   ]
  },
  {
   "cell_type": "code",
   "execution_count": 2,
   "metadata": {},
   "outputs": [],
   "source": [
    "T = 50\n",
    "road_1 = rd.Road(2, 50, 5, torch.tensor([50.0], requires_grad=True), [],\n",
    "               initial=lambda x : torch.ones_like(x) * 0.2,\n",
    "               left_pos=(-1, 2), right_pos=(7,2),\n",
    "               periodic=True, id = \"road_1_fw\")\n",
    "\n",
    "road_2 = rd.Road(2, 50, 5, torch.tensor([50.0], requires_grad=True), [],\n",
    "               initial=lambda x : torch.ones_like(x) * 0.2,\n",
    "               left_pos=(-1, 4), right_pos=(7,4),\n",
    "               periodic=True, id = \"road_2_fw\", max_dens=4)\n",
    "\n",
    "road_3 = rd.Road(2, 50, 5, torch.tensor([50.0], requires_grad=True), [],\n",
    "               initial=lambda x : torch.ones_like(x) * 0.2,\n",
    "               left_pos=(-1, 6.2), right_pos=(7,6.2),\n",
    "               periodic=True, id = \"road_3_fw\")\n",
    "\n",
    "road_4 = rd.Road(2, 50, 5, torch.tensor([50.0], requires_grad=True), [],\n",
    "               initial=lambda x : torch.ones_like(x) * 0.2,\n",
    "               left_pos=(7,6.2), right_pos=(-1, 6.2),\n",
    "               periodic=True, id = \"road_3_bw\")\n",
    "\n",
    "road_5 = rd.Road(2, 50, 5, torch.tensor([50.0], requires_grad=True), [],\n",
    "               initial=lambda x : torch.ones_like(x) * 0.2,\n",
    "               left_pos=(-1, 8.2), right_pos=(7,8.2),\n",
    "               periodic=True, id = \"road_4_fw\")\n",
    "\n",
    "road_6 = rd.Road(2, 50, 5, torch.tensor([50.0], requires_grad=True), [],\n",
    "               initial=lambda x : torch.ones_like(x) * 0.6,\n",
    "               left_pos=(7,8.2), right_pos=(-1, 8.2),\n",
    "               periodic=True, id = \"road_4_bw\")\n",
    "\n",
    "\n",
    "roads = [road_1, road_2, road_3, road_4, road_5, road_6]\n",
    "network = nw.RoadNetwork(roads, [], T)"
   ]
  },
  {
   "cell_type": "code",
   "execution_count": 3,
   "metadata": {},
   "outputs": [],
   "source": [
    "ids = [\"road_1_fw\"]\n",
    "stops = [(\"road_1_fw\", 40)]\n",
    "times = [80]\n",
    "bus_1 = bus.Bus(ids, stops, times, network)\n",
    "\n",
    "ids = [\"road_2_fw\"]\n",
    "stops = [(\"road_2_fw\", 40)]\n",
    "times = [80]\n",
    "bus_2 = bus.Bus(ids, stops, times, network)\n",
    "\n",
    "ids = [\"road_3_fw\"]\n",
    "stops = [(\"road_3_fw\", 40)]\n",
    "times = [80]\n",
    "bus_3 = bus.Bus(ids, stops, times, network)\n",
    "\n",
    "ids = [\"road_4_fw\"]\n",
    "stops = [(\"road_4_fw\", 40)]\n",
    "times = [80]\n",
    "bus_4 = bus.Bus(ids, stops, times, network)\n",
    "\n",
    "bus_network = nw.RoadNetwork(roads, [], T, busses=[bus_1, bus_2, bus_3, bus_4])"
   ]
  },
  {
   "cell_type": "code",
   "execution_count": 4,
   "metadata": {},
   "outputs": [
    {
     "name": "stdout",
     "output_type": "stream",
     "text": [
      "Bus  reached bus stop 0 at time 3.899634838104248, should wait for 75.97452545166016 seconds\n",
      "Bus  reached bus stop 0 at time 3.899634838104248, should wait for 75.9752197265625 seconds\n",
      "Bus  reached bus stop 0 at time 3.899634838104248, should wait for 75.97509002685547 seconds\n",
      "Bus  reached bus stop 0 at time 3.899634838104248, should wait for 75.97505187988281 seconds\n"
     ]
    }
   ],
   "source": [
    "densities, queues, bus_lengths, bus_delays = bus_network.solve_cons_law()"
   ]
  },
  {
   "cell_type": "code",
   "execution_count": 5,
   "metadata": {},
   "outputs": [],
   "source": [
    "# Checking the slowdown factors:\n",
    "dt = 0.5\n",
    "t = torch.tensor(50.0)\n",
    "slowdown_factors = [torch.ones(road.N_internal+1) for road in bus_network.roads]\n",
    "slowdown_indexes = []\n",
    "for bus in bus_network.busses:\n",
    "    slowdown_factors, slowing_idx = bus_network.update_position_of_bus(bus, dt, t, slowdown_factors)\n",
    "    if slowing_idx is not None:\n",
    "        slowdown_indexes.append(slowing_idx)"
   ]
  },
  {
   "cell_type": "code",
   "execution_count": 6,
   "metadata": {},
   "outputs": [
    {
     "name": "stdout",
     "output_type": "stream",
     "text": [
      "tensor([1.0000, 1.0000, 1.0000, 0.3384, 0.4062, 0.9792, 0.9998, 1.0000, 1.0000,\n",
      "        1.0000, 1.0000], grad_fn=<CopySlices>)\n",
      "tensor([1.0000, 1.0000, 1.0000, 0.9271, 0.9372, 0.9979, 1.0000, 1.0000, 1.0000,\n",
      "        1.0000, 1.0000], grad_fn=<CopySlices>)\n",
      "tensor([1.0000, 1.0000, 1.0000, 0.8181, 0.8367, 0.9943, 0.9999, 1.0000, 1.0000,\n",
      "        1.0000, 1.0000], grad_fn=<CopySlices>)\n",
      "tensor([1.0000, 1.0000, 1.0000, 0.7850, 0.8070, 0.9933, 0.9999, 1.0000, 1.0000,\n",
      "        1.0000, 1.0000], grad_fn=<CopySlices>)\n"
     ]
    }
   ],
   "source": [
    "for idx in slowdown_indexes:\n",
    "    print(slowdown_factors[idx])\n",
    "    # print(idx)"
   ]
  },
  {
   "cell_type": "code",
   "execution_count": 7,
   "metadata": {},
   "outputs": [],
   "source": [
    "densities = load.convert_from_tensor(densities)\n",
    "queues = load.convert_from_tensor(queues)\n",
    "bus_lengths = load.convert_from_tensor(bus_lengths)"
   ]
  },
  {
   "cell_type": "code",
   "execution_count": 8,
   "metadata": {},
   "outputs": [],
   "source": [
    "import opengl_generate_gif as opengl"
   ]
  },
  {
   "cell_type": "code",
   "execution_count": 9,
   "metadata": {},
   "outputs": [
    {
     "name": "stdout",
     "output_type": "stream",
     "text": [
      "End of simulation reached!\n",
      "Saving GIF as: bus_slowdown_example.gif\n"
     ]
    },
    {
     "ename": "",
     "evalue": "",
     "output_type": "error",
     "traceback": [
      "\u001b[1;31mThe Kernel crashed while executing code in the current cell or a previous cell. \n",
      "\u001b[1;31mPlease review the code in the cell(s) to identify a possible cause of the failure. \n",
      "\u001b[1;31mClick <a href='https://aka.ms/vscodeJupyterKernelCrash'>here</a> for more info. \n",
      "\u001b[1;31mView Jupyter <a href='command:jupyter.viewOutput'>log</a> for further details."
     ]
    }
   ],
   "source": [
    "# Create gif:\n",
    "opengl.draw_busses_w_densities(bus_network, [bus_1, bus_2, bus_3, bus_4], bus_lengths, densities, \"bus_slowdown_example.gif\", \"white_background.png\")"
   ]
  },
  {
   "cell_type": "code",
   "execution_count": null,
   "metadata": {},
   "outputs": [],
   "source": []
  }
 ],
 "metadata": {
  "kernelspec": {
   "display_name": "traffic",
   "language": "python",
   "name": "python3"
  },
  "language_info": {
   "codemirror_mode": {
    "name": "ipython",
    "version": 3
   },
   "file_extension": ".py",
   "mimetype": "text/x-python",
   "name": "python",
   "nbconvert_exporter": "python",
   "pygments_lexer": "ipython3",
   "version": "3.10.12"
  }
 },
 "nbformat": 4,
 "nbformat_minor": 2
}
