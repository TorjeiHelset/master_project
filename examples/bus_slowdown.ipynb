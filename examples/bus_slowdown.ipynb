{
 "cells": [
  {
   "cell_type": "code",
   "execution_count": 1,
   "metadata": {},
   "outputs": [],
   "source": [
    "import sys\n",
    "sys.path.append('../src')\n",
    "\n",
    "import network as nw\n",
    "import torch\n",
    "import generate_kvadraturen as gk\n",
    "import bus\n",
    "import road as rd\n",
    "import traffic_lights as tl\n",
    "import junction as jn\n",
    "import numpy as np\n",
    "import loading_json as load"
   ]
  },
  {
   "cell_type": "code",
   "execution_count": 2,
   "metadata": {},
   "outputs": [],
   "source": [
    "T = 40\n",
    "road_1 = rd.Road(2, 50, 5, torch.tensor([50.0], requires_grad=True), [],\n",
    "               initial=lambda x : torch.ones_like(x) * 0.2,\n",
    "               left_pos=(-1, 2), right_pos=(7,2),\n",
    "               periodic=True, id = \"road_1_fw\")\n",
    "\n",
    "road_2 = rd.Road(2, 50, 5, torch.tensor([50.0], requires_grad=True), [],\n",
    "               initial=lambda x : torch.ones_like(x) * 0.2,\n",
    "               left_pos=(-1, 4), right_pos=(7,4),\n",
    "               periodic=True, id = \"road_2_fw\", max_dens=4)\n",
    "\n",
    "road_3 = rd.Road(2, 50, 5, torch.tensor([50.0], requires_grad=True), [],\n",
    "               initial=lambda x : torch.ones_like(x) * 0.2,\n",
    "               left_pos=(-1, 6.2), right_pos=(7,6.2),\n",
    "               periodic=True, id = \"road_3_fw\")\n",
    "\n",
    "road_4 = rd.Road(2, 50, 5, torch.tensor([50.0], requires_grad=True), [],\n",
    "               initial=lambda x : torch.ones_like(x) * 0.2,\n",
    "               left_pos=(7,6.2), right_pos=(-1, 6.2),\n",
    "               periodic=True, id = \"road_3_bw\")\n",
    "\n",
    "road_5 = rd.Road(2, 50, 5, torch.tensor([50.0], requires_grad=True), [],\n",
    "               initial=lambda x : torch.ones_like(x) * 0.2,\n",
    "               left_pos=(-1, 8.2), right_pos=(7,8.2),\n",
    "               periodic=True, id = \"road_4_fw\")\n",
    "\n",
    "road_6 = rd.Road(2, 50, 5, torch.tensor([50.0], requires_grad=True), [],\n",
    "               initial=lambda x : torch.ones_like(x) * 0.6,\n",
    "               left_pos=(7,8.2), right_pos=(-1, 8.2),\n",
    "               periodic=True, id = \"road_4_bw\")\n",
    "\n",
    "\n",
    "roads = [road_1, road_2, road_3, road_4, road_5, road_6]\n",
    "network = nw.RoadNetwork(roads, [], T)"
   ]
  },
  {
   "cell_type": "code",
   "execution_count": 3,
   "metadata": {},
   "outputs": [],
   "source": [
    "ids = [\"road_1_fw\"]\n",
    "stops = [(\"road_1_fw\", 40)]\n",
    "times = [60]\n",
    "bus_1 = bus.Bus(ids, stops, times, network)\n",
    "\n",
    "ids = [\"road_2_fw\"]\n",
    "stops = [(\"road_2_fw\", 40)]\n",
    "times = [60]\n",
    "bus_2 = bus.Bus(ids, stops, times, network)\n",
    "\n",
    "ids = [\"road_3_fw\"]\n",
    "stops = [(\"road_3_fw\", 40)]\n",
    "times = [60]\n",
    "bus_3 = bus.Bus(ids, stops, times, network)\n",
    "\n",
    "ids = [\"road_4_fw\"]\n",
    "stops = [(\"road_4_fw\", 40)]\n",
    "times = [60]\n",
    "bus_4 = bus.Bus(ids, stops, times, network)\n",
    "\n",
    "bus_network = nw.RoadNetwork(roads, [], T, busses=[bus_1, bus_2, bus_3, bus_4])"
   ]
  },
  {
   "cell_type": "code",
   "execution_count": 4,
   "metadata": {},
   "outputs": [
    {
     "name": "stdout",
     "output_type": "stream",
     "text": [
      "Bus  reached bus stop 0 at time 5.907153606414795, should wait for 54.06129837036133 seconds\n",
      "Bus  reached bus stop 0 at time 5.907153606414795, should wait for 54.009681701660156 seconds\n",
      "Bus  reached bus stop 0 at time 5.907153606414795, should wait for 54.03165054321289 seconds\n",
      "Bus  reached bus stop 0 at time 5.907153606414795, should wait for 54.044944763183594 seconds\n"
     ]
    }
   ],
   "source": [
    "densities, queues, bus_lengths, bus_delays = bus_network.solve_cons_law()"
   ]
  },
  {
   "cell_type": "code",
   "execution_count": 5,
   "metadata": {},
   "outputs": [],
   "source": [
    "# Checking the slowdown factors:\n",
    "dt = 0.5\n",
    "t = torch.tensor(50.0)\n",
    "slowdown_factors = [torch.ones(road.N_internal+1) for road in bus_network.roads]\n",
    "slowdown_indexes = []\n",
    "for bus in bus_network.busses:\n",
    "    slowdown_factors, slowing_idx = bus_network.update_position_of_bus(bus, dt, t, slowdown_factors)\n",
    "    if slowing_idx is not None:\n",
    "        slowdown_indexes.append(slowing_idx)"
   ]
  },
  {
   "cell_type": "code",
   "execution_count": 6,
   "metadata": {},
   "outputs": [
    {
     "name": "stdout",
     "output_type": "stream",
     "text": [
      "tensor([1.0000, 1.0000, 1.0000, 1.0000, 0.2213, 0.6054, 0.9947, 1.0000, 1.0000,\n",
      "        1.0000, 1.0000], grad_fn=<MinimumBackward0>)\n",
      "tensor([1.0000, 1.0000, 1.0000, 1.0000, 0.8837, 0.9405, 0.9992, 1.0000, 1.0000,\n",
      "        1.0000, 1.0000], grad_fn=<SubBackward0>)\n",
      "tensor([1.0000, 1.0000, 1.0000, 1.0000, 0.5328, 0.7632, 0.9968, 1.0000, 1.0000,\n",
      "        1.0000, 1.0000], grad_fn=<SubBackward0>)\n",
      "tensor([1.0000, 1.0000, 1.0000, 1.0000, 0.3770, 0.6843, 0.9958, 1.0000, 1.0000,\n",
      "        1.0000, 1.0000], grad_fn=<SubBackward0>)\n"
     ]
    }
   ],
   "source": [
    "for idx in slowdown_indexes:\n",
    "    print(slowdown_factors[idx])\n",
    "    # print(idx)"
   ]
  },
  {
   "cell_type": "code",
   "execution_count": 8,
   "metadata": {},
   "outputs": [],
   "source": [
    "# dt = 0.31\n",
    "# t = 40\n",
    "# slowdown_factors = [torch.ones(road.N_internal + 1) for road in bus_network.roads]\n",
    "# for bus in bus_network.busses:\n",
    "#     road_id, length, next_id = bus.get_road_id()\n",
    "#     i, road = bus_network.get_road(road_id)\n",
    "#     # This should be equal for all and in fact it is\n",
    "#     slowdown_factors[i], bus_started = bus.get_slowdown_factor(slowdown_factors[i].clone(), road_id,\n",
    "#                                                                length, road)\n",
    "#     slowing_idx = i\n",
    "#     if road.max_dens == 1:\n",
    "#         opposite_road = None\n",
    "#         if i > 0: \n",
    "#             if bus_network.roads[i-1].id[:-2] == road.id[:-2]:\n",
    "#                 opposite_road = bus_network.roads[i-1]\n",
    "#         if i < len(bus_network.roads)-1:\n",
    "#             if bus_network.roads[i+1].id[:-2] == road.id[:-2]:\n",
    "#                 opposite_road = bus_network.roads[i+1]\n",
    "#         if opposite_road is not None:\n",
    "#             # print(road_id, opposite_road.id) # Looks good\n",
    "#             # print(opposite_road.rho) # Also looks good\n",
    "#             internal = torch.flip(opposite_road.rho[opposite_road.pad-1:-opposite_road.pad+1],dims=[0])\n",
    "#             avg = (internal[1:] + internal[:-1]) / 2\n",
    "#             # avg = torch.ones_like(avg)\n",
    "#             print(avg) # Looks good\n",
    "#             print(slowdown_factors[i])\n",
    "#             print(torch.ones(road.N_internal+1) - (1. - slowdown_factors[i]) * (1. + avg) / 2)"
   ]
  },
  {
   "cell_type": "code",
   "execution_count": 9,
   "metadata": {},
   "outputs": [],
   "source": [
    "densities = load.convert_from_tensor(densities)\n",
    "queues = load.convert_from_tensor(queues)\n",
    "bus_lengths = load.convert_from_tensor(bus_lengths)"
   ]
  },
  {
   "cell_type": "code",
   "execution_count": 10,
   "metadata": {},
   "outputs": [],
   "source": [
    "import opengl_generate_gif as opengl"
   ]
  },
  {
   "cell_type": "code",
   "execution_count": 11,
   "metadata": {},
   "outputs": [
    {
     "name": "stdout",
     "output_type": "stream",
     "text": [
      "End of simulation reached!\n",
      "Saving GIF as: bus_slowdown_example.gif\n"
     ]
    },
    {
     "ename": "",
     "evalue": "",
     "output_type": "error",
     "traceback": [
      "\u001b[1;31mThe Kernel crashed while executing code in the current cell or a previous cell. \n",
      "\u001b[1;31mPlease review the code in the cell(s) to identify a possible cause of the failure. \n",
      "\u001b[1;31mClick <a href='https://aka.ms/vscodeJupyterKernelCrash'>here</a> for more info. \n",
      "\u001b[1;31mView Jupyter <a href='command:jupyter.viewOutput'>log</a> for further details."
     ]
    }
   ],
   "source": [
    "# Create gif:\n",
    "opengl.draw_busses_w_densities(bus_network, [bus_1, bus_2, bus_3, bus_4], bus_lengths, densities, \"bus_slowdown_example.gif\", \"../background_imgs/white_background.png\")"
   ]
  },
  {
   "cell_type": "code",
   "execution_count": null,
   "metadata": {},
   "outputs": [],
   "source": [
    "def calculate_slowdown_factor(d, alpha = 0.5, beta = 2):\n",
    "    return torch.max(torch.tensor(0.0), torch.sigmoid(alpha * d + 5) - torch.sigmoid(beta * d - 5))"
   ]
  },
  {
   "cell_type": "code",
   "execution_count": null,
   "metadata": {},
   "outputs": [],
   "source": [
    "distances = torch.linspace(-20, 20, 100)\n",
    "factors = calculate_slowdown_factor(distances)"
   ]
  },
  {
   "cell_type": "code",
   "execution_count": null,
   "metadata": {},
   "outputs": [
    {
     "data": {
      "image/png": "[encoded data removed]",
      "text/plain": [
       "<Figure size 640x480 with 1 Axes>"
      ]
     },
     "metadata": {},
     "output_type": "display_data"
    }
   ],
   "source": [
    "import matplotlib.pyplot as plt\n",
    "\n",
    "plt.plot(np.array(distances), np.array(factors))\n",
    "plt.show()"
   ]
  }
 ],
 "metadata": {
  "kernelspec": {
   "display_name": "traffic",
   "language": "python",
   "name": "python3"
  },
  "language_info": {
   "codemirror_mode": {
    "name": "ipython",
    "version": 3
   },
   "file_extension": ".py",
   "mimetype": "text/x-python",
   "name": "python",
   "nbconvert_exporter": "python",
   "pygments_lexer": "ipython3",
   "version": "3.10.12"
  }
 },
 "nbformat": 4,
 "nbformat_minor": 2
}
