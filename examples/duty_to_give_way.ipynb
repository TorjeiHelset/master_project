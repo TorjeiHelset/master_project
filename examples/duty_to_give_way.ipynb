{
 "cells": [
  {
   "cell_type": "code",
   "execution_count": 1,
   "metadata": {},
   "outputs": [],
   "source": [
    "import numpy as np\n",
    "import torch\n",
    "import matplotlib.pyplot as plt\n",
    "import sys\n",
    "sys.path.append('../src')\n",
    "import network as nw\n",
    "import road as rd\n",
    "import traffic_lights as tl\n",
    "import torch\n",
    "import FV_schemes as fv\n",
    "import junction as jn"
   ]
  },
  {
   "cell_type": "markdown",
   "metadata": {},
   "source": [
    "### Duty to give way crossing connections\n",
    "\n",
    "We visualize how adding duty to give way for crossing connections impact the flow of traffic in a simple 2-2 junction. \n",
    "We assume that roads 1 and 3 are horizontal roads, and that roads 2 and 4 are vertical roads. We further assume that all traffic from road 1 goes to road 3, and that all the traffic from road 2 goes to road 4. Finally, we assume that traffic from road 2 has right of way.\n",
    "\n",
    "The distribution matrix takes the form\n",
    "$$\n",
    "A = \n",
    "\\begin{bmatrix}\n",
    "1 & 0\\\\\n",
    "0 & 1\n",
    "\\end{bmatrix}.\n",
    "$$\n",
    "\n",
    "We want to compare how different adding duty to give way impacts the flow of traffic of traffic through the junction for different choices of densities on the roads."
   ]
  },
  {
   "cell_type": "code",
   "execution_count": 31,
   "metadata": {},
   "outputs": [],
   "source": [
    "# Configuration of the network\n",
    "distribution = [[1.0, 0.0], [0.0, 1.0]]\n",
    "priorities = [[1, 1], [2, 2]]\n",
    "crossing_connections =  [[[], []],\n",
    "                        [[], [(0,0)]]]\n",
    "L = 50\n",
    "N = 5\n",
    "in_dens_1 = 0.7\n",
    "out_dens_1 = 0.2\n",
    "in_dens_2 = 0.4\n",
    "out_dens_2 = 0.1"
   ]
  },
  {
   "cell_type": "code",
   "execution_count": 54,
   "metadata": {},
   "outputs": [],
   "source": [
    "# Creating the network\n",
    "road1 = rd.Road(2, L, N, torch.tensor([50.0], requires_grad=True), [], left_pos = (-1, 0), right_pos = (0, 0),\n",
    "                initial = lambda x: torch.ones_like(x) * in_dens_1, inflow = 0.3, id = \"1_fw\")\n",
    "road2 = rd.Road(1, L, N, torch.tensor([50.0], requires_grad=True), [], left_pos = (0, 1), right_pos = (0, 0),\n",
    "                initial = lambda x: torch.ones_like(x) * out_dens_1, inflow = 0.05, id = \"2_fw\")\n",
    "road3 = rd.Road(2, L, N, torch.tensor([50.0], requires_grad=True), [], left_pos = (0, 0), right_pos = (1, 0),\n",
    "                initial = lambda x: torch.ones_like(x) * in_dens_2, inflow = 0.0, id = \"3_fw\")\n",
    "road4 = rd.Road(1, L, N, torch.tensor([50.0], requires_grad=True), [], left_pos = (0, 0), right_pos = (0, -1),\n",
    "                initial = lambda x: torch.ones_like(x) * out_dens_2, inflow = 0.0, id = \"4_fw\")\n",
    "\n",
    "entering = [0,2]\n",
    "leaving = [1, 3]\n",
    "\n",
    "junction = jn.Junction([road1, road2, road3, road4], entering, leaving, distribution, trafficlights=[],\n",
    "                       coupled_trafficlights = [], duty_to_gw = True, priorities = priorities,\n",
    "                       crossing_connections = crossing_connections)\n",
    "T = 100\n",
    "network = nw.RoadNetwork([road1, road2, road3, road4], [junction], T)\n",
    "t = torch.tensor(0.0)\n",
    "for road in network.roads:\n",
    "    road.update_index(t)"
   ]
  },
  {
   "cell_type": "code",
   "execution_count": 55,
   "metadata": {},
   "outputs": [],
   "source": [
    "# network.roads[2].rho = torch.ones_like(network.roads[2].rho) * 0.01\n",
    "\n",
    "# print(network.roads[2].gamma[0])\n",
    "# print(network.roads[2].demand())\n",
    "# print(network.roads[2].rho)\n",
    "# gamma = torch.tensor(0.2778)\n",
    "# print(fv.D(torch.tensor(0.4), gamma))\n",
    "\n",
    "# #0.0667"
   ]
  },
  {
   "cell_type": "code",
   "execution_count": 70,
   "metadata": {},
   "outputs": [],
   "source": [
    "# We now want to calculate the flux through the junction:\n",
    "in_fluxes = []\n",
    "in_fluxes_wo = []\n",
    "\n",
    "densities = torch.linspace(0,0.55,100)\n",
    "network.roads[2].rho = torch.ones_like(network.roads[2].rho) * 0.4\n",
    "# print(f\"Densities on roads: {[road.rho[-1] for road in network.roads]}\")\n",
    "# print(f\"Demands of roads: {[road.demand() for road in network.roads]}\")\n",
    "# print(f\"Gamma of roads: {network.roads[2].gamma}\")\n",
    "for rho in densities:\n",
    "    network.roads[0].rho = torch.ones_like(network.roads[0].rho) * rho\n",
    "\n",
    "    # With right of way:\n",
    "    fluxes_in, fluxes_out = junction.divide_flux_right_of_way(t)\n",
    "\n",
    "    # Without right of way:\n",
    "    fluxes_in_no_row, fluxes_out_no_row = junction.divide_flux(t)\n",
    "    # print(f\"Density on road 1: {rho}:\")\n",
    "    # print(f\"Flux 1-3 with/without right of way: {fluxes_in[0].detach():.{4}f}/{fluxes_in_no_row[0].detach():.{4}f}\")\n",
    "    # print(f\"Flux 2-4 with/without right of way: {fluxes_in[1].detach():.{6}f}/{fluxes_in_no_row[1].detach():.{6}f}\\n\")\n",
    "    in_fluxes.append(fluxes_in[1].detach())\n",
    "    in_fluxes_wo.append(fluxes_in_no_row[1].detach())\n",
    "\n",
    "in_fluxes_2 = []\n",
    "in_fluxes_wo_2 = []\n",
    "network.roads[2].rho = torch.ones_like(network.roads[2].rho) * 0.1\n",
    "# print(f\"Densities on roads: {[road.rho[0] for road in network.roads]}\")\n",
    "# print(f\"Demands of roads: {[road.demand() for road in network.roads]}\")\n",
    "\n",
    "for rho in densities:\n",
    "    network.roads[0].rho = torch.ones_like(network.roads[0].rho) * rho\n",
    "    # With right of way:\n",
    "    fluxes_in, fluxes_out = junction.divide_flux_right_of_way(t)\n",
    "\n",
    "    # Without right of way:\n",
    "    fluxes_in_no_row, fluxes_out_no_row = junction.divide_flux(t)\n",
    "    # print(f\"Density on road 1: {rho}:\")\n",
    "    # print(f\"Flux 1-3 with/without right of way: {fluxes_in[0].detach():.{4}f}/{fluxes_in_no_row[0].detach():.{4}f}\")\n",
    "    # print(f\"Flux 2-4 with/without right of way: {fluxes_in[1].detach():.{6}f}/{fluxes_in_no_row[1].detach():.{6}f}\\n\")\n",
    "    in_fluxes_2.append(fluxes_in[1].detach())\n",
    "    in_fluxes_wo_2.append(fluxes_in_no_row[1].detach())"
   ]
  },
  {
   "cell_type": "code",
   "execution_count": 71,
   "metadata": {},
   "outputs": [
    {
     "data": {
      "image/png": "[encoded data removed]",
      "text/plain": [
       "<Figure size 640x480 with 1 Axes>"
      ]
     },
     "metadata": {},
     "output_type": "display_data"
    }
   ],
   "source": [
    "plt.plot(np.array(densities), in_fluxes, 'b')\n",
    "plt.plot(np.array(densities), in_fluxes_wo, 'b--')\n",
    "plt.plot(np.array(densities), in_fluxes_2, 'r')\n",
    "plt.plot(np.array(densities), in_fluxes_wo_2, 'r--')\n",
    "plt.show()\n"
   ]
  },
  {
   "cell_type": "markdown",
   "metadata": {},
   "source": [
    "#### Priority parameter depending on density\n",
    "\n",
    "We now want to investigate how a varying priority parameter impacts the flow of traffic through a junction.\n",
    "\n",
    "What is the best way to visualize this?\n",
    "\n",
    "One idea is to look at a 2-1 junction for some different values of the flux. \n",
    "Then ..."
   ]
  },
  {
   "cell_type": "code",
   "execution_count": null,
   "metadata": {},
   "outputs": [],
   "source": []
  }
 ],
 "metadata": {
  "kernelspec": {
   "display_name": "traffic",
   "language": "python",
   "name": "python3"
  },
  "language_info": {
   "codemirror_mode": {
    "name": "ipython",
    "version": 3
   },
   "file_extension": ".py",
   "mimetype": "text/x-python",
   "name": "python",
   "nbconvert_exporter": "python",
   "pygments_lexer": "ipython3",
   "version": "3.10.12"
  }
 },
 "nbformat": 4,
 "nbformat_minor": 2
}
