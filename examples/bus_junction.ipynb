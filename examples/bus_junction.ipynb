{
 "cells": [
  {
   "cell_type": "code",
   "execution_count": 1,
   "metadata": {},
   "outputs": [],
   "source": [
    "import sys\n",
    "sys.path.append('../src')\n",
    "\n",
    "import network as nw\n",
    "import torch\n",
    "import generate_kvadraturen as gk\n",
    "import bus\n",
    "import road as rd\n",
    "import traffic_lights as tl\n",
    "import junction as jn\n",
    "import numpy as np\n",
    "import loading_json as load\n",
    "import initial_and_bc as ibc"
   ]
  },
  {
   "cell_type": "markdown",
   "metadata": {},
   "source": [
    "### In this notebook we check that the bus actually stops at junctions where it should"
   ]
  },
  {
   "cell_type": "code",
   "execution_count": 5,
   "metadata": {},
   "outputs": [],
   "source": [
    "T = 80\n",
    "boundary_fnc = ibc.boundary_conditions(1, max_dens = 1, densities = torch.tensor([0.2]), \n",
    "                                           time_jumps = [], in_speed = torch.tensor(50.0),\n",
    "                                           L = 50)\n",
    "\n",
    "road_1 = rd.Road(2, 50, 5, torch.tensor([50.0], requires_grad=True), [],\n",
    "               initial=lambda x : torch.ones_like(x) * 0.2,\n",
    "               left_pos=(-1, 2), right_pos=(2.8,2),\n",
    "               boundary_fnc=boundary_fnc, id = \"road_1_fw\")\n",
    "\n",
    "road_2 = rd.Road(2, 50, 5, torch.tensor([50.0], requires_grad=True), [],\n",
    "               initial=lambda x : torch.ones_like(x) * 0.2,\n",
    "               left_pos=(3.2, 2), right_pos=(7,2),\n",
    "               boundary_fnc=boundary_fnc, id = \"road_2_fw\")\n",
    "\n",
    "road_3 = rd.Road(2, 50, 5, torch.tensor([50.0], requires_grad=True), [],\n",
    "               initial=lambda x : torch.ones_like(x) * 0.2,\n",
    "               left_pos=(-1, 4), right_pos=(2.8,4),\n",
    "               boundary_fnc=boundary_fnc, id = \"road_3_fw\")\n",
    "\n",
    "road_4 = rd.Road(2, 50, 5, torch.tensor([50.0], requires_grad=True), [],\n",
    "               initial=lambda x : torch.ones_like(x) * 0.2,\n",
    "               left_pos=(3.2, 4), right_pos=(7,4),\n",
    "               boundary_fnc=boundary_fnc, id = \"road_4_fw\")\n",
    "\n",
    "road_5 = rd.Road(2, 50, 5, torch.tensor([50.0], requires_grad=True), [],\n",
    "               initial=lambda x : torch.ones_like(x) * 0.2,\n",
    "               left_pos=(-1, 6), right_pos=(2.8,6),\n",
    "               boundary_fnc=boundary_fnc, id = \"road_5_fw\")\n",
    "\n",
    "road_6 = rd.Road(2, 50, 5, torch.tensor([50.0], requires_grad=True), [],\n",
    "               initial=lambda x : torch.ones_like(x) * 0.2,\n",
    "               left_pos=(3.2, 6), right_pos=(7,6),\n",
    "               boundary_fnc=boundary_fnc, id = \"road_6_fw\")\n",
    "\n",
    "roads = [road_1, road_2, road_3, road_4, road_5, road_6]\n",
    "\n",
    "trafficlight_1 = tl.TrafficLightContinous(True, [0], [1], [torch.tensor(50.0), torch.tensor(50.0)])\n",
    "trafficlight_2 = tl.TrafficLightContinous(True, [0], [1], [torch.tensor(50.0), torch.tensor(50.0)])\n",
    "trafficlight_3 = tl.TrafficLightContinous(False, [0], [1], [torch.tensor(50.0), torch.tensor(50.0)])\n",
    "\n",
    "junction_1 = jn.Junction([road_1, road_2], [0], [1], [[1.0]],\n",
    "                       [trafficlight_1], [])\n",
    "junction_2 = jn.Junction([road_3, road_4], [0], [1], [[1.0]],\n",
    "                       [trafficlight_2], [])\n",
    "junction_3 = jn.Junction([road_5, road_6], [0], [1], [[1.0]],\n",
    "                       [trafficlight_3], [])\n",
    "junctions = [junction_1, junction_2, junction_3]\n",
    "network = nw.RoadNetwork(roads, junctions, T)"
   ]
  },
  {
   "cell_type": "code",
   "execution_count": 6,
   "metadata": {},
   "outputs": [],
   "source": [
    "ids = [\"road_1_fw\", \"road_2_fw\"]\n",
    "stops = [(\"road_2_fw\", 40)]\n",
    "times = [50]\n",
    "bus_1 = bus.Bus(ids, stops, times, network)\n",
    "busses = [bus_1]\n",
    "\n",
    "bus_network = nw.RoadNetwork(roads, junctions, T, busses=busses)"
   ]
  },
  {
   "cell_type": "code",
   "execution_count": 7,
   "metadata": {},
   "outputs": [
    {
     "name": "stdout",
     "output_type": "stream",
     "text": [
      "Bus  reached bus stop 0 at time 56.42150115966797, should wait for 29.88783836364746 seconds\n"
     ]
    }
   ],
   "source": [
    "densities, queues, bus_lengths, bus_delays = bus_network.solve_cons_law()"
   ]
  },
  {
   "cell_type": "code",
   "execution_count": 6,
   "metadata": {},
   "outputs": [],
   "source": [
    "import opengl_generate_gif as opengl"
   ]
  },
  {
   "cell_type": "code",
   "execution_count": 7,
   "metadata": {},
   "outputs": [
    {
     "name": "stdout",
     "output_type": "stream",
     "text": [
      "End of simulation reached!\n",
      "Saving GIF as: bus_junction_example.gif\n"
     ]
    },
    {
     "ename": "",
     "evalue": "",
     "output_type": "error",
     "traceback": [
      "\u001b[1;31mThe Kernel crashed while executing code in the current cell or a previous cell. \n",
      "\u001b[1;31mPlease review the code in the cell(s) to identify a possible cause of the failure. \n",
      "\u001b[1;31mClick <a href='https://aka.ms/vscodeJupyterKernelCrash'>here</a> for more info. \n",
      "\u001b[1;31mView Jupyter <a href='command:jupyter.viewOutput'>log</a> for further details."
     ]
    }
   ],
   "source": [
    "# Create gif:\n",
    "opengl.draw_busses_w_densities(bus_network, busses, bus_lengths, densities, \"bus_junction_example.gif\", \"white_background.png\")"
   ]
  },
  {
   "cell_type": "markdown",
   "metadata": {},
   "source": []
  }
 ],
 "metadata": {
  "kernelspec": {
   "display_name": "traffic",
   "language": "python",
   "name": "python3"
  },
  "language_info": {
   "codemirror_mode": {
    "name": "ipython",
    "version": 3
   },
   "file_extension": ".py",
   "mimetype": "text/x-python",
   "name": "python",
   "nbconvert_exporter": "python",
   "pygments_lexer": "ipython3",
   "version": "3.10.12"
  }
 },
 "nbformat": 4,
 "nbformat_minor": 2
}
