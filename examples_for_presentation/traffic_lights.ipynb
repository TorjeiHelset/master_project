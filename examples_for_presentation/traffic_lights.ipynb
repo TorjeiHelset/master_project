{
 "cells": [
  {
   "cell_type": "markdown",
   "metadata": {},
   "source": [
    "We visualize how a traffic light that is turned green or red impacts traffic"
   ]
  },
  {
   "cell_type": "code",
   "execution_count": 1,
   "metadata": {},
   "outputs": [],
   "source": [
    "import sys\n",
    "sys.path.append('../src')\n",
    "\n",
    "import torch\n",
    "import road as rd\n",
    "import traffic_lights as tl\n",
    "import junction as jn\n",
    "import traffic_lights as tl\n",
    "import network as nw\n",
    "import initial_and_bc as ibc\n",
    "import loading_json as load\n",
    "import json"
   ]
  },
  {
   "cell_type": "code",
   "execution_count": 7,
   "metadata": {},
   "outputs": [],
   "source": [
    "# Creating the roads\n",
    "L = 25\n",
    "N = 2\n",
    "b = 4\n",
    "init_fnc = lambda x : torch.ones_like(x) * 0.2\n",
    "boundary_fnc = ibc.boundary_conditions(1, max_dens=1, densities=torch.tensor([0.2]), time_jumps=[], \n",
    "                                       in_speed=torch.tensor(50.0/3.6), L = L)\n",
    "road_1 = rd.Road(b, L, N, [torch.tensor(50/3.6)], [], initial=init_fnc, boundary_fnc=boundary_fnc,\n",
    "                 left_pos=(0, 3), right_pos=(2.9, 3), id=\"road_1\", max_dens=1)\n",
    "road_2 = rd.Road(b, L, N, [torch.tensor(50/3.6)], [], initial=init_fnc, boundary_fnc=None,\n",
    "                 left_pos=(3.1, 3), right_pos=(6, 3), id = \"road_2\", max_dens=1)\n",
    "\n",
    "roads = [road_1, road_2]\n",
    "\n",
    "# Creating the traffic light and the junction\n",
    "traffic_light = tl.TrafficLightContinous(True, [0], [1], [torch.tensor(30.0), torch.tensor(100.0)])\n",
    "junction = jn.Junction(roads, [0], [1], [[1.0]], [traffic_light], [])\n",
    "\n",
    "# Creating the network\n",
    "network = nw.RoadNetwork(roads, [junction], T = 100)"
   ]
  },
  {
   "cell_type": "code",
   "execution_count": 8,
   "metadata": {},
   "outputs": [],
   "source": [
    "densities, _, _, _ = network.solve_cons_law()"
   ]
  },
  {
   "cell_type": "code",
   "execution_count": 9,
   "metadata": {},
   "outputs": [],
   "source": [
    "densities_loaded = load.convert_from_tensor(densities)"
   ]
  },
  {
   "cell_type": "code",
   "execution_count": 10,
   "metadata": {},
   "outputs": [],
   "source": [
    "import json\n",
    "with open(\"results/traffic_lights.json\", 'w') as fd:\n",
    "    fd.write(json.dumps(densities_loaded))"
   ]
  },
  {
   "cell_type": "markdown",
   "metadata": {},
   "source": [
    "#### Visualization of the activation function of a traffic light"
   ]
  },
  {
   "cell_type": "code",
   "execution_count": 5,
   "metadata": {},
   "outputs": [],
   "source": [
    "import matplotlib.pyplot as plt\n",
    "import numpy as np\n",
    "import tikzplotlib\n",
    "import torch"
   ]
  },
  {
   "cell_type": "code",
   "execution_count": 6,
   "metadata": {},
   "outputs": [],
   "source": [
    "def jump(x, start):\n",
    "    return torch.sigmoid(x - (start + 5)) # Plus 5 to shift start of sigmoid to start\n",
    "\n",
    "def derivative(x, start):\n",
    "    return jump(x, start) * (1 - jump(x, start))"
   ]
  },
  {
   "cell_type": "code",
   "execution_count": 13,
   "metadata": {},
   "outputs": [],
   "source": [
    "start_1 = 10\n",
    "start_2 = 30\n",
    "start_3 = 5\n",
    "start_4 = 22\n",
    "start_5 = 40\n",
    "x = torch.linspace(0, 50, 200)\n",
    "y = jump(x, start_1) - jump(x, start_2)\n",
    "y_2 = 1. - jump(x, start_3) + jump(x, start_4) - jump(x, start_5)\n",
    "grad = derivative(x, start_1) - derivative(x, start_2)"
   ]
  },
  {
   "cell_type": "code",
   "execution_count": 15,
   "metadata": {},
   "outputs": [
    {
     "data": {
      "image/png": "[encoded data removed]",
      "text/plain": [
       "<Figure size 640x480 with 1 Axes>"
      ]
     },
     "metadata": {},
     "output_type": "display_data"
    }
   ],
   "source": [
    "fig = plt.figure()\n",
    "\n",
    "plt.plot(x, y, 'k', label = \"Activation\")\n",
    "plt.plot(x, y_2, 'b', label = \"Activation\")\n",
    "\n",
    "# plt.plot(x, grad, 'b', linestyle = \"dashed\", label = \"Derivative\")\n",
    "\n",
    "tikzplotlib.save(\"../figurer/traffic_light.tex\")\n",
    "# plt.show()"
   ]
  },
  {
   "cell_type": "markdown",
   "metadata": {},
   "source": [
    "### Convert gif to mp4 and crop it"
   ]
  },
  {
   "cell_type": "code",
   "execution_count": 1,
   "metadata": {},
   "outputs": [],
   "source": [
    "import ffmpy"
   ]
  },
  {
   "cell_type": "code",
   "execution_count": 5,
   "metadata": {},
   "outputs": [
    {
     "data": {
      "text/plain": [
       "(None, None)"
      ]
     },
     "execution_count": 5,
     "metadata": {},
     "output_type": "execute_result"
    }
   ],
   "source": [
    "ff = ffmpy.FFmpeg(\n",
    "    executable=\"C:\\\\Users\\\\torje\\\\Downloads\\\\ffmpeg-6.1-win-64\\\\ffmpeg.exe\",\n",
    "    inputs={'gifs/traffic_lights.gif': None},\n",
    "    outputs={'videos/traffic_lights.mp4': None}\n",
    "    )\n",
    "ff.run()"
   ]
  },
  {
   "cell_type": "code",
   "execution_count": 1,
   "metadata": {},
   "outputs": [],
   "source": [
    "from moviepy.editor import VideoFileClip,concatenate_videoclips\n",
    "import moviepy.editor as mpy\n",
    "from moviepy.video.fx.all import crop"
   ]
  },
  {
   "cell_type": "code",
   "execution_count": 7,
   "metadata": {},
   "outputs": [
    {
     "name": "stdout",
     "output_type": "stream",
     "text": [
      "Moviepy - Building video videos/traffic_lights_cropped.mp4.\n",
      "Moviepy - Writing video videos/traffic_lights_cropped.mp4\n",
      "\n"
     ]
    },
    {
     "name": "stderr",
     "output_type": "stream",
     "text": [
      "                                                             "
     ]
    },
    {
     "name": "stdout",
     "output_type": "stream",
     "text": [
      "Moviepy - Done !\n",
      "Moviepy - video ready videos/traffic_lights_cropped.mp4\n"
     ]
    },
    {
     "name": "stderr",
     "output_type": "stream",
     "text": [
      "\r"
     ]
    }
   ],
   "source": [
    "clip = VideoFileClip('videos/traffic_lights.mp4')\n",
    "cropped_clip = crop(clip, width=700, height=300, x_center=400, y_center=200)\n",
    "cropped_clip = cropped_clip.cutout(0, 0.1)\n",
    "cropped_clip.write_videofile('videos/traffic_lights_cropped.mp4',codec=\"libx264\")"
   ]
  }
 ],
 "metadata": {
  "kernelspec": {
   "display_name": "traffic",
   "language": "python",
   "name": "python3"
  },
  "language_info": {
   "codemirror_mode": {
    "name": "ipython",
    "version": 3
   },
   "file_extension": ".py",
   "mimetype": "text/x-python",
   "name": "python",
   "nbconvert_exporter": "python",
   "pygments_lexer": "ipython3",
   "version": "3.10.12"
  }
 },
 "nbformat": 4,
 "nbformat_minor": 2
}
