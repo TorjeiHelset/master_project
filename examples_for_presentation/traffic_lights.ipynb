{
 "cells": [
  {
   "cell_type": "markdown",
   "metadata": {},
   "source": [
    "We visualize how a traffic light that is turned green or red impacts traffic"
   ]
  },
  {
   "cell_type": "code",
   "execution_count": 6,
   "metadata": {},
   "outputs": [],
   "source": [
    "import sys\n",
    "sys.path.append('../src')\n",
    "\n",
    "import torch\n",
    "import road as rd\n",
    "import traffic_lights as tl\n",
    "import junction as jn\n",
    "import traffic_lights as tl\n",
    "import network as nw\n",
    "import initial_and_bc as ibc\n",
    "import loading_json as load\n",
    "import json"
   ]
  },
  {
   "cell_type": "code",
   "execution_count": 7,
   "metadata": {},
   "outputs": [],
   "source": [
    "# Creating the roads\n",
    "L = 25\n",
    "N = 2\n",
    "b = 4\n",
    "init_fnc = lambda x : torch.ones_like(x) * 0.2\n",
    "boundary_fnc = ibc.boundary_conditions(1, max_dens=1, densities=torch.tensor([0.2]), time_jumps=[], \n",
    "                                       in_speed=torch.tensor(50.0/3.6), L = L)\n",
    "road_1 = rd.Road(b, L, N, [torch.tensor(50/3.6)], [], initial=init_fnc, boundary_fnc=boundary_fnc,\n",
    "                 left_pos=(0, 3), right_pos=(2.9, 3), id=\"road_1\", max_dens=1)\n",
    "road_2 = rd.Road(b, L, N, [torch.tensor(50/3.6)], [], initial=init_fnc, boundary_fnc=None,\n",
    "                 left_pos=(3.1, 3), right_pos=(6, 3), id = \"road_2\", max_dens=1)\n",
    "\n",
    "roads = [road_1, road_2]\n",
    "\n",
    "# Creating the traffic light and the junction\n",
    "traffic_light = tl.TrafficLightContinous(True, [0], [1], [torch.tensor(30.0), torch.tensor(100.0)])\n",
    "junction = jn.Junction(roads, [0], [1], [[1.0]], [traffic_light], [])\n",
    "\n",
    "# Creating the network\n",
    "network = nw.RoadNetwork(roads, [junction], T = 100)"
   ]
  },
  {
   "cell_type": "code",
   "execution_count": 8,
   "metadata": {},
   "outputs": [],
   "source": [
    "densities, _, _, _ = network.solve_cons_law()"
   ]
  },
  {
   "cell_type": "code",
   "execution_count": 9,
   "metadata": {},
   "outputs": [],
   "source": [
    "densities_loaded = load.convert_from_tensor(densities)"
   ]
  },
  {
   "cell_type": "code",
   "execution_count": 10,
   "metadata": {},
   "outputs": [],
   "source": [
    "import json\n",
    "with open(\"results/traffic_lights.json\", 'w') as fd:\n",
    "    fd.write(json.dumps(densities_loaded))"
   ]
  },
  {
   "cell_type": "code",
   "execution_count": null,
   "metadata": {},
   "outputs": [],
   "source": []
  }
 ],
 "metadata": {
  "kernelspec": {
   "display_name": "traffic",
   "language": "python",
   "name": "python3"
  },
  "language_info": {
   "codemirror_mode": {
    "name": "ipython",
    "version": 3
   },
   "file_extension": ".py",
   "mimetype": "text/x-python",
   "name": "python",
   "nbconvert_exporter": "python",
   "pygments_lexer": "ipython3",
   "version": "3.10.12"
  }
 },
 "nbformat": 4,
 "nbformat_minor": 2
}
