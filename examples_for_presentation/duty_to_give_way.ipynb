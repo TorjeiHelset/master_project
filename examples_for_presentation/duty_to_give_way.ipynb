{
 "cells": [
  {
   "cell_type": "code",
   "execution_count": 1,
   "metadata": {},
   "outputs": [],
   "source": [
    "import sys\n",
    "sys.path.append('../src')\n",
    "\n",
    "import torch\n",
    "import road as rd\n",
    "import traffic_lights as tl\n",
    "import junction as jn\n",
    "import traffic_lights as tl\n",
    "import network as nw\n",
    "import initial_and_bc as ibc\n",
    "import loading_json as load\n",
    "import json"
   ]
  },
  {
   "cell_type": "code",
   "execution_count": 2,
   "metadata": {},
   "outputs": [],
   "source": [
    "# With duty to give way\n",
    "L = 25\n",
    "N = 2\n",
    "b = 4\n",
    "\n",
    "distribution = [[1.0, 0.0], [0.0, 1.0]]\n",
    "priorities = [[1,0],[1,0]]\n",
    "crossings = [[[], []],\n",
    "             [[], [(0,0)]]]\n",
    "\n",
    "init_fnc_1 = lambda x : torch.ones_like(x) * 0.6\n",
    "init_fnc_2 = lambda x : torch.ones_like(x) * 0.6\n",
    "init_fnc_3 = lambda x : torch.ones_like(x) * 0.2\n",
    "\n",
    "boundary_fnc_1 = ibc.boundary_conditions(1, max_dens=1, densities=torch.tensor([0.6]), time_jumps=[], \n",
    "                                         in_speed=torch.tensor(50.0/3.6), L = L)\n",
    "boundary_fnc_2 = ibc.boundary_conditions(1, max_dens=1, densities=torch.tensor([0.2]), time_jumps=[], \n",
    "                                         in_speed=torch.tensor(50.0/3.6), L = L)\n",
    "\n",
    "# Main roads\n",
    "road_1 = rd.Road(b, L, N, [torch.tensor(50/3.6)], [], initial=init_fnc_1, boundary_fnc=boundary_fnc_1,\n",
    "                 left_pos=(0, 3), right_pos=(2.9, 3), id=\"road_1\", max_dens=1)\n",
    "road_2 = rd.Road(b, L, N, [torch.tensor(50/3.6)], [], initial=init_fnc_1, boundary_fnc=None,\n",
    "                 left_pos=(3.1, 3), right_pos=(6, 3), id=\"road_2\", max_dens=1)\n",
    "# Secondary roads\n",
    "road_3 = rd.Road(b, L, N, [torch.tensor(50/3.6)], [], initial=init_fnc_2, boundary_fnc=boundary_fnc_2,\n",
    "                 left_pos=(3, 0), right_pos=(3, 2.9), id=\"road_3\", max_dens=1)\n",
    "road_4 = rd.Road(b, L, N, [torch.tensor(50/3.6)], [], initial=init_fnc_3, boundary_fnc=None,\n",
    "                 left_pos=(3, 3.1), right_pos=(3, 6), id=\"road_4\", max_dens=1)\n",
    "roads = [road_1, road_2, road_3, road_4]\n",
    "\n",
    "# Creating the junction\n",
    "junction = jn.Junction(roads, [0,2], [1,3], distribution, [],  [], True, priorities, crossings)\n",
    "\n",
    "# Creating the network\n",
    "network = nw.RoadNetwork(roads, [junction], T = 100)"
   ]
  },
  {
   "cell_type": "code",
   "execution_count": 3,
   "metadata": {},
   "outputs": [],
   "source": [
    "densities, _, _, _ = network.solve_cons_law()"
   ]
  },
  {
   "cell_type": "code",
   "execution_count": 4,
   "metadata": {},
   "outputs": [],
   "source": [
    "densities_loaded = load.convert_from_tensor(densities)"
   ]
  },
  {
   "cell_type": "code",
   "execution_count": 5,
   "metadata": {},
   "outputs": [],
   "source": [
    "import json\n",
    "with open(\"results/with_duty_to_gw.json\", 'w') as fd:\n",
    "    fd.write(json.dumps(densities_loaded))"
   ]
  },
  {
   "cell_type": "code",
   "execution_count": 6,
   "metadata": {},
   "outputs": [],
   "source": [
    "# Without duty to give way\n",
    "# With duty to give way\n",
    "L = 25\n",
    "N = 2\n",
    "b = 4\n",
    "\n",
    "distribution = [[1.0, 0.0], [0.0, 1.0]]\n",
    "\n",
    "\n",
    "init_fnc_1 = lambda x : torch.ones_like(x) * 0.6\n",
    "init_fnc_2 = lambda x : torch.ones_like(x) * 0.6\n",
    "init_fnc_3 = lambda x : torch.ones_like(x) * 0.2\n",
    "\n",
    "boundary_fnc_1 = ibc.boundary_conditions(1, max_dens=1, densities=torch.tensor([0.6]), time_jumps=[], \n",
    "                                         in_speed=torch.tensor(50.0/3.6), L = L)\n",
    "boundary_fnc_2 = ibc.boundary_conditions(1, max_dens=1, densities=torch.tensor([0.2]), time_jumps=[], \n",
    "                                         in_speed=torch.tensor(50.0/3.6), L = L)\n",
    "\n",
    "# Main roads\n",
    "road_1 = rd.Road(b, L, N, [torch.tensor(50/3.6)], [], initial=init_fnc_1, boundary_fnc=boundary_fnc_1,\n",
    "                 left_pos=(0, 3), right_pos=(2.9, 3), id=\"road_1\", max_dens=1)\n",
    "road_2 = rd.Road(b, L, N, [torch.tensor(50/3.6)], [], initial=init_fnc_1, boundary_fnc=None,\n",
    "                 left_pos=(3.1, 3), right_pos=(6, 3), id=\"road_2\", max_dens=1)\n",
    "# Secondary roads\n",
    "road_3 = rd.Road(b, L, N, [torch.tensor(50/3.6)], [], initial=init_fnc_2, boundary_fnc=boundary_fnc_2,\n",
    "                 left_pos=(3, 0), right_pos=(3, 2.9), id=\"road_3\", max_dens=1)\n",
    "road_4 = rd.Road(b, L, N, [torch.tensor(50/3.6)], [], initial=init_fnc_3, boundary_fnc=None,\n",
    "                 left_pos=(3, 3.1), right_pos=(3, 6), id=\"road_4\", max_dens=1)\n",
    "roads = [road_1, road_2, road_3, road_4]\n",
    "\n",
    "# Creating the junction\n",
    "junction = jn.Junction(roads, [0,2], [1,3], distribution, [],  [], False)\n",
    "\n",
    "# Creating the network\n",
    "network = nw.RoadNetwork(roads, [junction], T = 100)"
   ]
  },
  {
   "cell_type": "code",
   "execution_count": 7,
   "metadata": {},
   "outputs": [],
   "source": [
    "densities, _, _, _ = network.solve_cons_law()"
   ]
  },
  {
   "cell_type": "code",
   "execution_count": 8,
   "metadata": {},
   "outputs": [],
   "source": [
    "densities_loaded = load.convert_from_tensor(densities)"
   ]
  },
  {
   "cell_type": "code",
   "execution_count": 9,
   "metadata": {},
   "outputs": [],
   "source": [
    "import json\n",
    "with open(\"results/without_duty_to_gw.json\", 'w') as fd:\n",
    "    fd.write(json.dumps(densities_loaded))"
   ]
  },
  {
   "cell_type": "code",
   "execution_count": 4,
   "metadata": {},
   "outputs": [],
   "source": [
    "# With and without duty to give way\n",
    "# With duty to give way\n",
    "L = 25\n",
    "N = 2\n",
    "b = 4\n",
    "\n",
    "distribution = [[1.0, 0.0], [0.0, 1.0]]\n",
    "priorities = [[1,0],[1,0]]\n",
    "crossings = [[[], []],\n",
    "             [[], [(0,0)]]]\n",
    "\n",
    "init_fnc_1 = lambda x : torch.ones_like(x) * 0.6\n",
    "init_fnc_2 = lambda x : torch.ones_like(x) * 0.2\n",
    "\n",
    "\n",
    "boundary_fnc_1 = ibc.boundary_conditions(1, max_dens=1, densities=torch.tensor([0.6]), time_jumps=[], \n",
    "                                         in_speed=torch.tensor(50.0/3.6), L = L)\n",
    "boundary_fnc_2 = ibc.boundary_conditions(1, max_dens=1, densities=torch.tensor([0.2]), time_jumps=[], \n",
    "                                         in_speed=torch.tensor(50.0/3.6), L = L)\n",
    "\n",
    "# Main roads\n",
    "road_1 = rd.Road(b, L, N, [torch.tensor(50/3.6)], [], initial=init_fnc_1, boundary_fnc=boundary_fnc_1,\n",
    "                 left_pos=(0, 3), right_pos=(1.3, 3), id=\"road_1\", max_dens=1)\n",
    "road_2 = rd.Road(b, L, N, [torch.tensor(50/3.6)], [], initial=init_fnc_1, boundary_fnc=None,\n",
    "                 left_pos=(1.5, 3), right_pos=(2.8, 3), id=\"road_2\", max_dens=1)\n",
    "# Secondary roads\n",
    "road_3 = rd.Road(b, L, N, [torch.tensor(50/3.6)], [], initial=init_fnc_1, boundary_fnc=boundary_fnc_2,\n",
    "                 left_pos=(1.4, 1), right_pos=(1.4, 2.9), id=\"road_3\", max_dens=1)\n",
    "road_4 = rd.Road(b, L, N, [torch.tensor(50/3.6)], [], initial=init_fnc_2, boundary_fnc=None,\n",
    "                 left_pos=(1.4, 3.1), right_pos=(1.4, 5), id=\"road_4\", max_dens=1)\n",
    "roads_1 = [road_1, road_2, road_3, road_4]\n",
    "\n",
    "# Creating the junction\n",
    "junction_1 = jn.Junction(roads_1, [0,2], [1,3], distribution, [],  [], True, priorities, crossings)\n",
    "\n",
    "\n",
    "# Main roads\n",
    "road_5 = rd.Road(b, L, N, [torch.tensor(50/3.6)], [], initial=init_fnc_1, boundary_fnc=boundary_fnc_1,\n",
    "                 left_pos=(3.2, 3), right_pos=(4.5, 3), id=\"road_5\", max_dens=1)\n",
    "road_6 = rd.Road(b, L, N, [torch.tensor(50/3.6)], [], initial=init_fnc_1, boundary_fnc=None,\n",
    "                 left_pos=(4.7, 3), right_pos=(6, 3), id=\"road_6\", max_dens=1)\n",
    "# Secondary roads\n",
    "road_7 = rd.Road(b, L, N, [torch.tensor(50/3.6)], [], initial=init_fnc_1, boundary_fnc=boundary_fnc_2,\n",
    "                 left_pos=(4.6, 1), right_pos=(4.6, 2.9), id=\"road_7\", max_dens=1)\n",
    "road_8 = rd.Road(b, L, N, [torch.tensor(50/3.6)], [], initial=init_fnc_2, boundary_fnc=None,\n",
    "                 left_pos=(4.6, 3.1), right_pos=(4.6, 5), id=\"road_8\", max_dens=1)\n",
    "roads_2 = [road_5, road_6, road_7, road_8]\n",
    "\n",
    "# Creating the junction\n",
    "junction_2 = jn.Junction(roads_2, [0,2], [1,3], distribution, [],  [], False)\n",
    "\n",
    "# Creating the network\n",
    "network = nw.RoadNetwork(roads_1 + roads_2, [junction_1, junction_2], T = 100)"
   ]
  },
  {
   "cell_type": "code",
   "execution_count": 5,
   "metadata": {},
   "outputs": [],
   "source": [
    "densities, _, _, _ = network.solve_cons_law()\n"
   ]
  },
  {
   "cell_type": "code",
   "execution_count": 6,
   "metadata": {},
   "outputs": [],
   "source": [
    "densities_loaded = load.convert_from_tensor(densities)\n"
   ]
  },
  {
   "cell_type": "code",
   "execution_count": 7,
   "metadata": {},
   "outputs": [],
   "source": [
    "import json\n",
    "with open(\"results/with_and_without_duty_to_gw.json\", 'w') as fd:\n",
    "    fd.write(json.dumps(densities_loaded))"
   ]
  },
  {
   "cell_type": "code",
   "execution_count": 8,
   "metadata": {},
   "outputs": [],
   "source": [
    "# Converting to mp4 and cropping video"
   ]
  },
  {
   "cell_type": "code",
   "execution_count": 9,
   "metadata": {},
   "outputs": [],
   "source": [
    "import ffmpy"
   ]
  },
  {
   "cell_type": "code",
   "execution_count": 11,
   "metadata": {},
   "outputs": [
    {
     "data": {
      "text/plain": [
       "(None, None)"
      ]
     },
     "execution_count": 11,
     "metadata": {},
     "output_type": "execute_result"
    }
   ],
   "source": [
    "ff = ffmpy.FFmpeg(\n",
    "    executable=\"C:\\\\Users\\\\torje\\\\Downloads\\\\ffmpeg-6.1-win-64\\\\ffmpeg.exe\",\n",
    "    inputs={'gifs/with_and_without_duty_to_gw.gif': None},\n",
    "    outputs={'videos/duty_to_gw.mp4': None}\n",
    "    )\n",
    "ff.run()"
   ]
  },
  {
   "cell_type": "code",
   "execution_count": 1,
   "metadata": {},
   "outputs": [],
   "source": [
    "from moviepy.editor import VideoFileClip,concatenate_videoclips\n",
    "import moviepy.editor as mpy\n",
    "from moviepy.video.fx.all import crop"
   ]
  },
  {
   "cell_type": "code",
   "execution_count": 2,
   "metadata": {},
   "outputs": [
    {
     "name": "stdout",
     "output_type": "stream",
     "text": [
      "Moviepy - Building video videos/duty_to_gw_cropped.mp4.\n",
      "Moviepy - Writing video videos/duty_to_gw_cropped.mp4\n",
      "\n"
     ]
    },
    {
     "name": "stderr",
     "output_type": "stream",
     "text": [
      "                                                              "
     ]
    },
    {
     "name": "stdout",
     "output_type": "stream",
     "text": [
      "Moviepy - Done !\n",
      "Moviepy - video ready videos/duty_to_gw_cropped.mp4\n"
     ]
    },
    {
     "name": "stderr",
     "output_type": "stream",
     "text": [
      "\r"
     ]
    }
   ],
   "source": [
    "# Cropping video\n",
    "clip = VideoFileClip('videos/duty_to_gw.mp4')\n",
    "cropped_clip = crop(clip, width=750, height=400, x_center=400, y_center=200)\n",
    "cropped_clip = cropped_clip.cutout(0, 0.1)\n",
    "cropped_clip.write_videofile('videos/duty_to_gw_cropped.mp4',codec=\"libx264\")"
   ]
  }
 ],
 "metadata": {
  "kernelspec": {
   "display_name": "traffic",
   "language": "python",
   "name": "python3"
  },
  "language_info": {
   "codemirror_mode": {
    "name": "ipython",
    "version": 3
   },
   "file_extension": ".py",
   "mimetype": "text/x-python",
   "name": "python",
   "nbconvert_exporter": "python",
   "pygments_lexer": "ipython3",
   "version": "3.10.12"
  }
 },
 "nbformat": 4,
 "nbformat_minor": 2
}
