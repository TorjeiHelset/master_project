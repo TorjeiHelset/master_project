{
 "cells": [
  {
   "cell_type": "code",
   "execution_count": 1,
   "metadata": {},
   "outputs": [],
   "source": [
    "import sys\n",
    "sys.path.append('../src')\n",
    "\n",
    "import torch\n",
    "import road as rd\n",
    "import traffic_lights as tl\n",
    "import junction as jn\n",
    "import traffic_lights as tl\n",
    "import network as nw\n",
    "import initial_and_bc as ibc\n",
    "import loading_json as load\n",
    "import json"
   ]
  },
  {
   "cell_type": "code",
   "execution_count": 2,
   "metadata": {},
   "outputs": [],
   "source": [
    "# With duty to give way\n",
    "L = 25\n",
    "N = 2\n",
    "b = 4\n",
    "\n",
    "distribution = [[1.0, 0.0], [0.0, 1.0]]\n",
    "priorities = [[1,0],[1,0]]\n",
    "crossings = [[[], []],\n",
    "             [[], [(0,0)]]]\n",
    "\n",
    "init_fnc_1 = lambda x : torch.ones_like(x) * 0.6\n",
    "init_fnc_2 = lambda x : torch.ones_like(x) * 0.6\n",
    "init_fnc_3 = lambda x : torch.ones_like(x) * 0.2\n",
    "\n",
    "boundary_fnc_1 = ibc.boundary_conditions(1, max_dens=1, densities=torch.tensor([0.6]), time_jumps=[], \n",
    "                                         in_speed=torch.tensor(50.0/3.6), L = L)\n",
    "boundary_fnc_2 = ibc.boundary_conditions(1, max_dens=1, densities=torch.tensor([0.2]), time_jumps=[], \n",
    "                                         in_speed=torch.tensor(50.0/3.6), L = L)\n",
    "\n",
    "# Main roads\n",
    "road_1 = rd.Road(b, L, N, [torch.tensor(50/3.6)], [], initial=init_fnc_1, boundary_fnc=boundary_fnc_1,\n",
    "                 left_pos=(0, 3), right_pos=(2.9, 3), id=\"road_1\", max_dens=1)\n",
    "road_2 = rd.Road(b, L, N, [torch.tensor(50/3.6)], [], initial=init_fnc_1, boundary_fnc=None,\n",
    "                 left_pos=(3.1, 3), right_pos=(6, 3), id=\"road_2\", max_dens=1)\n",
    "# Secondary roads\n",
    "road_3 = rd.Road(b, L, N, [torch.tensor(50/3.6)], [], initial=init_fnc_2, boundary_fnc=boundary_fnc_2,\n",
    "                 left_pos=(3, 0), right_pos=(3, 2.9), id=\"road_3\", max_dens=1)\n",
    "road_4 = rd.Road(b, L, N, [torch.tensor(50/3.6)], [], initial=init_fnc_3, boundary_fnc=None,\n",
    "                 left_pos=(3, 3.1), right_pos=(3, 6), id=\"road_4\", max_dens=1)\n",
    "roads = [road_1, road_2, road_3, road_4]\n",
    "\n",
    "# Creating the junction\n",
    "junction = jn.Junction(roads, [0,2], [1,3], distribution, [],  [], True, priorities, crossings)\n",
    "\n",
    "# Creating the network\n",
    "network = nw.RoadNetwork(roads, [junction], T = 100)"
   ]
  },
  {
   "cell_type": "code",
   "execution_count": 3,
   "metadata": {},
   "outputs": [],
   "source": [
    "densities, _, _, _ = network.solve_cons_law()"
   ]
  },
  {
   "cell_type": "code",
   "execution_count": 4,
   "metadata": {},
   "outputs": [],
   "source": [
    "densities_loaded = load.convert_from_tensor(densities)"
   ]
  },
  {
   "cell_type": "code",
   "execution_count": 5,
   "metadata": {},
   "outputs": [],
   "source": [
    "import json\n",
    "with open(\"results/with_duty_to_gw.json\", 'w') as fd:\n",
    "    fd.write(json.dumps(densities_loaded))"
   ]
  },
  {
   "cell_type": "code",
   "execution_count": 6,
   "metadata": {},
   "outputs": [],
   "source": [
    "# Without duty to give way\n",
    "# With duty to give way\n",
    "L = 25\n",
    "N = 2\n",
    "b = 4\n",
    "\n",
    "distribution = [[1.0, 0.0], [0.0, 1.0]]\n",
    "\n",
    "\n",
    "init_fnc_1 = lambda x : torch.ones_like(x) * 0.6\n",
    "init_fnc_2 = lambda x : torch.ones_like(x) * 0.6\n",
    "init_fnc_3 = lambda x : torch.ones_like(x) * 0.2\n",
    "\n",
    "boundary_fnc_1 = ibc.boundary_conditions(1, max_dens=1, densities=torch.tensor([0.6]), time_jumps=[], \n",
    "                                         in_speed=torch.tensor(50.0/3.6), L = L)\n",
    "boundary_fnc_2 = ibc.boundary_conditions(1, max_dens=1, densities=torch.tensor([0.2]), time_jumps=[], \n",
    "                                         in_speed=torch.tensor(50.0/3.6), L = L)\n",
    "\n",
    "# Main roads\n",
    "road_1 = rd.Road(b, L, N, [torch.tensor(50/3.6)], [], initial=init_fnc_1, boundary_fnc=boundary_fnc_1,\n",
    "                 left_pos=(0, 3), right_pos=(2.9, 3), id=\"road_1\", max_dens=1)\n",
    "road_2 = rd.Road(b, L, N, [torch.tensor(50/3.6)], [], initial=init_fnc_1, boundary_fnc=None,\n",
    "                 left_pos=(3.1, 3), right_pos=(6, 3), id=\"road_2\", max_dens=1)\n",
    "# Secondary roads\n",
    "road_3 = rd.Road(b, L, N, [torch.tensor(50/3.6)], [], initial=init_fnc_2, boundary_fnc=boundary_fnc_2,\n",
    "                 left_pos=(3, 0), right_pos=(3, 2.9), id=\"road_3\", max_dens=1)\n",
    "road_4 = rd.Road(b, L, N, [torch.tensor(50/3.6)], [], initial=init_fnc_3, boundary_fnc=None,\n",
    "                 left_pos=(3, 3.1), right_pos=(3, 6), id=\"road_4\", max_dens=1)\n",
    "roads = [road_1, road_2, road_3, road_4]\n",
    "\n",
    "# Creating the junction\n",
    "junction = jn.Junction(roads, [0,2], [1,3], distribution, [],  [], False)\n",
    "\n",
    "# Creating the network\n",
    "network = nw.RoadNetwork(roads, [junction], T = 100)"
   ]
  },
  {
   "cell_type": "code",
   "execution_count": 7,
   "metadata": {},
   "outputs": [],
   "source": [
    "densities, _, _, _ = network.solve_cons_law()"
   ]
  },
  {
   "cell_type": "code",
   "execution_count": 8,
   "metadata": {},
   "outputs": [],
   "source": [
    "densities_loaded = load.convert_from_tensor(densities)"
   ]
  },
  {
   "cell_type": "code",
   "execution_count": 9,
   "metadata": {},
   "outputs": [],
   "source": [
    "import json\n",
    "with open(\"results/without_duty_to_gw.json\", 'w') as fd:\n",
    "    fd.write(json.dumps(densities_loaded))"
   ]
  },
  {
   "cell_type": "code",
   "execution_count": null,
   "metadata": {},
   "outputs": [],
   "source": []
  }
 ],
 "metadata": {
  "kernelspec": {
   "display_name": "traffic",
   "language": "python",
   "name": "python3"
  },
  "language_info": {
   "codemirror_mode": {
    "name": "ipython",
    "version": 3
   },
   "file_extension": ".py",
   "mimetype": "text/x-python",
   "name": "python",
   "nbconvert_exporter": "python",
   "pygments_lexer": "ipython3",
   "version": "3.10.12"
  }
 },
 "nbformat": 4,
 "nbformat_minor": 2
}
