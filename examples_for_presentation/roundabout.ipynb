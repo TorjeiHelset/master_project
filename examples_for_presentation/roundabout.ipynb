{
 "cells": [
  {
   "cell_type": "code",
   "execution_count": 2,
   "metadata": {},
   "outputs": [],
   "source": [
    "import sys\n",
    "sys.path.append('../src')\n",
    "\n",
    "import torch\n",
    "import road as rd\n",
    "import traffic_lights as tl\n",
    "import junction as jn\n",
    "import traffic_lights as tl\n",
    "import network as nw\n",
    "import initial_and_bc as ibc\n",
    "import loading_json as load\n",
    "import json\n",
    "import bus\n",
    "import roundabout as rb"
   ]
  },
  {
   "cell_type": "code",
   "execution_count": 16,
   "metadata": {},
   "outputs": [],
   "source": [
    "# Creating the roads\n",
    "L = 25\n",
    "N = 2\n",
    "b = 4\n",
    "init_fnc = lambda x : torch.ones_like(x) * 0.3\n",
    "\n",
    "boundary_fnc = ibc.boundary_conditions(1, max_dens=1, densities=torch.tensor([0.2]), time_jumps=[], \n",
    "                                       in_speed=torch.tensor(50.0/3.6), L = L)\n",
    "boundary_fnc_2 = ibc.boundary_conditions(1, max_dens=1, densities=torch.tensor([0.4]), time_jumps=[], \n",
    "                                       in_speed=torch.tensor(50.0/3.6), L = L)\n",
    "# Roads outside roundabout:\n",
    "hori_fw1 = rd.Road(b, L, N, [torch.tensor(50/3.6)], [], initial=init_fnc, boundary_fnc=boundary_fnc_2,\n",
    "                   left_pos=(0, 3), right_pos=(1.9, 3), id=\"hori_1fw\", max_dens=1)\n",
    "hori_bw1 = rd.Road(b, L, N, [torch.tensor(50/3.6)], [], initial=init_fnc, boundary_fnc=None,\n",
    "                   left_pos=(1.9, 3), right_pos=(0, 3), id=\"hori_1bw\", max_dens=1)\n",
    "hori_fw2 = rd.Road(b, L, N, [torch.tensor(50/3.6)], [], initial=init_fnc, boundary_fnc=None,\n",
    "                   left_pos=(4.1, 3), right_pos=(6, 3), id=\"hori_2fw\", max_dens=1)\n",
    "hori_bw2 = rd.Road(b, L, N, [torch.tensor(50/3.6)], [], initial=init_fnc, boundary_fnc=boundary_fnc,\n",
    "                   left_pos=(6, 3), right_pos=(4.1, 3), id=\"hori_2bw\", max_dens=1)\n",
    "\n",
    "vert_fw1 = rd.Road(b, L, N, [torch.tensor(50/3.6)], [], initial=init_fnc, boundary_fnc=boundary_fnc,\n",
    "                   left_pos=(3, -1), right_pos=(3, 1.4), id=\"vert_1fw\", max_dens=1)\n",
    "vert_bw1 = rd.Road(b, L, N, [torch.tensor(50/3.6)], [], initial=init_fnc, boundary_fnc=None,\n",
    "                   left_pos=(3, 1.4), right_pos=(3, -1), id=\"vert_1bw\", max_dens=1)\n",
    "vert_fw2 = rd.Road(b, L, N, [torch.tensor(50/3.6)], [], initial=init_fnc, boundary_fnc=None,\n",
    "                   left_pos=(3, 4.6), right_pos=(3, 7), id=\"vert_2fw\", max_dens=1)\n",
    "vert_bw2 = rd.Road(b, L, N, [torch.tensor(50/3.6)], [], initial=init_fnc, boundary_fnc=boundary_fnc,\n",
    "                   left_pos=(3, 7), right_pos=(3, 4.6), id=\"vert_2bw\", max_dens=1)\n",
    "\n",
    "# Roundabout roads:\n",
    "mainline_1 = rd.Road(2, L, N, [torch.tensor(50/3.6)], [], initial=init_fnc, boundary_fnc=None,\n",
    "                     left_pos=(2,3), right_pos=(3,4.5), id=\"mainline_1\")\n",
    "mainline_2 = rd.Road(2, L, N, [torch.tensor(50/3.6)], [], initial=init_fnc, boundary_fnc=None,\n",
    "                     left_pos=(3,4.5), right_pos=(4,3), id=\"mainline_2\")\n",
    "mainline_3 = rd.Road(2, L, N, [torch.tensor(50/3.6)], [], initial=init_fnc, boundary_fnc=None,\n",
    "                     left_pos=(4,3), right_pos=(3,1.5), id=\"mainline_3\")\n",
    "mainline_4 = rd.Road(2, L, N, [torch.tensor(50/3.6)], [], initial=init_fnc, boundary_fnc=None,\n",
    "                     left_pos=(3,1.5), right_pos=(2,3), id=\"mainline_4\")\n",
    "\n",
    "# Roundabout junctions\n",
    "junction_1 = rb.RoundaboutJunction(mainline_4, mainline_1, 0.6, hori_fw1, hori_bw1, queue_junction=False)\n",
    "junction_2 = rb.RoundaboutJunction(mainline_1, mainline_2, 0.6, vert_bw2, vert_fw2, queue_junction=False)\n",
    "junction_3 = rb.RoundaboutJunction(mainline_2, mainline_3, 0.6, hori_bw2, hori_fw2, queue_junction=False)\n",
    "junction_4 = rb.RoundaboutJunction(mainline_3, mainline_4, 0.6, vert_fw1, vert_bw1, queue_junction=False)\n",
    "\n",
    "# Roundabout\n",
    "roundabout = rb.Roundabout([mainline_1, mainline_2, mainline_3, mainline_4],\n",
    "                           [hori_fw1, vert_bw2, hori_bw2, vert_fw1],\n",
    "                           [hori_bw1, vert_fw2, hori_fw2, vert_bw1],\n",
    "                           [junction_1, junction_2, junction_3, junction_4])\n",
    "\n",
    "# Create temp network\n",
    "roads = [hori_fw1, hori_bw1, hori_fw2, hori_bw2, vert_fw1, vert_bw1, vert_fw2, vert_bw2,\n",
    "         mainline_1, mainline_2, mainline_3, mainline_4]\n",
    "network = nw.RoadNetwork(roads, [], T = 100, roundabouts=[roundabout])\n",
    "\n",
    "# Busline\n",
    "bus_ids = [\"hori_1fw\", \"mainline_1\", \"mainline_2\", \"hori_2fw\"]\n",
    "bus_stops = [(\"hori_2fw\", 50)]\n",
    "bus_times = [0]\n",
    "bus_1 = bus.Bus(bus_ids, bus_stops, bus_times, network, id = \"bus_1\")\n",
    "\n",
    "# Create full network\n",
    "bus_network = nw.RoadNetwork(roads, [], T=100, roundabouts=[roundabout], busses=[bus_1])"
   ]
  },
  {
   "cell_type": "code",
   "execution_count": 17,
   "metadata": {},
   "outputs": [
    {
     "name": "stdout",
     "output_type": "stream",
     "text": [
      "Bus bus_1 reached bus stop 0 at time 34.484012603759766, should wait for 29.11493682861328 seconds\n"
     ]
    }
   ],
   "source": [
    "densities, _, bus_lengths, _ =  bus_network.solve_cons_law()"
   ]
  },
  {
   "cell_type": "code",
   "execution_count": 18,
   "metadata": {},
   "outputs": [],
   "source": [
    "densities_loaded = load.convert_from_tensor(densities)\n",
    "bus_lengths_loaded = load.convert_from_tensor(bus_lengths)"
   ]
  },
  {
   "cell_type": "code",
   "execution_count": 19,
   "metadata": {},
   "outputs": [],
   "source": [
    "import json\n",
    "with open(\"results/roundabout.json\", 'w') as fd:\n",
    "    fd.write(json.dumps([densities_loaded, bus_lengths_loaded]))"
   ]
  },
  {
   "cell_type": "code",
   "execution_count": 20,
   "metadata": {},
   "outputs": [],
   "source": [
    "# Converting to mp4 and cropping video"
   ]
  },
  {
   "cell_type": "code",
   "execution_count": 21,
   "metadata": {},
   "outputs": [],
   "source": [
    "import ffmpy\n"
   ]
  },
  {
   "cell_type": "code",
   "execution_count": 22,
   "metadata": {},
   "outputs": [
    {
     "data": {
      "text/plain": [
       "(None, None)"
      ]
     },
     "execution_count": 22,
     "metadata": {},
     "output_type": "execute_result"
    }
   ],
   "source": [
    "ff = ffmpy.FFmpeg(\n",
    "    executable=\"C:\\\\Users\\\\torje\\\\Downloads\\\\ffmpeg-6.1-win-64\\\\ffmpeg.exe\",\n",
    "    inputs={'gifs/roundabout.gif': None},\n",
    "    outputs={'videos/roundabout.mp4': None}\n",
    "    )\n",
    "ff.run()"
   ]
  },
  {
   "cell_type": "code",
   "execution_count": 23,
   "metadata": {},
   "outputs": [],
   "source": [
    "from moviepy.editor import VideoFileClip,concatenate_videoclips\n",
    "import moviepy.editor as mpy\n",
    "from moviepy.video.fx.all import crop"
   ]
  },
  {
   "cell_type": "code",
   "execution_count": 25,
   "metadata": {},
   "outputs": [
    {
     "name": "stdout",
     "output_type": "stream",
     "text": [
      "Moviepy - Building video videos/roundabout_cropped.mp4.\n",
      "Moviepy - Writing video videos/roundabout_cropped.mp4\n",
      "\n"
     ]
    },
    {
     "name": "stderr",
     "output_type": "stream",
     "text": [
      "                                                             "
     ]
    },
    {
     "name": "stdout",
     "output_type": "stream",
     "text": [
      "Moviepy - Done !\n",
      "Moviepy - video ready videos/roundabout_cropped.mp4\n"
     ]
    },
    {
     "name": "stderr",
     "output_type": "stream",
     "text": [
      "\r"
     ]
    }
   ],
   "source": [
    "# Cropping video\n",
    "clip = VideoFileClip('videos/roundabout.mp4')\n",
    "cropped_clip = crop(clip, width=750, height=400, x_center=400, y_center=200)\n",
    "cropped_clip = cropped_clip.cutout(0, 0.1)\n",
    "cropped_clip.write_videofile('videos/roundabout_cropped.mp4',codec=\"libx264\")"
   ]
  }
 ],
 "metadata": {
  "kernelspec": {
   "display_name": "traffic",
   "language": "python",
   "name": "python3"
  },
  "language_info": {
   "codemirror_mode": {
    "name": "ipython",
    "version": 3
   },
   "file_extension": ".py",
   "mimetype": "text/x-python",
   "name": "python",
   "nbconvert_exporter": "python",
   "pygments_lexer": "ipython3",
   "version": "3.10.12"
  }
 },
 "nbformat": 4,
 "nbformat_minor": 2
}
