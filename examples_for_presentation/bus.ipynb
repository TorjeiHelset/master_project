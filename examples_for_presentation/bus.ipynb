{
 "cells": [
  {
   "cell_type": "code",
   "execution_count": 1,
   "metadata": {},
   "outputs": [],
   "source": [
    "import sys\n",
    "sys.path.append('../src')\n",
    "\n",
    "import torch\n",
    "import road as rd\n",
    "import traffic_lights as tl\n",
    "import junction as jn\n",
    "import traffic_lights as tl\n",
    "import network as nw\n",
    "import initial_and_bc as ibc\n",
    "import loading_json as load\n",
    "import json\n",
    "import bus"
   ]
  },
  {
   "cell_type": "code",
   "execution_count": 3,
   "metadata": {},
   "outputs": [],
   "source": [
    "# Creating the roads\n",
    "L = 25\n",
    "N = 2\n",
    "b = 4\n",
    "init_fnc = lambda x : torch.ones_like(x) * 0.2\n",
    "boundary_fnc = ibc.boundary_conditions(1, max_dens=1, densities=torch.tensor([0.2]), time_jumps=[], \n",
    "                                       in_speed=torch.tensor(50.0/3.6), L = L)\n",
    "road_1 = rd.Road(b, L, N, [torch.tensor(40/3.6)], [], initial=init_fnc, boundary_fnc=boundary_fnc,\n",
    "                 left_pos=(0, 3), right_pos=(2.9, 3), id=\"road_1\", max_dens=1)\n",
    "road_2 = rd.Road(b, L, N, [torch.tensor(40/3.6)], [], initial=init_fnc, boundary_fnc=None,\n",
    "                 left_pos=(3.1, 3), right_pos=(6, 3), id = \"road_2\", max_dens=1)\n",
    "\n",
    "road_3 = rd.Road(b, L, N, [torch.tensor(60/3.6)], [], initial=init_fnc, boundary_fnc=boundary_fnc,\n",
    "                 left_pos=(0, 6), right_pos=(2.9, 6), id=\"road_3\", max_dens=1)\n",
    "road_4 = rd.Road(b, L, N, [torch.tensor(60/3.6)], [], initial=init_fnc, boundary_fnc=None,\n",
    "                 left_pos=(3.1, 6), right_pos=(6, 6), id = \"road_4\", max_dens=1)\n",
    "\n",
    "roads = [road_1, road_2, road_3, road_4]\n",
    "\n",
    "# Creating the traffic light and the junction\n",
    "junction_1 = jn.Junction([road_1, road_2], [0], [1], [[1.0]], [], [])\n",
    "junction_2 = jn.Junction([road_3, road_4], [0], [1], [[1.0]], [], [])\n",
    "\n",
    "\n",
    "# Creating the network\n",
    "network = nw.RoadNetwork(roads, [junction_1, junction_2], T = 100)\n",
    "\n",
    "# Creating the busses\n",
    "bus_1_ids = [\"road_1\", \"road_2\"]\n",
    "bus_1_stops = [(\"road_2\", 50)]\n",
    "bus_1_times = [0]\n",
    "bus_1 = bus.Bus(bus_1_ids, bus_1_stops, bus_1_times, network, id = \"bus_1\")\n",
    "\n",
    "bus_2_ids = [\"road_3\", \"road_4\"]\n",
    "bus_2_stops = [(\"road_4\", 50)]\n",
    "bus_2_times = [0]\n",
    "bus_2 = bus.Bus(bus_2_ids, bus_2_stops, bus_2_times, network, id = \"bus_2\")\n",
    "\n",
    "bus_network = nw.RoadNetwork(roads, [junction_1, junction_2], T=100, roundabouts=[], busses=[bus_1, bus_2])\n"
   ]
  },
  {
   "cell_type": "code",
   "execution_count": 4,
   "metadata": {},
   "outputs": [
    {
     "name": "stdout",
     "output_type": "stream",
     "text": [
      "Bus bus_2 reached bus stop 0 at time 14.950634002685547, should wait for 29.64312171936035 seconds\n",
      "Bus bus_1 reached bus stop 0 at time 35.9696159362793, should wait for 29.839807510375977 seconds\n"
     ]
    }
   ],
   "source": [
    "densities, _, bus_lengths, _ =  bus_network.solve_cons_law()"
   ]
  },
  {
   "cell_type": "code",
   "execution_count": 5,
   "metadata": {},
   "outputs": [],
   "source": [
    "densities_loaded = load.convert_from_tensor(densities)\n",
    "bus_lengths_loaded = load.convert_from_tensor(bus_lengths)"
   ]
  },
  {
   "cell_type": "code",
   "execution_count": 6,
   "metadata": {},
   "outputs": [],
   "source": [
    "import json\n",
    "with open(\"results/busses.json\", 'w') as fd:\n",
    "    fd.write(json.dumps([densities_loaded, bus_lengths_loaded]))"
   ]
  },
  {
   "cell_type": "code",
   "execution_count": 7,
   "metadata": {},
   "outputs": [],
   "source": [
    "# Converting to mp4 and cropping video"
   ]
  },
  {
   "cell_type": "code",
   "execution_count": 8,
   "metadata": {},
   "outputs": [],
   "source": [
    "import ffmpy\n"
   ]
  },
  {
   "cell_type": "code",
   "execution_count": 9,
   "metadata": {},
   "outputs": [
    {
     "data": {
      "text/plain": [
       "(None, None)"
      ]
     },
     "execution_count": 9,
     "metadata": {},
     "output_type": "execute_result"
    }
   ],
   "source": [
    "ff = ffmpy.FFmpeg(\n",
    "    executable=\"C:\\\\Users\\\\torje\\\\Downloads\\\\ffmpeg-6.1-win-64\\\\ffmpeg.exe\",\n",
    "    inputs={'gifs/busses.gif': None},\n",
    "    outputs={'videos/busses.mp4': None}\n",
    "    )\n",
    "ff.run()"
   ]
  },
  {
   "cell_type": "code",
   "execution_count": 1,
   "metadata": {},
   "outputs": [],
   "source": [
    "from moviepy.editor import VideoFileClip,concatenate_videoclips\n",
    "import moviepy.editor as mpy\n",
    "from moviepy.video.fx.all import crop"
   ]
  },
  {
   "cell_type": "code",
   "execution_count": 4,
   "metadata": {},
   "outputs": [
    {
     "name": "stdout",
     "output_type": "stream",
     "text": [
      "Moviepy - Building video videos/busses_cropped.mp4.\n",
      "Moviepy - Writing video videos/busses_cropped.mp4\n",
      "\n"
     ]
    },
    {
     "name": "stderr",
     "output_type": "stream",
     "text": [
      "                                                             "
     ]
    },
    {
     "name": "stdout",
     "output_type": "stream",
     "text": [
      "Moviepy - Done !\n",
      "Moviepy - video ready videos/busses_cropped.mp4\n"
     ]
    },
    {
     "name": "stderr",
     "output_type": "stream",
     "text": [
      "\r"
     ]
    }
   ],
   "source": [
    "# Cropping video\n",
    "clip = VideoFileClip('videos/busses.mp4')\n",
    "cropped_clip = crop(clip, width=750, height=400, x_center=400, y_center=300)\n",
    "cropped_clip = cropped_clip.cutout(0, 0.1)\n",
    "cropped_clip.write_videofile('videos/busses_cropped.mp4',codec=\"libx264\")"
   ]
  }
 ],
 "metadata": {
  "kernelspec": {
   "display_name": "traffic",
   "language": "python",
   "name": "python3"
  },
  "language_info": {
   "codemirror_mode": {
    "name": "ipython",
    "version": 3
   },
   "file_extension": ".py",
   "mimetype": "text/x-python",
   "name": "python",
   "nbconvert_exporter": "python",
   "pygments_lexer": "ipython3",
   "version": "3.10.12"
  }
 },
 "nbformat": 4,
 "nbformat_minor": 2
}
