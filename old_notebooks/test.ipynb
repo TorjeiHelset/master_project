{
 "cells": [
  {
   "cell_type": "code",
   "execution_count": 2,
   "metadata": {},
   "outputs": [],
   "source": [
    "import sys\n",
    "sys.path.append('../src')\n",
    "\n",
    "import loading_json as load\n",
    "import road_network as rn\n",
    "import torch\n",
    "import matplotlib.pyplot as plt"
   ]
  },
  {
   "cell_type": "markdown",
   "metadata": {},
   "source": [
    "#### Testing how to divide flux across junction without having to optimize anything\n",
    "\n",
    "n incoming roads, m outgoing roads\n",
    "\n",
    "\n",
    "Outgoing roads should not discriminate, meaning that flux should, as far as possible, be coming equally from the different roads.\n",
    "The desired distribution of the influx is known a priori.\n",
    "Idea, first assume that flux is coming equally from all roads, so for outgoing road j, 1/n part of the capacity is filled with the influx from road i for i = 1,...,n.\n",
    "\n",
    "After the initial distribution, the outgoing roads might have some extra capacity, and the incoming roads might have some extra influx.\n",
    "How should this be distributed?\n",
    "\n",
    "\n",
    "\n",
    "##### Test example: n = 3, m = 2"
   ]
  },
  {
   "cell_type": "code",
   "execution_count": 6,
   "metadata": {},
   "outputs": [
    {
     "name": "stdout",
     "output_type": "stream",
     "text": [
      "[0.5800000000000001, 0.72]\n"
     ]
    }
   ],
   "source": [
    "n = 3\n",
    "m = 2\n",
    "\n",
    "def D(rho):\n",
    "    return min(rho, 0.5)\n",
    "def S(rho):\n",
    "    return max(rho, 0.5)\n",
    "\n",
    "rho_in = [0.6, 0.4, 0.3]\n",
    "rho_out = [0.6, 0.4]\n",
    "\n",
    "# Desired distribution of the traffic\n",
    "alpha = [[0.6, 0.4],\n",
    "         [0.4, 0.6],\n",
    "         [0.2, 0.8]]\n",
    "\n",
    "fluxes = torch.zeros((n, m))\n",
    "\n",
    "desired_out_fluxes = [0] * m\n",
    "\n",
    "for j in range(m):\n",
    "    desired_out_fluxes[j] = sum(alpha[i][j] * rho_in[i] for i in range(n))\n",
    "\n",
    "print(desired_out_fluxes)\n",
    "\n"
   ]
  },
  {
   "cell_type": "code",
   "execution_count": 1,
   "metadata": {},
   "outputs": [
    {
     "name": "stdout",
     "output_type": "stream",
     "text": [
      "0\n",
      "0\n",
      "0\n",
      "1\n",
      "1\n",
      "1\n",
      "2\n",
      "2\n",
      "2\n",
      "3\n",
      "3\n",
      "3\n"
     ]
    }
   ],
   "source": [
    "for i in range(4):\n",
    "    for _ in range(3):\n",
    "        for _ in range(2):\n",
    "            print(i)\n",
    "            break"
   ]
  },
  {
   "cell_type": "code",
   "execution_count": 3,
   "metadata": {},
   "outputs": [
    {
     "data": {
      "text/plain": [
       "tensor([5, 6, 7])"
      ]
     },
     "execution_count": 3,
     "metadata": {},
     "output_type": "execute_result"
    }
   ],
   "source": [
    "a = torch.tensor([1,2,3])\n",
    "b = torch.tensor([4,5,6])\n",
    "c = [a, b]\n",
    "c[1] += 1\n",
    "b"
   ]
  },
  {
   "cell_type": "code",
   "execution_count": 3,
   "metadata": {},
   "outputs": [
    {
     "name": "stdout",
     "output_type": "stream",
     "text": [
      "left\n"
     ]
    }
   ],
   "source": [
    "a = \"left 1\"\n",
    "print(a[:4])"
   ]
  },
  {
   "cell_type": "code",
   "execution_count": 5,
   "metadata": {},
   "outputs": [
    {
     "data": {
      "text/plain": [
       "tensor(6.)"
      ]
     },
     "execution_count": 5,
     "metadata": {},
     "output_type": "execute_result"
    }
   ],
   "source": [
    "a = torch.tensor(3., requires_grad=True)\n",
    "\n",
    "b = a**2\n",
    "\n",
    "c = b.clone()\n",
    "\n",
    "objective = a.clone()**2\n",
    "\n",
    "torch.autograd.grad(objective, a)[0]"
   ]
  },
  {
   "cell_type": "code",
   "execution_count": 2,
   "metadata": {},
   "outputs": [
    {
     "data": {
      "text/plain": [
       "tensor([-0.2500, -0.5000, -1.0000])"
      ]
     },
     "execution_count": 2,
     "metadata": {},
     "output_type": "execute_result"
    }
   ],
   "source": [
    "a = torch.tensor([-1.,-2.,-4.])\n",
    "b = torch.tensor([3.,3.,3.])\n",
    "torch.dot(a, b)\n",
    "a/4."
   ]
  },
  {
   "cell_type": "code",
   "execution_count": 3,
   "metadata": {},
   "outputs": [
    {
     "name": "stdout",
     "output_type": "stream",
     "text": [
      "tensor([0.2500], grad_fn=<AddBackward0>) tensor([0.2500], grad_fn=<AddBackward0>)\n"
     ]
    }
   ],
   "source": [
    "def test_func(x):\n",
    "    return x**2*(1-x)\n",
    "\n",
    "x = torch.tensor([0.5], requires_grad=True)\n",
    "\n",
    "objective = test_func(x)\n",
    "\n",
    "f = torch.autograd.grad(objective, x, create_graph=True, allow_unused=True)[0]\n",
    "f1 = torch.autograd.grad(objective, x, create_graph=True, allow_unused=True)[0]\n",
    "\n",
    "print(f, f1)"
   ]
  },
  {
   "cell_type": "code",
   "execution_count": 5,
   "metadata": {},
   "outputs": [
    {
     "name": "stdout",
     "output_type": "stream",
     "text": [
      "0.0\n"
     ]
    }
   ],
   "source": [
    "import numpy as np\n",
    "print(np.ceil(2/2) - np.ceil(2/2))"
   ]
  },
  {
   "cell_type": "code",
   "execution_count": 4,
   "metadata": {},
   "outputs": [
    {
     "name": "stdout",
     "output_type": "stream",
     "text": [
      "tensor(17., grad_fn=<SumBackward0>)\n",
      "tensor([15.])\n"
     ]
    }
   ],
   "source": [
    "x = torch.tensor([1.] , requires_grad=True)\n",
    "b = torch.tensor([1.,4.,5.,6.])\n",
    "d = torch.tensor([2.,3.,1.,2.])\n",
    "\n",
    "c = torch.sum(torch.max(d, x*b))\n",
    "print(c)\n",
    "gradient = torch.autograd.grad(c, x, create_graph=True, allow_unused=True)[0]\n",
    "print(gradient)"
   ]
  },
  {
   "cell_type": "code",
   "execution_count": 5,
   "metadata": {},
   "outputs": [
    {
     "name": "stdout",
     "output_type": "stream",
     "text": [
      "1 roads initialized\n",
      "2 roads initialized\n",
      "All roads initialized\n",
      "1 junctions initialized\n",
      "All junctions initialized\n"
     ]
    }
   ],
   "source": [
    "T, roads, junctions = load.read_json('../configs/simple_1-1.json')"
   ]
  },
  {
   "cell_type": "code",
   "execution_count": 6,
   "metadata": {},
   "outputs": [],
   "source": [
    "loaded_roads = []\n",
    "loaded_junctions = []\n",
    "for r in roads:\n",
    "    # road = rn.Road(b=r['b'], L = r['L'], N = r['N'], Vmax=float(r['Vmax']),\n",
    "    #                 scheme=r['Scheme'], limiter=\"minmod\")\n",
    "    loaded_roads.append(rn.Road(b=r['b'], L = r['L'], N = r['N'], Vmax=float(r['Vmax']),\n",
    "                    scheme=r['Scheme'], limiter=\"minmod\",\n",
    "                    initial = r[\"Init_distr\"], inflow = 1.))\n",
    "\n",
    "for j in junctions:\n",
    "    loaded_junctions.append(rn.Junction(roads = [loaded_roads[i] for i in j[\"j_roads\"]],\n",
    "                                        entering = j[\"entering\"], leaving = j[\"leaving\"],\n",
    "                                        distribution=j[\"distribution\"], redlights=[]))\n",
    "\n",
    "\n",
    "\n",
    "network = rn.RoadNetwork(loaded_roads, loaded_junctions, T)\n",
    "# print(loaded_roads[0].dx)\n",
    "# print(loaded_roads[0].gamma)\n",
    "# print(loaded_roads[1].dx)\n",
    "# print(loaded_roads[1].gamma)"
   ]
  },
  {
   "cell_type": "code",
   "execution_count": 7,
   "metadata": {},
   "outputs": [
    {
     "data": {
      "image/png": "[encoded data removed]",
      "text/plain": [
       "<Figure size 640x480 with 2 Axes>"
      ]
     },
     "metadata": {},
     "output_type": "display_data"
    },
    {
     "data": {
      "image/png": "[encoded data removed]",
      "text/plain": [
       "<Figure size 640x480 with 2 Axes>"
      ]
     },
     "metadata": {},
     "output_type": "display_data"
    }
   ],
   "source": [
    "history = network.solve_cons_law()\n",
    "\n",
    "#history[0]\n",
    "\n",
    "times = list(history[0].keys())\n",
    "\n",
    "for i in range(len(history)):\n",
    "    x = torch.linspace(0,roads[i]['b'], len(history[i][0]))\n",
    "    # print(len(x))\n",
    "    full_array = []\n",
    "    for t in times:\n",
    "        #print(key)\n",
    "        #print(len(history[i][t].detach()))\n",
    "        full_array.append(history[i][t].detach())\n",
    "        # print(sum(history[i][t].detach()[2:-2]))\n",
    "\n",
    "    fig = plt.pcolor(x, times, full_array, cmap=\"gray\")\n",
    "    plt.colorbar(fig)\n",
    "    plt.title(\"Single lane\")\n",
    "    plt.ylabel(\"Time\")\n",
    "    plt.show()"
   ]
  },
  {
   "cell_type": "code",
   "execution_count": 9,
   "metadata": {},
   "outputs": [
    {
     "ename": "AttributeError",
     "evalue": "'Road' object has no attribute 'queue_length'",
     "output_type": "error",
     "traceback": [
      "\u001b[1;31m---------------------------------------------------------------------------\u001b[0m",
      "\u001b[1;31mAttributeError\u001b[0m                            Traceback (most recent call last)",
      "\u001b[1;32mc:\\Users\\torje\\OneDrive - NTNU\\Dokumenter\\Semester9\\Prosjektoppgave\\trafficmodelling_physical\\notebooks\\test.ipynb Cell 8\u001b[0m line \u001b[0;36m1\n\u001b[1;32m----> <a href='vscode-notebook-cell:/c%3A/Users/torje/OneDrive%20-%20NTNU/Dokumenter/Semester9/Prosjektoppgave/trafficmodelling_physical/notebooks/test.ipynb#X13sZmlsZQ%3D%3D?line=0'>1</a>\u001b[0m network\u001b[39m.\u001b[39;49mroads[\u001b[39m0\u001b[39;49m]\u001b[39m.\u001b[39;49mqueue_length\n",
      "\u001b[1;31mAttributeError\u001b[0m: 'Road' object has no attribute 'queue_length'"
     ]
    }
   ],
   "source": [
    "network.roads[0].queue_length"
   ]
  },
  {
   "cell_type": "code",
   "execution_count": 39,
   "metadata": {},
   "outputs": [
    {
     "data": {
      "text/plain": [
       "[tensor(0.2105),\n",
       " tensor(0.2632),\n",
       " tensor(0.3158),\n",
       " tensor(0.3684),\n",
       " tensor(0.4211),\n",
       " tensor(0.4737)]"
      ]
     },
     "execution_count": 39,
     "metadata": {},
     "output_type": "execute_result"
    }
   ],
   "source": [
    "a = torch.linspace(0,1,20)\n",
    "interval = [0.2, 0.5]\n",
    "\n",
    "[i for i in a if interval[0] <= i <= interval[1]]"
   ]
  },
  {
   "cell_type": "code",
   "execution_count": 35,
   "metadata": {},
   "outputs": [
    {
     "name": "stdout",
     "output_type": "stream",
     "text": [
      "tensor([[ 3.0308e-01,  3.0000e-02, -6.1424e-05,  6.7511e-05],\n",
      "        [ 3.0000e-02,  0.0000e+00,  0.0000e+00,  0.0000e+00],\n",
      "        [-6.1424e-05,  0.0000e+00,  0.0000e+00,  1.8529e-07],\n",
      "        [ 6.7511e-05,  0.0000e+00,  1.8529e-07, -3.0548e-07]],\n",
      "       grad_fn=<CopySlices>)\n",
      "tensor([[ 3.0308e-01,  3.0000e-02, -6.1424e-05,  6.7511e-05],\n",
      "        [ 3.0000e-02,  0.0000e+00,  0.0000e+00,  0.0000e+00],\n",
      "        [-6.1424e-05,  0.0000e+00,  0.0000e+00,  1.8529e-07],\n",
      "        [ 6.7511e-05,  0.0000e+00,  1.8529e-07, -3.0548e-07]])\n",
      "tensor([ 1.3154e-02,  1.0000e-03, -2.0475e-06,  2.2504e-06],\n",
      "       grad_fn=<CopySlices>)\n"
     ]
    }
   ],
   "source": [
    "def test_func(x1,x2,x3,x4):\n",
    "    return x1**3 * (x2 - x3 / x4**2) + x1**4\n",
    "\n",
    "x1 = torch.tensor([0.1], requires_grad=True)\n",
    "x2 = torch.tensor([0.33], requires_grad=True)\n",
    "x3 = torch.tensor([12.145], requires_grad=True)\n",
    "x4 = torch.tensor([22.1], requires_grad=True)\n",
    "\n",
    "\n",
    "\n",
    "hessian = torch.autograd.functional.hessian(test_func, (x1, x2, x3, x4))\n",
    "H = torch.zeros((4,4))\n",
    "J = torch.zeros(4)\n",
    "manual_hessian = torch.zeros((4,4))\n",
    "objective = test_func(x1, x2, x3, x4)\n",
    "vars = [x1, x2, x3, x4]\n",
    "for i in range(len(vars)):\n",
    "    first_derivative = torch.autograd.grad(objective, vars[i], create_graph=True, allow_unused=True)[0]\n",
    "    if first_derivative:\n",
    "        J[i] = first_derivative\n",
    "    for j in range(len(vars)):\n",
    "        second_derivative = torch.autograd.grad(first_derivative, vars[j], create_graph=True, allow_unused=True)[0]\n",
    "        if second_derivative:\n",
    "            manual_hessian[i,j] = second_derivative\n",
    "        H[i,j] = hessian[i][j][0]\n",
    "print(manual_hessian)\n",
    "print(H)\n",
    "print(J)"
   ]
  },
  {
   "cell_type": "code",
   "execution_count": null,
   "metadata": {},
   "outputs": [],
   "source": [
    "speeds = [14.3889, 14.8889, ]\n",
    "objectives = [0.0002, 0.0005, 0.0009, ]"
   ]
  }
 ],
 "metadata": {
  "kernelspec": {
   "display_name": "traffic",
   "language": "python",
   "name": "python3"
  },
  "language_info": {
   "codemirror_mode": {
    "name": "ipython",
    "version": 3
   },
   "file_extension": ".py",
   "mimetype": "text/x-python",
   "name": "python",
   "nbconvert_exporter": "python",
   "pygments_lexer": "ipython3",
   "version": "3.10.12"
  },
  "orig_nbformat": 4
 },
 "nbformat": 4,
 "nbformat_minor": 2
}
