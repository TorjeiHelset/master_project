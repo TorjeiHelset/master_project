{
 "cells": [
  {
   "cell_type": "code",
   "execution_count": 1,
   "metadata": {},
   "outputs": [],
   "source": [
    "import sys\n",
    "sys.path.append('../src_variable')\n",
    "\n",
    "import road as rd\n",
    "import network as nw \n",
    "import torch\n",
    "import traffic_lights as tl\n",
    "import junction as jn\n",
    "import smoothness as sm\n",
    "import generate_kvadraturen as gk\n",
    "import bus\n",
    "import matplotlib.pyplot as plt"
   ]
  },
  {
   "cell_type": "code",
   "execution_count": 2,
   "metadata": {},
   "outputs": [],
   "source": [
    "ids1 = [\"road1\", \"road3\"]\n",
    "ids2 = [\"road2\", \"road4\"]\n",
    "stops1 = [(\"road1\", 40), (\"road3\", 30)]\n",
    "stops2 = [(\"road2\", 45), (\"road4\", 35)]\n",
    "times1 = [3.0, 30.0]\n",
    "times2 = [5.0, 35.0]\n",
    "T = 150\n",
    "\n",
    "road1 = rd.Road(1, 50, 5, torch.tensor([50.0], requires_grad=True), [], left_pos=(-1, 0), right_pos=(0, 0),\n",
    "                inflow = 0.1, id=\"road1\")\n",
    "road2 = rd.Road(1, 50, 5, torch.tensor([50.0], requires_grad=True), [], left_pos=(0, 0), right_pos=(1, 0),\n",
    "                inflow = 0.1, id=\"road2\")\n",
    "road3 = rd.Road(1, 50, 5, torch.tensor([50.0], requires_grad=True), [], left_pos=(0, -1), right_pos=(0, 0),\n",
    "                inflow = 0.1, id=\"road3\")\n",
    "road4 = rd.Road(1, 50, 5, torch.tensor([50.0], requires_grad=True), [], left_pos=(0, 0), right_pos=(0, 1),\n",
    "                inflow = 0.1, id=\"road4\")\n",
    "\n",
    "trafficlight = tl.CoupledTrafficLightContinuous(False, [0], [2], [1], [3], [60.0, 40.0])\n",
    "junction = jn.Junction([road1, road2, road3, road4], [0,1], [2,3], [[1.0, 0.0],[0.0, 1.0]], [], [trafficlight])\n",
    "network = nw.RoadNetwork([road1, road2, road3, road4], [junction], T, optimizing = False)\n",
    "\n",
    "bus1 = bus.Bus(ids1, stops1, times1, network)\n",
    "bus2 = bus.Bus(ids2, stops2, times2, network)\n",
    "bus_network = nw.RoadNetwork([road1, road2, road3, road4], [junction], T, [bus1, bus2],\n",
    "                                optimizing = False, store_densities = False)\n",
    "_, _, _, bus_delays = bus_network.solve_cons_law()\n",
    "obj = torch.tensor(0.0)\n",
    "for i in range(len(bus_delays)):\n",
    "    for j in range(len(bus_delays[i])):\n",
    "        obj = obj +  bus_delays[i][j]\n"
   ]
  },
  {
   "cell_type": "code",
   "execution_count": 3,
   "metadata": {},
   "outputs": [],
   "source": [
    "obj.backward()"
   ]
  },
  {
   "cell_type": "code",
   "execution_count": 5,
   "metadata": {},
   "outputs": [],
   "source": [
    "params = [road1.Vmax[0], road2.Vmax[0], road3.Vmax[0], road4.Vmax[0]] +\\\n",
    "        [t for t in trafficlight.cycle]"
   ]
  },
  {
   "cell_type": "code",
   "execution_count": 7,
   "metadata": {},
   "outputs": [
    {
     "name": "stdout",
     "output_type": "stream",
     "text": [
      "tensor(-0.2272)\n",
      "tensor(-0.2718)\n",
      "tensor(-0.1216)\n",
      "tensor(-0.4068)\n",
      "tensor(2.2070e-25)\n",
      "tensor(0.5195)\n"
     ]
    }
   ],
   "source": [
    "for p in params:\n",
    "    print(p.grad)"
   ]
  }
 ],
 "metadata": {
  "kernelspec": {
   "display_name": "traffic",
   "language": "python",
   "name": "python3"
  },
  "language_info": {
   "codemirror_mode": {
    "name": "ipython",
    "version": 3
   },
   "file_extension": ".py",
   "mimetype": "text/x-python",
   "name": "python",
   "nbconvert_exporter": "python",
   "pygments_lexer": "ipython3",
   "version": "3.10.12"
  }
 },
 "nbformat": 4,
 "nbformat_minor": 2
}
