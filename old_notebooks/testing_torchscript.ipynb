{
 "cells": [
  {
   "cell_type": "code",
   "execution_count": 1,
   "metadata": {},
   "outputs": [],
   "source": [
    "import torch\n",
    "import cProfile\n",
    "from time import time"
   ]
  },
  {
   "cell_type": "code",
   "execution_count": 2,
   "metadata": {},
   "outputs": [
    {
     "data": {
      "text/plain": [
       "tensor([0.2000, 0.1500, 0.0500])"
      ]
     },
     "execution_count": 2,
     "metadata": {},
     "output_type": "execute_result"
    }
   ],
   "source": [
    "a = torch.tensor([0.4, 0.3, 0.1])\n",
    "a * 0.5"
   ]
  },
  {
   "cell_type": "markdown",
   "metadata": {},
   "source": [
    "#### Testing if it is possible to implement main logic of FV scheme using torchscript and if there is any difference in running time"
   ]
  },
  {
   "cell_type": "markdown",
   "metadata": {},
   "source": [
    "#### Pure PyTorch functions"
   ]
  },
  {
   "cell_type": "code",
   "execution_count": 13,
   "metadata": {},
   "outputs": [],
   "source": [
    "def flux(rho, gamma):\n",
    "    return gamma * rho * (1. - rho)\n",
    "\n",
    "def d_flux(rho, gamma):\n",
    "    '''\n",
    "    Return the derivative of flux given density rho\n",
    "\n",
    "    Should work both for scalar and vector rho \n",
    "    '''\n",
    "    return gamma * (1. - 2.*rho)\n",
    "\n",
    "def minmod(a1, a2):\n",
    "    '''\n",
    "    Limiter that satisfies the TVD requirement\n",
    "    '''\n",
    "\n",
    "    return torch.tensor(.5) * (torch.sign(a1) + torch.sign(a2)) * torch.minimum(torch.abs(a1), torch.abs(a2))\n",
    "\n",
    "def maxmod(a1, a2):\n",
    "    '''\n",
    "    Limiter that satisfies the TVD requirement\n",
    "    '''\n",
    "\n",
    "    return torch.tensor(.5) * (torch.sign(a1) + torch.sign(a2)) * torch.maximum(torch.abs(a1), torch.abs(a2))\n",
    "\n",
    "def superbee(a1, a2):\n",
    "    '''\n",
    "    Limiter that satisfies the TVD requirement\n",
    "    '''\n",
    "    return maxmod(minmod(2.*a2, a1), minmod(a2, 2.*a1))\n",
    "    \n",
    "# def MC():\n",
    "#     pass\n",
    "\n",
    "def slope(rho, limiter):\n",
    "    left = rho[:-1]\n",
    "    right = rho[1:]\n",
    "    a = right - left\n",
    "    # match limiter:\n",
    "    #     case \"minmod\":\n",
    "    #         ##############################################\n",
    "    #         # Divide by dx or not?\n",
    "    #         ##############################################\n",
    "    #         return minmod(a[1:], a[:-1]) / dx\n",
    "    #     case \"maxmod\":\n",
    "    #         return maxmod(a[1:], a[:-1]) / dx\n",
    "    #     case \"superbee\":\n",
    "    #         return superbee(a[1:], a[:-1]) / dx\n",
    "    if limiter == torch.tensor(1.0):\n",
    "        return minmod(a[1:], a[:-1])\n",
    "    elif limiter == torch.tensor(2.0):\n",
    "        return maxmod(a[1:], a[:-1])\n",
    "    elif limiter == torch.tensor(3.0):\n",
    "        return superbee(a[1:], a[:-1])\n",
    "    \n",
    "def Rusanov_Flux(left, right, gamma):\n",
    "    s = gamma * torch.max(torch.abs(d_flux(left, 1.)), torch.abs(d_flux(right, 1.)))\n",
    "    \n",
    "    # print(f\"s: {s}\")\n",
    "    return 0.5*(flux(left, gamma) + flux(right, gamma)) - 0.5 * s * (right - left)\n",
    "\n",
    "def L(rho, gamma):\n",
    "    sigma = slope(rho, torch.tensor(1.0))\n",
    "    left = rho[1:-1] + torch.tensor(.5)  * sigma\n",
    "    right = rho[1:-1] - torch.tensor(.5) * sigma\n",
    "    F = Rusanov_Flux(left[:-1], right[1:], gamma)\n",
    "    L_out = torch.zeros_like(rho)\n",
    "    L_out[2:-2] = - (F[1:] - F[:-1])\n",
    "    return L_out\n",
    "\n",
    "def SSP_RK(rho, gamma):\n",
    "    # Need also alpha parameter\n",
    "    rho_ = rho +  L(rho, gamma)\n",
    "    rho__ = rho_ +  L(rho_,  gamma)\n",
    "    rho_new = .5 * (rho + rho__)\n",
    "    return rho_new"
   ]
  },
  {
   "cell_type": "markdown",
   "metadata": {},
   "source": [
    "#### Equivalent functions in torchschipt"
   ]
  },
  {
   "cell_type": "code",
   "execution_count": 16,
   "metadata": {},
   "outputs": [],
   "source": [
    "@torch.jit.script\n",
    "def flux_ts(rho, gamma):\n",
    "    return gamma * rho * (1. - rho)\n",
    "\n",
    "@torch.jit.script\n",
    "def d_flux_ts(rho, gamma):\n",
    "    '''\n",
    "    Return the derivative of flux given density rho\n",
    "\n",
    "    Should work both for scalar and vector rho \n",
    "    '''\n",
    "    return gamma * (1. - 2.*rho)\n",
    "@torch.jit.script\n",
    "def minmod_ts(a1, a2):\n",
    "    '''\n",
    "    Limiter that satisfies the TVD requirement\n",
    "    '''\n",
    "\n",
    "    return .5 * (torch.sign(a1) + torch.sign(a2)) * torch.minimum(torch.abs(a1), torch.abs(a2))\n",
    "\n",
    "@torch.jit.script \n",
    "def maxmod_ts(a1, a2):\n",
    "    '''\n",
    "    Limiter that satisfies the TVD requirement\n",
    "    '''\n",
    "\n",
    "    return .5 * (torch.sign(a1) + torch.sign(a2)) * torch.maximum(torch.abs(a1), torch.abs(a2))\n",
    "\n",
    "@torch.jit.script\n",
    "def superbee_ts(a1, a2):\n",
    "    '''\n",
    "    Limiter that satisfies the TVD requirement\n",
    "    '''\n",
    "    return maxmod_ts(minmod_ts(2.*a2, a1), minmod_ts(a2, 2.*a1))\n",
    "    \n",
    "# def MC():\n",
    "#     pass\n",
    "\n",
    "@torch.jit.script\n",
    "def slope_ts(rho, limiter):\n",
    "    left = rho[:-1]\n",
    "    right = rho[1:]\n",
    "    a = right - left\n",
    "\n",
    "    # match limiter:\n",
    "    #     case \"minmod\":\n",
    "    #         ##############################################\n",
    "    #         # Divide by dx or not?\n",
    "    #         ##############################################\n",
    "    #         return minmod(a[1:], a[:-1]) / dx\n",
    "    #     case \"maxmod\":\n",
    "    #         return maxmod(a[1:], a[:-1]) / dx\n",
    "    #     case \"superbee\":\n",
    "    #         return superbee(a[1:], a[:-1]) / dx\n",
    "    if limiter == torch.tensor(1.0):\n",
    "        return minmod_ts(a[1:], a[:-1])\n",
    "    elif limiter == torch.tensor(2.0):\n",
    "        return maxmod_ts(a[1:], a[:-1])\n",
    "    else:\n",
    "        return superbee_ts(a[1:], a[:-1])\n",
    "    \n",
    "\n",
    "@torch.jit.script\n",
    "def Rusanov_Flux_ts(left, right, gamma):\n",
    "    s = gamma * torch.max(torch.abs(d_flux_ts(left, torch.tensor(1.))), \n",
    "                          torch.abs(d_flux_ts(right, torch.tensor(1.))))\n",
    "    \n",
    "    # print(f\"s: {s}\")\n",
    "    return .5*(flux_ts(left, gamma) + flux_ts(right, gamma)) - .5 * s * (right - left)\n",
    "\n",
    "@torch.jit.script\n",
    "def L_ts(rho, gamma):\n",
    "    sigma = slope_ts(rho, torch.tensor(1.0))\n",
    "    left = rho[1:-1] +  .5 * sigma\n",
    "    right = rho[1:-1] - .5 * sigma\n",
    "    F = Rusanov_Flux_ts(left[:-1], right[1:], gamma)\n",
    "    L_out = torch.zeros_like(rho)\n",
    "    L_out[2:-2] = - (F[1:] - F[:-1])\n",
    "    return L_out\n",
    "\n",
    "@torch.jit.script\n",
    "def SSP_RK_ts(rho, gamma):\n",
    "    # Need also alpha parameter\n",
    "    rho_ = rho +  L_ts(rho, gamma)\n",
    "    rho__ = rho_ +  L_ts(rho_,  gamma)\n",
    "    rho_new = .5 * (rho + rho__)\n",
    "    return rho_new\n",
    "\n"
   ]
  },
  {
   "cell_type": "code",
   "execution_count": 18,
   "metadata": {},
   "outputs": [
    {
     "name": "stdout",
     "output_type": "stream",
     "text": [
      "Pure PyTorch:\n",
      "Time taken: 12.308112859725952\n",
      "TorchScript:\n",
      "Time taken: 9.265597581863403\n"
     ]
    }
   ],
   "source": [
    "print(\"Pure PyTorch:\")\n",
    "start = time()\n",
    "for _ in range(10000):\n",
    "    rho = torch.linspace(0, 1, 5000)\n",
    "    gamma = torch.tensor(1.4, requires_grad=True)\n",
    "    new_rho = SSP_RK(rho, gamma)\n",
    "end = time()\n",
    "print(f\"Time taken: {end - start}\")\n",
    "\n",
    "\n",
    "print(\"TorchScript:\")\n",
    "start = time()\n",
    "for _ in range(10000):\n",
    "    rho = torch.linspace(0, 1, 5000)\n",
    "    gamma = torch.tensor(1.4, requires_grad=True)\n",
    "    new_rho = SSP_RK_ts(rho, gamma)\n",
    "\n",
    "end = time()\n",
    "print(f\"Time taken: {end - start}\")"
   ]
  },
  {
   "cell_type": "markdown",
   "metadata": {},
   "source": []
  },
  {
   "cell_type": "code",
   "execution_count": 6,
   "metadata": {},
   "outputs": [],
   "source": [
    "# Slight speedup..."
   ]
  }
 ],
 "metadata": {
  "kernelspec": {
   "display_name": "traffic",
   "language": "python",
   "name": "python3"
  },
  "language_info": {
   "codemirror_mode": {
    "name": "ipython",
    "version": 3
   },
   "file_extension": ".py",
   "mimetype": "text/x-python",
   "name": "python",
   "nbconvert_exporter": "python",
   "pygments_lexer": "ipython3",
   "version": "3.10.12"
  }
 },
 "nbformat": 4,
 "nbformat_minor": 2
}
